{
 "cells": [
  {
   "cell_type": "code",
   "execution_count": 1,
   "metadata": {},
   "outputs": [],
   "source": [
    "\n",
    "using POMDPs, QuickPOMDPs, MCTS, DiscreteValueIteration, POMDPSimulators, POMDPModels, POMDPPolicies, POMDPModelTools\n",
    "using Distributions, Combinatorics, StaticArrays, Statistics\n",
    "using FileIO, JLD2, TickTock"
   ]
  },
  {
   "cell_type": "markdown",
   "metadata": {},
   "source": [
    "## State Functions"
   ]
  },
  {
   "cell_type": "code",
   "execution_count": 2,
   "metadata": {},
   "outputs": [],
   "source": [
    "function state_cnt(n, S) #n = number of units; S = number of states\n",
    "    if S==1\n",
    "        return 1\n",
    "    end\n",
    "    return binomial(n+S-1, S-1)\n",
    "end\n",
    "\n",
    "function state_index(S,s) #s = state vector\n",
    "    #S = length(s)\n",
    "    if S == 1\n",
    "        return 1\n",
    "    end\n",
    "    if s[S]==0\n",
    "        return state_index(S-1, s[1:(S-1)])\n",
    "    end\n",
    "    \n",
    "    n_prev = sum(s)\n",
    "    prev = state_cnt(n_prev, S-1) # count of all states with s[S]=0\n",
    "    inc = prev\n",
    "    for i in 1:(s[S]-1)\n",
    "        inc = inc/(n_prev+S-2)*n_prev #count of all states with s[S]=i\n",
    "        prev = prev + inc\n",
    "        n_prev = n_prev - 1\n",
    "    end\n",
    "    return prev + state_index(S-1, s[1:(S-1)])\n",
    "end\n",
    "\n",
    "function state_vec(n, S, ind) # n = number of units; S = number of states; ind = state index\n",
    "    if ind < 0.5 || ind > state_cnt(n, S) + 0.5\n",
    "        println(\"index is out of range!\")\n",
    "        return -1\n",
    "    end\n",
    "    if S==1 \n",
    "        return [n]\n",
    "    end\n",
    "    if ind < state_cnt(n, S-1) + 0.5\n",
    "        return push!(state_vec(n, S-1, ind), 0)\n",
    "    end\n",
    "    prev = state_cnt(n, S-1)\n",
    "    inc = prev\n",
    "    last_state = 0\n",
    "    n_prev = n\n",
    "    while ind > prev + 0.5\n",
    "        inc = inc/(n_prev+S-2)*n_prev #count of all sta_tes with s[S]=last_state\n",
    "        prev += inc\n",
    "        n_prev -= 1\n",
    "        last_state += 1\n",
    "    end\n",
    "    return push!(state_vec(n-last_state, S-1, ind - prev + inc), last_state)\n",
    "end\n",
    "\n",
    "#using hueristic rule for rollout\n",
    "mutable struct nNRollout <: Policy\n",
    "    n::Int64\n",
    "    N::Int64\n",
    "end\n",
    "\n",
    "mutable struct nmNRollout <: Policy\n",
    "    n::Int64\n",
    "    m::Int64\n",
    "    N::Int64\n",
    "end\n",
    "\n",
    "mutable struct mystate\n",
    "    state::Vector{Int64};\n",
    "end"
   ]
  },
  {
   "cell_type": "code",
   "execution_count": 3,
   "metadata": {},
   "outputs": [],
   "source": [
    "function POMDPs.action(p::nNRollout, s::mystate)\n",
    "        local_a = 0;\n",
    "        local_s = s.state;\n",
    "        nN = sample(1:Number_level, 2, replace = true);\n",
    "        p.N = maximum(nN);\n",
    "        p.n = minimum(nN);\n",
    "        if sum(local_s[p.N:Number_level])>=1\n",
    "        local_a = p.n;\n",
    "        end\n",
    "        return local_a; \n",
    "end\n",
    "\n",
    "function POMDPs.action(p::nmNRollout, s::mystate)\n",
    "    local_a = 0;\n",
    "    local_s = s.state;\n",
    "    nmN = sample(1:Number_level, 3, replace = true);\n",
    "    p.N = maximum(nmN);\n",
    "    p.n = minimum(nmN);\n",
    "    p.m = sum(nmN)-p.N-p.n;\n",
    "    if sum(local_s[p.N:Number_level])>=1 || sum(local_s[p.m:Number_level])>=2\n",
    "        local_a = p.n;\n",
    "    end\n",
    "    return local_a; \n",
    "end"
   ]
  },
  {
   "cell_type": "code",
   "execution_count": null,
   "metadata": {},
   "outputs": [],
   "source": []
  },
  {
   "cell_type": "code",
   "execution_count": 4,
   "metadata": {
    "scrolled": true
   },
   "outputs": [
    {
     "data": {
      "text/plain": [
       "findnmN (generic function with 1 method)"
      ]
     },
     "execution_count": 4,
     "metadata": {},
     "output_type": "execute_result"
    }
   ],
   "source": [
    "\n",
    "function findnmN()\n",
    "    println(\"Finding best (n, m, N) policy...\")\n",
    "    for N in 2:(Number_level)\n",
    "        for n in 1:Number_level\n",
    "            for m in n:N\n",
    "#                 println(\"N = \",N, \"  m = \", m, \"  n = \", n);\n",
    "                Threads.@threads  for j in 1:repetition\n",
    "                    history = sim(multiunit2,max_steps=simsteps,initialstate=mystate(state_vec(NumberUnits, Number_level, 1))) do s\n",
    "                        local_s = s.state;\n",
    "                        local_a = 0;\n",
    "                        if sum(local_s[N:Number_level])>=1 || sum(local_s[m:Number_level])>=2\n",
    "                            local_a = n;\n",
    "                        end\n",
    "                        return local_a; \n",
    "                    end\n",
    "                    temp_rewards[j] = discounted_reward(history);\n",
    "                end\n",
    "                rewards_nmN[n, m, N] = mean(temp_rewards);\n",
    "                rewards_nmN_std[n, m, N] = std(temp_rewards);\n",
    "            end\n",
    "        end\n",
    "    end\n",
    "    (max_rward,nmN) = findmax(rewards_nmN);\n",
    "    println(\"Max rewards is \", max_rward, \"  n is \", nmN[1], \" m is \", nmN[2], \"  N is \",nmN[3]);\n",
    "    return max_rward,rewards_nmN_std[ nmN[1], nmN[2],nmN[3]],nmN;    \n",
    "end\n",
    " \n"
   ]
  },
  {
   "cell_type": "code",
   "execution_count": 5,
   "metadata": {
    "scrolled": true
   },
   "outputs": [
    {
     "name": "stdout",
     "output_type": "stream",
     "text": [
      "3"
     ]
    },
    {
     "name": "stderr",
     "output_type": "stream",
     "text": [
      "┌ Info:  started timer at: 2023-03-14T12:42:33.541\n",
      "└ @ TickTock C:\\Users\\vbansal5\\.julia\\packages\\TickTock\\fGILW\\src\\TickTock.jl:54\n"
     ]
    },
    {
     "name": "stdout",
     "output_type": "stream",
     "text": [
      "[0, -200, -200, -1000]\n",
      "Finding best (n, m, N) policy...\n",
      "Max rewards is -1324.4090847265268  n is 3 m is 3  N is 3\n",
      "3[0, -400, -200, -1000]\n",
      "Finding best (n, m, N) policy..."
     ]
    },
    {
     "name": "stderr",
     "output_type": "stream",
     "text": [
      "┌ Info:           55.8728008s: 55 seconds, 872 milliseconds\n",
      "└ @ TickTock C:\\Users\\vbansal5\\.julia\\packages\\TickTock\\fGILW\\src\\TickTock.jl:62\n",
      "┌ Info:  started timer at: 2023-03-14T12:43:29.543\n",
      "└ @ TickTock C:\\Users\\vbansal5\\.julia\\packages\\TickTock\\fGILW\\src\\TickTock.jl:54\n"
     ]
    },
    {
     "name": "stdout",
     "output_type": "stream",
     "text": [
      "\n",
      "Max rewards is -1868.2856571625225  n is 2 m is 3  N is 3\n",
      "3"
     ]
    },
    {
     "name": "stderr",
     "output_type": "stream",
     "text": [
      "┌ Info:           57.6491344s: 57 seconds, 649 milliseconds\n",
      "└ @ TickTock C:\\Users\\vbansal5\\.julia\\packages\\TickTock\\fGILW\\src\\TickTock.jl:62\n",
      "┌ Info:  started timer at: 2023-03-14T12:44:27.230\n",
      "└ @ TickTock C:\\Users\\vbansal5\\.julia\\packages\\TickTock\\fGILW\\src\\TickTock.jl:54\n"
     ]
    },
    {
     "name": "stdout",
     "output_type": "stream",
     "text": [
      "[0, -600, -200, -1000]\n",
      "Finding best (n, m, N) policy...\n",
      "Max rewards is -2330.800929271706  n is 2 m is 3  N is 3\n",
      "3"
     ]
    },
    {
     "name": "stderr",
     "output_type": "stream",
     "text": [
      "┌ Info:           59.8107524s: 59 seconds, 810 milliseconds\n",
      "└ @ TickTock C:\\Users\\vbansal5\\.julia\\packages\\TickTock\\fGILW\\src\\TickTock.jl:62\n",
      "┌ Info:  started timer at: 2023-03-14T12:45:27.081\n",
      "└ @ TickTock C:\\Users\\vbansal5\\.julia\\packages\\TickTock\\fGILW\\src\\TickTock.jl:54\n"
     ]
    },
    {
     "name": "stdout",
     "output_type": "stream",
     "text": [
      "[0, -800, -200, -1000]\n",
      "Finding best (n, m, N) policy...\n",
      "Max rewards is -2670.8214303706554  n is 2 m is 3  N is 4\n"
     ]
    },
    {
     "name": "stderr",
     "output_type": "stream",
     "text": [
      "┌ Info:           60.4004628s: 1 minute, 400 milliseconds\n",
      "└ @ TickTock C:\\Users\\vbansal5\\.julia\\packages\\TickTock\\fGILW\\src\\TickTock.jl:62\n",
      "┌ Info:  started timer at: 2023-03-14T12:46:27.653\n",
      "└ @ TickTock C:\\Users\\vbansal5\\.julia\\packages\\TickTock\\fGILW\\src\\TickTock.jl:54\n"
     ]
    },
    {
     "name": "stdout",
     "output_type": "stream",
     "text": [
      "3[0, -1000, -200, -1000]\n",
      "Finding best (n, m, N) policy...\n",
      "Max rewards is -2993.242256882138  n is 2 m is 3  N is 4\n"
     ]
    },
    {
     "name": "stderr",
     "output_type": "stream",
     "text": [
      "┌ Info:            61.081274s: 1 minute, 1 second, 81 milliseconds\n",
      "└ @ TickTock C:\\Users\\vbansal5\\.julia\\packages\\TickTock\\fGILW\\src\\TickTock.jl:62\n"
     ]
    },
    {
     "name": "stdout",
     "output_type": "stream",
     "text": [
      "3[0, -1200, -200"
     ]
    },
    {
     "name": "stderr",
     "output_type": "stream",
     "text": [
      "┌ Info:  started timer at: 2023-03-14T12:47:28.809\n",
      "└ @ TickTock C:\\Users\\vbansal5\\.julia\\packages\\TickTock\\fGILW\\src\\TickTock.jl:54\n"
     ]
    },
    {
     "name": "stdout",
     "output_type": "stream",
     "text": [
      ", -1000]\n",
      "Finding best (n, m, N) policy...\n",
      "Max rewards is -3302.5184907689854  n is 2 m is 3  N is 4\n",
      "3[0, -1400, -200, -1000]\n",
      "Finding best (n, m, N) policy...\n"
     ]
    },
    {
     "name": "stderr",
     "output_type": "stream",
     "text": [
      "┌ Info:           59.4051019s: 59 seconds, 405 milliseconds\n",
      "└ @ TickTock C:\\Users\\vbansal5\\.julia\\packages\\TickTock\\fGILW\\src\\TickTock.jl:62\n",
      "┌ Info:  started timer at: 2023-03-14T12:48:28.225\n",
      "└ @ TickTock C:\\Users\\vbansal5\\.julia\\packages\\TickTock\\fGILW\\src\\TickTock.jl:54\n"
     ]
    },
    {
     "name": "stdout",
     "output_type": "stream",
     "text": [
      "Max rewards is -3615.006336064157  n is 2 m is 3  N is 4\n"
     ]
    },
    {
     "name": "stderr",
     "output_type": "stream",
     "text": [
      "┌ Info:           61.9428572s: 1 minute, 1 second, 942 milliseconds\n",
      "└ @ TickTock C:\\Users\\vbansal5\\.julia\\packages\\TickTock\\fGILW\\src\\TickTock.jl:62\n"
     ]
    },
    {
     "name": "stdout",
     "output_type": "stream",
     "text": [
      "3[0, -1600, -200, -1000]\n",
      "Finding best (n, m, N) policy...\n"
     ]
    },
    {
     "name": "stderr",
     "output_type": "stream",
     "text": [
      "┌ Info:  started timer at: 2023-03-14T12:49:30.176\n",
      "└ @ TickTock C:\\Users\\vbansal5\\.julia\\packages\\TickTock\\fGILW\\src\\TickTock.jl:54\n"
     ]
    },
    {
     "name": "stdout",
     "output_type": "stream",
     "text": [
      "Max rewards is -3905.2690093081205  n is 2 m is 3  N is 4\n"
     ]
    },
    {
     "name": "stderr",
     "output_type": "stream",
     "text": [
      "┌ Info:           58.9738075s: 58 seconds, 973 milliseconds\n",
      "└ @ TickTock C:\\Users\\vbansal5\\.julia\\packages\\TickTock\\fGILW\\src\\TickTock.jl:62\n"
     ]
    },
    {
     "name": "stdout",
     "output_type": "stream",
     "text": [
      "5"
     ]
    },
    {
     "name": "stderr",
     "output_type": "stream",
     "text": [
      "┌ Info:  started timer at: 2023-03-14T12:50:29.169\n",
      "└ @ TickTock C:\\Users\\vbansal5\\.julia\\packages\\TickTock\\fGILW\\src\\TickTock.jl:54\n"
     ]
    },
    {
     "name": "stdout",
     "output_type": "stream",
     "text": [
      "[0, -200, -200, -1000]\n",
      "Finding best (n, m, N) policy...\n",
      "Max rewards is -2141.6171195050606  n is 3 m is 3  N is 3\n"
     ]
    },
    {
     "name": "stderr",
     "output_type": "stream",
     "text": [
      "┌ Info:           67.0470064s: 1 minute, 7 seconds, 47 milliseconds\n",
      "└ @ TickTock C:\\Users\\vbansal5\\.julia\\packages\\TickTock\\fGILW\\src\\TickTock.jl:62\n"
     ]
    },
    {
     "name": "stdout",
     "output_type": "stream",
     "text": [
      "5[0, -400"
     ]
    },
    {
     "name": "stderr",
     "output_type": "stream",
     "text": [
      "┌ Info:  started timer at: 2023-03-14T12:51:36.244\n",
      "└ @ TickTock C:\\Users\\vbansal5\\.julia\\packages\\TickTock\\fGILW\\src\\TickTock.jl:54\n"
     ]
    },
    {
     "name": "stdout",
     "output_type": "stream",
     "text": [
      ", -200, -1000]\n",
      "Finding best (n, m, N) policy...\n",
      "Max rewards is -2983.3604824691247  n is 2 m is 3  N is 3\n"
     ]
    },
    {
     "name": "stderr",
     "output_type": "stream",
     "text": [
      "┌ Info:           71.3486942s: 1 minute, 11 seconds, 348 milliseconds\n",
      "└ @ TickTock C:\\Users\\vbansal5\\.julia\\packages\\TickTock\\fGILW\\src\\TickTock.jl:62\n"
     ]
    },
    {
     "name": "stdout",
     "output_type": "stream",
     "text": [
      "5[0, -600,"
     ]
    },
    {
     "name": "stderr",
     "output_type": "stream",
     "text": [
      "┌ Info:  started timer at: 2023-03-14T12:52:47.594\n",
      "└ @ TickTock C:\\Users\\vbansal5\\.julia\\packages\\TickTock\\fGILW\\src\\TickTock.jl:54\n"
     ]
    },
    {
     "name": "stdout",
     "output_type": "stream",
     "text": [
      " -200, -1000]\n",
      "Finding best (n, m, N) policy...\n",
      "Max rewards is -3456.936427347781  n is 2 m is 3  N is 4\n"
     ]
    },
    {
     "name": "stderr",
     "output_type": "stream",
     "text": [
      "┌ Info:           67.6083294s: 1 minute, 7 seconds, 608 milliseconds\n",
      "└ @ TickTock C:\\Users\\vbansal5\\.julia\\packages\\TickTock\\fGILW\\src\\TickTock.jl:62\n"
     ]
    },
    {
     "name": "stdout",
     "output_type": "stream",
     "text": [
      "5"
     ]
    },
    {
     "name": "stderr",
     "output_type": "stream",
     "text": [
      "┌ Info:  started timer at: 2023-03-14T12:53:55.282\n",
      "└ @ TickTock C:\\Users\\vbansal5\\.julia\\packages\\TickTock\\fGILW\\src\\TickTock.jl:54\n"
     ]
    },
    {
     "name": "stdout",
     "output_type": "stream",
     "text": [
      "[0, -800, -200, -1000]\n",
      "Finding best (n, m, N) policy...\n",
      "Max rewards is -3863.4978035440085  n is 2 m is 3  N is 4\n"
     ]
    },
    {
     "name": "stderr",
     "output_type": "stream",
     "text": [
      "┌ Info:           68.1370043s: 1 minute, 8 seconds, 137 milliseconds\n",
      "└ @ TickTock C:\\Users\\vbansal5\\.julia\\packages\\TickTock\\fGILW\\src\\TickTock.jl:62\n",
      "┌ Info:  started timer at: 2023-03-14T12:55:03.495\n",
      "└ @ TickTock C:\\Users\\vbansal5\\.julia\\packages\\TickTock\\fGILW\\src\\TickTock.jl:54\n"
     ]
    },
    {
     "name": "stdout",
     "output_type": "stream",
     "text": [
      "5[0, -1000, -200, -1000]\n",
      "Finding best (n, m, N) policy...\n",
      "Max rewards is -4292.420720105587  n is 2 m is 3  N is 4\n",
      "5[0, -1200, "
     ]
    },
    {
     "name": "stderr",
     "output_type": "stream",
     "text": [
      "┌ Info:           71.7873566s: 1 minute, 11 seconds, 787 milliseconds\n",
      "└ @ TickTock C:\\Users\\vbansal5\\.julia\\packages\\TickTock\\fGILW\\src\\TickTock.jl:62\n",
      "┌ Info:  started timer at: 2023-03-14T12:56:15.302\n",
      "└ @ TickTock C:\\Users\\vbansal5\\.julia\\packages\\TickTock\\fGILW\\src\\TickTock.jl:54\n"
     ]
    },
    {
     "name": "stdout",
     "output_type": "stream",
     "text": [
      "-200, -1000]\n",
      "Finding best (n, m, N) policy...\n",
      "Max rewards is -4715.4984472679835  n is 2 m is 3  N is 4\n",
      "5"
     ]
    },
    {
     "name": "stderr",
     "output_type": "stream",
     "text": [
      "┌ Info:           68.8615975s: 1 minute, 8 seconds, 861 milliseconds\n",
      "└ @ TickTock C:\\Users\\vbansal5\\.julia\\packages\\TickTock\\fGILW\\src\\TickTock.jl:62\n",
      "┌ Info:  started timer at: 2023-03-14T12:57:24.174\n",
      "└ @ TickTock C:\\Users\\vbansal5\\.julia\\packages\\TickTock\\fGILW\\src\\TickTock.jl:54\n"
     ]
    },
    {
     "name": "stdout",
     "output_type": "stream",
     "text": [
      "[0, -1400, -200, -1000]\n",
      "Finding best (n, m, N) policy...\n",
      "Max rewards is -5124.523123562142  n is 2 m is 3  N is 4\n",
      "5"
     ]
    },
    {
     "name": "stderr",
     "output_type": "stream",
     "text": [
      "┌ Info:           67.9147789s: 1 minute, 7 seconds, 914 milliseconds\n",
      "└ @ TickTock C:\\Users\\vbansal5\\.julia\\packages\\TickTock\\fGILW\\src\\TickTock.jl:62\n",
      "┌ Info:  started timer at: 2023-03-14T12:58:32.088\n",
      "└ @ TickTock C:\\Users\\vbansal5\\.julia\\packages\\TickTock\\fGILW\\src\\TickTock.jl:54\n"
     ]
    },
    {
     "name": "stdout",
     "output_type": "stream",
     "text": [
      "[0, -1600, -200, -1000]\n",
      "Finding best (n, m, N) policy...\n",
      "Max rewards is -5508.973218128933  n is 2 m is 4  N is 4\n"
     ]
    },
    {
     "name": "stderr",
     "output_type": "stream",
     "text": [
      "┌ Info:           72.8615504s: 1 minute, 12 seconds, 861 milliseconds\n",
      "└ @ TickTock C:\\Users\\vbansal5\\.julia\\packages\\TickTock\\fGILW\\src\\TickTock.jl:62\n"
     ]
    },
    {
     "name": "stdout",
     "output_type": "stream",
     "text": [
      "10["
     ]
    },
    {
     "name": "stderr",
     "output_type": "stream",
     "text": [
      "┌ Info:  started timer at: 2023-03-14T12:59:45.009\n",
      "└ @ TickTock C:\\Users\\vbansal5\\.julia\\packages\\TickTock\\fGILW\\src\\TickTock.jl:54\n"
     ]
    },
    {
     "name": "stdout",
     "output_type": "stream",
     "text": [
      "0, -200, -200, -1000]\n",
      "Finding best (n, m, N) policy...\n",
      "Max rewards is -3986.678512094479  n is 3 m is 3  N is 3\n"
     ]
    },
    {
     "name": "stderr",
     "output_type": "stream",
     "text": [
      "┌ Info:           87.6970858s: 1 minute, 27 seconds, 697 milliseconds\n",
      "└ @ TickTock C:\\Users\\vbansal5\\.julia\\packages\\TickTock\\fGILW\\src\\TickTock.jl:62\n"
     ]
    },
    {
     "name": "stdout",
     "output_type": "stream",
     "text": [
      "10"
     ]
    },
    {
     "name": "stderr",
     "output_type": "stream",
     "text": [
      "┌ Info:  started timer at: 2023-03-14T13:01:12.741\n",
      "└ @ TickTock C:\\Users\\vbansal5\\.julia\\packages\\TickTock\\fGILW\\src\\TickTock.jl:54\n"
     ]
    },
    {
     "name": "stdout",
     "output_type": "stream",
     "text": [
      "[0, -400, -200, -1000]\n",
      "Finding best (n, m, N) policy...\n",
      "Max rewards is -5122.39159523121  n is 3 m is 3  N is 4\n",
      "10[0, -600, -200, -1000]\n"
     ]
    },
    {
     "name": "stderr",
     "output_type": "stream",
     "text": [
      "┌ Info:           89.3571457s: 1 minute, 29 seconds, 357 milliseconds\n",
      "└ @ TickTock C:\\Users\\vbansal5\\.julia\\packages\\TickTock\\fGILW\\src\\TickTock.jl:62\n",
      "┌ Info:  started timer at: 2023-03-14T13:02:42.112\n",
      "└ @ TickTock C:\\Users\\vbansal5\\.julia\\packages\\TickTock\\fGILW\\src\\TickTock.jl:54\n"
     ]
    },
    {
     "name": "stdout",
     "output_type": "stream",
     "text": [
      "Finding best (n, m, N) policy...\n",
      "Max rewards is -6007.097361782245  n is 2 m is 3  N is 4\n",
      "10[0, -800, -200, -1000]"
     ]
    },
    {
     "name": "stderr",
     "output_type": "stream",
     "text": [
      "┌ Info:           93.2146585s: 1 minute, 33 seconds, 214 milliseconds\n",
      "└ @ TickTock C:\\Users\\vbansal5\\.julia\\packages\\TickTock\\fGILW\\src\\TickTock.jl:62\n",
      "┌ Info:  started timer at: 2023-03-14T13:04:15.357\n",
      "└ @ TickTock C:\\Users\\vbansal5\\.julia\\packages\\TickTock\\fGILW\\src\\TickTock.jl:54\n"
     ]
    },
    {
     "name": "stdout",
     "output_type": "stream",
     "text": [
      "\n",
      "Finding best (n, m, N) policy...\n",
      "Max rewards is -6624.320945470984  n is 2 m is 3  N is 4\n",
      "10["
     ]
    },
    {
     "name": "stderr",
     "output_type": "stream",
     "text": [
      "┌ Info:           82.8887595s: 1 minute, 22 seconds, 888 milliseconds\n",
      "└ @ TickTock C:\\Users\\vbansal5\\.julia\\packages\\TickTock\\fGILW\\src\\TickTock.jl:62\n",
      "┌ Info:  started timer at: 2023-03-14T13:05:38.246\n",
      "└ @ TickTock C:\\Users\\vbansal5\\.julia\\packages\\TickTock\\fGILW\\src\\TickTock.jl:54\n"
     ]
    },
    {
     "name": "stdout",
     "output_type": "stream",
     "text": [
      "0, -1000, -200, -1000]\n",
      "Finding best (n, m, N) policy...\n",
      "Max rewards is -7246.385536441511  n is 2 m is 3  N is 4\n"
     ]
    },
    {
     "name": "stderr",
     "output_type": "stream",
     "text": [
      "┌ Info:            86.462589s: 1 minute, 26 seconds, 462 milliseconds\n",
      "└ @ TickTock C:\\Users\\vbansal5\\.julia\\packages\\TickTock\\fGILW\\src\\TickTock.jl:62\n",
      "┌ Info:  started timer at: 2023-03-14T13:07:04.736\n",
      "└ @ TickTock C:\\Users\\vbansal5\\.julia\\packages\\TickTock\\fGILW\\src\\TickTock.jl:54\n"
     ]
    },
    {
     "name": "stdout",
     "output_type": "stream",
     "text": [
      "10[0, -1200, -200, -1000]\n",
      "Finding best (n, m, N) policy...\n",
      "Max rewards is -7779.076936988685  n is 2 m is 4  N is 4\n",
      "10"
     ]
    },
    {
     "name": "stderr",
     "output_type": "stream",
     "text": [
      "┌ Info:             88.08207s: 1 minute, 28 seconds, 82 milliseconds\n",
      "└ @ TickTock C:\\Users\\vbansal5\\.julia\\packages\\TickTock\\fGILW\\src\\TickTock.jl:62\n",
      "┌ Info:  started timer at: 2023-03-14T13:08:32.863\n",
      "└ @ TickTock C:\\Users\\vbansal5\\.julia\\packages\\TickTock\\fGILW\\src\\TickTock.jl:54\n"
     ]
    },
    {
     "name": "stdout",
     "output_type": "stream",
     "text": [
      "[0, -1400, -200, -1000]\n",
      "Finding best (n, m, N) policy...\n",
      "Max rewards is -8266.01142127522  n is 2 m is 4  N is 4\n",
      "10[0,"
     ]
    },
    {
     "name": "stderr",
     "output_type": "stream",
     "text": [
      "┌ Info:           87.4462272s: 1 minute, 27 seconds, 446 milliseconds\n",
      "└ @ TickTock C:\\Users\\vbansal5\\.julia\\packages\\TickTock\\fGILW\\src\\TickTock.jl:62\n",
      "┌ Info:  started timer at: 2023-03-14T13:10:00.324\n",
      "└ @ TickTock C:\\Users\\vbansal5\\.julia\\packages\\TickTock\\fGILW\\src\\TickTock.jl:54\n"
     ]
    },
    {
     "name": "stdout",
     "output_type": "stream",
     "text": [
      " -1600, -200, -1000]\n",
      "Finding best (n, m, N) policy...\n",
      "Max rewards is -8721.714629425853  n is 2 m is 4  N is 4\n",
      "15[0, -200, -200, -1000]\n",
      "Finding best (n, m, N) policy...\n"
     ]
    },
    {
     "name": "stderr",
     "output_type": "stream",
     "text": [
      "┌ Info:           92.2744928s: 1 minute, 32 seconds, 274 milliseconds\n",
      "└ @ TickTock C:\\Users\\vbansal5\\.julia\\packages\\TickTock\\fGILW\\src\\TickTock.jl:62\n",
      "┌ Info:  started timer at: 2023-03-14T13:11:32.609\n",
      "└ @ TickTock C:\\Users\\vbansal5\\.julia\\packages\\TickTock\\fGILW\\src\\TickTock.jl:54\n"
     ]
    },
    {
     "name": "stdout",
     "output_type": "stream",
     "text": [
      "Max rewards is -5594.0017875021385  n is 3 m is 3  N is 4\n"
     ]
    },
    {
     "name": "stderr",
     "output_type": "stream",
     "text": [
      "┌ Info:          105.4105879s: 1 minute, 45 seconds, 410 milliseconds\n",
      "└ @ TickTock C:\\Users\\vbansal5\\.julia\\packages\\TickTock\\fGILW\\src\\TickTock.jl:62\n"
     ]
    },
    {
     "name": "stdout",
     "output_type": "stream",
     "text": [
      "15[0, -400, -200, -1000]\n"
     ]
    },
    {
     "name": "stderr",
     "output_type": "stream",
     "text": [
      "┌ Info:  started timer at: 2023-03-14T13:13:18.089\n",
      "└ @ TickTock C:\\Users\\vbansal5\\.julia\\packages\\TickTock\\fGILW\\src\\TickTock.jl:54\n"
     ]
    },
    {
     "name": "stdout",
     "output_type": "stream",
     "text": [
      "Finding best (n, m, N) policy...\n",
      "Max rewards is -6984.415703575568  n is 3 m is 3  N is 4\n",
      "15[0, -600, -200, -1000]\n",
      "Finding best (n, m, N) policy...\n"
     ]
    },
    {
     "name": "stderr",
     "output_type": "stream",
     "text": [
      "┌ Info:          110.3785001s: 1 minute, 50 seconds, 378 milliseconds\n",
      "└ @ TickTock C:\\Users\\vbansal5\\.julia\\packages\\TickTock\\fGILW\\src\\TickTock.jl:62\n",
      "┌ Info:  started timer at: 2023-03-14T13:15:08.469\n",
      "└ @ TickTock C:\\Users\\vbansal5\\.julia\\packages\\TickTock\\fGILW\\src\\TickTock.jl:54\n"
     ]
    },
    {
     "name": "stdout",
     "output_type": "stream",
     "text": [
      "Max rewards is -8362.213265199447  n is 3 m is 3  N is 4\n",
      "15[0"
     ]
    },
    {
     "name": "stderr",
     "output_type": "stream",
     "text": [
      "┌ Info:          106.7601211s: 1 minute, 46 seconds, 760 milliseconds\n",
      "└ @ TickTock C:\\Users\\vbansal5\\.julia\\packages\\TickTock\\fGILW\\src\\TickTock.jl:62\n",
      "┌ Info:  started timer at: 2023-03-14T13:16:55.243\n",
      "└ @ TickTock C:\\Users\\vbansal5\\.julia\\packages\\TickTock\\fGILW\\src\\TickTock.jl:54\n"
     ]
    },
    {
     "name": "stdout",
     "output_type": "stream",
     "text": [
      ", -800, -200, -1000]\n",
      "Finding best (n, m, N) policy...\n",
      "Max rewards is -9295.126648585105  n is 2 m is 3  N is 4\n",
      "15"
     ]
    },
    {
     "name": "stderr",
     "output_type": "stream",
     "text": [
      "┌ Info:          105.1274213s: 1 minute, 45 seconds, 127 milliseconds\n",
      "└ @ TickTock C:\\Users\\vbansal5\\.julia\\packages\\TickTock\\fGILW\\src\\TickTock.jl:62\n",
      "┌ Info:  started timer at: 2023-03-14T13:18:40.382\n",
      "└ @ TickTock C:\\Users\\vbansal5\\.julia\\packages\\TickTock\\fGILW\\src\\TickTock.jl:54\n"
     ]
    },
    {
     "name": "stdout",
     "output_type": "stream",
     "text": [
      "[0, -1000, -200, -1000]\n",
      "Finding best (n, m, N) policy...\n",
      "Max rewards is -9946.367593592242  n is 2 m is 4  N is 4\n",
      "15"
     ]
    },
    {
     "name": "stderr",
     "output_type": "stream",
     "text": [
      "┌ Info:          112.1799376s: 1 minute, 52 seconds, 179 milliseconds\n",
      "└ @ TickTock C:\\Users\\vbansal5\\.julia\\packages\\TickTock\\fGILW\\src\\TickTock.jl:62\n"
     ]
    },
    {
     "name": "stdout",
     "output_type": "stream",
     "text": [
      "[0"
     ]
    },
    {
     "name": "stderr",
     "output_type": "stream",
     "text": [
      "┌ Info:  started timer at: 2023-03-14T13:20:32.582\n",
      "└ @ TickTock C:\\Users\\vbansal5\\.julia\\packages\\TickTock\\fGILW\\src\\TickTock.jl:54\n"
     ]
    },
    {
     "name": "stdout",
     "output_type": "stream",
     "text": [
      ", -1200, -200, -1000]\n",
      "Finding best (n, m, N) policy...\n",
      "Max rewards is -10476.380644361543  n is 2 m is 4  N is 4\n"
     ]
    },
    {
     "name": "stderr",
     "output_type": "stream",
     "text": [
      "┌ Info:          108.0994518s: 1 minute, 48 seconds, 99 milliseconds\n",
      "└ @ TickTock C:\\Users\\vbansal5\\.julia\\packages\\TickTock\\fGILW\\src\\TickTock.jl:62\n"
     ]
    },
    {
     "name": "stdout",
     "output_type": "stream",
     "text": [
      "15"
     ]
    },
    {
     "name": "stderr",
     "output_type": "stream",
     "text": [
      "┌ Info:  started timer at: 2023-03-14T13:22:20.719\n",
      "└ @ TickTock C:\\Users\\vbansal5\\.julia\\packages\\TickTock\\fGILW\\src\\TickTock.jl:54\n"
     ]
    },
    {
     "name": "stdout",
     "output_type": "stream",
     "text": [
      "[0, -1400, -200, -1000]\n",
      "Finding best (n, m, N) policy...\n",
      "Max rewards is -11032.869763176208  n is 2 m is 4  N is 4\n",
      "15["
     ]
    },
    {
     "name": "stderr",
     "output_type": "stream",
     "text": [
      "┌ Info:           105.282122s: 1 minute, 45 seconds, 282 milliseconds\n",
      "└ @ TickTock C:\\Users\\vbansal5\\.julia\\packages\\TickTock\\fGILW\\src\\TickTock.jl:62\n",
      "┌ Info:  started timer at: 2023-03-14T13:24:06.026\n",
      "└ @ TickTock C:\\Users\\vbansal5\\.julia\\packages\\TickTock\\fGILW\\src\\TickTock.jl:54\n"
     ]
    },
    {
     "name": "stdout",
     "output_type": "stream",
     "text": [
      "0, -1600, -200, -1000]\n",
      "Finding best (n, m, N) policy...\n",
      "Max rewards is -11550.099220849545  n is 2 m is 4  N is 4\n",
      "20[0, -200, -200, -1000]\n",
      "Finding best (n, m, N) policy...\n"
     ]
    },
    {
     "name": "stderr",
     "output_type": "stream",
     "text": [
      "┌ Info:          106.5407158s: 1 minute, 46 seconds, 540 milliseconds\n",
      "└ @ TickTock C:\\Users\\vbansal5\\.julia\\packages\\TickTock\\fGILW\\src\\TickTock.jl:62\n",
      "┌ Info:  started timer at: 2023-03-14T13:25:52.578\n",
      "└ @ TickTock C:\\Users\\vbansal5\\.julia\\packages\\TickTock\\fGILW\\src\\TickTock.jl:54\n"
     ]
    },
    {
     "name": "stdout",
     "output_type": "stream",
     "text": [
      "Max rewards is -6989.398641321133  n is 3 m is 3  N is 4\n"
     ]
    },
    {
     "name": "stderr",
     "output_type": "stream",
     "text": [
      "┌ Info:          128.3273759s: 2 minutes, 8 seconds, 327 milliseconds\n",
      "└ @ TickTock C:\\Users\\vbansal5\\.julia\\packages\\TickTock\\fGILW\\src\\TickTock.jl:62\n"
     ]
    },
    {
     "name": "stdout",
     "output_type": "stream",
     "text": [
      "20"
     ]
    },
    {
     "name": "stderr",
     "output_type": "stream",
     "text": [
      "┌ Info:  started timer at: 2023-03-14T13:28:00.940\n",
      "└ @ TickTock C:\\Users\\vbansal5\\.julia\\packages\\TickTock\\fGILW\\src\\TickTock.jl:54\n"
     ]
    },
    {
     "name": "stdout",
     "output_type": "stream",
     "text": [
      "[0, -400, -200, -1000]\n",
      "Finding best (n, m, N) policy...\n",
      "Max rewards is -8722.830847427913  n is 3 m is 3  N is 4\n",
      "20"
     ]
    },
    {
     "name": "stderr",
     "output_type": "stream",
     "text": [
      "┌ Info:          126.0432437s: 2 minutes, 6 seconds, 43 milliseconds\n",
      "└ @ TickTock C:\\Users\\vbansal5\\.julia\\packages\\TickTock\\fGILW\\src\\TickTock.jl:62\n",
      "┌ Info:  started timer at: 2023-03-14T13:30:07.016\n",
      "└ @ TickTock C:\\Users\\vbansal5\\.julia\\packages\\TickTock\\fGILW\\src\\TickTock.jl:54\n"
     ]
    },
    {
     "name": "stdout",
     "output_type": "stream",
     "text": [
      "[0, -600, -200, -1000]\n",
      "Finding best (n, m, N) policy...\n",
      "Max rewards is -10408.535625923982  n is 3 m is 3  N is 4\n",
      "20"
     ]
    },
    {
     "name": "stderr",
     "output_type": "stream",
     "text": [
      "┌ Info:          136.0294894s: 2 minutes, 16 seconds, 29 milliseconds\n",
      "└ @ TickTock C:\\Users\\vbansal5\\.julia\\packages\\TickTock\\fGILW\\src\\TickTock.jl:62\n",
      "┌ Info:  started timer at: 2023-03-14T13:32:23.045\n",
      "└ @ TickTock C:\\Users\\vbansal5\\.julia\\packages\\TickTock\\fGILW\\src\\TickTock.jl:54\n"
     ]
    },
    {
     "name": "stdout",
     "output_type": "stream",
     "text": [
      "[0, -800, -200, -1000]\n",
      "Finding best (n, m, N) policy...\n",
      "Max rewards is -11800.809616158038  n is 3 m is 4  N is 4\n"
     ]
    },
    {
     "name": "stderr",
     "output_type": "stream",
     "text": [
      "┌ Info:          121.9552285s: 2 minutes, 1 second, 955 milliseconds\n",
      "└ @ TickTock C:\\Users\\vbansal5\\.julia\\packages\\TickTock\\fGILW\\src\\TickTock.jl:62\n"
     ]
    },
    {
     "name": "stdout",
     "output_type": "stream",
     "text": [
      "20"
     ]
    },
    {
     "name": "stderr",
     "output_type": "stream",
     "text": [
      "┌ Info:  started timer at: 2023-03-14T13:34:25.079\n",
      "└ @ TickTock C:\\Users\\vbansal5\\.julia\\packages\\TickTock\\fGILW\\src\\TickTock.jl:54\n"
     ]
    },
    {
     "name": "stdout",
     "output_type": "stream",
     "text": [
      "[0, -1000, -200, -1000]\n",
      "Finding best (n, m, N) policy...\n",
      "Max rewards is -12450.621606520539  n is 2 m is 4  N is 4\n",
      "20"
     ]
    },
    {
     "name": "stderr",
     "output_type": "stream",
     "text": [
      "┌ Info:          129.6503414s: 2 minutes, 9 seconds, 650 milliseconds\n",
      "└ @ TickTock C:\\Users\\vbansal5\\.julia\\packages\\TickTock\\fGILW\\src\\TickTock.jl:62\n",
      "┌ Info:  started timer at: 2023-03-14T13:36:34.768\n",
      "└ @ TickTock C:\\Users\\vbansal5\\.julia\\packages\\TickTock\\fGILW\\src\\TickTock.jl:54\n"
     ]
    },
    {
     "name": "stdout",
     "output_type": "stream",
     "text": [
      "[0, -1200, -200, -1000]\n",
      "Finding best (n, m, N) policy...\n",
      "Max rewards is -13023.341994487495  n is 2 m is 4  N is 4\n"
     ]
    },
    {
     "name": "stderr",
     "output_type": "stream",
     "text": [
      "┌ Info:          129.7532327s: 2 minutes, 9 seconds, 753 milliseconds\n",
      "└ @ TickTock C:\\Users\\vbansal5\\.julia\\packages\\TickTock\\fGILW\\src\\TickTock.jl:62\n"
     ]
    },
    {
     "name": "stdout",
     "output_type": "stream",
     "text": [
      "20"
     ]
    },
    {
     "name": "stderr",
     "output_type": "stream",
     "text": [
      "┌ Info:  started timer at: 2023-03-14T13:38:44.533\n",
      "└ @ TickTock C:\\Users\\vbansal5\\.julia\\packages\\TickTock\\fGILW\\src\\TickTock.jl:54\n"
     ]
    },
    {
     "name": "stdout",
     "output_type": "stream",
     "text": [
      "[0, -1400, -200, -1000]\n",
      "Finding best (n, m, N) policy...\n",
      "Max rewards is -13610.888385928654  n is 2 m is 4  N is 4\n",
      "20"
     ]
    },
    {
     "name": "stderr",
     "output_type": "stream",
     "text": [
      "┌ Info:          138.9487269s: 2 minutes, 18 seconds, 948 milliseconds\n",
      "└ @ TickTock C:\\Users\\vbansal5\\.julia\\packages\\TickTock\\fGILW\\src\\TickTock.jl:62\n",
      "┌ Info:  started timer at: 2023-03-14T13:41:03.548\n",
      "└ @ TickTock C:\\Users\\vbansal5\\.julia\\packages\\TickTock\\fGILW\\src\\TickTock.jl:54\n"
     ]
    },
    {
     "name": "stdout",
     "output_type": "stream",
     "text": [
      "[0, -1600, -200, -1000]\n",
      "Finding best (n, m, N) policy...\n",
      "Max rewards is -14190.270018334117  n is 2 m is 4  N is 4\n",
      "25[0, -200, -200, -1000]\n",
      "Finding best (n, m, N) policy...\n"
     ]
    },
    {
     "name": "stderr",
     "output_type": "stream",
     "text": [
      "┌ Info:          132.8226269s: 2 minutes, 12 seconds, 822 milliseconds\n",
      "└ @ TickTock C:\\Users\\vbansal5\\.julia\\packages\\TickTock\\fGILW\\src\\TickTock.jl:62\n",
      "┌ Info:  started timer at: 2023-03-14T13:43:16.389\n",
      "└ @ TickTock C:\\Users\\vbansal5\\.julia\\packages\\TickTock\\fGILW\\src\\TickTock.jl:54\n"
     ]
    },
    {
     "name": "stdout",
     "output_type": "stream",
     "text": [
      "Max rewards is -8340.047015685088  n is 3 m is 3  N is 4\n",
      "25["
     ]
    },
    {
     "name": "stderr",
     "output_type": "stream",
     "text": [
      "┌ Info:          144.8635667s: 2 minutes, 24 seconds, 863 milliseconds\n",
      "└ @ TickTock C:\\Users\\vbansal5\\.julia\\packages\\TickTock\\fGILW\\src\\TickTock.jl:62\n",
      "┌ Info:  started timer at: 2023-03-14T13:45:41.264\n",
      "└ @ TickTock C:\\Users\\vbansal5\\.julia\\packages\\TickTock\\fGILW\\src\\TickTock.jl:54\n"
     ]
    },
    {
     "name": "stdout",
     "output_type": "stream",
     "text": [
      "0, -400, -200, -1000]\n",
      "Finding best (n, m, N) policy...\n",
      "Max rewards is -10364.50144572944  n is 3 m is 3  N is 4\n",
      "25"
     ]
    },
    {
     "name": "stderr",
     "output_type": "stream",
     "text": [
      "┌ Info:          146.5648008s: 2 minutes, 26 seconds, 564 milliseconds\n",
      "└ @ TickTock C:\\Users\\vbansal5\\.julia\\packages\\TickTock\\fGILW\\src\\TickTock.jl:62\n",
      "┌ Info:  started timer at: 2023-03-14T13:48:07.901\n",
      "└ @ TickTock C:\\Users\\vbansal5\\.julia\\packages\\TickTock\\fGILW\\src\\TickTock.jl:54\n"
     ]
    },
    {
     "name": "stdout",
     "output_type": "stream",
     "text": [
      "[0, -600, -200, -1000]\n",
      "Finding best (n, m, N) policy...\n",
      "Max rewards is -12348.314237356606  n is 3 m is 3  N is 4\n",
      "25["
     ]
    },
    {
     "name": "stderr",
     "output_type": "stream",
     "text": [
      "┌ Info:          144.3042454s: 2 minutes, 24 seconds, 304 milliseconds\n",
      "└ @ TickTock C:\\Users\\vbansal5\\.julia\\packages\\TickTock\\fGILW\\src\\TickTock.jl:62\n",
      "┌ Info:  started timer at: 2023-03-14T13:50:32.235\n",
      "└ @ TickTock C:\\Users\\vbansal5\\.julia\\packages\\TickTock\\fGILW\\src\\TickTock.jl:54\n"
     ]
    },
    {
     "name": "stdout",
     "output_type": "stream",
     "text": [
      "0, -800, -200, -1000]\n",
      "Finding best (n, m, N) policy...\n",
      "Max rewards is -13807.480091469737  n is 3 m is 4  N is 4\n"
     ]
    },
    {
     "name": "stderr",
     "output_type": "stream",
     "text": [
      "┌ Info:          140.9789045s: 2 minutes, 20 seconds, 978 milliseconds\n",
      "└ @ TickTock C:\\Users\\vbansal5\\.julia\\packages\\TickTock\\fGILW\\src\\TickTock.jl:62\n"
     ]
    },
    {
     "name": "stdout",
     "output_type": "stream",
     "text": [
      "25"
     ]
    },
    {
     "name": "stderr",
     "output_type": "stream",
     "text": [
      "┌ Info:  started timer at: 2023-03-14T13:52:53.234\n",
      "└ @ TickTock C:\\Users\\vbansal5\\.julia\\packages\\TickTock\\fGILW\\src\\TickTock.jl:54\n"
     ]
    },
    {
     "name": "stdout",
     "output_type": "stream",
     "text": [
      "[0, -1000, -200, -1000]\n",
      "Finding best (n, m, N) policy...\n",
      "Max rewards is -14764.10473869318  n is 3 m is 4  N is 4\n",
      "25[0, -1200, "
     ]
    },
    {
     "name": "stderr",
     "output_type": "stream",
     "text": [
      "┌ Info:          154.6342059s: 2 minutes, 34 seconds, 634 milliseconds\n",
      "└ @ TickTock C:\\Users\\vbansal5\\.julia\\packages\\TickTock\\fGILW\\src\\TickTock.jl:62\n",
      "┌ Info:  started timer at: 2023-03-14T13:55:27.868\n",
      "└ @ TickTock C:\\Users\\vbansal5\\.julia\\packages\\TickTock\\fGILW\\src\\TickTock.jl:54\n"
     ]
    },
    {
     "name": "stdout",
     "output_type": "stream",
     "text": [
      "-200, -1000]\n",
      "Finding best (n, m, N) policy...\n",
      "Max rewards is -15520.685138567322  n is 2 m is 4  N is 4\n",
      "25["
     ]
    },
    {
     "name": "stderr",
     "output_type": "stream",
     "text": [
      "┌ Info:          143.5822995s: 2 minutes, 23 seconds, 582 milliseconds\n",
      "└ @ TickTock C:\\Users\\vbansal5\\.julia\\packages\\TickTock\\fGILW\\src\\TickTock.jl:62\n",
      "┌ Info:  started timer at: 2023-03-14T13:57:51.486\n",
      "└ @ TickTock C:\\Users\\vbansal5\\.julia\\packages\\TickTock\\fGILW\\src\\TickTock.jl:54\n"
     ]
    },
    {
     "name": "stdout",
     "output_type": "stream",
     "text": [
      "0, -1400, -200, -1000]\n",
      "Finding best (n, m, N) policy...\n",
      "Max rewards is -16193.45410003436  n is 2 m is 4  N is 4\n",
      "25"
     ]
    },
    {
     "name": "stderr",
     "output_type": "stream",
     "text": [
      "┌ Info:          148.1753808s: 2 minutes, 28 seconds, 175 milliseconds\n",
      "└ @ TickTock C:\\Users\\vbansal5\\.julia\\packages\\TickTock\\fGILW\\src\\TickTock.jl:62\n",
      "┌ Info:  started timer at: 2023-03-14T14:00:19.675\n",
      "└ @ TickTock C:\\Users\\vbansal5\\.julia\\packages\\TickTock\\fGILW\\src\\TickTock.jl:54\n"
     ]
    },
    {
     "name": "stdout",
     "output_type": "stream",
     "text": [
      "[0, -1600, -200, -1000]\n",
      "Finding best (n, m, N) policy...\n",
      "Max rewards is -16783.81543888066  n is 2 m is 4  N is 4\n",
      "30"
     ]
    },
    {
     "name": "stderr",
     "output_type": "stream",
     "text": [
      "┌ Info:          147.6533075s: 2 minutes, 27 seconds, 653 milliseconds\n",
      "└ @ TickTock C:\\Users\\vbansal5\\.julia\\packages\\TickTock\\fGILW\\src\\TickTock.jl:62\n",
      "┌ Info:  started timer at: 2023-03-14T14:02:47.349\n",
      "└ @ TickTock C:\\Users\\vbansal5\\.julia\\packages\\TickTock\\fGILW\\src\\TickTock.jl:54\n"
     ]
    },
    {
     "name": "stdout",
     "output_type": "stream",
     "text": [
      "[0, -200, -200, -1000]\n",
      "Finding best (n, m, N) policy...\n",
      "Max rewards is -9664.240325571267  n is 3 m is 3  N is 4\n",
      "30"
     ]
    },
    {
     "name": "stderr",
     "output_type": "stream",
     "text": [
      "┌ Info:          171.4979927s: 2 minutes, 51 seconds, 497 milliseconds\n",
      "└ @ TickTock C:\\Users\\vbansal5\\.julia\\packages\\TickTock\\fGILW\\src\\TickTock.jl:62\n",
      "┌ Info:  started timer at: 2023-03-14T14:05:38.862\n",
      "└ @ TickTock C:\\Users\\vbansal5\\.julia\\packages\\TickTock\\fGILW\\src\\TickTock.jl:54\n"
     ]
    },
    {
     "name": "stdout",
     "output_type": "stream",
     "text": [
      "[0, -400, -200, -1000]\n",
      "Finding best (n, m, N) policy...\n",
      "Max rewards is -11937.793295577683  n is 3 m is 3  N is 4\n"
     ]
    },
    {
     "name": "stderr",
     "output_type": "stream",
     "text": [
      "┌ Info:           159.782072s: 2 minutes, 39 seconds, 782 milliseconds\n",
      "└ @ TickTock C:\\Users\\vbansal5\\.julia\\packages\\TickTock\\fGILW\\src\\TickTock.jl:62\n"
     ]
    },
    {
     "name": "stdout",
     "output_type": "stream",
     "text": [
      "30"
     ]
    },
    {
     "name": "stderr",
     "output_type": "stream",
     "text": [
      "┌ Info:  started timer at: 2023-03-14T14:08:18.730\n",
      "└ @ TickTock C:\\Users\\vbansal5\\.julia\\packages\\TickTock\\fGILW\\src\\TickTock.jl:54\n"
     ]
    },
    {
     "name": "stdout",
     "output_type": "stream",
     "text": [
      "[0, -600, -200, -1000]\n",
      "Finding best (n, m, N) policy...\n",
      "Max rewards is -14169.2182021056  n is 3 m is 3  N is 4\n"
     ]
    },
    {
     "name": "stderr",
     "output_type": "stream",
     "text": [
      "┌ Info:          173.0725143s: 2 minutes, 53 seconds, 72 milliseconds\n",
      "└ @ TickTock C:\\Users\\vbansal5\\.julia\\packages\\TickTock\\fGILW\\src\\TickTock.jl:62\n"
     ]
    },
    {
     "name": "stdout",
     "output_type": "stream",
     "text": [
      "30["
     ]
    },
    {
     "name": "stderr",
     "output_type": "stream",
     "text": [
      "┌ Info:  started timer at: 2023-03-14T14:11:11.875\n",
      "└ @ TickTock C:\\Users\\vbansal5\\.julia\\packages\\TickTock\\fGILW\\src\\TickTock.jl:54\n"
     ]
    },
    {
     "name": "stdout",
     "output_type": "stream",
     "text": [
      "0, -800, -200, -1000]\n",
      "Finding best (n, m, N) policy...\n",
      "Max rewards is -15730.186088929155  n is 3 m is 4  N is 4\n",
      "30"
     ]
    },
    {
     "name": "stderr",
     "output_type": "stream",
     "text": [
      "┌ Info:          167.1847137s: 2 minutes, 47 seconds, 184 milliseconds\n",
      "└ @ TickTock C:\\Users\\vbansal5\\.julia\\packages\\TickTock\\fGILW\\src\\TickTock.jl:62\n",
      "┌ Info:  started timer at: 2023-03-14T14:13:59.099\n",
      "└ @ TickTock C:\\Users\\vbansal5\\.julia\\packages\\TickTock\\fGILW\\src\\TickTock.jl:54\n"
     ]
    },
    {
     "name": "stdout",
     "output_type": "stream",
     "text": [
      "[0, -1000, -200, -1000]\n",
      "Finding best (n, m, N) policy...\n",
      "Max rewards is -16740.116955634807  n is 3 m is 4  N is 4\n"
     ]
    },
    {
     "name": "stderr",
     "output_type": "stream",
     "text": [
      "┌ Info:          176.8139637s: 2 minutes, 56 seconds, 813 milliseconds\n",
      "└ @ TickTock C:\\Users\\vbansal5\\.julia\\packages\\TickTock\\fGILW\\src\\TickTock.jl:62\n"
     ]
    },
    {
     "name": "stdout",
     "output_type": "stream",
     "text": [
      "30[0, -1200, -200"
     ]
    },
    {
     "name": "stderr",
     "output_type": "stream",
     "text": [
      "┌ Info:  started timer at: 2023-03-14T14:16:55.985\n",
      "└ @ TickTock C:\\Users\\vbansal5\\.julia\\packages\\TickTock\\fGILW\\src\\TickTock.jl:54\n"
     ]
    },
    {
     "name": "stdout",
     "output_type": "stream",
     "text": [
      ", -1000]\n",
      "Finding best (n, m, N) policy...\n",
      "Max rewards is -17741.06300700221  n is 3 m is 4  N is 4\n"
     ]
    },
    {
     "name": "stderr",
     "output_type": "stream",
     "text": [
      "┌ Info:          180.8993091s: 3 minutes, 899 milliseconds\n",
      "└ @ TickTock C:\\Users\\vbansal5\\.julia\\packages\\TickTock\\fGILW\\src\\TickTock.jl:62\n"
     ]
    },
    {
     "name": "stdout",
     "output_type": "stream",
     "text": [
      "30[0, -1400, -200, -1000]\n",
      "Finding best (n, m, N) policy...\n"
     ]
    },
    {
     "name": "stderr",
     "output_type": "stream",
     "text": [
      "┌ Info:  started timer at: 2023-03-14T14:19:56.995\n",
      "└ @ TickTock C:\\Users\\vbansal5\\.julia\\packages\\TickTock\\fGILW\\src\\TickTock.jl:54\n"
     ]
    },
    {
     "name": "stdout",
     "output_type": "stream",
     "text": [
      "Max rewards is -18677.664783490007  n is 2 m is 4  N is 4\n"
     ]
    },
    {
     "name": "stderr",
     "output_type": "stream",
     "text": [
      "┌ Info:          159.8363331s: 2 minutes, 39 seconds, 836 milliseconds\n",
      "└ @ TickTock C:\\Users\\vbansal5\\.julia\\packages\\TickTock\\fGILW\\src\\TickTock.jl:62\n"
     ]
    },
    {
     "name": "stdout",
     "output_type": "stream",
     "text": [
      "30"
     ]
    },
    {
     "name": "stderr",
     "output_type": "stream",
     "text": [
      "┌ Info:  started timer at: 2023-03-14T14:22:36.832\n",
      "└ @ TickTock C:\\Users\\vbansal5\\.julia\\packages\\TickTock\\fGILW\\src\\TickTock.jl:54\n"
     ]
    },
    {
     "name": "stdout",
     "output_type": "stream",
     "text": [
      "[0, -1600, -200, -1000]\n",
      "Finding best (n, m, N) policy...\n",
      "Max rewards is -19303.984101957707  n is 2 m is 4  N is 4\n",
      "40"
     ]
    },
    {
     "name": "stderr",
     "output_type": "stream",
     "text": [
      "┌ Info:          158.3460759s: 2 minutes, 38 seconds, 346 milliseconds\n",
      "└ @ TickTock C:\\Users\\vbansal5\\.julia\\packages\\TickTock\\fGILW\\src\\TickTock.jl:62\n",
      "┌ Info:  started timer at: 2023-03-14T14:25:15.190\n",
      "└ @ TickTock C:\\Users\\vbansal5\\.julia\\packages\\TickTock\\fGILW\\src\\TickTock.jl:54\n"
     ]
    },
    {
     "name": "stdout",
     "output_type": "stream",
     "text": [
      "[0, -200, -200, -1000]\n",
      "Finding best (n, m, N) policy...\n",
      "Max rewards is -12175.93417944804  n is 3 m is 3  N is 4\n"
     ]
    },
    {
     "name": "stderr",
     "output_type": "stream",
     "text": [
      "┌ Info:          189.0742396s: 3 minutes, 9 seconds, 74 milliseconds\n",
      "└ @ TickTock C:\\Users\\vbansal5\\.julia\\packages\\TickTock\\fGILW\\src\\TickTock.jl:62\n"
     ]
    },
    {
     "name": "stdout",
     "output_type": "stream",
     "text": [
      "40"
     ]
    },
    {
     "name": "stderr",
     "output_type": "stream",
     "text": [
      "┌ Info:  started timer at: 2023-03-14T14:28:24.317\n",
      "└ @ TickTock C:\\Users\\vbansal5\\.julia\\packages\\TickTock\\fGILW\\src\\TickTock.jl:54\n"
     ]
    },
    {
     "name": "stdout",
     "output_type": "stream",
     "text": [
      "[0, -400, -200, -1000]\n",
      "Finding best (n, m, N) policy...\n",
      "Max rewards is -14863.752076077411  n is 3 m is 3  N is 4\n"
     ]
    },
    {
     "name": "stderr",
     "output_type": "stream",
     "text": [
      "┌ Info:          194.6050402s: 3 minutes, 14 seconds, 605 milliseconds\n",
      "└ @ TickTock C:\\Users\\vbansal5\\.julia\\packages\\TickTock\\fGILW\\src\\TickTock.jl:62\n",
      "┌ Info:  started timer at: 2023-03-14T14:31:38.991\n",
      "└ @ TickTock C:\\Users\\vbansal5\\.julia\\packages\\TickTock\\fGILW\\src\\TickTock.jl:54\n"
     ]
    },
    {
     "name": "stdout",
     "output_type": "stream",
     "text": [
      "40[0, -600, -200, -1000]\n",
      "Finding best (n, m, N) policy...\n",
      "Max rewards is -17499.42460382253  n is 3 m is 3  N is 4\n",
      "40"
     ]
    },
    {
     "name": "stderr",
     "output_type": "stream",
     "text": [
      "┌ Info:           182.920042s: 3 minutes, 2 seconds, 920 milliseconds\n",
      "└ @ TickTock C:\\Users\\vbansal5\\.julia\\packages\\TickTock\\fGILW\\src\\TickTock.jl:62\n",
      "┌ Info:  started timer at: 2023-03-14T14:34:41.917\n",
      "└ @ TickTock C:\\Users\\vbansal5\\.julia\\packages\\TickTock\\fGILW\\src\\TickTock.jl:54\n"
     ]
    },
    {
     "name": "stdout",
     "output_type": "stream",
     "text": [
      "[0, -800, -200, -1000]\n",
      "Finding best (n, m, N) policy...\n",
      "Max rewards is -19305.993059805456  n is 3 m is 4  N is 4\n"
     ]
    },
    {
     "name": "stderr",
     "output_type": "stream",
     "text": [
      "┌ Info:          191.9146226s: 3 minutes, 11 seconds, 914 milliseconds\n",
      "└ @ TickTock C:\\Users\\vbansal5\\.julia\\packages\\TickTock\\fGILW\\src\\TickTock.jl:62\n"
     ]
    },
    {
     "name": "stdout",
     "output_type": "stream",
     "text": [
      "40[0"
     ]
    },
    {
     "name": "stderr",
     "output_type": "stream",
     "text": [
      "┌ Info:  started timer at: 2023-03-14T14:37:53.832\n",
      "└ @ TickTock C:\\Users\\vbansal5\\.julia\\packages\\TickTock\\fGILW\\src\\TickTock.jl:54\n"
     ]
    },
    {
     "name": "stdout",
     "output_type": "stream",
     "text": [
      ", -1000, -200, -1000]\n",
      "Finding best (n, m, N) policy...\n",
      "Max rewards is -20446.603288452632  n is 3 m is 4  N is 4\n",
      "40[0, "
     ]
    },
    {
     "name": "stderr",
     "output_type": "stream",
     "text": [
      "┌ Info:          194.5425326s: 3 minutes, 14 seconds, 542 milliseconds\n",
      "└ @ TickTock C:\\Users\\vbansal5\\.julia\\packages\\TickTock\\fGILW\\src\\TickTock.jl:62\n",
      "┌ Info:  started timer at: 2023-03-14T14:41:08.375\n",
      "└ @ TickTock C:\\Users\\vbansal5\\.julia\\packages\\TickTock\\fGILW\\src\\TickTock.jl:54\n"
     ]
    },
    {
     "name": "stdout",
     "output_type": "stream",
     "text": [
      "-1200, -200, -1000]\n",
      "Finding best (n, m, N) policy...\n",
      "Max rewards is -21557.024038006028  n is 3 m is 4  N is 4\n",
      "40"
     ]
    },
    {
     "name": "stderr",
     "output_type": "stream",
     "text": [
      "┌ Info:          178.6095876s: 2 minutes, 58 seconds, 609 milliseconds\n",
      "└ @ TickTock C:\\Users\\vbansal5\\.julia\\packages\\TickTock\\fGILW\\src\\TickTock.jl:62\n",
      "┌ Info:  started timer at: 2023-03-14T14:44:06.985\n",
      "└ @ TickTock C:\\Users\\vbansal5\\.julia\\packages\\TickTock\\fGILW\\src\\TickTock.jl:54\n"
     ]
    },
    {
     "name": "stdout",
     "output_type": "stream",
     "text": [
      "[0, -1400, -200, -1000]\n",
      "Finding best (n, m, N) policy...\n",
      "Max rewards is -22667.821326784037  n is 3 m is 4  N is 4\n"
     ]
    },
    {
     "name": "stderr",
     "output_type": "stream",
     "text": [
      "┌ Info:          183.0144106s: 3 minutes, 3 seconds, 14 milliseconds\n",
      "└ @ TickTock C:\\Users\\vbansal5\\.julia\\packages\\TickTock\\fGILW\\src\\TickTock.jl:62\n"
     ]
    },
    {
     "name": "stdout",
     "output_type": "stream",
     "text": [
      "40[0,"
     ]
    },
    {
     "name": "stderr",
     "output_type": "stream",
     "text": [
      "┌ Info:  started timer at: 2023-03-14T14:47:10.056\n",
      "└ @ TickTock C:\\Users\\vbansal5\\.julia\\packages\\TickTock\\fGILW\\src\\TickTock.jl:54\n"
     ]
    },
    {
     "name": "stdout",
     "output_type": "stream",
     "text": [
      " -1600, -200, -1000]\n",
      "Finding best (n, m, N) policy...\n",
      "Max rewards is -23811.309471477594  n is 3 m is 4  N is 4\n",
      "50["
     ]
    },
    {
     "name": "stderr",
     "output_type": "stream",
     "text": [
      "┌ Info:          190.0854927s: 3 minutes, 10 seconds, 85 milliseconds\n",
      "└ @ TickTock C:\\Users\\vbansal5\\.julia\\packages\\TickTock\\fGILW\\src\\TickTock.jl:62\n",
      "┌ Info:  started timer at: 2023-03-14T14:50:20.181\n",
      "└ @ TickTock C:\\Users\\vbansal5\\.julia\\packages\\TickTock\\fGILW\\src\\TickTock.jl:54\n"
     ]
    },
    {
     "name": "stdout",
     "output_type": "stream",
     "text": [
      "0, -200, -200, -1000]\n",
      "Finding best (n, m, N) policy...\n",
      "Max rewards is -14618.312366304257  n is 3 m is 3  N is 4\n",
      "50["
     ]
    },
    {
     "name": "stderr",
     "output_type": "stream",
     "text": [
      "┌ Info:          233.1796319s: 3 minutes, 53 seconds, 179 milliseconds\n",
      "└ @ TickTock C:\\Users\\vbansal5\\.julia\\packages\\TickTock\\fGILW\\src\\TickTock.jl:62\n",
      "┌ Info:  started timer at: 2023-03-14T14:54:13.399\n",
      "└ @ TickTock C:\\Users\\vbansal5\\.julia\\packages\\TickTock\\fGILW\\src\\TickTock.jl:54\n"
     ]
    },
    {
     "name": "stdout",
     "output_type": "stream",
     "text": [
      "0, -400, -200, -1000]\n",
      "Finding best (n, m, N) policy...\n",
      "Max rewards is -17595.739498238534  n is 3 m is 3  N is 4\n",
      "50["
     ]
    },
    {
     "name": "stderr",
     "output_type": "stream",
     "text": [
      "┌ Info:          254.8404328s: 4 minutes, 14 seconds, 840 milliseconds\n",
      "└ @ TickTock C:\\Users\\vbansal5\\.julia\\packages\\TickTock\\fGILW\\src\\TickTock.jl:62\n",
      "┌ Info:  started timer at: 2023-03-14T14:58:28.337\n",
      "└ @ TickTock C:\\Users\\vbansal5\\.julia\\packages\\TickTock\\fGILW\\src\\TickTock.jl:54\n"
     ]
    },
    {
     "name": "stdout",
     "output_type": "stream",
     "text": [
      "0, -600, -200, -1000]\n",
      "Finding best (n, m, N) policy...\n",
      "Max rewards is -20577.03950182584  n is 3 m is 3  N is 4\n"
     ]
    },
    {
     "name": "stderr",
     "output_type": "stream",
     "text": [
      "┌ Info:          241.6696633s: 4 minutes, 1 second, 669 milliseconds\n",
      "└ @ TickTock C:\\Users\\vbansal5\\.julia\\packages\\TickTock\\fGILW\\src\\TickTock.jl:62\n"
     ]
    },
    {
     "name": "stdout",
     "output_type": "stream",
     "text": [
      "50["
     ]
    },
    {
     "name": "stderr",
     "output_type": "stream",
     "text": [
      "┌ Info:  started timer at: 2023-03-14T15:02:30.026\n",
      "└ @ TickTock C:\\Users\\vbansal5\\.julia\\packages\\TickTock\\fGILW\\src\\TickTock.jl:54\n"
     ]
    },
    {
     "name": "stdout",
     "output_type": "stream",
     "text": [
      "0, -800, -200, -1000]\n",
      "Finding best (n, m, N) policy...\n",
      "Max rewards is -22727.84355145104  n is 3 m is 4  N is 4\n",
      "50[0,"
     ]
    },
    {
     "name": "stderr",
     "output_type": "stream",
     "text": [
      "┌ Info:           245.898941s: 4 minutes, 5 seconds, 898 milliseconds\n",
      "└ @ TickTock C:\\Users\\vbansal5\\.julia\\packages\\TickTock\\fGILW\\src\\TickTock.jl:62\n",
      "┌ Info:  started timer at: 2023-03-14T15:06:35.959\n",
      "└ @ TickTock C:\\Users\\vbansal5\\.julia\\packages\\TickTock\\fGILW\\src\\TickTock.jl:54\n"
     ]
    },
    {
     "name": "stdout",
     "output_type": "stream",
     "text": [
      " -1000, -200, -1000]\n",
      "Finding best (n, m, N) policy...\n",
      "Max rewards is -23935.110063680113  n is 3 m is 4  N is 4\n",
      "50[0, -1200, -200, -1000]\n",
      "Finding best (n, m, N) policy...\n"
     ]
    },
    {
     "name": "stderr",
     "output_type": "stream",
     "text": [
      "┌ Info:          249.6329171s: 4 minutes, 9 seconds, 632 milliseconds\n",
      "└ @ TickTock C:\\Users\\vbansal5\\.julia\\packages\\TickTock\\fGILW\\src\\TickTock.jl:62\n",
      "┌ Info:  started timer at: 2023-03-14T15:10:45.593\n",
      "└ @ TickTock C:\\Users\\vbansal5\\.julia\\packages\\TickTock\\fGILW\\src\\TickTock.jl:54\n"
     ]
    },
    {
     "name": "stdout",
     "output_type": "stream",
     "text": [
      "Max rewards is -25151.988260278475  n is 3 m is 4  N is 4\n"
     ]
    },
    {
     "name": "stderr",
     "output_type": "stream",
     "text": [
      "┌ Info:          249.0704434s: 4 minutes, 9 seconds, 70 milliseconds\n",
      "└ @ TickTock C:\\Users\\vbansal5\\.julia\\packages\\TickTock\\fGILW\\src\\TickTock.jl:62\n"
     ]
    },
    {
     "name": "stdout",
     "output_type": "stream",
     "text": [
      "50"
     ]
    },
    {
     "name": "stderr",
     "output_type": "stream",
     "text": [
      "┌ Info:  started timer at: 2023-03-14T15:14:54.663\n",
      "└ @ TickTock C:\\Users\\vbansal5\\.julia\\packages\\TickTock\\fGILW\\src\\TickTock.jl:54\n"
     ]
    },
    {
     "name": "stdout",
     "output_type": "stream",
     "text": [
      "[0, -1400, -200, -1000]\n",
      "Finding best (n, m, N) policy...\n",
      "Max rewards is -26390.11231716474  n is 3 m is 4  N is 4\n",
      "50[0, -1600, -200, -1000]\n",
      "Finding best (n, m, N) policy...\n"
     ]
    },
    {
     "name": "stderr",
     "output_type": "stream",
     "text": [
      "┌ Info:           245.297855s: 4 minutes, 5 seconds, 297 milliseconds\n",
      "└ @ TickTock C:\\Users\\vbansal5\\.julia\\packages\\TickTock\\fGILW\\src\\TickTock.jl:62\n",
      "┌ Info:  started timer at: 2023-03-14T15:18:59.961\n",
      "└ @ TickTock C:\\Users\\vbansal5\\.julia\\packages\\TickTock\\fGILW\\src\\TickTock.jl:54\n"
     ]
    },
    {
     "name": "stdout",
     "output_type": "stream",
     "text": [
      "Max rewards is -27559.278559655213  n is 3 m is 4  N is 4\n",
      "60[0, "
     ]
    },
    {
     "name": "stderr",
     "output_type": "stream",
     "text": [
      "┌ Info:          264.8359923s: 4 minutes, 24 seconds, 835 milliseconds\n",
      "└ @ TickTock C:\\Users\\vbansal5\\.julia\\packages\\TickTock\\fGILW\\src\\TickTock.jl:62\n",
      "┌ Info:  started timer at: 2023-03-14T15:23:24.820\n",
      "└ @ TickTock C:\\Users\\vbansal5\\.julia\\packages\\TickTock\\fGILW\\src\\TickTock.jl:54\n"
     ]
    },
    {
     "name": "stdout",
     "output_type": "stream",
     "text": [
      "-200, -200, -1000]\n",
      "Finding best (n, m, N) policy...\n",
      "Max rewards is -17023.051881148287  n is 3 m is 3  N is 4\n",
      "60"
     ]
    },
    {
     "name": "stderr",
     "output_type": "stream",
     "text": [
      "┌ Info:          289.0397492s: 4 minutes, 49 seconds, 39 milliseconds\n",
      "└ @ TickTock C:\\Users\\vbansal5\\.julia\\packages\\TickTock\\fGILW\\src\\TickTock.jl:62\n",
      "┌ Info:  started timer at: 2023-03-14T15:28:13.860\n",
      "└ @ TickTock C:\\Users\\vbansal5\\.julia\\packages\\TickTock\\fGILW\\src\\TickTock.jl:54\n"
     ]
    },
    {
     "name": "stdout",
     "output_type": "stream",
     "text": [
      "[0, -400, -200, -1000]\n",
      "Finding best (n, m, N) policy...\n",
      "Max rewards is -20157.338464718723  n is 3 m is 3  N is 4\n"
     ]
    },
    {
     "name": "stderr",
     "output_type": "stream",
     "text": [
      "┌ Info:          278.6215879s: 4 minutes, 38 seconds, 621 milliseconds\n",
      "└ @ TickTock C:\\Users\\vbansal5\\.julia\\packages\\TickTock\\fGILW\\src\\TickTock.jl:62\n"
     ]
    },
    {
     "name": "stdout",
     "output_type": "stream",
     "text": [
      "60[0, -600"
     ]
    },
    {
     "name": "stderr",
     "output_type": "stream",
     "text": [
      "┌ Info:  started timer at: 2023-03-14T15:32:52.515\n",
      "└ @ TickTock C:\\Users\\vbansal5\\.julia\\packages\\TickTock\\fGILW\\src\\TickTock.jl:54\n"
     ]
    },
    {
     "name": "stdout",
     "output_type": "stream",
     "text": [
      ", -200, -1000]\n",
      "Finding best (n, m, N) policy...\n",
      "Max rewards is -23326.384755048824  n is 3 m is 3  N is 4\n",
      "60[0, -800, -200, -1000]\n",
      "Finding best (n, m, N) policy...\n"
     ]
    },
    {
     "name": "stderr",
     "output_type": "stream",
     "text": [
      "┌ Info:          237.4653331s: 3 minutes, 57 seconds, 465 milliseconds\n",
      "└ @ TickTock C:\\Users\\vbansal5\\.julia\\packages\\TickTock\\fGILW\\src\\TickTock.jl:62\n",
      "┌ Info:  started timer at: 2023-03-14T15:36:49.991\n",
      "└ @ TickTock C:\\Users\\vbansal5\\.julia\\packages\\TickTock\\fGILW\\src\\TickTock.jl:54\n"
     ]
    },
    {
     "name": "stdout",
     "output_type": "stream",
     "text": [
      "Max rewards is -25996.602969348176  n is 3 m is 4  N is 4\n"
     ]
    },
    {
     "name": "stderr",
     "output_type": "stream",
     "text": [
      "┌ Info:          226.7256457s: 3 minutes, 46 seconds, 725 milliseconds\n",
      "└ @ TickTock C:\\Users\\vbansal5\\.julia\\packages\\TickTock\\fGILW\\src\\TickTock.jl:62\n"
     ]
    },
    {
     "name": "stdout",
     "output_type": "stream",
     "text": [
      "60[0, -1000, -200, -1000]\n",
      "Finding best (n, m, N) policy...\n"
     ]
    },
    {
     "name": "stderr",
     "output_type": "stream",
     "text": [
      "┌ Info:  started timer at: 2023-03-14T15:40:36.733\n",
      "└ @ TickTock C:\\Users\\vbansal5\\.julia\\packages\\TickTock\\fGILW\\src\\TickTock.jl:54\n"
     ]
    },
    {
     "name": "stdout",
     "output_type": "stream",
     "text": [
      "Max rewards is -27283.108091003705  n is 3 m is 4  N is 4\n"
     ]
    },
    {
     "name": "stderr",
     "output_type": "stream",
     "text": [
      "┌ Info:          222.5564918s: 3 minutes, 42 seconds, 556 milliseconds\n",
      "└ @ TickTock C:\\Users\\vbansal5\\.julia\\packages\\TickTock\\fGILW\\src\\TickTock.jl:62\n",
      "┌ Info:  started timer at: 2023-03-14T15:44:19.303\n",
      "└ @ TickTock C:\\Users\\vbansal5\\.julia\\packages\\TickTock\\fGILW\\src\\TickTock.jl:54\n"
     ]
    },
    {
     "name": "stdout",
     "output_type": "stream",
     "text": [
      "60[0, -1200, -200, -1000]\n",
      "Finding best (n, m, N) policy...\n",
      "Max rewards is -28581.24209661486  n is 3 m is 4  N is 4\n",
      "60["
     ]
    },
    {
     "name": "stderr",
     "output_type": "stream",
     "text": [
      "┌ Info:          222.5023694s: 3 minutes, 42 seconds, 502 milliseconds\n",
      "└ @ TickTock C:\\Users\\vbansal5\\.julia\\packages\\TickTock\\fGILW\\src\\TickTock.jl:62\n",
      "┌ Info:  started timer at: 2023-03-14T15:48:01.871\n",
      "└ @ TickTock C:\\Users\\vbansal5\\.julia\\packages\\TickTock\\fGILW\\src\\TickTock.jl:54\n"
     ]
    },
    {
     "name": "stdout",
     "output_type": "stream",
     "text": [
      "0, -1400, -200, -1000]\n",
      "Finding best (n, m, N) policy...\n",
      "Max rewards is -29852.969555321586  n is 3 m is 4  N is 4\n"
     ]
    },
    {
     "name": "stderr",
     "output_type": "stream",
     "text": [
      "┌ Info:          225.5731112s: 3 minutes, 45 seconds, 573 milliseconds\n",
      "└ @ TickTock C:\\Users\\vbansal5\\.julia\\packages\\TickTock\\fGILW\\src\\TickTock.jl:62\n"
     ]
    },
    {
     "name": "stdout",
     "output_type": "stream",
     "text": [
      "60"
     ]
    },
    {
     "name": "stderr",
     "output_type": "stream",
     "text": [
      "┌ Info:  started timer at: 2023-03-14T15:51:47.512\n",
      "└ @ TickTock C:\\Users\\vbansal5\\.julia\\packages\\TickTock\\fGILW\\src\\TickTock.jl:54\n"
     ]
    },
    {
     "name": "stdout",
     "output_type": "stream",
     "text": [
      "[0, -1600, -200, -1000]\n",
      "Finding best (n, m, N) policy...\n",
      "Max rewards is -31157.41309784741  n is 3 m is 4  N is 4\n",
      "70[0, -200, -200, -1000]\n",
      "Finding best (n, m, N) policy...\n"
     ]
    },
    {
     "name": "stderr",
     "output_type": "stream",
     "text": [
      "┌ Info:          223.5976749s: 3 minutes, 43 seconds, 597 milliseconds\n",
      "└ @ TickTock C:\\Users\\vbansal5\\.julia\\packages\\TickTock\\fGILW\\src\\TickTock.jl:62\n",
      "┌ Info:  started timer at: 2023-03-14T15:55:31.117\n",
      "└ @ TickTock C:\\Users\\vbansal5\\.julia\\packages\\TickTock\\fGILW\\src\\TickTock.jl:54\n"
     ]
    },
    {
     "name": "stdout",
     "output_type": "stream",
     "text": [
      "Max rewards is -19377.758528689505  n is 3 m is 3  N is 4\n",
      "70[0,"
     ]
    },
    {
     "name": "stderr",
     "output_type": "stream",
     "text": [
      "┌ Info:          253.5065025s: 4 minutes, 13 seconds, 506 milliseconds\n",
      "└ @ TickTock C:\\Users\\vbansal5\\.julia\\packages\\TickTock\\fGILW\\src\\TickTock.jl:62\n",
      "┌ Info:  started timer at: 2023-03-14T15:59:44.624\n",
      "└ @ TickTock C:\\Users\\vbansal5\\.julia\\packages\\TickTock\\fGILW\\src\\TickTock.jl:54\n"
     ]
    },
    {
     "name": "stdout",
     "output_type": "stream",
     "text": [
      " -400, -200, -1000]\n",
      "Finding best (n, m, N) policy...\n",
      "Max rewards is -22620.37233862549  n is 3 m is 3  N is 4\n",
      "70[0, -600, -200, -1000]\n"
     ]
    },
    {
     "name": "stderr",
     "output_type": "stream",
     "text": [
      "┌ Info:          254.3521051s: 4 minutes, 14 seconds, 352 milliseconds\n",
      "└ @ TickTock C:\\Users\\vbansal5\\.julia\\packages\\TickTock\\fGILW\\src\\TickTock.jl:62\n",
      "┌ Info:  started timer at: 2023-03-14T16:03:59.003\n",
      "└ @ TickTock C:\\Users\\vbansal5\\.julia\\packages\\TickTock\\fGILW\\src\\TickTock.jl:54\n"
     ]
    },
    {
     "name": "stdout",
     "output_type": "stream",
     "text": [
      "Finding best (n, m, N) policy...\n",
      "Max rewards is -25946.525282207847  n is 3 m is 3  N is 4\n",
      "70[0, -800, -200, -1000]\n",
      "Finding best (n, m, N) policy...\n"
     ]
    },
    {
     "name": "stderr",
     "output_type": "stream",
     "text": [
      "┌ Info:          258.7425364s: 4 minutes, 18 seconds, 742 milliseconds\n",
      "└ @ TickTock C:\\Users\\vbansal5\\.julia\\packages\\TickTock\\fGILW\\src\\TickTock.jl:62\n",
      "┌ Info:  started timer at: 2023-03-14T16:08:17.753\n",
      "└ @ TickTock C:\\Users\\vbansal5\\.julia\\packages\\TickTock\\fGILW\\src\\TickTock.jl:54\n"
     ]
    },
    {
     "name": "stdout",
     "output_type": "stream",
     "text": [
      "Max rewards is -29203.608319167364  n is 3 m is 3  N is 4\n",
      "70[0, -1000, -200, -1000]\n"
     ]
    },
    {
     "name": "stderr",
     "output_type": "stream",
     "text": [
      "┌ Info:          253.0237835s: 4 minutes, 13 seconds, 23 milliseconds\n",
      "└ @ TickTock C:\\Users\\vbansal5\\.julia\\packages\\TickTock\\fGILW\\src\\TickTock.jl:62\n",
      "┌ Info:  started timer at: 2023-03-14T16:12:30.806\n",
      "└ @ TickTock C:\\Users\\vbansal5\\.julia\\packages\\TickTock\\fGILW\\src\\TickTock.jl:54\n"
     ]
    },
    {
     "name": "stdout",
     "output_type": "stream",
     "text": [
      "Finding best (n, m, N) policy...\n",
      "Max rewards is -30520.895311259294  n is 3 m is 4  N is 4\n",
      "70[0,"
     ]
    },
    {
     "name": "stderr",
     "output_type": "stream",
     "text": [
      "┌ Info:          255.3530397s: 4 minutes, 15 seconds, 353 milliseconds\n",
      "└ @ TickTock C:\\Users\\vbansal5\\.julia\\packages\\TickTock\\fGILW\\src\\TickTock.jl:62\n",
      "┌ Info:  started timer at: 2023-03-14T16:16:46.159\n",
      "└ @ TickTock C:\\Users\\vbansal5\\.julia\\packages\\TickTock\\fGILW\\src\\TickTock.jl:54\n"
     ]
    },
    {
     "name": "stdout",
     "output_type": "stream",
     "text": [
      " -1200, -200, -1000]\n",
      "Finding best (n, m, N) policy...\n",
      "Max rewards is -31881.301418025138  n is 3 m is 4  N is 4\n"
     ]
    },
    {
     "name": "stderr",
     "output_type": "stream",
     "text": [
      "┌ Info:          252.8843718s: 4 minutes, 12 seconds, 884 milliseconds\n",
      "└ @ TickTock C:\\Users\\vbansal5\\.julia\\packages\\TickTock\\fGILW\\src\\TickTock.jl:62\n"
     ]
    },
    {
     "name": "stdout",
     "output_type": "stream",
     "text": [
      "70[0, -1400, -200, -1000]\n",
      "Finding best (n, m, N) policy..."
     ]
    },
    {
     "name": "stderr",
     "output_type": "stream",
     "text": [
      "┌ Info:  started timer at: 2023-03-14T16:20:59.068\n",
      "└ @ TickTock C:\\Users\\vbansal5\\.julia\\packages\\TickTock\\fGILW\\src\\TickTock.jl:54\n"
     ]
    },
    {
     "name": "stdout",
     "output_type": "stream",
     "text": [
      "\n",
      "Max rewards is -33234.11409612036  n is 3 m is 4  N is 4\n",
      "70[0"
     ]
    },
    {
     "name": "stderr",
     "output_type": "stream",
     "text": [
      "┌ Info:          258.2279661s: 4 minutes, 18 seconds, 227 milliseconds\n",
      "└ @ TickTock C:\\Users\\vbansal5\\.julia\\packages\\TickTock\\fGILW\\src\\TickTock.jl:62\n",
      "┌ Info:  started timer at: 2023-03-14T16:25:17.295\n",
      "└ @ TickTock C:\\Users\\vbansal5\\.julia\\packages\\TickTock\\fGILW\\src\\TickTock.jl:54\n"
     ]
    },
    {
     "name": "stdout",
     "output_type": "stream",
     "text": [
      ", -1600, -200, -1000]\n",
      "Finding best (n, m, N) policy...\n",
      "Max rewards is -34560.941447830155  n is 3 m is 4  N is 4\n",
      "80"
     ]
    },
    {
     "name": "stderr",
     "output_type": "stream",
     "text": [
      "┌ Info:          253.5098835s: 4 minutes, 13 seconds, 509 milliseconds\n",
      "└ @ TickTock C:\\Users\\vbansal5\\.julia\\packages\\TickTock\\fGILW\\src\\TickTock.jl:62\n",
      "┌ Info:  started timer at: 2023-03-14T16:29:30.817\n",
      "└ @ TickTock C:\\Users\\vbansal5\\.julia\\packages\\TickTock\\fGILW\\src\\TickTock.jl:54\n"
     ]
    },
    {
     "name": "stdout",
     "output_type": "stream",
     "text": [
      "[0, -200, -200, -1000]\n",
      "Finding best (n, m, N) policy...\n",
      "Max rewards is -21675.436747168522  n is 3 m is 3  N is 4\n",
      "80["
     ]
    },
    {
     "name": "stderr",
     "output_type": "stream",
     "text": [
      "┌ Info:          285.5863688s: 4 minutes, 45 seconds, 586 milliseconds\n",
      "└ @ TickTock C:\\Users\\vbansal5\\.julia\\packages\\TickTock\\fGILW\\src\\TickTock.jl:62\n",
      "┌ Info:  started timer at: 2023-03-14T16:34:16.406\n",
      "└ @ TickTock C:\\Users\\vbansal5\\.julia\\packages\\TickTock\\fGILW\\src\\TickTock.jl:54\n"
     ]
    },
    {
     "name": "stdout",
     "output_type": "stream",
     "text": [
      "0, -400, -200, -1000]\n",
      "Finding best (n, m, N) policy...\n",
      "Max rewards is -25066.76205107373  n is 3 m is 3  N is 4\n",
      "80["
     ]
    },
    {
     "name": "stderr",
     "output_type": "stream",
     "text": [
      "┌ Info:          281.3920771s: 4 minutes, 41 seconds, 392 milliseconds\n",
      "└ @ TickTock C:\\Users\\vbansal5\\.julia\\packages\\TickTock\\fGILW\\src\\TickTock.jl:62\n",
      "┌ Info:  started timer at: 2023-03-14T16:38:57.810\n",
      "└ @ TickTock C:\\Users\\vbansal5\\.julia\\packages\\TickTock\\fGILW\\src\\TickTock.jl:54\n"
     ]
    },
    {
     "name": "stdout",
     "output_type": "stream",
     "text": [
      "0, -600, -200, -1000]\n",
      "Finding best (n, m, N) policy...\n",
      "Max rewards is -28415.312092875403  n is 3 m is 3  N is 4\n",
      "80"
     ]
    },
    {
     "name": "stderr",
     "output_type": "stream",
     "text": [
      "┌ Info:          281.9815741s: 4 minutes, 41 seconds, 981 milliseconds\n",
      "└ @ TickTock C:\\Users\\vbansal5\\.julia\\packages\\TickTock\\fGILW\\src\\TickTock.jl:62\n",
      "┌ Info:  started timer at: 2023-03-14T16:43:39.792\n",
      "└ @ TickTock C:\\Users\\vbansal5\\.julia\\packages\\TickTock\\fGILW\\src\\TickTock.jl:54\n"
     ]
    },
    {
     "name": "stdout",
     "output_type": "stream",
     "text": [
      "[0, -800, -200, -1000]\n",
      "Finding best (n, m, N) policy...\n",
      "Max rewards is -31796.393118963944  n is 3 m is 3  N is 4\n"
     ]
    },
    {
     "name": "stderr",
     "output_type": "stream",
     "text": [
      "┌ Info:          285.4223385s: 4 minutes, 45 seconds, 422 milliseconds\n",
      "└ @ TickTock C:\\Users\\vbansal5\\.julia\\packages\\TickTock\\fGILW\\src\\TickTock.jl:62\n"
     ]
    },
    {
     "name": "stdout",
     "output_type": "stream",
     "text": [
      "80[0, -1000, -200, -1000]\n",
      "Finding best (n, m, N) policy...\n"
     ]
    },
    {
     "name": "stderr",
     "output_type": "stream",
     "text": [
      "┌ Info:  started timer at: 2023-03-14T16:48:25.227\n",
      "└ @ TickTock C:\\Users\\vbansal5\\.julia\\packages\\TickTock\\fGILW\\src\\TickTock.jl:54\n"
     ]
    },
    {
     "name": "stdout",
     "output_type": "stream",
     "text": [
      "Max rewards is -33770.16770385346  n is 3 m is 4  N is 4\n",
      "80[0, -1200, -200, -1000]\n",
      "Finding best (n, m, N) policy...\n"
     ]
    },
    {
     "name": "stderr",
     "output_type": "stream",
     "text": [
      "┌ Info:          283.3574232s: 4 minutes, 43 seconds, 357 milliseconds\n",
      "└ @ TickTock C:\\Users\\vbansal5\\.julia\\packages\\TickTock\\fGILW\\src\\TickTock.jl:62\n",
      "┌ Info:  started timer at: 2023-03-14T16:53:08.586\n",
      "└ @ TickTock C:\\Users\\vbansal5\\.julia\\packages\\TickTock\\fGILW\\src\\TickTock.jl:54\n"
     ]
    },
    {
     "name": "stdout",
     "output_type": "stream",
     "text": [
      "Max rewards is -35127.05318968891  n is 3 m is 4  N is 4\n",
      "80[0, -1400, -200, -1000]\n",
      "Finding best (n, m, N) policy...\n"
     ]
    },
    {
     "name": "stderr",
     "output_type": "stream",
     "text": [
      "┌ Info:          284.7302265s: 4 minutes, 44 seconds, 730 milliseconds\n",
      "└ @ TickTock C:\\Users\\vbansal5\\.julia\\packages\\TickTock\\fGILW\\src\\TickTock.jl:62\n",
      "┌ Info:  started timer at: 2023-03-14T16:57:53.327\n",
      "└ @ TickTock C:\\Users\\vbansal5\\.julia\\packages\\TickTock\\fGILW\\src\\TickTock.jl:54\n"
     ]
    },
    {
     "name": "stdout",
     "output_type": "stream",
     "text": [
      "Max rewards is -36501.38075199096  n is 3 m is 4  N is 4\n",
      "80[0"
     ]
    },
    {
     "name": "stderr",
     "output_type": "stream",
     "text": [
      "┌ Info:          284.3017087s: 4 minutes, 44 seconds, 301 milliseconds\n",
      "└ @ TickTock C:\\Users\\vbansal5\\.julia\\packages\\TickTock\\fGILW\\src\\TickTock.jl:62\n",
      "┌ Info:  started timer at: 2023-03-14T17:02:37.639\n",
      "└ @ TickTock C:\\Users\\vbansal5\\.julia\\packages\\TickTock\\fGILW\\src\\TickTock.jl:54\n"
     ]
    },
    {
     "name": "stdout",
     "output_type": "stream",
     "text": [
      ", -1600, -200, -1000]\n",
      "Finding best (n, m, N) policy...\n",
      "Max rewards is -37903.36864667871  n is 3 m is 4  N is 4\n",
      "100[0, -200, -200, -1000]\n",
      "Finding best (n, m, N) policy...\n"
     ]
    },
    {
     "name": "stderr",
     "output_type": "stream",
     "text": [
      "┌ Info:          289.3432069s: 4 minutes, 49 seconds, 343 milliseconds\n",
      "└ @ TickTock C:\\Users\\vbansal5\\.julia\\packages\\TickTock\\fGILW\\src\\TickTock.jl:62\n",
      "┌ Info:  started timer at: 2023-03-14T17:07:27.005\n",
      "└ @ TickTock C:\\Users\\vbansal5\\.julia\\packages\\TickTock\\fGILW\\src\\TickTock.jl:54\n"
     ]
    },
    {
     "name": "stdout",
     "output_type": "stream",
     "text": [
      "Max rewards is -26265.20722274351  n is 3 m is 3  N is 4\n",
      "100"
     ]
    },
    {
     "name": "stderr",
     "output_type": "stream",
     "text": [
      "┌ Info:          341.9179063s: 5 minutes, 41 seconds, 917 milliseconds\n",
      "└ @ TickTock C:\\Users\\vbansal5\\.julia\\packages\\TickTock\\fGILW\\src\\TickTock.jl:62\n",
      "┌ Info:  started timer at: 2023-03-14T17:13:08.934\n",
      "└ @ TickTock C:\\Users\\vbansal5\\.julia\\packages\\TickTock\\fGILW\\src\\TickTock.jl:54\n"
     ]
    },
    {
     "name": "stdout",
     "output_type": "stream",
     "text": [
      "[0, -400, -200, -1000]\n",
      "Finding best (n, m, N) policy...\n",
      "Max rewards is -29742.27136236305  n is 3 m is 3  N is 4\n",
      "100["
     ]
    },
    {
     "name": "stderr",
     "output_type": "stream",
     "text": [
      "┌ Info:          343.3385974s: 5 minutes, 43 seconds, 338 milliseconds\n",
      "└ @ TickTock C:\\Users\\vbansal5\\.julia\\packages\\TickTock\\fGILW\\src\\TickTock.jl:62\n",
      "┌ Info:  started timer at: 2023-03-14T17:18:52.282\n",
      "└ @ TickTock C:\\Users\\vbansal5\\.julia\\packages\\TickTock\\fGILW\\src\\TickTock.jl:54\n"
     ]
    },
    {
     "name": "stdout",
     "output_type": "stream",
     "text": [
      "0, -600, -200, -1000]\n",
      "Finding best (n, m, N) policy...\n",
      "Max rewards is -33221.287447423056  n is 3 m is 3  N is 4\n",
      "100[0, -800, -200, -1000]\n",
      "Finding best (n, m, N) policy...\n"
     ]
    },
    {
     "name": "stderr",
     "output_type": "stream",
     "text": [
      "┌ Info:          341.8576854s: 5 minutes, 41 seconds, 857 milliseconds\n",
      "└ @ TickTock C:\\Users\\vbansal5\\.julia\\packages\\TickTock\\fGILW\\src\\TickTock.jl:62\n",
      "┌ Info:  started timer at: 2023-03-14T17:24:34.144\n",
      "└ @ TickTock C:\\Users\\vbansal5\\.julia\\packages\\TickTock\\fGILW\\src\\TickTock.jl:54\n"
     ]
    },
    {
     "name": "stdout",
     "output_type": "stream",
     "text": [
      "Max rewards is -36671.54311971708  n is 3 m is 3  N is 4\n",
      "100[0, -1000, -200, -1000]\n",
      "Finding best (n, m, N) policy...\n"
     ]
    },
    {
     "name": "stderr",
     "output_type": "stream",
     "text": [
      "┌ Info:          256.4833861s: 4 minutes, 16 seconds, 483 milliseconds\n",
      "└ @ TickTock C:\\Users\\vbansal5\\.julia\\packages\\TickTock\\fGILW\\src\\TickTock.jl:62\n",
      "┌ Info:  started timer at: 2023-03-14T17:28:50.639\n",
      "└ @ TickTock C:\\Users\\vbansal5\\.julia\\packages\\TickTock\\fGILW\\src\\TickTock.jl:54\n"
     ]
    },
    {
     "name": "stdout",
     "output_type": "stream",
     "text": [
      "Max rewards is -39892.27809449711  n is 3 m is 4  N is 4\n",
      "100[0, -1200, -200, -1000]\n",
      "Finding best (n, m, N) policy...\n"
     ]
    },
    {
     "name": "stderr",
     "output_type": "stream",
     "text": [
      "┌ Info:          245.3289729s: 4 minutes, 5 seconds, 328 milliseconds\n",
      "└ @ TickTock C:\\Users\\vbansal5\\.julia\\packages\\TickTock\\fGILW\\src\\TickTock.jl:62\n",
      "┌ Info:  started timer at: 2023-03-14T17:32:55.978\n",
      "└ @ TickTock C:\\Users\\vbansal5\\.julia\\packages\\TickTock\\fGILW\\src\\TickTock.jl:54\n"
     ]
    },
    {
     "name": "stdout",
     "output_type": "stream",
     "text": [
      "Max rewards is -41408.087470558974  n is 3 m is 4  N is 4\n",
      "100[0, -1400, -200, -1000]\n",
      "Finding best (n, m, N) policy...\n"
     ]
    },
    {
     "name": "stderr",
     "output_type": "stream",
     "text": [
      "┌ Info:          261.3753812s: 4 minutes, 21 seconds, 375 milliseconds\n",
      "└ @ TickTock C:\\Users\\vbansal5\\.julia\\packages\\TickTock\\fGILW\\src\\TickTock.jl:62\n",
      "┌ Info:  started timer at: 2023-03-14T17:37:17.353\n",
      "└ @ TickTock C:\\Users\\vbansal5\\.julia\\packages\\TickTock\\fGILW\\src\\TickTock.jl:54\n"
     ]
    },
    {
     "name": "stdout",
     "output_type": "stream",
     "text": [
      "Max rewards is -42863.00129614383  n is 3 m is 4  N is 4\n",
      "100[0, -1600, -200, -1000]\n",
      "Finding best (n, m, N) policy...\n"
     ]
    },
    {
     "name": "stderr",
     "output_type": "stream",
     "text": [
      "┌ Info:          247.9919419s: 4 minutes, 7 seconds, 991 milliseconds\n",
      "└ @ TickTock C:\\Users\\vbansal5\\.julia\\packages\\TickTock\\fGILW\\src\\TickTock.jl:62\n",
      "┌ Info:  started timer at: 2023-03-14T17:41:25.355\n",
      "└ @ TickTock C:\\Users\\vbansal5\\.julia\\packages\\TickTock\\fGILW\\src\\TickTock.jl:54\n"
     ]
    },
    {
     "name": "stdout",
     "output_type": "stream",
     "text": [
      "Max rewards is -44364.900676865924  n is 3 m is 4  N is 4\n",
      "125[0, -200, -200, -1000]\n",
      "Finding best (n, m, N) policy...\n"
     ]
    },
    {
     "name": "stderr",
     "output_type": "stream",
     "text": [
      "┌ Info:          256.5767062s: 4 minutes, 16 seconds, 576 milliseconds\n",
      "└ @ TickTock C:\\Users\\vbansal5\\.julia\\packages\\TickTock\\fGILW\\src\\TickTock.jl:62\n",
      "┌ Info:  started timer at: 2023-03-14T17:45:41.937\n",
      "└ @ TickTock C:\\Users\\vbansal5\\.julia\\packages\\TickTock\\fGILW\\src\\TickTock.jl:54\n"
     ]
    },
    {
     "name": "stdout",
     "output_type": "stream",
     "text": [
      "Max rewards is -32006.863604119088  n is 3 m is 3  N is 4\n",
      "125"
     ]
    },
    {
     "name": "stderr",
     "output_type": "stream",
     "text": [
      "┌ Info:          301.4388411s: 5 minutes, 1 second, 438 milliseconds\n",
      "└ @ TickTock C:\\Users\\vbansal5\\.julia\\packages\\TickTock\\fGILW\\src\\TickTock.jl:62\n",
      "┌ Info:  started timer at: 2023-03-14T17:50:43.376\n",
      "└ @ TickTock C:\\Users\\vbansal5\\.julia\\packages\\TickTock\\fGILW\\src\\TickTock.jl:54\n"
     ]
    },
    {
     "name": "stdout",
     "output_type": "stream",
     "text": [
      "[0, -400, -200, -1000]\n",
      "Finding best (n, m, N) policy...\n",
      "Max rewards is -35519.6190375648  n is 3 m is 3  N is 4\n",
      "125[0, -600, -200, -1000]\n",
      "Finding best (n, m, N) policy...\n"
     ]
    },
    {
     "name": "stderr",
     "output_type": "stream",
     "text": [
      "┌ Info:          307.2479767s: 5 minutes, 7 seconds, 247 milliseconds\n",
      "└ @ TickTock C:\\Users\\vbansal5\\.julia\\packages\\TickTock\\fGILW\\src\\TickTock.jl:62\n",
      "┌ Info:  started timer at: 2023-03-14T17:55:50.624\n",
      "└ @ TickTock C:\\Users\\vbansal5\\.julia\\packages\\TickTock\\fGILW\\src\\TickTock.jl:54\n"
     ]
    },
    {
     "name": "stdout",
     "output_type": "stream",
     "text": [
      "Max rewards is -39043.28439032743  n is 3 m is 3  N is 4\n",
      "125[0, -800, -200, -1000]\n",
      "Finding best (n, m, N) policy...\n"
     ]
    },
    {
     "name": "stderr",
     "output_type": "stream",
     "text": [
      "┌ Info:          309.1292656s: 5 minutes, 9 seconds, 129 milliseconds\n",
      "└ @ TickTock C:\\Users\\vbansal5\\.julia\\packages\\TickTock\\fGILW\\src\\TickTock.jl:62\n",
      "┌ Info:  started timer at: 2023-03-14T18:00:59.753\n",
      "└ @ TickTock C:\\Users\\vbansal5\\.julia\\packages\\TickTock\\fGILW\\src\\TickTock.jl:54\n"
     ]
    },
    {
     "name": "stdout",
     "output_type": "stream",
     "text": [
      "Max rewards is -42531.13055071802  n is 3 m is 3  N is 4\n",
      "125[0, -1000, -200, -1000]\n",
      "Finding best (n, m, N) policy...\n"
     ]
    },
    {
     "name": "stderr",
     "output_type": "stream",
     "text": [
      "┌ Info:          298.7405349s: 4 minutes, 58 seconds, 740 milliseconds\n",
      "└ @ TickTock C:\\Users\\vbansal5\\.julia\\packages\\TickTock\\fGILW\\src\\TickTock.jl:62\n",
      "┌ Info:  started timer at: 2023-03-14T18:05:58.494\n",
      "└ @ TickTock C:\\Users\\vbansal5\\.julia\\packages\\TickTock\\fGILW\\src\\TickTock.jl:54\n"
     ]
    },
    {
     "name": "stdout",
     "output_type": "stream",
     "text": [
      "Max rewards is -46099.6130692374  n is 3 m is 3  N is 4\n",
      "125[0, -1200, -200, -1000]\n",
      "Finding best (n, m, N) policy...\n"
     ]
    },
    {
     "name": "stderr",
     "output_type": "stream",
     "text": [
      "┌ Info:          315.0093206s: 5 minutes, 15 seconds, 9 milliseconds\n",
      "└ @ TickTock C:\\Users\\vbansal5\\.julia\\packages\\TickTock\\fGILW\\src\\TickTock.jl:62\n",
      "┌ Info:  started timer at: 2023-03-14T18:11:13.503\n",
      "└ @ TickTock C:\\Users\\vbansal5\\.julia\\packages\\TickTock\\fGILW\\src\\TickTock.jl:54\n"
     ]
    },
    {
     "name": "stdout",
     "output_type": "stream",
     "text": [
      "Max rewards is -49074.62727645917  n is 3 m is 4  N is 4\n"
     ]
    },
    {
     "name": "stderr",
     "output_type": "stream",
     "text": [
      "┌ Info:          300.0235089s: 5 minutes, 23 milliseconds\n",
      "└ @ TickTock C:\\Users\\vbansal5\\.julia\\packages\\TickTock\\fGILW\\src\\TickTock.jl:62\n"
     ]
    },
    {
     "name": "stdout",
     "output_type": "stream",
     "text": [
      "125[0, "
     ]
    },
    {
     "name": "stderr",
     "output_type": "stream",
     "text": [
      "┌ Info:  started timer at: 2023-03-14T18:16:13.526\n",
      "└ @ TickTock C:\\Users\\vbansal5\\.julia\\packages\\TickTock\\fGILW\\src\\TickTock.jl:54\n"
     ]
    },
    {
     "name": "stdout",
     "output_type": "stream",
     "text": [
      "-1400, -200, -1000]\n",
      "Finding best (n, m, N) policy...\n",
      "Max rewards is -50578.07814130374  n is 3 m is 4  N is 4\n",
      "125[0, -1600, -200, -1000]\n",
      "Finding best (n, m, N) policy...\n"
     ]
    },
    {
     "name": "stderr",
     "output_type": "stream",
     "text": [
      "┌ Info:          313.1713897s: 5 minutes, 13 seconds, 171 milliseconds\n",
      "└ @ TickTock C:\\Users\\vbansal5\\.julia\\packages\\TickTock\\fGILW\\src\\TickTock.jl:62\n",
      "┌ Info:  started timer at: 2023-03-14T18:21:26.708\n",
      "└ @ TickTock C:\\Users\\vbansal5\\.julia\\packages\\TickTock\\fGILW\\src\\TickTock.jl:54\n"
     ]
    },
    {
     "name": "stdout",
     "output_type": "stream",
     "text": [
      "Max rewards is -52105.644423285325  n is 3 m is 4  N is 4\n",
      "150[0, -200, -200, -1000]\n",
      "Finding best (n, m, N) policy...\n"
     ]
    },
    {
     "name": "stderr",
     "output_type": "stream",
     "text": [
      "┌ Info:          299.7635127s: 4 minutes, 59 seconds, 763 milliseconds\n",
      "└ @ TickTock C:\\Users\\vbansal5\\.julia\\packages\\TickTock\\fGILW\\src\\TickTock.jl:62\n",
      "┌ Info:  started timer at: 2023-03-14T18:26:26.489\n",
      "└ @ TickTock C:\\Users\\vbansal5\\.julia\\packages\\TickTock\\fGILW\\src\\TickTock.jl:54\n"
     ]
    },
    {
     "name": "stdout",
     "output_type": "stream",
     "text": [
      "Max rewards is -37704.934600165834  n is 3 m is 3  N is 4\n",
      "150[0, -400, -200, -1000]\n",
      "Finding best (n, m, N) policy...\n"
     ]
    },
    {
     "name": "stderr",
     "output_type": "stream",
     "text": [
      "┌ Info:          371.5472864s: 6 minutes, 11 seconds, 547 milliseconds\n",
      "└ @ TickTock C:\\Users\\vbansal5\\.julia\\packages\\TickTock\\fGILW\\src\\TickTock.jl:62\n",
      "┌ Info:  started timer at: 2023-03-14T18:32:38.036\n",
      "└ @ TickTock C:\\Users\\vbansal5\\.julia\\packages\\TickTock\\fGILW\\src\\TickTock.jl:54\n"
     ]
    },
    {
     "name": "stdout",
     "output_type": "stream",
     "text": [
      "Max rewards is -41232.39538159703  n is 3 m is 3  N is 4\n",
      "150[0, -600, -200, -1000]\n",
      "Finding best (n, m, N) policy...\n"
     ]
    },
    {
     "name": "stderr",
     "output_type": "stream",
     "text": [
      "┌ Info:          359.8081134s: 5 minutes, 59 seconds, 808 milliseconds\n",
      "└ @ TickTock C:\\Users\\vbansal5\\.julia\\packages\\TickTock\\fGILW\\src\\TickTock.jl:62\n",
      "┌ Info:  started timer at: 2023-03-14T18:38:37.855\n",
      "└ @ TickTock C:\\Users\\vbansal5\\.julia\\packages\\TickTock\\fGILW\\src\\TickTock.jl:54\n"
     ]
    },
    {
     "name": "stdout",
     "output_type": "stream",
     "text": [
      "Max rewards is -44792.408236506155  n is 3 m is 3  N is 4\n",
      "150[0, -800, -200, -1000]\n",
      "Finding best (n, m, N) policy...\n"
     ]
    },
    {
     "name": "stderr",
     "output_type": "stream",
     "text": [
      "┌ Info:          365.6720046s: 6 minutes, 5 seconds, 672 milliseconds\n",
      "└ @ TickTock C:\\Users\\vbansal5\\.julia\\packages\\TickTock\\fGILW\\src\\TickTock.jl:62\n",
      "┌ Info:  started timer at: 2023-03-14T18:44:43.527\n",
      "└ @ TickTock C:\\Users\\vbansal5\\.julia\\packages\\TickTock\\fGILW\\src\\TickTock.jl:54\n"
     ]
    },
    {
     "name": "stdout",
     "output_type": "stream",
     "text": [
      "Max rewards is -48332.06941628504  n is 3 m is 3  N is 4\n",
      "150[0, -1000, -200, -1000]\n",
      "Finding best (n, m, N) policy...\n"
     ]
    },
    {
     "name": "stderr",
     "output_type": "stream",
     "text": [
      "┌ Info:           354.590271s: 5 minutes, 54 seconds, 590 milliseconds\n",
      "└ @ TickTock C:\\Users\\vbansal5\\.julia\\packages\\TickTock\\fGILW\\src\\TickTock.jl:62\n",
      "┌ Info:  started timer at: 2023-03-14T18:50:38.117\n",
      "└ @ TickTock C:\\Users\\vbansal5\\.julia\\packages\\TickTock\\fGILW\\src\\TickTock.jl:54\n"
     ]
    },
    {
     "name": "stdout",
     "output_type": "stream",
     "text": [
      "Max rewards is -51862.43245018853  n is 3 m is 3  N is 4\n",
      "150[0, -1200, -200, -1000]\n",
      "Finding best (n, m, N) policy...\n"
     ]
    },
    {
     "name": "stderr",
     "output_type": "stream",
     "text": [
      "┌ Info:          369.7114719s: 6 minutes, 9 seconds, 711 milliseconds\n",
      "└ @ TickTock C:\\Users\\vbansal5\\.julia\\packages\\TickTock\\fGILW\\src\\TickTock.jl:62\n",
      "┌ Info:  started timer at: 2023-03-14T18:56:47.828\n",
      "└ @ TickTock C:\\Users\\vbansal5\\.julia\\packages\\TickTock\\fGILW\\src\\TickTock.jl:54\n"
     ]
    },
    {
     "name": "stdout",
     "output_type": "stream",
     "text": [
      "Max rewards is -55436.692171326926  n is 3 m is 3  N is 4\n",
      "150[0, -1400, -200, -1000]\n",
      "Finding best (n, m, N) policy...\n"
     ]
    },
    {
     "name": "stderr",
     "output_type": "stream",
     "text": [
      "┌ Info:          358.0337392s: 5 minutes, 58 seconds, 33 milliseconds\n",
      "└ @ TickTock C:\\Users\\vbansal5\\.julia\\packages\\TickTock\\fGILW\\src\\TickTock.jl:62\n",
      "┌ Info:  started timer at: 2023-03-14T19:02:45.862\n",
      "└ @ TickTock C:\\Users\\vbansal5\\.julia\\packages\\TickTock\\fGILW\\src\\TickTock.jl:54\n"
     ]
    },
    {
     "name": "stdout",
     "output_type": "stream",
     "text": [
      "Max rewards is -58202.684805680656  n is 3 m is 4  N is 4\n",
      "150[0, -1600, -200, -1000]\n",
      "Finding best (n, m, N) policy...\n"
     ]
    },
    {
     "name": "stderr",
     "output_type": "stream",
     "text": [
      "┌ Info:          368.5754332s: 6 minutes, 8 seconds, 575 milliseconds\n",
      "└ @ TickTock C:\\Users\\vbansal5\\.julia\\packages\\TickTock\\fGILW\\src\\TickTock.jl:62\n",
      "┌ Info:  started timer at: 2023-03-14T19:08:54.437\n",
      "└ @ TickTock C:\\Users\\vbansal5\\.julia\\packages\\TickTock\\fGILW\\src\\TickTock.jl:54\n"
     ]
    },
    {
     "name": "stdout",
     "output_type": "stream",
     "text": [
      "Max rewards is -59745.455613185666  n is 3 m is 4  N is 4\n",
      "175[0, -200, -200, -1000]\n",
      "Finding best (n, m, N) policy...\n"
     ]
    },
    {
     "name": "stderr",
     "output_type": "stream",
     "text": [
      "┌ Info:          355.5643632s: 5 minutes, 55 seconds, 564 milliseconds\n",
      "└ @ TickTock C:\\Users\\vbansal5\\.julia\\packages\\TickTock\\fGILW\\src\\TickTock.jl:62\n",
      "┌ Info:  started timer at: 2023-03-14T19:14:50.018\n",
      "└ @ TickTock C:\\Users\\vbansal5\\.julia\\packages\\TickTock\\fGILW\\src\\TickTock.jl:54\n"
     ]
    },
    {
     "name": "stdout",
     "output_type": "stream",
     "text": [
      "Max rewards is -43424.19360395916  n is 3 m is 3  N is 4\n",
      "175[0, -400, -200, -1000]\n",
      "Finding best (n, m, N) policy...\n"
     ]
    },
    {
     "name": "stderr",
     "output_type": "stream",
     "text": [
      "┌ Info:          422.5956492s: 7 minutes, 2 seconds, 595 milliseconds\n",
      "└ @ TickTock C:\\Users\\vbansal5\\.julia\\packages\\TickTock\\fGILW\\src\\TickTock.jl:62\n",
      "┌ Info:  started timer at: 2023-03-14T19:21:52.614\n",
      "└ @ TickTock C:\\Users\\vbansal5\\.julia\\packages\\TickTock\\fGILW\\src\\TickTock.jl:54\n"
     ]
    },
    {
     "name": "stdout",
     "output_type": "stream",
     "text": [
      "Max rewards is -46975.25451407451  n is 3 m is 3  N is 4\n",
      "175[0, -600, -200, -1000]\n",
      "Finding best (n, m, N) policy...\n"
     ]
    },
    {
     "name": "stderr",
     "output_type": "stream",
     "text": [
      "┌ Info:          418.3893612s: 6 minutes, 58 seconds, 389 milliseconds\n",
      "└ @ TickTock C:\\Users\\vbansal5\\.julia\\packages\\TickTock\\fGILW\\src\\TickTock.jl:62\n",
      "┌ Info:  started timer at: 2023-03-14T19:28:51.014\n",
      "└ @ TickTock C:\\Users\\vbansal5\\.julia\\packages\\TickTock\\fGILW\\src\\TickTock.jl:54\n"
     ]
    },
    {
     "name": "stdout",
     "output_type": "stream",
     "text": [
      "Max rewards is -50530.84896538681  n is 3 m is 3  N is 4\n",
      "175[0, -800, -200, -1000]\n",
      "Finding best (n, m, N) policy...\n"
     ]
    },
    {
     "name": "stderr",
     "output_type": "stream",
     "text": [
      "┌ Info:          411.4632799s: 6 minutes, 51 seconds, 463 milliseconds\n",
      "└ @ TickTock C:\\Users\\vbansal5\\.julia\\packages\\TickTock\\fGILW\\src\\TickTock.jl:62\n",
      "┌ Info:  started timer at: 2023-03-14T19:35:42.487\n",
      "└ @ TickTock C:\\Users\\vbansal5\\.julia\\packages\\TickTock\\fGILW\\src\\TickTock.jl:54\n"
     ]
    },
    {
     "name": "stdout",
     "output_type": "stream",
     "text": [
      "Max rewards is -54094.768298929164  n is 3 m is 3  N is 4\n",
      "175[0, "
     ]
    },
    {
     "name": "stderr",
     "output_type": "stream",
     "text": [
      "┌ Info:          423.3644129s: 7 minutes, 3 seconds, 364 milliseconds\n",
      "└ @ TickTock C:\\Users\\vbansal5\\.julia\\packages\\TickTock\\fGILW\\src\\TickTock.jl:62\n",
      "┌ Info:  started timer at: 2023-03-14T19:42:45.862\n",
      "└ @ TickTock C:\\Users\\vbansal5\\.julia\\packages\\TickTock\\fGILW\\src\\TickTock.jl:54\n"
     ]
    },
    {
     "name": "stdout",
     "output_type": "stream",
     "text": [
      "-1000, -200, -1000]\n",
      "Finding best (n, m, N) policy...\n",
      "Max rewards is -57646.856658286764  n is 3 m is 3  N is 4\n",
      "175[0, -1200, -200, -1000]\n",
      "Finding best (n, m, N) policy...\n"
     ]
    },
    {
     "name": "stderr",
     "output_type": "stream",
     "text": [
      "┌ Info:          413.6663403s: 6 minutes, 53 seconds, 666 milliseconds\n",
      "└ @ TickTock C:\\Users\\vbansal5\\.julia\\packages\\TickTock\\fGILW\\src\\TickTock.jl:62\n",
      "┌ Info:  started timer at: 2023-03-14T19:49:39.527\n",
      "└ @ TickTock C:\\Users\\vbansal5\\.julia\\packages\\TickTock\\fGILW\\src\\TickTock.jl:54\n"
     ]
    },
    {
     "name": "stdout",
     "output_type": "stream",
     "text": [
      "Max rewards is -61204.92116070669  n is 3 m is 3  N is 4\n",
      "175[0, -1400, -200, -1000]\n",
      "Finding best (n, m, N) policy...\n"
     ]
    },
    {
     "name": "stderr",
     "output_type": "stream",
     "text": [
      "┌ Info:          424.0552088s: 7 minutes, 4 seconds, 55 milliseconds\n",
      "└ @ TickTock C:\\Users\\vbansal5\\.julia\\packages\\TickTock\\fGILW\\src\\TickTock.jl:62\n",
      "┌ Info:  started timer at: 2023-03-14T19:56:43.594\n",
      "└ @ TickTock C:\\Users\\vbansal5\\.julia\\packages\\TickTock\\fGILW\\src\\TickTock.jl:54\n"
     ]
    },
    {
     "name": "stdout",
     "output_type": "stream",
     "text": [
      "Max rewards is -64761.70006171446  n is 3 m is 3  N is 4\n",
      "175[0, -1600, -200, -1000]\n",
      "Finding best (n, m, N) policy...\n"
     ]
    },
    {
     "name": "stderr",
     "output_type": "stream",
     "text": [
      "┌ Info:          415.8538718s: 6 minutes, 55 seconds, 853 milliseconds\n",
      "└ @ TickTock C:\\Users\\vbansal5\\.julia\\packages\\TickTock\\fGILW\\src\\TickTock.jl:62\n",
      "┌ Info:  started timer at: 2023-03-14T20:03:39.458\n",
      "└ @ TickTock C:\\Users\\vbansal5\\.julia\\packages\\TickTock\\fGILW\\src\\TickTock.jl:54\n"
     ]
    },
    {
     "name": "stdout",
     "output_type": "stream",
     "text": [
      "Max rewards is -67233.07837929387  n is 3 m is 4  N is 4\n",
      "200[0, "
     ]
    },
    {
     "name": "stderr",
     "output_type": "stream",
     "text": [
      "┌ Info:          417.7801472s: 6 minutes, 57 seconds, 780 milliseconds\n",
      "└ @ TickTock C:\\Users\\vbansal5\\.julia\\packages\\TickTock\\fGILW\\src\\TickTock.jl:62\n",
      "┌ Info:  started timer at: 2023-03-14T20:10:37.246\n",
      "└ @ TickTock C:\\Users\\vbansal5\\.julia\\packages\\TickTock\\fGILW\\src\\TickTock.jl:54\n"
     ]
    },
    {
     "name": "stdout",
     "output_type": "stream",
     "text": [
      "-200, -200, -1000]\n",
      "Finding best (n, m, N) policy...\n",
      "Max rewards is -49113.45645190726  n is 3 m is 3  N is 3\n",
      "200[0, -400, -200, -1000]\n",
      "Finding best (n, m, N) policy...\n"
     ]
    },
    {
     "name": "stderr",
     "output_type": "stream",
     "text": [
      "┌ Info:          480.4646931s: 8 minutes, 464 milliseconds\n",
      "└ @ TickTock C:\\Users\\vbansal5\\.julia\\packages\\TickTock\\fGILW\\src\\TickTock.jl:62\n",
      "┌ Info:  started timer at: 2023-03-14T20:18:37.721\n",
      "└ @ TickTock C:\\Users\\vbansal5\\.julia\\packages\\TickTock\\fGILW\\src\\TickTock.jl:54\n"
     ]
    },
    {
     "name": "stdout",
     "output_type": "stream",
     "text": [
      "Max rewards is -52680.64535765568  n is 3 m is 3  N is 4\n",
      "200[0, -600, -200, -1000]\n",
      "Finding best (n, m, N) policy...\n"
     ]
    },
    {
     "name": "stderr",
     "output_type": "stream",
     "text": [
      "┌ Info:          468.4911426s: 7 minutes, 48 seconds, 491 milliseconds\n",
      "└ @ TickTock C:\\Users\\vbansal5\\.julia\\packages\\TickTock\\fGILW\\src\\TickTock.jl:62\n",
      "┌ Info:  started timer at: 2023-03-14T20:26:26.223\n",
      "└ @ TickTock C:\\Users\\vbansal5\\.julia\\packages\\TickTock\\fGILW\\src\\TickTock.jl:54\n"
     ]
    },
    {
     "name": "stdout",
     "output_type": "stream",
     "text": [
      "Max rewards is -56231.072638598474  n is 3 m is 3  N is 4\n",
      "200[0, -800, -200, -1000]\n",
      "Finding best (n, m, N) policy...\n"
     ]
    },
    {
     "name": "stderr",
     "output_type": "stream",
     "text": [
      "┌ Info:          475.0342509s: 7 minutes, 55 seconds, 34 milliseconds\n",
      "└ @ TickTock C:\\Users\\vbansal5\\.julia\\packages\\TickTock\\fGILW\\src\\TickTock.jl:62\n",
      "┌ Info:  started timer at: 2023-03-14T20:34:21.256\n",
      "└ @ TickTock C:\\Users\\vbansal5\\.julia\\packages\\TickTock\\fGILW\\src\\TickTock.jl:54\n"
     ]
    },
    {
     "name": "stdout",
     "output_type": "stream",
     "text": [
      "Max rewards is -59831.74619012944  n is 3 m is 3  N is 4\n",
      "200[0, -1000, -200, -1000]\n",
      "Finding best (n, m, N) policy...\n"
     ]
    },
    {
     "name": "stderr",
     "output_type": "stream",
     "text": [
      "┌ Info:          476.2984328s: 7 minutes, 56 seconds, 298 milliseconds\n",
      "└ @ TickTock C:\\Users\\vbansal5\\.julia\\packages\\TickTock\\fGILW\\src\\TickTock.jl:62\n",
      "┌ Info:  started timer at: 2023-03-14T20:42:17.565\n",
      "└ @ TickTock C:\\Users\\vbansal5\\.julia\\packages\\TickTock\\fGILW\\src\\TickTock.jl:54\n"
     ]
    },
    {
     "name": "stdout",
     "output_type": "stream",
     "text": [
      "Max rewards is -63386.717790193085  n is 3 m is 3  N is 4\n",
      "200[0, -1200,"
     ]
    },
    {
     "name": "stderr",
     "output_type": "stream",
     "text": [
      "┌ Info:          471.5605785s: 7 minutes, 51 seconds, 560 milliseconds\n",
      "└ @ TickTock C:\\Users\\vbansal5\\.julia\\packages\\TickTock\\fGILW\\src\\TickTock.jl:62\n",
      "┌ Info:  started timer at: 2023-03-14T20:50:09.136\n",
      "└ @ TickTock C:\\Users\\vbansal5\\.julia\\packages\\TickTock\\fGILW\\src\\TickTock.jl:54\n"
     ]
    },
    {
     "name": "stdout",
     "output_type": "stream",
     "text": [
      " -200, -1000]\n",
      "Finding best (n, m, N) policy...\n",
      "Max rewards is -66956.28518650144  n is 3 m is 3  N is 4\n",
      "200[0, -1400, -200, -1000]\n",
      "Finding best (n, m, N) policy...\n"
     ]
    },
    {
     "name": "stderr",
     "output_type": "stream",
     "text": [
      "┌ Info:          470.9191897s: 7 minutes, 50 seconds, 919 milliseconds\n",
      "└ @ TickTock C:\\Users\\vbansal5\\.julia\\packages\\TickTock\\fGILW\\src\\TickTock.jl:62\n",
      "┌ Info:  started timer at: 2023-03-14T20:58:00.054\n",
      "└ @ TickTock C:\\Users\\vbansal5\\.julia\\packages\\TickTock\\fGILW\\src\\TickTock.jl:54\n"
     ]
    },
    {
     "name": "stdout",
     "output_type": "stream",
     "text": [
      "Max rewards is -70515.2541619838  n is 3 m is 3  N is 4\n",
      "200[0, -1600, -200, -1000]\n",
      "Finding best (n, m, N) policy...\n"
     ]
    },
    {
     "name": "stderr",
     "output_type": "stream",
     "text": [
      "┌ Info:          477.3694377s: 7 minutes, 57 seconds, 369 milliseconds\n",
      "└ @ TickTock C:\\Users\\vbansal5\\.julia\\packages\\TickTock\\fGILW\\src\\TickTock.jl:62\n",
      "┌ Info:  started timer at: 2023-03-14T21:05:57.423\n",
      "└ @ TickTock C:\\Users\\vbansal5\\.julia\\packages\\TickTock\\fGILW\\src\\TickTock.jl:54\n"
     ]
    },
    {
     "name": "stdout",
     "output_type": "stream",
     "text": [
      "Max rewards is -74086.11982351572  n is 3 m is 3  N is 4\n"
     ]
    },
    {
     "name": "stderr",
     "output_type": "stream",
     "text": [
      "┌ Info:          474.3703525s: 7 minutes, 54 seconds, 370 milliseconds\n",
      "└ @ TickTock C:\\Users\\vbansal5\\.julia\\packages\\TickTock\\fGILW\\src\\TickTock.jl:62\n"
     ]
    }
   ],
   "source": [
    "using DataFrames\n",
    "df= DataFrame(u=[],n=[],s=[],m=[],f=[],mean=[],nmN=[],std=[])\n",
    "\n",
    "cost=[ \n",
    "     [0 -200 -200 -1000],\n",
    "    [0 -400 -200 -1000],\n",
    "    [0 -600 -200 -1000],\n",
    "    [0 -800 -200 -1000],\n",
    "    [0 -1000 -200 -1000],\n",
    "    [0 -1200 -200 -1000],\n",
    "    [0 -1400 -200 -1000],\n",
    "    [0 -1600 -200 -1000]\n",
    "    ]\n",
    "\n",
    "\n",
    "for units in [3,5,10,15,20,25,30,40,50,60,70,80,100,125,150,175,200]\n",
    "    global NumberUnits=convert(Int64,units)\n",
    "global Number_level = 4;\n",
    "#action_level = 0;\n",
    "#Transition_matrix = [0.86 0.14 0.0 0.0; 0.0 0.83 0.17 0.0;0.0 0.0 0.89 0.11;1.0 0.0 0.0 0.0];\n",
    "#fullname = \"C:/Users/yongchen/OneDrive - University of Iowa/Codes/Julia/ReinforcementLearning/tm6.jld2\"\n",
    "#fullname = \"C:/Users/yongchen/Dropbox/reinforcement learning for maintenance/Matlab/MultipleUnits/tm6.jld2\";\n",
    "global fullname = \"tm10.jld2\";\n",
    "fullname = \"tm10\";\n",
    "# generate_transition_matrix(Number_level, fullname) \n",
    "global Transition_matrix = \n",
    "            [0.8571 0.1429 0 0;\n",
    "        0 0.8571 0.1429 0;\n",
    "        0 0 0.8 0.2\n",
    "      0 0 0 1];\n",
    "Transition_matrix=Transition_matrix./[sum(Transition_matrix[i,:]) for i in 1:4]\n",
    "global state_number = state_cnt(NumberUnits,Number_level);\n",
    "# global arrayofstates = Vector{mystate}(undef, state_number);\n",
    "\n",
    "# Threads.@threads for i in 1:state_number\n",
    "#     global arrayofstates[i]  = mystate(state_vec(NumberUnits, Number_level, i));\n",
    "# end\n",
    "\n",
    "global crd = Array{Categorical}(undef,Number_level)\n",
    "for i in 1:Number_level\n",
    "    global crd[i] = Categorical(Transition_matrix[i,:]);\n",
    "end\n",
    "    \n",
    "    \n",
    "    \n",
    "global multiunit2 = QuickMDP(\n",
    "    gen = function (s, a, rng)       #s is a vector of number units at each level and a is the number of units we will repair\n",
    "        local_s = s.state;\n",
    "        # println(local_s)\n",
    "        # based on s, create a status vector corresponding to each unit\n",
    "        degradation_state = repeat(1:1,NumberUnits);\n",
    "        k = 1;\n",
    "        for i in 1:Number_level\n",
    "            for j in 1:local_s[i]\n",
    "                degradation_state[k]=i;\n",
    "                k = k+1;\n",
    "            end\n",
    "        end\n",
    "        r = 0.0;\n",
    "        prevent_repair = false;\n",
    "        if a!=0\n",
    "        number_reset = sum(local_s[a:Number_level]);\n",
    "        else\n",
    "        number_reset = local_s[Number_level];\n",
    "        end\n",
    "        #using a for loop to compute next state for each unit\n",
    "\n",
    "        for i in 1:(NumberUnits-number_reset)  #a is the number of units we want to preventively repair\n",
    "            #in this loop, all units continues\n",
    "            degradation_state[i] = rand(crd[degradation_state[i]]);\n",
    "            r = r+normal_operation;\n",
    "        end\n",
    "        \n",
    "        for i in (NumberUnits-number_reset+1):NumberUnits\n",
    "            if degradation_state[i] == Number_level\n",
    "                r = r + failure_penalty;\n",
    "                if prevent_repair == false\n",
    "                    r = r+setup_cost;\n",
    "                    prevent_repair = true;\n",
    "                end\n",
    "            else\n",
    "                r = r + maintenance_penalty;\n",
    "                if prevent_repair == false\n",
    "                    r = r+setup_cost;\n",
    "                    prevent_repair = true;\n",
    "                end\n",
    "            end\n",
    "            degradation_state[i] = rand(crd[1]); #reset status; add additional transition\n",
    "            r = r+normal_operation; #add operation benefit\n",
    "         end\n",
    "        #collect degradation state to form the state\n",
    "        sp = repeat(0:0,Number_level);\n",
    "        for i in 1:NumberUnits\n",
    "            sp[degradation_state[i]] = sp[degradation_state[i]]+1;\n",
    "        end\n",
    "        return (sp=mystate(sp), r=r)\n",
    "    end,\n",
    "    actions = 0:(Number_level-1), \n",
    "    actiontype = function()\n",
    "        return Int64;\n",
    "    end,\n",
    "#     states = arrayofstates,\n",
    "    initialstate = function()\n",
    "        POMDPModelTools.ImplicitDistribution() do rng\n",
    "            return (mystate(state_vec(NumberUnits, Number_level, 1)))\n",
    "        end\n",
    "    end, #all u #all units start fresh. Need to change according to unit number and level number. ##For simulation, we need to use ImplicitDistribution\n",
    "    discount = 0.95,\n",
    "    isterminal = false              # no ending\n",
    ")\n",
    "\n",
    "\n",
    "    \n",
    "    \n",
    "    \n",
    "for c in cost\n",
    "        tick()\n",
    "   print(units)  \n",
    "    global normal_operation,setup_cost,maintenance_penalty,failure_penalty=c\n",
    "     println([normal_operation,setup_cost,maintenance_penalty,failure_penalty])     \n",
    "   global  simsteps = 100;\n",
    "global repetition = 10000;\n",
    "global rewards_nmN = zeros(Number_level,Number_level,Number_level);\n",
    "global rewards_nmN = rewards_nmN.+(-100000000.0);\n",
    "global rewards_nmN_std = zeros(Number_level,Number_level,Number_level);\n",
    "global rewards_nmN_std = rewards_nmN_std.+(-100000000.0);\n",
    "global discount_factor =0.95\n",
    "global temp_rewards = zeros(repetition,1);\n",
    "rewards,std, nmN=findnmN()\n",
    "pushfirst!(df,[units,normal_operation,setup_cost,maintenance_penalty,failure_penalty,rewards,nmN,std])\n",
    "       tock() \n",
    "    end\n",
    "    \n",
    "    \n",
    "end"
   ]
  },
  {
   "cell_type": "code",
   "execution_count": 6,
   "metadata": {
    "scrolled": false
   },
   "outputs": [
    {
     "data": {
      "text/html": [
       "<div><div style = \"float: left;\"><span>136×8 DataFrame</span></div><div style = \"float: right;\"><span style = \"font-style: italic;\">111 rows omitted</span></div><div style = \"clear: both;\"></div></div><div class = \"data-frame\" style = \"overflow-x: scroll;\"><table class = \"data-frame\" style = \"margin-bottom: 6px;\"><thead><tr class = \"header\"><th class = \"rowNumber\" style = \"font-weight: bold; text-align: right;\">Row</th><th style = \"text-align: left;\">u</th><th style = \"text-align: left;\">n</th><th style = \"text-align: left;\">s</th><th style = \"text-align: left;\">m</th><th style = \"text-align: left;\">f</th><th style = \"text-align: left;\">mean</th><th style = \"text-align: left;\">nmN</th><th style = \"text-align: left;\">std</th></tr><tr class = \"subheader headerLastRow\"><th class = \"rowNumber\" style = \"font-weight: bold; text-align: right;\"></th><th title = \"Any\" style = \"text-align: left;\">Any</th><th title = \"Any\" style = \"text-align: left;\">Any</th><th title = \"Any\" style = \"text-align: left;\">Any</th><th title = \"Any\" style = \"text-align: left;\">Any</th><th title = \"Any\" style = \"text-align: left;\">Any</th><th title = \"Any\" style = \"text-align: left;\">Any</th><th title = \"Any\" style = \"text-align: left;\">Any</th><th title = \"Any\" style = \"text-align: left;\">Any</th></tr></thead><tbody><tr><td class = \"rowNumber\" style = \"font-weight: bold; text-align: right;\">1</td><td style = \"text-align: left;\">200</td><td style = \"text-align: left;\">0</td><td style = \"text-align: left;\">-1600</td><td style = \"text-align: left;\">-200</td><td style = \"text-align: left;\">-1000</td><td style = \"text-align: left;\">-74086.1</td><td style = \"text-align: left;\">CartesianIndex(3, 3, 4)</td><td style = \"text-align: left;\">1526.41</td></tr><tr><td class = \"rowNumber\" style = \"font-weight: bold; text-align: right;\">2</td><td style = \"text-align: left;\">200</td><td style = \"text-align: left;\">0</td><td style = \"text-align: left;\">-1400</td><td style = \"text-align: left;\">-200</td><td style = \"text-align: left;\">-1000</td><td style = \"text-align: left;\">-70515.3</td><td style = \"text-align: left;\">CartesianIndex(3, 3, 4)</td><td style = \"text-align: left;\">1545.25</td></tr><tr><td class = \"rowNumber\" style = \"font-weight: bold; text-align: right;\">3</td><td style = \"text-align: left;\">200</td><td style = \"text-align: left;\">0</td><td style = \"text-align: left;\">-1200</td><td style = \"text-align: left;\">-200</td><td style = \"text-align: left;\">-1000</td><td style = \"text-align: left;\">-66956.3</td><td style = \"text-align: left;\">CartesianIndex(3, 3, 4)</td><td style = \"text-align: left;\">1507.2</td></tr><tr><td class = \"rowNumber\" style = \"font-weight: bold; text-align: right;\">4</td><td style = \"text-align: left;\">200</td><td style = \"text-align: left;\">0</td><td style = \"text-align: left;\">-1000</td><td style = \"text-align: left;\">-200</td><td style = \"text-align: left;\">-1000</td><td style = \"text-align: left;\">-63386.7</td><td style = \"text-align: left;\">CartesianIndex(3, 3, 4)</td><td style = \"text-align: left;\">1520.65</td></tr><tr><td class = \"rowNumber\" style = \"font-weight: bold; text-align: right;\">5</td><td style = \"text-align: left;\">200</td><td style = \"text-align: left;\">0</td><td style = \"text-align: left;\">-800</td><td style = \"text-align: left;\">-200</td><td style = \"text-align: left;\">-1000</td><td style = \"text-align: left;\">-59831.7</td><td style = \"text-align: left;\">CartesianIndex(3, 3, 4)</td><td style = \"text-align: left;\">1496.48</td></tr><tr><td class = \"rowNumber\" style = \"font-weight: bold; text-align: right;\">6</td><td style = \"text-align: left;\">200</td><td style = \"text-align: left;\">0</td><td style = \"text-align: left;\">-600</td><td style = \"text-align: left;\">-200</td><td style = \"text-align: left;\">-1000</td><td style = \"text-align: left;\">-56231.1</td><td style = \"text-align: left;\">CartesianIndex(3, 3, 4)</td><td style = \"text-align: left;\">1475.8</td></tr><tr><td class = \"rowNumber\" style = \"font-weight: bold; text-align: right;\">7</td><td style = \"text-align: left;\">200</td><td style = \"text-align: left;\">0</td><td style = \"text-align: left;\">-400</td><td style = \"text-align: left;\">-200</td><td style = \"text-align: left;\">-1000</td><td style = \"text-align: left;\">-52680.6</td><td style = \"text-align: left;\">CartesianIndex(3, 3, 4)</td><td style = \"text-align: left;\">1475.2</td></tr><tr><td class = \"rowNumber\" style = \"font-weight: bold; text-align: right;\">8</td><td style = \"text-align: left;\">200</td><td style = \"text-align: left;\">0</td><td style = \"text-align: left;\">-200</td><td style = \"text-align: left;\">-200</td><td style = \"text-align: left;\">-1000</td><td style = \"text-align: left;\">-49113.5</td><td style = \"text-align: left;\">CartesianIndex(3, 3, 3)</td><td style = \"text-align: left;\">1451.47</td></tr><tr><td class = \"rowNumber\" style = \"font-weight: bold; text-align: right;\">9</td><td style = \"text-align: left;\">175</td><td style = \"text-align: left;\">0</td><td style = \"text-align: left;\">-1600</td><td style = \"text-align: left;\">-200</td><td style = \"text-align: left;\">-1000</td><td style = \"text-align: left;\">-67233.1</td><td style = \"text-align: left;\">CartesianIndex(3, 4, 4)</td><td style = \"text-align: left;\">2706.46</td></tr><tr><td class = \"rowNumber\" style = \"font-weight: bold; text-align: right;\">10</td><td style = \"text-align: left;\">175</td><td style = \"text-align: left;\">0</td><td style = \"text-align: left;\">-1400</td><td style = \"text-align: left;\">-200</td><td style = \"text-align: left;\">-1000</td><td style = \"text-align: left;\">-64761.7</td><td style = \"text-align: left;\">CartesianIndex(3, 3, 4)</td><td style = \"text-align: left;\">1488.29</td></tr><tr><td class = \"rowNumber\" style = \"font-weight: bold; text-align: right;\">11</td><td style = \"text-align: left;\">175</td><td style = \"text-align: left;\">0</td><td style = \"text-align: left;\">-1200</td><td style = \"text-align: left;\">-200</td><td style = \"text-align: left;\">-1000</td><td style = \"text-align: left;\">-61204.9</td><td style = \"text-align: left;\">CartesianIndex(3, 3, 4)</td><td style = \"text-align: left;\">1454.38</td></tr><tr><td class = \"rowNumber\" style = \"font-weight: bold; text-align: right;\">12</td><td style = \"text-align: left;\">175</td><td style = \"text-align: left;\">0</td><td style = \"text-align: left;\">-1000</td><td style = \"text-align: left;\">-200</td><td style = \"text-align: left;\">-1000</td><td style = \"text-align: left;\">-57646.9</td><td style = \"text-align: left;\">CartesianIndex(3, 3, 4)</td><td style = \"text-align: left;\">1464.1</td></tr><tr><td class = \"rowNumber\" style = \"font-weight: bold; text-align: right;\">13</td><td style = \"text-align: left;\">175</td><td style = \"text-align: left;\">0</td><td style = \"text-align: left;\">-800</td><td style = \"text-align: left;\">-200</td><td style = \"text-align: left;\">-1000</td><td style = \"text-align: left;\">-54094.8</td><td style = \"text-align: left;\">CartesianIndex(3, 3, 4)</td><td style = \"text-align: left;\">1397.25</td></tr><tr><td style = \"text-align: right;\">&vellip;</td><td style = \"text-align: right;\">&vellip;</td><td style = \"text-align: right;\">&vellip;</td><td style = \"text-align: right;\">&vellip;</td><td style = \"text-align: right;\">&vellip;</td><td style = \"text-align: right;\">&vellip;</td><td style = \"text-align: right;\">&vellip;</td><td style = \"text-align: right;\">&vellip;</td><td style = \"text-align: right;\">&vellip;</td></tr><tr><td class = \"rowNumber\" style = \"font-weight: bold; text-align: right;\">125</td><td style = \"text-align: left;\">5</td><td style = \"text-align: left;\">0</td><td style = \"text-align: left;\">-800</td><td style = \"text-align: left;\">-200</td><td style = \"text-align: left;\">-1000</td><td style = \"text-align: left;\">-3863.5</td><td style = \"text-align: left;\">CartesianIndex(2, 3, 4)</td><td style = \"text-align: left;\">849.254</td></tr><tr><td class = \"rowNumber\" style = \"font-weight: bold; text-align: right;\">126</td><td style = \"text-align: left;\">5</td><td style = \"text-align: left;\">0</td><td style = \"text-align: left;\">-600</td><td style = \"text-align: left;\">-200</td><td style = \"text-align: left;\">-1000</td><td style = \"text-align: left;\">-3456.94</td><td style = \"text-align: left;\">CartesianIndex(2, 3, 4)</td><td style = \"text-align: left;\">768.118</td></tr><tr><td class = \"rowNumber\" style = \"font-weight: bold; text-align: right;\">127</td><td style = \"text-align: left;\">5</td><td style = \"text-align: left;\">0</td><td style = \"text-align: left;\">-400</td><td style = \"text-align: left;\">-200</td><td style = \"text-align: left;\">-1000</td><td style = \"text-align: left;\">-2983.36</td><td style = \"text-align: left;\">CartesianIndex(2, 3, 3)</td><td style = \"text-align: left;\">568.178</td></tr><tr><td class = \"rowNumber\" style = \"font-weight: bold; text-align: right;\">128</td><td style = \"text-align: left;\">5</td><td style = \"text-align: left;\">0</td><td style = \"text-align: left;\">-200</td><td style = \"text-align: left;\">-200</td><td style = \"text-align: left;\">-1000</td><td style = \"text-align: left;\">-2141.62</td><td style = \"text-align: left;\">CartesianIndex(3, 3, 3)</td><td style = \"text-align: left;\">418.77</td></tr><tr><td class = \"rowNumber\" style = \"font-weight: bold; text-align: right;\">129</td><td style = \"text-align: left;\">3</td><td style = \"text-align: left;\">0</td><td style = \"text-align: left;\">-1600</td><td style = \"text-align: left;\">-200</td><td style = \"text-align: left;\">-1000</td><td style = \"text-align: left;\">-3905.27</td><td style = \"text-align: left;\">CartesianIndex(2, 3, 4)</td><td style = \"text-align: left;\">1100.26</td></tr><tr><td class = \"rowNumber\" style = \"font-weight: bold; text-align: right;\">130</td><td style = \"text-align: left;\">3</td><td style = \"text-align: left;\">0</td><td style = \"text-align: left;\">-1400</td><td style = \"text-align: left;\">-200</td><td style = \"text-align: left;\">-1000</td><td style = \"text-align: left;\">-3615.01</td><td style = \"text-align: left;\">CartesianIndex(2, 3, 4)</td><td style = \"text-align: left;\">1004.64</td></tr><tr><td class = \"rowNumber\" style = \"font-weight: bold; text-align: right;\">131</td><td style = \"text-align: left;\">3</td><td style = \"text-align: left;\">0</td><td style = \"text-align: left;\">-1200</td><td style = \"text-align: left;\">-200</td><td style = \"text-align: left;\">-1000</td><td style = \"text-align: left;\">-3302.52</td><td style = \"text-align: left;\">CartesianIndex(2, 3, 4)</td><td style = \"text-align: left;\">928.332</td></tr><tr><td class = \"rowNumber\" style = \"font-weight: bold; text-align: right;\">132</td><td style = \"text-align: left;\">3</td><td style = \"text-align: left;\">0</td><td style = \"text-align: left;\">-1000</td><td style = \"text-align: left;\">-200</td><td style = \"text-align: left;\">-1000</td><td style = \"text-align: left;\">-2993.24</td><td style = \"text-align: left;\">CartesianIndex(2, 3, 4)</td><td style = \"text-align: left;\">854.836</td></tr><tr><td class = \"rowNumber\" style = \"font-weight: bold; text-align: right;\">133</td><td style = \"text-align: left;\">3</td><td style = \"text-align: left;\">0</td><td style = \"text-align: left;\">-800</td><td style = \"text-align: left;\">-200</td><td style = \"text-align: left;\">-1000</td><td style = \"text-align: left;\">-2670.82</td><td style = \"text-align: left;\">CartesianIndex(2, 3, 4)</td><td style = \"text-align: left;\">776.223</td></tr><tr><td class = \"rowNumber\" style = \"font-weight: bold; text-align: right;\">134</td><td style = \"text-align: left;\">3</td><td style = \"text-align: left;\">0</td><td style = \"text-align: left;\">-600</td><td style = \"text-align: left;\">-200</td><td style = \"text-align: left;\">-1000</td><td style = \"text-align: left;\">-2330.8</td><td style = \"text-align: left;\">CartesianIndex(2, 3, 3)</td><td style = \"text-align: left;\">579.878</td></tr><tr><td class = \"rowNumber\" style = \"font-weight: bold; text-align: right;\">135</td><td style = \"text-align: left;\">3</td><td style = \"text-align: left;\">0</td><td style = \"text-align: left;\">-400</td><td style = \"text-align: left;\">-200</td><td style = \"text-align: left;\">-1000</td><td style = \"text-align: left;\">-1868.29</td><td style = \"text-align: left;\">CartesianIndex(2, 3, 3)</td><td style = \"text-align: left;\">467.969</td></tr><tr><td class = \"rowNumber\" style = \"font-weight: bold; text-align: right;\">136</td><td style = \"text-align: left;\">3</td><td style = \"text-align: left;\">0</td><td style = \"text-align: left;\">-200</td><td style = \"text-align: left;\">-200</td><td style = \"text-align: left;\">-1000</td><td style = \"text-align: left;\">-1324.41</td><td style = \"text-align: left;\">CartesianIndex(3, 3, 3)</td><td style = \"text-align: left;\">345.646</td></tr></tbody></table></div>"
      ],
      "text/latex": [
       "\\begin{tabular}{r|cccccccc}\n",
       "\t& u & n & s & m & f & mean & nmN & std\\\\\n",
       "\t\\hline\n",
       "\t& Any & Any & Any & Any & Any & Any & Any & Any\\\\\n",
       "\t\\hline\n",
       "\t1 & 200 & 0 & -1600 & -200 & -1000 & -74086.1 & CartesianIndex(3, 3, 4) & 1526.41 \\\\\n",
       "\t2 & 200 & 0 & -1400 & -200 & -1000 & -70515.3 & CartesianIndex(3, 3, 4) & 1545.25 \\\\\n",
       "\t3 & 200 & 0 & -1200 & -200 & -1000 & -66956.3 & CartesianIndex(3, 3, 4) & 1507.2 \\\\\n",
       "\t4 & 200 & 0 & -1000 & -200 & -1000 & -63386.7 & CartesianIndex(3, 3, 4) & 1520.65 \\\\\n",
       "\t5 & 200 & 0 & -800 & -200 & -1000 & -59831.7 & CartesianIndex(3, 3, 4) & 1496.48 \\\\\n",
       "\t6 & 200 & 0 & -600 & -200 & -1000 & -56231.1 & CartesianIndex(3, 3, 4) & 1475.8 \\\\\n",
       "\t7 & 200 & 0 & -400 & -200 & -1000 & -52680.6 & CartesianIndex(3, 3, 4) & 1475.2 \\\\\n",
       "\t8 & 200 & 0 & -200 & -200 & -1000 & -49113.5 & CartesianIndex(3, 3, 3) & 1451.47 \\\\\n",
       "\t9 & 175 & 0 & -1600 & -200 & -1000 & -67233.1 & CartesianIndex(3, 4, 4) & 2706.46 \\\\\n",
       "\t10 & 175 & 0 & -1400 & -200 & -1000 & -64761.7 & CartesianIndex(3, 3, 4) & 1488.29 \\\\\n",
       "\t11 & 175 & 0 & -1200 & -200 & -1000 & -61204.9 & CartesianIndex(3, 3, 4) & 1454.38 \\\\\n",
       "\t12 & 175 & 0 & -1000 & -200 & -1000 & -57646.9 & CartesianIndex(3, 3, 4) & 1464.1 \\\\\n",
       "\t13 & 175 & 0 & -800 & -200 & -1000 & -54094.8 & CartesianIndex(3, 3, 4) & 1397.25 \\\\\n",
       "\t14 & 175 & 0 & -600 & -200 & -1000 & -50530.8 & CartesianIndex(3, 3, 4) & 1379.77 \\\\\n",
       "\t15 & 175 & 0 & -400 & -200 & -1000 & -46975.3 & CartesianIndex(3, 3, 4) & 1392.23 \\\\\n",
       "\t16 & 175 & 0 & -200 & -200 & -1000 & -43424.2 & CartesianIndex(3, 3, 4) & 1368.81 \\\\\n",
       "\t17 & 150 & 0 & -1600 & -200 & -1000 & -59745.5 & CartesianIndex(3, 4, 4) & 2527.79 \\\\\n",
       "\t18 & 150 & 0 & -1400 & -200 & -1000 & -58202.7 & CartesianIndex(3, 4, 4) & 2480.68 \\\\\n",
       "\t19 & 150 & 0 & -1200 & -200 & -1000 & -55436.7 & CartesianIndex(3, 3, 4) & 1399.51 \\\\\n",
       "\t20 & 150 & 0 & -1000 & -200 & -1000 & -51862.4 & CartesianIndex(3, 3, 4) & 1379.69 \\\\\n",
       "\t21 & 150 & 0 & -800 & -200 & -1000 & -48332.1 & CartesianIndex(3, 3, 4) & 1350.35 \\\\\n",
       "\t22 & 150 & 0 & -600 & -200 & -1000 & -44792.4 & CartesianIndex(3, 3, 4) & 1314.19 \\\\\n",
       "\t23 & 150 & 0 & -400 & -200 & -1000 & -41232.4 & CartesianIndex(3, 3, 4) & 1304.16 \\\\\n",
       "\t24 & 150 & 0 & -200 & -200 & -1000 & -37704.9 & CartesianIndex(3, 3, 4) & 1262.01 \\\\\n",
       "\t25 & 125 & 0 & -1600 & -200 & -1000 & -52105.6 & CartesianIndex(3, 4, 4) & 2399.29 \\\\\n",
       "\t26 & 125 & 0 & -1400 & -200 & -1000 & -50578.1 & CartesianIndex(3, 4, 4) & 2324.35 \\\\\n",
       "\t27 & 125 & 0 & -1200 & -200 & -1000 & -49074.6 & CartesianIndex(3, 4, 4) & 2302.32 \\\\\n",
       "\t28 & 125 & 0 & -1000 & -200 & -1000 & -46099.6 & CartesianIndex(3, 3, 4) & 1328.22 \\\\\n",
       "\t29 & 125 & 0 & -800 & -200 & -1000 & -42531.1 & CartesianIndex(3, 3, 4) & 1270.26 \\\\\n",
       "\t30 & 125 & 0 & -600 & -200 & -1000 & -39043.3 & CartesianIndex(3, 3, 4) & 1243.42 \\\\\n",
       "\t$\\dots$ & $\\dots$ & $\\dots$ & $\\dots$ & $\\dots$ & $\\dots$ & $\\dots$ & $\\dots$ & $\\dots$ \\\\\n",
       "\\end{tabular}\n"
      ],
      "text/plain": [
       "\u001b[1m136×8 DataFrame\u001b[0m\n",
       "\u001b[1m Row \u001b[0m│\u001b[1m u   \u001b[0m\u001b[1m n   \u001b[0m\u001b[1m s     \u001b[0m\u001b[1m m    \u001b[0m\u001b[1m f     \u001b[0m\u001b[1m mean     \u001b[0m\u001b[1m nmN                     \u001b[0m\u001b[1m std   \u001b[0m ⋯\n",
       "     │\u001b[90m Any \u001b[0m\u001b[90m Any \u001b[0m\u001b[90m Any   \u001b[0m\u001b[90m Any  \u001b[0m\u001b[90m Any   \u001b[0m\u001b[90m Any      \u001b[0m\u001b[90m Any                     \u001b[0m\u001b[90m Any   \u001b[0m ⋯\n",
       "─────┼──────────────────────────────────────────────────────────────────────────\n",
       "   1 │ 200  0    -1600  -200  -1000  -74086.1  CartesianIndex(3, 3, 4)  1526.4 ⋯\n",
       "   2 │ 200  0    -1400  -200  -1000  -70515.3  CartesianIndex(3, 3, 4)  1545.2\n",
       "   3 │ 200  0    -1200  -200  -1000  -66956.3  CartesianIndex(3, 3, 4)  1507.2\n",
       "   4 │ 200  0    -1000  -200  -1000  -63386.7  CartesianIndex(3, 3, 4)  1520.6\n",
       "   5 │ 200  0    -800   -200  -1000  -59831.7  CartesianIndex(3, 3, 4)  1496.4 ⋯\n",
       "   6 │ 200  0    -600   -200  -1000  -56231.1  CartesianIndex(3, 3, 4)  1475.8\n",
       "   7 │ 200  0    -400   -200  -1000  -52680.6  CartesianIndex(3, 3, 4)  1475.2\n",
       "   8 │ 200  0    -200   -200  -1000  -49113.5  CartesianIndex(3, 3, 3)  1451.4\n",
       "   9 │ 175  0    -1600  -200  -1000  -67233.1  CartesianIndex(3, 4, 4)  2706.4 ⋯\n",
       "  10 │ 175  0    -1400  -200  -1000  -64761.7  CartesianIndex(3, 3, 4)  1488.2\n",
       "  11 │ 175  0    -1200  -200  -1000  -61204.9  CartesianIndex(3, 3, 4)  1454.3\n",
       "  ⋮  │  ⋮    ⋮     ⋮     ⋮      ⋮       ⋮                 ⋮                ⋮   ⋱\n",
       " 127 │ 5    0    -400   -200  -1000  -2983.36  CartesianIndex(2, 3, 3)  568.17\n",
       " 128 │ 5    0    -200   -200  -1000  -2141.62  CartesianIndex(3, 3, 3)  418.77 ⋯\n",
       " 129 │ 3    0    -1600  -200  -1000  -3905.27  CartesianIndex(2, 3, 4)  1100.2\n",
       " 130 │ 3    0    -1400  -200  -1000  -3615.01  CartesianIndex(2, 3, 4)  1004.6\n",
       " 131 │ 3    0    -1200  -200  -1000  -3302.52  CartesianIndex(2, 3, 4)  928.33\n",
       " 132 │ 3    0    -1000  -200  -1000  -2993.24  CartesianIndex(2, 3, 4)  854.83 ⋯\n",
       " 133 │ 3    0    -800   -200  -1000  -2670.82  CartesianIndex(2, 3, 4)  776.22\n",
       " 134 │ 3    0    -600   -200  -1000  -2330.8   CartesianIndex(2, 3, 3)  579.87\n",
       " 135 │ 3    0    -400   -200  -1000  -1868.29  CartesianIndex(2, 3, 3)  467.96\n",
       " 136 │ 3    0    -200   -200  -1000  -1324.41  CartesianIndex(3, 3, 3)  345.64 ⋯\n",
       "\u001b[36m                                                   1 column and 115 rows omitted\u001b[0m"
      ]
     },
     "execution_count": 6,
     "metadata": {},
     "output_type": "execute_result"
    }
   ],
   "source": [
    "\n",
    "df"
   ]
  },
  {
   "cell_type": "code",
   "execution_count": null,
   "metadata": {},
   "outputs": [],
   "source": []
  },
  {
   "cell_type": "code",
   "execution_count": 7,
   "metadata": {},
   "outputs": [
    {
     "data": {
      "text/plain": [
       "\"nmN_new2TRIAL.csv\""
      ]
     },
     "execution_count": 7,
     "metadata": {},
     "output_type": "execute_result"
    }
   ],
   "source": [
    "using CSV\n",
    "CSV.write(\"nmN_new2TRIAL.csv\", df)"
   ]
  },
  {
   "cell_type": "code",
   "execution_count": 8,
   "metadata": {},
   "outputs": [],
   "source": [
    "NumberUnits=5\n",
    "Number_level=10\n",
    "global state_number = state_cnt(5,10);\n",
    "global arrayofstates = Vector{mystate}(undef, state_number);\n",
    "\n",
    "Threads.@threads for i in 1:state_number\n",
    "    global arrayofstates[i]  = mystate(state_vec(NumberUnits, Number_level, i));\n",
    "end\n"
   ]
  },
  {
   "cell_type": "code",
   "execution_count": 9,
   "metadata": {},
   "outputs": [
    {
     "data": {
      "text/plain": [
       "2002-element Vector{mystate}:\n",
       " mystate([5, 0, 0, 0, 0, 0, 0, 0, 0, 0])\n",
       " mystate([4, 1, 0, 0, 0, 0, 0, 0, 0, 0])\n",
       " mystate([3, 2, 0, 0, 0, 0, 0, 0, 0, 0])\n",
       " mystate([2, 3, 0, 0, 0, 0, 0, 0, 0, 0])\n",
       " mystate([1, 4, 0, 0, 0, 0, 0, 0, 0, 0])\n",
       " mystate([0, 5, 0, 0, 0, 0, 0, 0, 0, 0])\n",
       " mystate([4, 0, 1, 0, 0, 0, 0, 0, 0, 0])\n",
       " mystate([3, 1, 1, 0, 0, 0, 0, 0, 0, 0])\n",
       " mystate([2, 2, 1, 0, 0, 0, 0, 0, 0, 0])\n",
       " mystate([1, 3, 1, 0, 0, 0, 0, 0, 0, 0])\n",
       " mystate([0, 4, 1, 0, 0, 0, 0, 0, 0, 0])\n",
       " mystate([3, 0, 2, 0, 0, 0, 0, 0, 0, 0])\n",
       " mystate([2, 1, 2, 0, 0, 0, 0, 0, 0, 0])\n",
       " ⋮\n",
       " mystate([0, 0, 0, 0, 0, 0, 0, 1, 1, 3])\n",
       " mystate([0, 0, 0, 0, 0, 0, 0, 0, 2, 3])\n",
       " mystate([1, 0, 0, 0, 0, 0, 0, 0, 0, 4])\n",
       " mystate([0, 1, 0, 0, 0, 0, 0, 0, 0, 4])\n",
       " mystate([0, 0, 1, 0, 0, 0, 0, 0, 0, 4])\n",
       " mystate([0, 0, 0, 1, 0, 0, 0, 0, 0, 4])\n",
       " mystate([0, 0, 0, 0, 1, 0, 0, 0, 0, 4])\n",
       " mystate([0, 0, 0, 0, 0, 1, 0, 0, 0, 4])\n",
       " mystate([0, 0, 0, 0, 0, 0, 1, 0, 0, 4])\n",
       " mystate([0, 0, 0, 0, 0, 0, 0, 1, 0, 4])\n",
       " mystate([0, 0, 0, 0, 0, 0, 0, 0, 1, 4])\n",
       " mystate([0, 0, 0, 0, 0, 0, 0, 0, 0, 5])"
      ]
     },
     "execution_count": 9,
     "metadata": {},
     "output_type": "execute_result"
    }
   ],
   "source": [
    "(arrayofstates)\n"
   ]
  },
  {
   "cell_type": "code",
   "execution_count": null,
   "metadata": {},
   "outputs": [],
   "source": []
  },
  {
   "cell_type": "code",
   "execution_count": null,
   "metadata": {},
   "outputs": [],
   "source": []
  }
 ],
 "metadata": {
  "kernelspec": {
   "display_name": "Julia 1.8.2",
   "language": "julia",
   "name": "julia-1.8"
  },
  "language_info": {
   "file_extension": ".jl",
   "mimetype": "application/julia",
   "name": "julia",
   "version": "1.8.2"
  }
 },
 "nbformat": 4,
 "nbformat_minor": 2
}
