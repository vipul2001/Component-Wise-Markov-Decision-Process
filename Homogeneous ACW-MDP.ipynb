{
 "cells": [
  {
   "cell_type": "code",
   "execution_count": 1,
   "metadata": {},
   "outputs": [],
   "source": [
    "using POMDPs, POMDPTools, QuickPOMDPs, MCTS, DiscreteValueIteration, POMDPSimulators, POMDPModels, POMDPPolicies\n",
    "using Distributions, Combinatorics, StaticArrays, D3Trees, Random\n",
    "using FileIO, JLD2, TickTock"
   ]
  },
  {
   "cell_type": "code",
   "execution_count": null,
   "metadata": {},
   "outputs": [],
   "source": []
  },
  {
   "cell_type": "code",
   "execution_count": 2,
   "metadata": {},
   "outputs": [],
   "source": [
    "\n",
    "Number_level = 10;\n",
    "fullname = \"tm10\";\n",
    "# generate_transition_matrix(Number_level, fullname) \n",
    "Transition_matrix = load(fullname*\".jld2\",\"transition_matrix\");\n"
   ]
  },
  {
   "cell_type": "code",
   "execution_count": 3,
   "metadata": {},
   "outputs": [
    {
     "data": {
      "text/plain": [
       "reward (generic function with 3 methods)"
      ]
     },
     "execution_count": 3,
     "metadata": {},
     "output_type": "execute_result"
    }
   ],
   "source": [
    "function reward(s, a,s1=10, rng=23)       #s is a vector of number units at each level and a is the number of units we will repair\n",
    "       if s==Number_level\n",
    "            r=failure_penalty +  setup_cost/NumberUnits  + normal_operation  ;\n",
    "        return r\n",
    "       end\n",
    "        r=0\n",
    "     if a==1\n",
    "        if s1>=s\n",
    "            crd = Categorical(Transition_matrix[s,:]);\n",
    "            s = rand(crd);\n",
    "            r = normal_operation ;\n",
    "         return r\n",
    "        else\n",
    "            return 0.0\n",
    "        end\n",
    "        end\n",
    "    if a==2\n",
    "         if s1>=s\n",
    "            crd = Categorical(Transition_matrix[s,:]);\n",
    "            s = rand(crd);\n",
    "            r = normal_operation +  setup_cost/NumberUnits;\n",
    "         return r\n",
    "        else\n",
    "            return 0.0\n",
    "        end\n",
    "        end\n",
    "    if a==3\n",
    "        s1=deepcopy(s)\n",
    "        s=1\n",
    "        r = maintenance_penalty +  setup_cost/NumberUnits\n",
    "         crd = Categorical(Transition_matrix[s,:]);\n",
    "            s = rand(crd);\n",
    "            r+= normal_operation  ;\n",
    "#            r*=(s1/10);\n",
    "        return r\n",
    "    end\n",
    "    end"
   ]
  },
  {
   "cell_type": "code",
   "execution_count": 4,
   "metadata": {},
   "outputs": [
    {
     "data": {
      "text/plain": [
       "10-element view(::Array{Float64, 3}, 10, :, 2) with eltype Float64:\n",
       " 0.2695279572108137\n",
       " 0.16860741623354286\n",
       " 0.1306613209439592\n",
       " 0.09857168678543618\n",
       " 0.09171796107138079\n",
       " 0.09134806335671229\n",
       " 0.09048875946531719\n",
       " 0.04832973229444604\n",
       " 0.00607725632113932\n",
       " 0.004669846317252394"
      ]
     },
     "execution_count": 4,
     "metadata": {},
     "output_type": "execute_result"
    }
   ],
   "source": [
    "T=zeros(Number_level,Number_level,3);\n",
    "\n",
    "\n",
    "T[:,:,1].=Transition_matrix;\n",
    "\n",
    "T[:,:,2].=Transition_matrix;\n",
    "\n",
    "for j in 1:10\n",
    "        T[j,:,3].=Transition_matrix[1,:];\n",
    "        end\n",
    "\n",
    "T[10,:,1].=Transition_matrix[1,:]\n",
    "T[10,:,2].=Transition_matrix[1,:]"
   ]
  },
  {
   "cell_type": "code",
   "execution_count": null,
   "metadata": {
    "scrolled": true
   },
   "outputs": [],
   "source": []
  },
  {
   "cell_type": "code",
   "execution_count": 5,
   "metadata": {},
   "outputs": [
    {
     "data": {
      "text/plain": [
       "generative (generic function with 2 methods)"
      ]
     },
     "execution_count": 5,
     "metadata": {},
     "output_type": "execute_result"
    }
   ],
   "source": [
    "\n",
    "function generative(s, a, rng=23)       #s is state of a component and a is extend action of a component\n",
    "        if s==Number_level\n",
    "        s=1\n",
    "        crd = Categorical(Transition_matrix[s,:]);\n",
    "            s = rand(crd);\n",
    "            r=failure_penalty +  setup_cost/NumberUnits + normal_operation  ;\n",
    "        return (sp=s, r=r)\n",
    "       end\n",
    "        r=0\n",
    "     if a==1\n",
    "            crd = Categorical(Transition_matrix[s,:]);\n",
    "            s = rand(crd);\n",
    "            r = normal_operation ;\n",
    "         return (sp=s, r=r)\n",
    "        end\n",
    "    if a==2\n",
    "            crd = Categorical(Transition_matrix[s,:]);\n",
    "            s = rand(crd);\n",
    "            r = normal_operation +  setup_cost/NumberUnits ;\n",
    "             return (sp=s, r=r)\n",
    "        end\n",
    "    if a==3\n",
    "        s1=deepcopy(s)\n",
    "        s=1\n",
    "        r = maintenance_penalty +  setup_cost/NumberUnits\n",
    "         crd = Categorical(Transition_matrix[s,:]);\n",
    "            s = rand(crd);\n",
    "            r+= normal_operation  ;\n",
    "       return (sp=s, r=r)\n",
    "    end\n",
    "    end"
   ]
  },
  {
   "cell_type": "code",
   "execution_count": 6,
   "metadata": {},
   "outputs": [
    {
     "data": {
      "text/plain": [
       "ValueIteration (generic function with 1 method)"
      ]
     },
     "execution_count": 6,
     "metadata": {},
     "output_type": "execute_result"
    }
   ],
   "source": [
    "function ValueIteration( γ)\n",
    "    Q=zeros((Number_level,3))\n",
    "    V= rand(Float64, (Number_level))*1000\n",
    "\n",
    "    i=0\n",
    "    p=[1 1 1 ]\n",
    "    while i<=2000\n",
    "#     while  i<=10000\n",
    "    for s in 1:10\n",
    "        Threads.@threads for a in 1:3\n",
    " \n",
    "                Q[s,a]= (reward(s,a)) + γ*( sum(T[s,s1,a]*(V[s1]) for (s1) in 1:10 ))\n",
    "    end\n",
    "\n",
    "           p=[exp(lamb*(sum(Q[s,1]-findmin(Q[s,1:3])[1]))),exp(lamb*(Q[s,2]-findmin(Q[s,1:3])[1])),exp(lamb*(Q[s,3]-findmin(Q[s,1:3])[1]))]\n",
    "            p=p./sum(p)\n",
    "            V[s]=Q[s,1]*p[1]+Q[s,2]*p[2]+Q[s,3]*p[3]\n",
    "        end\n",
    "        i+=1\n",
    "        end\n",
    "    return Q,V\n",
    "    end"
   ]
  },
  {
   "cell_type": "code",
   "execution_count": 7,
   "metadata": {},
   "outputs": [
    {
     "data": {
      "text/plain": [
       "decison (generic function with 2 methods)"
      ]
     },
     "execution_count": 7,
     "metadata": {},
     "output_type": "execute_result"
    }
   ],
   "source": [
    "\n",
    "\n",
    "\n",
    "\n",
    "function decison(Q, s,n=0.2)\n",
    "   a_final=[]\n",
    "   if Number_level in s\n",
    "        for i in 1:NumberUnits\n",
    "            append!(a_final,argmax(a->Q[s[i],a], [2,3]))\n",
    "            end\n",
    "        return a_final\n",
    "    end\n",
    "    q0=0.0\n",
    "    a_0=repeat(1:1,NumberUnits);\n",
    "    for i in 1:NumberUnits\n",
    "            q0+=Q[s[i],1]\n",
    "    end\n",
    "    a_final=repeat(1:1,NumberUnits);\n",
    "    repair= argmax(i->s[i], 1:NumberUnits)\n",
    "    a_final[repair]=3\n",
    "    b=1\n",
    "    for i in 1:NumberUnits\n",
    "            if i!=repair\n",
    "            a_final[i]=argmax(a->Q[s[i],a], [2,3])\n",
    "            if a_final[i]==3\n",
    "                b+=1\n",
    "            end\n",
    "            end\n",
    "    end\n",
    "        q1=0.0\n",
    "    for i in 1:NumberUnits\n",
    "            q1+=Q[s[i],a_final[i]]\n",
    "    end\n",
    "    if q0>q1\n",
    "            return a_0\n",
    "        else\n",
    "            return a_final\n",
    "        end\n",
    "end"
   ]
  },
  {
   "cell_type": "code",
   "execution_count": 8,
   "metadata": {},
   "outputs": [
    {
     "data": {
      "text/html": [
       "<div><div style = \"float: left;\"><span>0×8 DataFrame</span></div><div style = \"clear: both;\"></div></div><div class = \"data-frame\" style = \"overflow-x: scroll;\"><table class = \"data-frame\" style = \"margin-bottom: 6px;\"></table></div>"
      ],
      "text/latex": [
       "\\begin{tabular}{r|cccccccc}\n",
       "\t& Units & n & s & m & f & lambda & mean & std\\\\\n",
       "\t\\hline\n",
       "\t& Any & Any & Any & Any & Any & Any & Any & Any\\\\\n",
       "\t\\hline\n",
       "\\end{tabular}\n"
      ],
      "text/plain": [
       "\u001b[1m0×8 DataFrame\u001b[0m"
      ]
     },
     "execution_count": 8,
     "metadata": {},
     "output_type": "execute_result"
    }
   ],
   "source": [
    "using DataFrames\n",
    "df= DataFrame(Units=[],n=[],s=[],m=[],f=[],lambda=[],mean=[],std=[])"
   ]
  },
  {
   "cell_type": "code",
   "execution_count": 9,
   "metadata": {
    "scrolled": true
   },
   "outputs": [
    {
     "name": "stdout",
     "output_type": "stream",
     "text": [
      "20[0, -800, -200, -1000]\n",
      "true\n",
      "true\n",
      "true\n",
      "false\n"
     ]
    },
    {
     "name": "stderr",
     "output_type": "stream",
     "text": [
      "┌ Info:  started timer at: 2023-04-17T10:21:16.980\n",
      "└ @ TickTock C:\\Users\\vbansal5\\.julia\\packages\\TickTock\\fGILW\\src\\TickTock.jl:54\n"
     ]
    },
    {
     "name": "stdout",
     "output_type": "stream",
     "text": [
      "20\n",
      "1.0\n",
      "-34144.57569734362\n",
      "2058.551849976428\n"
     ]
    },
    {
     "name": "stderr",
     "output_type": "stream",
     "text": [
      "┌ Info:           13.1955784s: 13 seconds, 195 milliseconds\n",
      "└ @ TickTock C:\\Users\\vbansal5\\.julia\\packages\\TickTock\\fGILW\\src\\TickTock.jl:62\n"
     ]
    },
    {
     "name": "stdout",
     "output_type": "stream",
     "text": [
      "false\n"
     ]
    },
    {
     "name": "stderr",
     "output_type": "stream",
     "text": [
      "┌ Info:  started timer at: 2023-04-17T10:21:30.966\n",
      "└ @ TickTock C:\\Users\\vbansal5\\.julia\\packages\\TickTock\\fGILW\\src\\TickTock.jl:54\n"
     ]
    },
    {
     "name": "stdout",
     "output_type": "stream",
     "text": [
      "20\n",
      "0.5\n",
      "-34115.541892157\n",
      "2051.1085865992522\n"
     ]
    },
    {
     "name": "stderr",
     "output_type": "stream",
     "text": [
      "┌ Info:           11.6287723s: 11 seconds, 628 milliseconds\n",
      "└ @ TickTock C:\\Users\\vbansal5\\.julia\\packages\\TickTock\\fGILW\\src\\TickTock.jl:62\n"
     ]
    },
    {
     "name": "stdout",
     "output_type": "stream",
     "text": [
      "false\n"
     ]
    },
    {
     "name": "stderr",
     "output_type": "stream",
     "text": [
      "┌ Info:  started timer at: 2023-04-17T10:21:43.484\n",
      "└ @ TickTock C:\\Users\\vbansal5\\.julia\\packages\\TickTock\\fGILW\\src\\TickTock.jl:54\n"
     ]
    },
    {
     "name": "stdout",
     "output_type": "stream",
     "text": [
      "20\n",
      "0.1\n",
      "-34087.060308007385\n",
      "2058.588685947898\n"
     ]
    },
    {
     "name": "stderr",
     "output_type": "stream",
     "text": [
      "┌ Info:           11.7448383s: 11 seconds, 744 milliseconds\n",
      "└ @ TickTock C:\\Users\\vbansal5\\.julia\\packages\\TickTock\\fGILW\\src\\TickTock.jl:62\n"
     ]
    },
    {
     "name": "stdout",
     "output_type": "stream",
     "text": [
      "false\n"
     ]
    },
    {
     "name": "stderr",
     "output_type": "stream",
     "text": [
      "┌ Info:  started timer at: 2023-04-17T10:21:55.918\n",
      "└ @ TickTock C:\\Users\\vbansal5\\.julia\\packages\\TickTock\\fGILW\\src\\TickTock.jl:54\n"
     ]
    },
    {
     "name": "stdout",
     "output_type": "stream",
     "text": [
      "20\n",
      "0.05\n",
      "-34075.582481805766\n",
      "2071.4019632486547\n"
     ]
    },
    {
     "name": "stderr",
     "output_type": "stream",
     "text": [
      "┌ Info:           11.6637823s: 11 seconds, 663 milliseconds\n",
      "└ @ TickTock C:\\Users\\vbansal5\\.julia\\packages\\TickTock\\fGILW\\src\\TickTock.jl:62\n"
     ]
    },
    {
     "name": "stdout",
     "output_type": "stream",
     "text": [
      "false\n"
     ]
    },
    {
     "name": "stderr",
     "output_type": "stream",
     "text": [
      "┌ Info:  started timer at: 2023-04-17T10:22:08.296\n",
      "└ @ TickTock C:\\Users\\vbansal5\\.julia\\packages\\TickTock\\fGILW\\src\\TickTock.jl:54\n"
     ]
    },
    {
     "name": "stdout",
     "output_type": "stream",
     "text": [
      "20\n",
      "0.01\n",
      "-34136.40109158711\n",
      "2082.20392876391\n"
     ]
    },
    {
     "name": "stderr",
     "output_type": "stream",
     "text": [
      "┌ Info:            11.456695s: 11 seconds, 456 milliseconds\n",
      "└ @ TickTock C:\\Users\\vbansal5\\.julia\\packages\\TickTock\\fGILW\\src\\TickTock.jl:62\n"
     ]
    },
    {
     "name": "stdout",
     "output_type": "stream",
     "text": [
      "false\n"
     ]
    },
    {
     "name": "stderr",
     "output_type": "stream",
     "text": [
      "┌ Info:  started timer at: 2023-04-17T10:22:20.701\n",
      "└ @ TickTock C:\\Users\\vbansal5\\.julia\\packages\\TickTock\\fGILW\\src\\TickTock.jl:54\n"
     ]
    },
    {
     "name": "stdout",
     "output_type": "stream",
     "text": [
      "20\n",
      "0.005\n",
      "-34112.17615784901\n",
      "2037.1470528284203\n"
     ]
    },
    {
     "name": "stderr",
     "output_type": "stream",
     "text": [
      "┌ Info:           11.4831322s: 11 seconds, 483 milliseconds\n",
      "└ @ TickTock C:\\Users\\vbansal5\\.julia\\packages\\TickTock\\fGILW\\src\\TickTock.jl:62\n"
     ]
    },
    {
     "name": "stdout",
     "output_type": "stream",
     "text": [
      "false\n"
     ]
    },
    {
     "name": "stderr",
     "output_type": "stream",
     "text": [
      "┌ Info:  started timer at: 2023-04-17T10:22:33.168\n",
      "└ @ TickTock C:\\Users\\vbansal5\\.julia\\packages\\TickTock\\fGILW\\src\\TickTock.jl:54\n"
     ]
    },
    {
     "name": "stdout",
     "output_type": "stream",
     "text": [
      "20\n",
      "0.001\n",
      "-34111.87589681147\n",
      "2038.3079614168087\n"
     ]
    },
    {
     "name": "stderr",
     "output_type": "stream",
     "text": [
      "┌ Info:           11.7382714s: 11 seconds, 738 milliseconds\n",
      "└ @ TickTock C:\\Users\\vbansal5\\.julia\\packages\\TickTock\\fGILW\\src\\TickTock.jl:62\n"
     ]
    },
    {
     "name": "stdout",
     "output_type": "stream",
     "text": [
      "false\n"
     ]
    },
    {
     "name": "stderr",
     "output_type": "stream",
     "text": [
      "┌ Info:  started timer at: 2023-04-17T10:22:45.604\n",
      "└ @ TickTock C:\\Users\\vbansal5\\.julia\\packages\\TickTock\\fGILW\\src\\TickTock.jl:54\n"
     ]
    },
    {
     "name": "stdout",
     "output_type": "stream",
     "text": [
      "20\n",
      "0.0005\n",
      "-34120.163152748835\n",
      "2012.3683919286318\n"
     ]
    },
    {
     "name": "stderr",
     "output_type": "stream",
     "text": [
      "┌ Info:           11.7688985s: 11 seconds, 768 milliseconds\n",
      "└ @ TickTock C:\\Users\\vbansal5\\.julia\\packages\\TickTock\\fGILW\\src\\TickTock.jl:62\n"
     ]
    },
    {
     "name": "stdout",
     "output_type": "stream",
     "text": [
      "false\n"
     ]
    },
    {
     "name": "stderr",
     "output_type": "stream",
     "text": [
      "┌ Info:  started timer at: 2023-04-17T10:22:58.032\n",
      "└ @ TickTock C:\\Users\\vbansal5\\.julia\\packages\\TickTock\\fGILW\\src\\TickTock.jl:54\n"
     ]
    },
    {
     "name": "stdout",
     "output_type": "stream",
     "text": [
      "20\n",
      "0.0001\n",
      "-34118.31822644974\n",
      "2045.0703753371397\n"
     ]
    },
    {
     "name": "stderr",
     "output_type": "stream",
     "text": [
      "┌ Info:           11.5208274s: 11 seconds, 520 milliseconds\n",
      "└ @ TickTock C:\\Users\\vbansal5\\.julia\\packages\\TickTock\\fGILW\\src\\TickTock.jl:62\n"
     ]
    },
    {
     "name": "stdout",
     "output_type": "stream",
     "text": [
      "false\n"
     ]
    },
    {
     "name": "stderr",
     "output_type": "stream",
     "text": [
      "┌ Info:  started timer at: 2023-04-17T10:23:10.511\n",
      "└ @ TickTock C:\\Users\\vbansal5\\.julia\\packages\\TickTock\\fGILW\\src\\TickTock.jl:54\n"
     ]
    },
    {
     "name": "stdout",
     "output_type": "stream",
     "text": [
      "20\n",
      "5.0e-5\n",
      "-34095.03321518279\n",
      "2007.0473328081655\n"
     ]
    },
    {
     "name": "stderr",
     "output_type": "stream",
     "text": [
      "┌ Info:           11.7521138s: 11 seconds, 752 milliseconds\n",
      "└ @ TickTock C:\\Users\\vbansal5\\.julia\\packages\\TickTock\\fGILW\\src\\TickTock.jl:62\n"
     ]
    },
    {
     "name": "stdout",
     "output_type": "stream",
     "text": [
      "false\n"
     ]
    },
    {
     "name": "stderr",
     "output_type": "stream",
     "text": [
      "┌ Info:  started timer at: 2023-04-17T10:23:23.041\n",
      "└ @ TickTock C:\\Users\\vbansal5\\.julia\\packages\\TickTock\\fGILW\\src\\TickTock.jl:54\n"
     ]
    },
    {
     "name": "stdout",
     "output_type": "stream",
     "text": [
      "20\n",
      "1.0e-5\n",
      "-34068.15761011245\n",
      "2035.7661963323515\n"
     ]
    },
    {
     "name": "stderr",
     "output_type": "stream",
     "text": [
      "┌ Info:           11.7256206s: 11 seconds, 725 milliseconds\n",
      "└ @ TickTock C:\\Users\\vbansal5\\.julia\\packages\\TickTock\\fGILW\\src\\TickTock.jl:62\n"
     ]
    },
    {
     "name": "stdout",
     "output_type": "stream",
     "text": [
      "false\n"
     ]
    },
    {
     "name": "stderr",
     "output_type": "stream",
     "text": [
      "┌ Info:  started timer at: 2023-04-17T10:23:35.484\n",
      "└ @ TickTock C:\\Users\\vbansal5\\.julia\\packages\\TickTock\\fGILW\\src\\TickTock.jl:54\n"
     ]
    },
    {
     "name": "stdout",
     "output_type": "stream",
     "text": [
      "20\n",
      "5.0e-6\n",
      "-34109.46970634043\n",
      "2040.7385192865536\n"
     ]
    },
    {
     "name": "stderr",
     "output_type": "stream",
     "text": [
      "┌ Info:           11.6814994s: 11 seconds, 681 milliseconds\n",
      "└ @ TickTock C:\\Users\\vbansal5\\.julia\\packages\\TickTock\\fGILW\\src\\TickTock.jl:62\n"
     ]
    },
    {
     "name": "stdout",
     "output_type": "stream",
     "text": [
      "false\n"
     ]
    },
    {
     "name": "stderr",
     "output_type": "stream",
     "text": [
      "┌ Info:  started timer at: 2023-04-17T10:23:48.118\n",
      "└ @ TickTock C:\\Users\\vbansal5\\.julia\\packages\\TickTock\\fGILW\\src\\TickTock.jl:54\n"
     ]
    },
    {
     "name": "stdout",
     "output_type": "stream",
     "text": [
      "20\n",
      "1.0e-6\n",
      "-34134.08122545576\n",
      "2024.0665093753391\n"
     ]
    },
    {
     "name": "stderr",
     "output_type": "stream",
     "text": [
      "┌ Info:           11.6787958s: 11 seconds, 678 milliseconds\n",
      "└ @ TickTock C:\\Users\\vbansal5\\.julia\\packages\\TickTock\\fGILW\\src\\TickTock.jl:62\n"
     ]
    },
    {
     "name": "stdout",
     "output_type": "stream",
     "text": [
      "false\n"
     ]
    },
    {
     "name": "stderr",
     "output_type": "stream",
     "text": [
      "┌ Info:  started timer at: 2023-04-17T10:24:00.760\n",
      "└ @ TickTock C:\\Users\\vbansal5\\.julia\\packages\\TickTock\\fGILW\\src\\TickTock.jl:54\n"
     ]
    },
    {
     "name": "stdout",
     "output_type": "stream",
     "text": [
      "20\n",
      "5.0e-7\n",
      "-34129.97126002485\n",
      "2014.344849260372\n"
     ]
    },
    {
     "name": "stderr",
     "output_type": "stream",
     "text": [
      "┌ Info:           11.7231576s: 11 seconds, 723 milliseconds\n",
      "└ @ TickTock C:\\Users\\vbansal5\\.julia\\packages\\TickTock\\fGILW\\src\\TickTock.jl:62\n"
     ]
    },
    {
     "name": "stdout",
     "output_type": "stream",
     "text": [
      "false\n"
     ]
    },
    {
     "name": "stderr",
     "output_type": "stream",
     "text": [
      "┌ Info:  started timer at: 2023-04-17T10:24:13.431\n",
      "└ @ TickTock C:\\Users\\vbansal5\\.julia\\packages\\TickTock\\fGILW\\src\\TickTock.jl:54\n"
     ]
    },
    {
     "name": "stdout",
     "output_type": "stream",
     "text": [
      "20\n",
      "1.0e-7\n",
      "-34149.68204450968\n",
      "2030.9500613271944\n"
     ]
    },
    {
     "name": "stderr",
     "output_type": "stream",
     "text": [
      "┌ Info:           11.6345662s: 11 seconds, 634 milliseconds\n",
      "└ @ TickTock C:\\Users\\vbansal5\\.julia\\packages\\TickTock\\fGILW\\src\\TickTock.jl:62\n"
     ]
    },
    {
     "name": "stdout",
     "output_type": "stream",
     "text": [
      "false\n"
     ]
    },
    {
     "name": "stderr",
     "output_type": "stream",
     "text": [
      "┌ Info:  started timer at: 2023-04-17T10:24:26.066\n",
      "└ @ TickTock C:\\Users\\vbansal5\\.julia\\packages\\TickTock\\fGILW\\src\\TickTock.jl:54\n"
     ]
    },
    {
     "name": "stdout",
     "output_type": "stream",
     "text": [
      "20\n",
      "5.0e-8\n",
      "-34125.058252218856\n",
      "2019.585796597409\n"
     ]
    },
    {
     "name": "stderr",
     "output_type": "stream",
     "text": [
      "┌ Info:           11.7367918s: 11 seconds, 736 milliseconds\n",
      "└ @ TickTock C:\\Users\\vbansal5\\.julia\\packages\\TickTock\\fGILW\\src\\TickTock.jl:62\n"
     ]
    },
    {
     "name": "stdout",
     "output_type": "stream",
     "text": [
      "false\n"
     ]
    },
    {
     "name": "stderr",
     "output_type": "stream",
     "text": [
      "┌ Info:  started timer at: 2023-04-17T10:24:38.534\n",
      "└ @ TickTock C:\\Users\\vbansal5\\.julia\\packages\\TickTock\\fGILW\\src\\TickTock.jl:54\n"
     ]
    },
    {
     "name": "stdout",
     "output_type": "stream",
     "text": [
      "20\n",
      "1.0e-8\n",
      "-34106.948293804\n",
      "1985.4996429165687\n",
      "-------------------------\n",
      "30[0, -800, -200, -1000]\n"
     ]
    },
    {
     "name": "stderr",
     "output_type": "stream",
     "text": [
      "┌ Info:           11.5593065s: 11 seconds, 559 milliseconds\n",
      "└ @ TickTock C:\\Users\\vbansal5\\.julia\\packages\\TickTock\\fGILW\\src\\TickTock.jl:62\n"
     ]
    },
    {
     "name": "stdout",
     "output_type": "stream",
     "text": [
      "true\n",
      "true\n",
      "true\n",
      "false\n"
     ]
    },
    {
     "name": "stderr",
     "output_type": "stream",
     "text": [
      "┌ Info:  started timer at: 2023-04-17T10:24:53.194\n",
      "└ @ TickTock C:\\Users\\vbansal5\\.julia\\packages\\TickTock\\fGILW\\src\\TickTock.jl:54\n"
     ]
    },
    {
     "name": "stdout",
     "output_type": "stream",
     "text": [
      "30\n",
      "1.0\n",
      "-47675.13164716345\n",
      "2322.3495878882172\n"
     ]
    },
    {
     "name": "stderr",
     "output_type": "stream",
     "text": [
      "┌ Info:           17.4929781s: 17 seconds, 492 milliseconds\n",
      "└ @ TickTock C:\\Users\\vbansal5\\.julia\\packages\\TickTock\\fGILW\\src\\TickTock.jl:62\n"
     ]
    },
    {
     "name": "stdout",
     "output_type": "stream",
     "text": [
      "false\n"
     ]
    },
    {
     "name": "stderr",
     "output_type": "stream",
     "text": [
      "┌ Info:  started timer at: 2023-04-17T10:25:11.370\n",
      "└ @ TickTock C:\\Users\\vbansal5\\.julia\\packages\\TickTock\\fGILW\\src\\TickTock.jl:54\n"
     ]
    },
    {
     "name": "stdout",
     "output_type": "stream",
     "text": [
      "30\n",
      "0.5\n",
      "-47637.93724536285\n",
      "2310.4559610750002\n"
     ]
    },
    {
     "name": "stderr",
     "output_type": "stream",
     "text": [
      "┌ Info:           17.4681628s: 17 seconds, 468 milliseconds\n",
      "└ @ TickTock C:\\Users\\vbansal5\\.julia\\packages\\TickTock\\fGILW\\src\\TickTock.jl:62\n"
     ]
    },
    {
     "name": "stdout",
     "output_type": "stream",
     "text": [
      "false\n"
     ]
    },
    {
     "name": "stderr",
     "output_type": "stream",
     "text": [
      "┌ Info:  started timer at: 2023-04-17T10:25:29.543\n",
      "└ @ TickTock C:\\Users\\vbansal5\\.julia\\packages\\TickTock\\fGILW\\src\\TickTock.jl:54\n"
     ]
    },
    {
     "name": "stdout",
     "output_type": "stream",
     "text": [
      "30\n",
      "0.1\n",
      "-47671.198228321366\n",
      "2370.186189623313\n"
     ]
    },
    {
     "name": "stderr",
     "output_type": "stream",
     "text": [
      "┌ Info:            17.497272s: 17 seconds, 497 milliseconds\n",
      "└ @ TickTock C:\\Users\\vbansal5\\.julia\\packages\\TickTock\\fGILW\\src\\TickTock.jl:62\n"
     ]
    },
    {
     "name": "stdout",
     "output_type": "stream",
     "text": [
      "false\n"
     ]
    },
    {
     "name": "stderr",
     "output_type": "stream",
     "text": [
      "┌ Info:  started timer at: 2023-04-17T10:25:47.750\n",
      "└ @ TickTock C:\\Users\\vbansal5\\.julia\\packages\\TickTock\\fGILW\\src\\TickTock.jl:54\n"
     ]
    },
    {
     "name": "stdout",
     "output_type": "stream",
     "text": [
      "30\n",
      "0.05\n",
      "-47681.83442861939\n",
      "2324.5277483831264\n"
     ]
    },
    {
     "name": "stderr",
     "output_type": "stream",
     "text": [
      "┌ Info:           17.4808067s: 17 seconds, 480 milliseconds\n",
      "└ @ TickTock C:\\Users\\vbansal5\\.julia\\packages\\TickTock\\fGILW\\src\\TickTock.jl:62\n"
     ]
    },
    {
     "name": "stdout",
     "output_type": "stream",
     "text": [
      "false\n"
     ]
    },
    {
     "name": "stderr",
     "output_type": "stream",
     "text": [
      "┌ Info:  started timer at: 2023-04-17T10:26:06.029\n",
      "└ @ TickTock C:\\Users\\vbansal5\\.julia\\packages\\TickTock\\fGILW\\src\\TickTock.jl:54\n"
     ]
    },
    {
     "name": "stdout",
     "output_type": "stream",
     "text": [
      "30\n",
      "0.01\n",
      "-49258.41520395267\n",
      "2548.700728089395\n"
     ]
    },
    {
     "name": "stderr",
     "output_type": "stream",
     "text": [
      "┌ Info:           17.6907505s: 17 seconds, 690 milliseconds\n",
      "└ @ TickTock C:\\Users\\vbansal5\\.julia\\packages\\TickTock\\fGILW\\src\\TickTock.jl:62\n"
     ]
    },
    {
     "name": "stdout",
     "output_type": "stream",
     "text": [
      "false\n"
     ]
    },
    {
     "name": "stderr",
     "output_type": "stream",
     "text": [
      "┌ Info:  started timer at: 2023-04-17T10:26:24.409\n",
      "└ @ TickTock C:\\Users\\vbansal5\\.julia\\packages\\TickTock\\fGILW\\src\\TickTock.jl:54\n"
     ]
    },
    {
     "name": "stdout",
     "output_type": "stream",
     "text": [
      "30\n",
      "0.005\n",
      "-49301.88726055117\n",
      "2521.4312823616224\n"
     ]
    },
    {
     "name": "stderr",
     "output_type": "stream",
     "text": [
      "┌ Info:           17.6319292s: 17 seconds, 631 milliseconds\n",
      "└ @ TickTock C:\\Users\\vbansal5\\.julia\\packages\\TickTock\\fGILW\\src\\TickTock.jl:62\n"
     ]
    },
    {
     "name": "stdout",
     "output_type": "stream",
     "text": [
      "false\n"
     ]
    },
    {
     "name": "stderr",
     "output_type": "stream",
     "text": [
      "┌ Info:  started timer at: 2023-04-17T10:26:42.743\n",
      "└ @ TickTock C:\\Users\\vbansal5\\.julia\\packages\\TickTock\\fGILW\\src\\TickTock.jl:54\n"
     ]
    },
    {
     "name": "stdout",
     "output_type": "stream",
     "text": [
      "30\n",
      "0.001\n",
      "-47753.07813643137\n",
      "2294.8810353458557\n"
     ]
    },
    {
     "name": "stderr",
     "output_type": "stream",
     "text": [
      "┌ Info:           17.6709365s: 17 seconds, 670 milliseconds\n",
      "└ @ TickTock C:\\Users\\vbansal5\\.julia\\packages\\TickTock\\fGILW\\src\\TickTock.jl:62\n"
     ]
    },
    {
     "name": "stdout",
     "output_type": "stream",
     "text": [
      "false\n"
     ]
    },
    {
     "name": "stderr",
     "output_type": "stream",
     "text": [
      "┌ Info:  started timer at: 2023-04-17T10:27:01.108\n",
      "└ @ TickTock C:\\Users\\vbansal5\\.julia\\packages\\TickTock\\fGILW\\src\\TickTock.jl:54\n"
     ]
    },
    {
     "name": "stdout",
     "output_type": "stream",
     "text": [
      "30\n",
      "0.0005\n",
      "-47800.66869991594\n",
      "2260.9206728289664\n"
     ]
    },
    {
     "name": "stderr",
     "output_type": "stream",
     "text": [
      "┌ Info:           17.7597052s: 17 seconds, 759 milliseconds\n",
      "└ @ TickTock C:\\Users\\vbansal5\\.julia\\packages\\TickTock\\fGILW\\src\\TickTock.jl:62\n"
     ]
    },
    {
     "name": "stdout",
     "output_type": "stream",
     "text": [
      "false\n"
     ]
    },
    {
     "name": "stderr",
     "output_type": "stream",
     "text": [
      "┌ Info:  started timer at: 2023-04-17T10:27:19.670\n",
      "└ @ TickTock C:\\Users\\vbansal5\\.julia\\packages\\TickTock\\fGILW\\src\\TickTock.jl:54\n"
     ]
    },
    {
     "name": "stdout",
     "output_type": "stream",
     "text": [
      "30\n",
      "0.0001\n",
      "-47812.41041622248\n",
      "2316.333125684063\n"
     ]
    },
    {
     "name": "stderr",
     "output_type": "stream",
     "text": [
      "┌ Info:            17.767606s: 17 seconds, 767 milliseconds\n",
      "└ @ TickTock C:\\Users\\vbansal5\\.julia\\packages\\TickTock\\fGILW\\src\\TickTock.jl:62\n"
     ]
    },
    {
     "name": "stdout",
     "output_type": "stream",
     "text": [
      "false\n"
     ]
    },
    {
     "name": "stderr",
     "output_type": "stream",
     "text": [
      "┌ Info:  started timer at: 2023-04-17T10:27:38.138\n",
      "└ @ TickTock C:\\Users\\vbansal5\\.julia\\packages\\TickTock\\fGILW\\src\\TickTock.jl:54\n"
     ]
    },
    {
     "name": "stdout",
     "output_type": "stream",
     "text": [
      "30\n",
      "5.0e-5\n",
      "-47827.78886237072\n",
      "2268.147480768215\n"
     ]
    },
    {
     "name": "stderr",
     "output_type": "stream",
     "text": [
      "┌ Info:            17.756408s: 17 seconds, 756 milliseconds\n",
      "└ @ TickTock C:\\Users\\vbansal5\\.julia\\packages\\TickTock\\fGILW\\src\\TickTock.jl:62\n"
     ]
    },
    {
     "name": "stdout",
     "output_type": "stream",
     "text": [
      "false\n"
     ]
    },
    {
     "name": "stderr",
     "output_type": "stream",
     "text": [
      "┌ Info:  started timer at: 2023-04-17T10:27:56.622\n",
      "└ @ TickTock C:\\Users\\vbansal5\\.julia\\packages\\TickTock\\fGILW\\src\\TickTock.jl:54\n"
     ]
    },
    {
     "name": "stdout",
     "output_type": "stream",
     "text": [
      "30\n",
      "1.0e-5\n",
      "-47841.62995206811\n",
      "2266.877915411242\n"
     ]
    },
    {
     "name": "stderr",
     "output_type": "stream",
     "text": [
      "┌ Info:           17.8912625s: 17 seconds, 891 milliseconds\n",
      "└ @ TickTock C:\\Users\\vbansal5\\.julia\\packages\\TickTock\\fGILW\\src\\TickTock.jl:62\n"
     ]
    },
    {
     "name": "stdout",
     "output_type": "stream",
     "text": [
      "false\n"
     ]
    },
    {
     "name": "stderr",
     "output_type": "stream",
     "text": [
      "┌ Info:  started timer at: 2023-04-17T10:28:15.328\n",
      "└ @ TickTock C:\\Users\\vbansal5\\.julia\\packages\\TickTock\\fGILW\\src\\TickTock.jl:54\n"
     ]
    },
    {
     "name": "stdout",
     "output_type": "stream",
     "text": [
      "30\n",
      "5.0e-6\n",
      "-47799.40178818127\n",
      "2264.599415605744\n"
     ]
    },
    {
     "name": "stderr",
     "output_type": "stream",
     "text": [
      "┌ Info:           17.8194242s: 17 seconds, 819 milliseconds\n",
      "└ @ TickTock C:\\Users\\vbansal5\\.julia\\packages\\TickTock\\fGILW\\src\\TickTock.jl:62\n"
     ]
    },
    {
     "name": "stdout",
     "output_type": "stream",
     "text": [
      "false\n"
     ]
    },
    {
     "name": "stderr",
     "output_type": "stream",
     "text": [
      "┌ Info:  started timer at: 2023-04-17T10:28:33.860\n",
      "└ @ TickTock C:\\Users\\vbansal5\\.julia\\packages\\TickTock\\fGILW\\src\\TickTock.jl:54\n"
     ]
    },
    {
     "name": "stdout",
     "output_type": "stream",
     "text": [
      "30\n",
      "1.0e-6\n",
      "-47814.11387651627\n",
      "2281.587592259109\n"
     ]
    },
    {
     "name": "stderr",
     "output_type": "stream",
     "text": [
      "┌ Info:           17.7915111s: 17 seconds, 791 milliseconds\n",
      "└ @ TickTock C:\\Users\\vbansal5\\.julia\\packages\\TickTock\\fGILW\\src\\TickTock.jl:62\n"
     ]
    },
    {
     "name": "stdout",
     "output_type": "stream",
     "text": [
      "false\n"
     ]
    },
    {
     "name": "stderr",
     "output_type": "stream",
     "text": [
      "┌ Info:  started timer at: 2023-04-17T10:28:52.369\n",
      "└ @ TickTock C:\\Users\\vbansal5\\.julia\\packages\\TickTock\\fGILW\\src\\TickTock.jl:54\n"
     ]
    },
    {
     "name": "stdout",
     "output_type": "stream",
     "text": [
      "30\n",
      "5.0e-7\n",
      "-47784.02132740932\n",
      "2288.1182395138385\n"
     ]
    },
    {
     "name": "stderr",
     "output_type": "stream",
     "text": [
      "┌ Info:           17.8763277s: 17 seconds, 876 milliseconds\n",
      "└ @ TickTock C:\\Users\\vbansal5\\.julia\\packages\\TickTock\\fGILW\\src\\TickTock.jl:62\n"
     ]
    },
    {
     "name": "stdout",
     "output_type": "stream",
     "text": [
      "false\n"
     ]
    },
    {
     "name": "stderr",
     "output_type": "stream",
     "text": [
      "┌ Info:  started timer at: 2023-04-17T10:29:10.961\n",
      "└ @ TickTock C:\\Users\\vbansal5\\.julia\\packages\\TickTock\\fGILW\\src\\TickTock.jl:54\n"
     ]
    },
    {
     "name": "stdout",
     "output_type": "stream",
     "text": [
      "30\n",
      "1.0e-7\n",
      "-47819.11999136686\n",
      "2269.921382602346\n"
     ]
    },
    {
     "name": "stderr",
     "output_type": "stream",
     "text": [
      "┌ Info:           17.6311705s: 17 seconds, 631 milliseconds\n",
      "└ @ TickTock C:\\Users\\vbansal5\\.julia\\packages\\TickTock\\fGILW\\src\\TickTock.jl:62\n"
     ]
    },
    {
     "name": "stdout",
     "output_type": "stream",
     "text": [
      "false\n"
     ]
    },
    {
     "name": "stderr",
     "output_type": "stream",
     "text": [
      "┌ Info:  started timer at: 2023-04-17T10:29:29.590\n",
      "└ @ TickTock C:\\Users\\vbansal5\\.julia\\packages\\TickTock\\fGILW\\src\\TickTock.jl:54\n"
     ]
    },
    {
     "name": "stdout",
     "output_type": "stream",
     "text": [
      "30\n",
      "5.0e-8\n",
      "-47799.55788934443\n",
      "2255.0657976561065\n"
     ]
    },
    {
     "name": "stderr",
     "output_type": "stream",
     "text": [
      "┌ Info:           17.8001414s: 17 seconds, 800 milliseconds\n",
      "└ @ TickTock C:\\Users\\vbansal5\\.julia\\packages\\TickTock\\fGILW\\src\\TickTock.jl:62\n"
     ]
    },
    {
     "name": "stdout",
     "output_type": "stream",
     "text": [
      "false\n"
     ]
    },
    {
     "name": "stderr",
     "output_type": "stream",
     "text": [
      "┌ Info:  started timer at: 2023-04-17T10:29:48.121\n",
      "└ @ TickTock C:\\Users\\vbansal5\\.julia\\packages\\TickTock\\fGILW\\src\\TickTock.jl:54\n"
     ]
    },
    {
     "name": "stdout",
     "output_type": "stream",
     "text": [
      "30\n",
      "1.0e-8\n",
      "-47772.76618094414\n",
      "2255.475820235613\n",
      "-------------------------\n"
     ]
    },
    {
     "name": "stderr",
     "output_type": "stream",
     "text": [
      "┌ Info:           17.6493362s: 17 seconds, 649 milliseconds\n",
      "└ @ TickTock C:\\Users\\vbansal5\\.julia\\packages\\TickTock\\fGILW\\src\\TickTock.jl:62\n"
     ]
    }
   ],
   "source": [
    "\n",
    "cost=[ \n",
    " \n",
    "    [0 -800 -200 -1000]\n",
    "    ]\n",
    "\n",
    "# print(Q)\n",
    "\n",
    "for units in [20,30]\n",
    "    for c in cost\n",
    "   print(units)  \n",
    "    global normal_operation,setup_cost,maintenance_penalty,failure_penalty=c\n",
    "     println([normal_operation,setup_cost,maintenance_penalty,failure_penalty])   \n",
    "     for lambda in [100,10,5,1,0.5, 0.1,0.05,1e-2,0.5e-2,1e-3,0.5e-3,1e-4,0.5e-4,1e-5,0.5e-5,1e-6,0.5e-6,1e-7,0.5e-7,1e-8]\n",
    "        global  lamb=lambda\n",
    "    global NumberUnits=units\n",
    "     Q,V=ValueIteration(.95)\n",
    "         println(isnan(Q[1,1]))\n",
    "       if sum(isnan(Q[1,1]))>0.0\n",
    "            continue\n",
    "        end\n",
    "tick()\n",
    "trials=10000;\n",
    "simsteps = 100;\n",
    "results=zeros(trials)*0.1\n",
    "Threads.@threads for h in 1:trials\n",
    "s=repeat(1:1,NumberUnits)\n",
    "r1=[]\n",
    "a1=[]   \n",
    "r=repeat(1:1,NumberUnits)*1.0\n",
    " for k in 1:simsteps\n",
    "    a =decison(Q,s)\n",
    "            r2=0.0\n",
    "    for i in 1:NumberUnits\n",
    "         s[i],r[i]=generative(s[i],a[i],234);\n",
    "          r2+=r[i]\n",
    "            end \n",
    "\n",
    "    s=s;\n",
    "    append!(a1,a)\n",
    "    append!(r1,r2)\n",
    "end\n",
    "rk=0\n",
    "for i in 1:simsteps\n",
    "    rk=0.95*rk+r1[simsteps-i+1]\n",
    "end\n",
    "    results[h]=rk\n",
    "end\n",
    "println(units)\n",
    "println(lambda)\n",
    "\n",
    "println(mean(results))\n",
    "\n",
    "println(std(results))\n",
    "pushfirst!(df,[units,normal_operation,setup_cost,maintenance_penalty,failure_penalty,lamb,mean(results),std(results)])\n",
    "        \n",
    "tock()\n",
    "end\n",
    "    println(\"-------------------------\")\n",
    "end\n",
    "end"
   ]
  },
  {
   "cell_type": "code",
   "execution_count": null,
   "metadata": {
    "scrolled": false
   },
   "outputs": [],
   "source": []
  },
  {
   "cell_type": "code",
   "execution_count": 10,
   "metadata": {},
   "outputs": [
    {
     "data": {
      "text/html": [
       "<div><div style = \"float: left;\"><span>34×8 DataFrame</span></div><div style = \"float: right;\"><span style = \"font-style: italic;\">9 rows omitted</span></div><div style = \"clear: both;\"></div></div><div class = \"data-frame\" style = \"overflow-x: scroll;\"><table class = \"data-frame\" style = \"margin-bottom: 6px;\"><thead><tr class = \"header\"><th class = \"rowNumber\" style = \"font-weight: bold; text-align: right;\">Row</th><th style = \"text-align: left;\">Units</th><th style = \"text-align: left;\">n</th><th style = \"text-align: left;\">s</th><th style = \"text-align: left;\">m</th><th style = \"text-align: left;\">f</th><th style = \"text-align: left;\">lambda</th><th style = \"text-align: left;\">mean</th><th style = \"text-align: left;\">std</th></tr><tr class = \"subheader headerLastRow\"><th class = \"rowNumber\" style = \"font-weight: bold; text-align: right;\"></th><th title = \"Any\" style = \"text-align: left;\">Any</th><th title = \"Any\" style = \"text-align: left;\">Any</th><th title = \"Any\" style = \"text-align: left;\">Any</th><th title = \"Any\" style = \"text-align: left;\">Any</th><th title = \"Any\" style = \"text-align: left;\">Any</th><th title = \"Any\" style = \"text-align: left;\">Any</th><th title = \"Any\" style = \"text-align: left;\">Any</th><th title = \"Any\" style = \"text-align: left;\">Any</th></tr></thead><tbody><tr><td class = \"rowNumber\" style = \"font-weight: bold; text-align: right;\">1</td><td style = \"text-align: left;\">30.0</td><td style = \"text-align: left;\">0.0</td><td style = \"text-align: left;\">-800.0</td><td style = \"text-align: left;\">-200.0</td><td style = \"text-align: left;\">-1000.0</td><td style = \"text-align: left;\">1.0e-8</td><td style = \"text-align: left;\">-47772.8</td><td style = \"text-align: left;\">2255.48</td></tr><tr><td class = \"rowNumber\" style = \"font-weight: bold; text-align: right;\">2</td><td style = \"text-align: left;\">30.0</td><td style = \"text-align: left;\">0.0</td><td style = \"text-align: left;\">-800.0</td><td style = \"text-align: left;\">-200.0</td><td style = \"text-align: left;\">-1000.0</td><td style = \"text-align: left;\">5.0e-8</td><td style = \"text-align: left;\">-47799.6</td><td style = \"text-align: left;\">2255.07</td></tr><tr><td class = \"rowNumber\" style = \"font-weight: bold; text-align: right;\">3</td><td style = \"text-align: left;\">30.0</td><td style = \"text-align: left;\">0.0</td><td style = \"text-align: left;\">-800.0</td><td style = \"text-align: left;\">-200.0</td><td style = \"text-align: left;\">-1000.0</td><td style = \"text-align: left;\">1.0e-7</td><td style = \"text-align: left;\">-47819.1</td><td style = \"text-align: left;\">2269.92</td></tr><tr><td class = \"rowNumber\" style = \"font-weight: bold; text-align: right;\">4</td><td style = \"text-align: left;\">30.0</td><td style = \"text-align: left;\">0.0</td><td style = \"text-align: left;\">-800.0</td><td style = \"text-align: left;\">-200.0</td><td style = \"text-align: left;\">-1000.0</td><td style = \"text-align: left;\">5.0e-7</td><td style = \"text-align: left;\">-47784.0</td><td style = \"text-align: left;\">2288.12</td></tr><tr><td class = \"rowNumber\" style = \"font-weight: bold; text-align: right;\">5</td><td style = \"text-align: left;\">30.0</td><td style = \"text-align: left;\">0.0</td><td style = \"text-align: left;\">-800.0</td><td style = \"text-align: left;\">-200.0</td><td style = \"text-align: left;\">-1000.0</td><td style = \"text-align: left;\">1.0e-6</td><td style = \"text-align: left;\">-47814.1</td><td style = \"text-align: left;\">2281.59</td></tr><tr><td class = \"rowNumber\" style = \"font-weight: bold; text-align: right;\">6</td><td style = \"text-align: left;\">30.0</td><td style = \"text-align: left;\">0.0</td><td style = \"text-align: left;\">-800.0</td><td style = \"text-align: left;\">-200.0</td><td style = \"text-align: left;\">-1000.0</td><td style = \"text-align: left;\">5.0e-6</td><td style = \"text-align: left;\">-47799.4</td><td style = \"text-align: left;\">2264.6</td></tr><tr><td class = \"rowNumber\" style = \"font-weight: bold; text-align: right;\">7</td><td style = \"text-align: left;\">30.0</td><td style = \"text-align: left;\">0.0</td><td style = \"text-align: left;\">-800.0</td><td style = \"text-align: left;\">-200.0</td><td style = \"text-align: left;\">-1000.0</td><td style = \"text-align: left;\">1.0e-5</td><td style = \"text-align: left;\">-47841.6</td><td style = \"text-align: left;\">2266.88</td></tr><tr><td class = \"rowNumber\" style = \"font-weight: bold; text-align: right;\">8</td><td style = \"text-align: left;\">30.0</td><td style = \"text-align: left;\">0.0</td><td style = \"text-align: left;\">-800.0</td><td style = \"text-align: left;\">-200.0</td><td style = \"text-align: left;\">-1000.0</td><td style = \"text-align: left;\">5.0e-5</td><td style = \"text-align: left;\">-47827.8</td><td style = \"text-align: left;\">2268.15</td></tr><tr><td class = \"rowNumber\" style = \"font-weight: bold; text-align: right;\">9</td><td style = \"text-align: left;\">30.0</td><td style = \"text-align: left;\">0.0</td><td style = \"text-align: left;\">-800.0</td><td style = \"text-align: left;\">-200.0</td><td style = \"text-align: left;\">-1000.0</td><td style = \"text-align: left;\">0.0001</td><td style = \"text-align: left;\">-47812.4</td><td style = \"text-align: left;\">2316.33</td></tr><tr><td class = \"rowNumber\" style = \"font-weight: bold; text-align: right;\">10</td><td style = \"text-align: left;\">30.0</td><td style = \"text-align: left;\">0.0</td><td style = \"text-align: left;\">-800.0</td><td style = \"text-align: left;\">-200.0</td><td style = \"text-align: left;\">-1000.0</td><td style = \"text-align: left;\">0.0005</td><td style = \"text-align: left;\">-47800.7</td><td style = \"text-align: left;\">2260.92</td></tr><tr><td class = \"rowNumber\" style = \"font-weight: bold; text-align: right;\">11</td><td style = \"text-align: left;\">30.0</td><td style = \"text-align: left;\">0.0</td><td style = \"text-align: left;\">-800.0</td><td style = \"text-align: left;\">-200.0</td><td style = \"text-align: left;\">-1000.0</td><td style = \"text-align: left;\">0.001</td><td style = \"text-align: left;\">-47753.1</td><td style = \"text-align: left;\">2294.88</td></tr><tr><td class = \"rowNumber\" style = \"font-weight: bold; text-align: right;\">12</td><td style = \"text-align: left;\">30.0</td><td style = \"text-align: left;\">0.0</td><td style = \"text-align: left;\">-800.0</td><td style = \"text-align: left;\">-200.0</td><td style = \"text-align: left;\">-1000.0</td><td style = \"text-align: left;\">0.005</td><td style = \"text-align: left;\">-49301.9</td><td style = \"text-align: left;\">2521.43</td></tr><tr><td class = \"rowNumber\" style = \"font-weight: bold; text-align: right;\">13</td><td style = \"text-align: left;\">30.0</td><td style = \"text-align: left;\">0.0</td><td style = \"text-align: left;\">-800.0</td><td style = \"text-align: left;\">-200.0</td><td style = \"text-align: left;\">-1000.0</td><td style = \"text-align: left;\">0.01</td><td style = \"text-align: left;\">-49258.4</td><td style = \"text-align: left;\">2548.7</td></tr><tr><td style = \"text-align: right;\">&vellip;</td><td style = \"text-align: right;\">&vellip;</td><td style = \"text-align: right;\">&vellip;</td><td style = \"text-align: right;\">&vellip;</td><td style = \"text-align: right;\">&vellip;</td><td style = \"text-align: right;\">&vellip;</td><td style = \"text-align: right;\">&vellip;</td><td style = \"text-align: right;\">&vellip;</td><td style = \"text-align: right;\">&vellip;</td></tr><tr><td class = \"rowNumber\" style = \"font-weight: bold; text-align: right;\">23</td><td style = \"text-align: left;\">20.0</td><td style = \"text-align: left;\">0.0</td><td style = \"text-align: left;\">-800.0</td><td style = \"text-align: left;\">-200.0</td><td style = \"text-align: left;\">-1000.0</td><td style = \"text-align: left;\">5.0e-6</td><td style = \"text-align: left;\">-34109.5</td><td style = \"text-align: left;\">2040.74</td></tr><tr><td class = \"rowNumber\" style = \"font-weight: bold; text-align: right;\">24</td><td style = \"text-align: left;\">20.0</td><td style = \"text-align: left;\">0.0</td><td style = \"text-align: left;\">-800.0</td><td style = \"text-align: left;\">-200.0</td><td style = \"text-align: left;\">-1000.0</td><td style = \"text-align: left;\">1.0e-5</td><td style = \"text-align: left;\">-34068.2</td><td style = \"text-align: left;\">2035.77</td></tr><tr><td class = \"rowNumber\" style = \"font-weight: bold; text-align: right;\">25</td><td style = \"text-align: left;\">20.0</td><td style = \"text-align: left;\">0.0</td><td style = \"text-align: left;\">-800.0</td><td style = \"text-align: left;\">-200.0</td><td style = \"text-align: left;\">-1000.0</td><td style = \"text-align: left;\">5.0e-5</td><td style = \"text-align: left;\">-34095.0</td><td style = \"text-align: left;\">2007.05</td></tr><tr><td class = \"rowNumber\" style = \"font-weight: bold; text-align: right;\">26</td><td style = \"text-align: left;\">20.0</td><td style = \"text-align: left;\">0.0</td><td style = \"text-align: left;\">-800.0</td><td style = \"text-align: left;\">-200.0</td><td style = \"text-align: left;\">-1000.0</td><td style = \"text-align: left;\">0.0001</td><td style = \"text-align: left;\">-34118.3</td><td style = \"text-align: left;\">2045.07</td></tr><tr><td class = \"rowNumber\" style = \"font-weight: bold; text-align: right;\">27</td><td style = \"text-align: left;\">20.0</td><td style = \"text-align: left;\">0.0</td><td style = \"text-align: left;\">-800.0</td><td style = \"text-align: left;\">-200.0</td><td style = \"text-align: left;\">-1000.0</td><td style = \"text-align: left;\">0.0005</td><td style = \"text-align: left;\">-34120.2</td><td style = \"text-align: left;\">2012.37</td></tr><tr><td class = \"rowNumber\" style = \"font-weight: bold; text-align: right;\">28</td><td style = \"text-align: left;\">20.0</td><td style = \"text-align: left;\">0.0</td><td style = \"text-align: left;\">-800.0</td><td style = \"text-align: left;\">-200.0</td><td style = \"text-align: left;\">-1000.0</td><td style = \"text-align: left;\">0.001</td><td style = \"text-align: left;\">-34111.9</td><td style = \"text-align: left;\">2038.31</td></tr><tr><td class = \"rowNumber\" style = \"font-weight: bold; text-align: right;\">29</td><td style = \"text-align: left;\">20.0</td><td style = \"text-align: left;\">0.0</td><td style = \"text-align: left;\">-800.0</td><td style = \"text-align: left;\">-200.0</td><td style = \"text-align: left;\">-1000.0</td><td style = \"text-align: left;\">0.005</td><td style = \"text-align: left;\">-34112.2</td><td style = \"text-align: left;\">2037.15</td></tr><tr><td class = \"rowNumber\" style = \"font-weight: bold; text-align: right;\">30</td><td style = \"text-align: left;\">20.0</td><td style = \"text-align: left;\">0.0</td><td style = \"text-align: left;\">-800.0</td><td style = \"text-align: left;\">-200.0</td><td style = \"text-align: left;\">-1000.0</td><td style = \"text-align: left;\">0.01</td><td style = \"text-align: left;\">-34136.4</td><td style = \"text-align: left;\">2082.2</td></tr><tr><td class = \"rowNumber\" style = \"font-weight: bold; text-align: right;\">31</td><td style = \"text-align: left;\">20.0</td><td style = \"text-align: left;\">0.0</td><td style = \"text-align: left;\">-800.0</td><td style = \"text-align: left;\">-200.0</td><td style = \"text-align: left;\">-1000.0</td><td style = \"text-align: left;\">0.05</td><td style = \"text-align: left;\">-34075.6</td><td style = \"text-align: left;\">2071.4</td></tr><tr><td class = \"rowNumber\" style = \"font-weight: bold; text-align: right;\">32</td><td style = \"text-align: left;\">20.0</td><td style = \"text-align: left;\">0.0</td><td style = \"text-align: left;\">-800.0</td><td style = \"text-align: left;\">-200.0</td><td style = \"text-align: left;\">-1000.0</td><td style = \"text-align: left;\">0.1</td><td style = \"text-align: left;\">-34087.1</td><td style = \"text-align: left;\">2058.59</td></tr><tr><td class = \"rowNumber\" style = \"font-weight: bold; text-align: right;\">33</td><td style = \"text-align: left;\">20.0</td><td style = \"text-align: left;\">0.0</td><td style = \"text-align: left;\">-800.0</td><td style = \"text-align: left;\">-200.0</td><td style = \"text-align: left;\">-1000.0</td><td style = \"text-align: left;\">0.5</td><td style = \"text-align: left;\">-34115.5</td><td style = \"text-align: left;\">2051.11</td></tr><tr><td class = \"rowNumber\" style = \"font-weight: bold; text-align: right;\">34</td><td style = \"text-align: left;\">20.0</td><td style = \"text-align: left;\">0.0</td><td style = \"text-align: left;\">-800.0</td><td style = \"text-align: left;\">-200.0</td><td style = \"text-align: left;\">-1000.0</td><td style = \"text-align: left;\">1.0</td><td style = \"text-align: left;\">-34144.6</td><td style = \"text-align: left;\">2058.55</td></tr></tbody></table></div>"
      ],
      "text/latex": [
       "\\begin{tabular}{r|cccccccc}\n",
       "\t& Units & n & s & m & f & lambda & mean & std\\\\\n",
       "\t\\hline\n",
       "\t& Any & Any & Any & Any & Any & Any & Any & Any\\\\\n",
       "\t\\hline\n",
       "\t1 & 30.0 & 0.0 & -800.0 & -200.0 & -1000.0 & 1.0e-8 & -47772.8 & 2255.48 \\\\\n",
       "\t2 & 30.0 & 0.0 & -800.0 & -200.0 & -1000.0 & 5.0e-8 & -47799.6 & 2255.07 \\\\\n",
       "\t3 & 30.0 & 0.0 & -800.0 & -200.0 & -1000.0 & 1.0e-7 & -47819.1 & 2269.92 \\\\\n",
       "\t4 & 30.0 & 0.0 & -800.0 & -200.0 & -1000.0 & 5.0e-7 & -47784.0 & 2288.12 \\\\\n",
       "\t5 & 30.0 & 0.0 & -800.0 & -200.0 & -1000.0 & 1.0e-6 & -47814.1 & 2281.59 \\\\\n",
       "\t6 & 30.0 & 0.0 & -800.0 & -200.0 & -1000.0 & 5.0e-6 & -47799.4 & 2264.6 \\\\\n",
       "\t7 & 30.0 & 0.0 & -800.0 & -200.0 & -1000.0 & 1.0e-5 & -47841.6 & 2266.88 \\\\\n",
       "\t8 & 30.0 & 0.0 & -800.0 & -200.0 & -1000.0 & 5.0e-5 & -47827.8 & 2268.15 \\\\\n",
       "\t9 & 30.0 & 0.0 & -800.0 & -200.0 & -1000.0 & 0.0001 & -47812.4 & 2316.33 \\\\\n",
       "\t10 & 30.0 & 0.0 & -800.0 & -200.0 & -1000.0 & 0.0005 & -47800.7 & 2260.92 \\\\\n",
       "\t11 & 30.0 & 0.0 & -800.0 & -200.0 & -1000.0 & 0.001 & -47753.1 & 2294.88 \\\\\n",
       "\t12 & 30.0 & 0.0 & -800.0 & -200.0 & -1000.0 & 0.005 & -49301.9 & 2521.43 \\\\\n",
       "\t13 & 30.0 & 0.0 & -800.0 & -200.0 & -1000.0 & 0.01 & -49258.4 & 2548.7 \\\\\n",
       "\t14 & 30.0 & 0.0 & -800.0 & -200.0 & -1000.0 & 0.05 & -47681.8 & 2324.53 \\\\\n",
       "\t15 & 30.0 & 0.0 & -800.0 & -200.0 & -1000.0 & 0.1 & -47671.2 & 2370.19 \\\\\n",
       "\t16 & 30.0 & 0.0 & -800.0 & -200.0 & -1000.0 & 0.5 & -47637.9 & 2310.46 \\\\\n",
       "\t17 & 30.0 & 0.0 & -800.0 & -200.0 & -1000.0 & 1.0 & -47675.1 & 2322.35 \\\\\n",
       "\t18 & 20.0 & 0.0 & -800.0 & -200.0 & -1000.0 & 1.0e-8 & -34106.9 & 1985.5 \\\\\n",
       "\t19 & 20.0 & 0.0 & -800.0 & -200.0 & -1000.0 & 5.0e-8 & -34125.1 & 2019.59 \\\\\n",
       "\t20 & 20.0 & 0.0 & -800.0 & -200.0 & -1000.0 & 1.0e-7 & -34149.7 & 2030.95 \\\\\n",
       "\t21 & 20.0 & 0.0 & -800.0 & -200.0 & -1000.0 & 5.0e-7 & -34130.0 & 2014.34 \\\\\n",
       "\t22 & 20.0 & 0.0 & -800.0 & -200.0 & -1000.0 & 1.0e-6 & -34134.1 & 2024.07 \\\\\n",
       "\t23 & 20.0 & 0.0 & -800.0 & -200.0 & -1000.0 & 5.0e-6 & -34109.5 & 2040.74 \\\\\n",
       "\t24 & 20.0 & 0.0 & -800.0 & -200.0 & -1000.0 & 1.0e-5 & -34068.2 & 2035.77 \\\\\n",
       "\t25 & 20.0 & 0.0 & -800.0 & -200.0 & -1000.0 & 5.0e-5 & -34095.0 & 2007.05 \\\\\n",
       "\t26 & 20.0 & 0.0 & -800.0 & -200.0 & -1000.0 & 0.0001 & -34118.3 & 2045.07 \\\\\n",
       "\t27 & 20.0 & 0.0 & -800.0 & -200.0 & -1000.0 & 0.0005 & -34120.2 & 2012.37 \\\\\n",
       "\t28 & 20.0 & 0.0 & -800.0 & -200.0 & -1000.0 & 0.001 & -34111.9 & 2038.31 \\\\\n",
       "\t29 & 20.0 & 0.0 & -800.0 & -200.0 & -1000.0 & 0.005 & -34112.2 & 2037.15 \\\\\n",
       "\t30 & 20.0 & 0.0 & -800.0 & -200.0 & -1000.0 & 0.01 & -34136.4 & 2082.2 \\\\\n",
       "\t$\\dots$ & $\\dots$ & $\\dots$ & $\\dots$ & $\\dots$ & $\\dots$ & $\\dots$ & $\\dots$ & $\\dots$ \\\\\n",
       "\\end{tabular}\n"
      ],
      "text/plain": [
       "\u001b[1m34×8 DataFrame\u001b[0m\n",
       "\u001b[1m Row \u001b[0m│\u001b[1m Units \u001b[0m\u001b[1m n   \u001b[0m\u001b[1m s      \u001b[0m\u001b[1m m      \u001b[0m\u001b[1m f       \u001b[0m\u001b[1m lambda \u001b[0m\u001b[1m mean     \u001b[0m\u001b[1m std     \u001b[0m\n",
       "     │\u001b[90m Any   \u001b[0m\u001b[90m Any \u001b[0m\u001b[90m Any    \u001b[0m\u001b[90m Any    \u001b[0m\u001b[90m Any     \u001b[0m\u001b[90m Any    \u001b[0m\u001b[90m Any      \u001b[0m\u001b[90m Any     \u001b[0m\n",
       "─────┼────────────────────────────────────────────────────────────────\n",
       "   1 │ 30.0   0.0  -800.0  -200.0  -1000.0  1.0e-8  -47772.8  2255.48\n",
       "   2 │ 30.0   0.0  -800.0  -200.0  -1000.0  5.0e-8  -47799.6  2255.07\n",
       "   3 │ 30.0   0.0  -800.0  -200.0  -1000.0  1.0e-7  -47819.1  2269.92\n",
       "   4 │ 30.0   0.0  -800.0  -200.0  -1000.0  5.0e-7  -47784.0  2288.12\n",
       "   5 │ 30.0   0.0  -800.0  -200.0  -1000.0  1.0e-6  -47814.1  2281.59\n",
       "   6 │ 30.0   0.0  -800.0  -200.0  -1000.0  5.0e-6  -47799.4  2264.6\n",
       "   7 │ 30.0   0.0  -800.0  -200.0  -1000.0  1.0e-5  -47841.6  2266.88\n",
       "   8 │ 30.0   0.0  -800.0  -200.0  -1000.0  5.0e-5  -47827.8  2268.15\n",
       "   9 │ 30.0   0.0  -800.0  -200.0  -1000.0  0.0001  -47812.4  2316.33\n",
       "  10 │ 30.0   0.0  -800.0  -200.0  -1000.0  0.0005  -47800.7  2260.92\n",
       "  11 │ 30.0   0.0  -800.0  -200.0  -1000.0  0.001   -47753.1  2294.88\n",
       "  ⋮  │   ⋮     ⋮     ⋮       ⋮        ⋮       ⋮        ⋮         ⋮\n",
       "  25 │ 20.0   0.0  -800.0  -200.0  -1000.0  5.0e-5  -34095.0  2007.05\n",
       "  26 │ 20.0   0.0  -800.0  -200.0  -1000.0  0.0001  -34118.3  2045.07\n",
       "  27 │ 20.0   0.0  -800.0  -200.0  -1000.0  0.0005  -34120.2  2012.37\n",
       "  28 │ 20.0   0.0  -800.0  -200.0  -1000.0  0.001   -34111.9  2038.31\n",
       "  29 │ 20.0   0.0  -800.0  -200.0  -1000.0  0.005   -34112.2  2037.15\n",
       "  30 │ 20.0   0.0  -800.0  -200.0  -1000.0  0.01    -34136.4  2082.2\n",
       "  31 │ 20.0   0.0  -800.0  -200.0  -1000.0  0.05    -34075.6  2071.4\n",
       "  32 │ 20.0   0.0  -800.0  -200.0  -1000.0  0.1     -34087.1  2058.59\n",
       "  33 │ 20.0   0.0  -800.0  -200.0  -1000.0  0.5     -34115.5  2051.11\n",
       "  34 │ 20.0   0.0  -800.0  -200.0  -1000.0  1.0     -34144.6  2058.55\n",
       "\u001b[36m                                                       13 rows omitted\u001b[0m"
      ]
     },
     "execution_count": 10,
     "metadata": {},
     "output_type": "execute_result"
    }
   ],
   "source": [
    "df"
   ]
  },
  {
   "cell_type": "code",
   "execution_count": 11,
   "metadata": {},
   "outputs": [
    {
     "data": {
      "text/plain": [
       "\"ACW-MDP.csv\""
      ]
     },
     "execution_count": 11,
     "metadata": {},
     "output_type": "execute_result"
    }
   ],
   "source": [
    "using CSV\n",
    "CSV.write(\"ACW-MDP.csv\", df)"
   ]
  },
  {
   "cell_type": "code",
   "execution_count": null,
   "metadata": {},
   "outputs": [],
   "source": []
  }
 ],
 "metadata": {
  "kernelspec": {
   "display_name": "Julia 1.8.2",
   "language": "julia",
   "name": "julia-1.8"
  },
  "language_info": {
   "file_extension": ".jl",
   "mimetype": "application/julia",
   "name": "julia",
   "version": "1.8.2"
  }
 },
 "nbformat": 4,
 "nbformat_minor": 2
}
