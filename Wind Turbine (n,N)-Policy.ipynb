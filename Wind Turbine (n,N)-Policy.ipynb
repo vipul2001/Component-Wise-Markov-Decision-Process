{
 "cells": [
  {
   "cell_type": "code",
   "execution_count": 1,
   "metadata": {},
   "outputs": [],
   "source": [
    "\n",
    "using POMDPs, QuickPOMDPs, MCTS, DiscreteValueIteration, POMDPSimulators, POMDPModels, POMDPPolicies, POMDPModelTools\n",
    "using Distributions, Combinatorics, StaticArrays, Statistics\n",
    "using FileIO, JLD2, TickTock"
   ]
  },
  {
   "cell_type": "markdown",
   "metadata": {},
   "source": [
    "## State Functions"
   ]
  },
  {
   "cell_type": "code",
   "execution_count": 2,
   "metadata": {},
   "outputs": [],
   "source": [
    "function state_cnt(n, S) #n = number of units; S = number of states\n",
    "    if S==1\n",
    "        return 1\n",
    "    end\n",
    "    return binomial(n+S-1, S-1)\n",
    "end\n",
    "\n",
    "function state_index(S,s) #s = state vector\n",
    "    #S = length(s)\n",
    "    if S == 1\n",
    "        return 1\n",
    "    end\n",
    "    if s[S]==0\n",
    "        return state_index(S-1, s[1:(S-1)])\n",
    "    end\n",
    "    \n",
    "    n_prev = sum(s)\n",
    "    prev = state_cnt(n_prev, S-1) # count of all states with s[S]=0\n",
    "    inc = prev\n",
    "    for i in 1:(s[S]-1)\n",
    "        inc = inc/(n_prev+S-2)*n_prev #count of all states with s[S]=i\n",
    "        prev = prev + inc\n",
    "        n_prev = n_prev - 1\n",
    "    end\n",
    "    return prev + state_index(S-1, s[1:(S-1)])\n",
    "end\n",
    "\n",
    "function state_vec(n, S, ind) # n = number of units; S = number of states; ind = state index\n",
    "    if ind < 0.5 || ind > state_cnt(n, S) + 0.5\n",
    "        println(\"index is out of range!\")\n",
    "        return -1\n",
    "    end\n",
    "    if S==1 \n",
    "        return [n]\n",
    "    end\n",
    "    if ind < state_cnt(n, S-1) + 0.5\n",
    "        return push!(state_vec(n, S-1, ind), 0)\n",
    "    end\n",
    "    prev = state_cnt(n, S-1)\n",
    "    inc = prev\n",
    "    last_state = 0\n",
    "    n_prev = n\n",
    "    while ind > prev + 0.5\n",
    "        inc = inc/(n_prev+S-2)*n_prev #count of all sta_tes with s[S]=last_state\n",
    "        prev += inc\n",
    "        n_prev -= 1\n",
    "        last_state += 1\n",
    "    end\n",
    "    return push!(state_vec(n-last_state, S-1, ind - prev + inc), last_state)\n",
    "end\n",
    "\n",
    "#using hueristic rule for rollout\n",
    "mutable struct nNRollout <: Policy\n",
    "    n::Int64\n",
    "    N::Int64\n",
    "end\n",
    "\n",
    "mutable struct nmNRollout <: Policy\n",
    "    n::Int64\n",
    "    m::Int64\n",
    "    N::Int64\n",
    "end\n",
    "\n",
    "mutable struct mystate\n",
    "    state::Vector{Int64};\n",
    "end"
   ]
  },
  {
   "cell_type": "code",
   "execution_count": 3,
   "metadata": {},
   "outputs": [],
   "source": [
    "function POMDPs.action(p::nNRollout, s::mystate)\n",
    "        local_a = 0;\n",
    "        local_s = s.state;\n",
    "        nN = sample(1:Number_level, 2, replace = true);\n",
    "        p.N = maximum(nN);\n",
    "        p.n = minimum(nN);\n",
    "        if sum(local_s[p.N:Number_level])>=1\n",
    "        local_a = p.n;\n",
    "        end\n",
    "        return local_a; \n",
    "end\n",
    "\n",
    "function POMDPs.action(p::nmNRollout, s::mystate)\n",
    "    local_a = 0;\n",
    "    local_s = s.state;\n",
    "    nmN = sample(1:Number_level, 3, replace = true);\n",
    "    p.N = maximum(nmN);\n",
    "    p.n = minimum(nmN);\n",
    "    p.m = sum(nmN)-p.N-p.n;\n",
    "    if sum(local_s[p.N:Number_level])>=1 || sum(local_s[p.m:Number_level])>=2\n",
    "        local_a = p.n;\n",
    "    end\n",
    "    return local_a; \n",
    "end"
   ]
  },
  {
   "cell_type": "code",
   "execution_count": null,
   "metadata": {},
   "outputs": [],
   "source": []
  },
  {
   "cell_type": "code",
   "execution_count": 4,
   "metadata": {},
   "outputs": [
    {
     "data": {
      "text/plain": [
       "findNn (generic function with 1 method)"
      ]
     },
     "execution_count": 4,
     "metadata": {},
     "output_type": "execute_result"
    }
   ],
   "source": [
    "function findNn()\n",
    "    println(\"Finding best nN policy...\")\n",
    "for N in 2:(Number_level)\n",
    "    for n in 1:N\n",
    "#         println(\"N = \",N, \"  n = \",n);\n",
    "        Threads.@threads  for j in 1:repetition\n",
    "            history = sim(multiunit2,max_steps=simsteps,initialstate=mystate(state_vec(NumberUnits, Number_level, 1))) do s\n",
    "            local_s = s.state;\n",
    "            local_a = 0;\n",
    "                if sum(local_s[N:Number_level])>=1\n",
    "                local_a = n;\n",
    "                end\n",
    "                return local_a; \n",
    "            end\n",
    "            temp_rewards[j] = discounted_reward(history);\n",
    "        end\n",
    "        rewards_nN[n,N] = mean(temp_rewards);\n",
    "            rewards_nN_std[n,N] = std(temp_rewards);\n",
    "    end\n",
    "end\n",
    "(max_rward,nN) = findmax(rewards_nN);\n",
    "println(\"Max rewards of (N, n) policy is \", max_rward, \"  n is \", nN[1], \"  N is \",nN[2]);\n",
    "return  max_rward,rewards_nN_std[nN[1],nN[2]],nN;\n",
    "end\n"
   ]
  },
  {
   "cell_type": "code",
   "execution_count": null,
   "metadata": {},
   "outputs": [],
   "source": []
  },
  {
   "cell_type": "code",
   "execution_count": 5,
   "metadata": {
    "scrolled": true
   },
   "outputs": [
    {
     "name": "stdout",
     "output_type": "stream",
     "text": [
      "3"
     ]
    },
    {
     "name": "stderr",
     "output_type": "stream",
     "text": [
      "┌ Info:  started timer at: 2023-03-14T12:42:29.167\n",
      "└ @ TickTock C:\\Users\\vbansal5\\.julia\\packages\\TickTock\\fGILW\\src\\TickTock.jl:54\n"
     ]
    },
    {
     "name": "stdout",
     "output_type": "stream",
     "text": [
      "[0, -200, -200, -1000]\n",
      "Finding best nN policy...\n",
      "Max rewards of (N, n) policy is -1320.7279482537976  n is 3  N is 3\n",
      "3[0, -400, -200, -1000]\n",
      "Finding best nN policy...\n"
     ]
    },
    {
     "name": "stderr",
     "output_type": "stream",
     "text": [
      "┌ Info:           23.7754988s: 23 seconds, 775 milliseconds\n",
      "└ @ TickTock C:\\Users\\vbansal5\\.julia\\packages\\TickTock\\fGILW\\src\\TickTock.jl:62\n",
      "┌ Info:  started timer at: 2023-03-14T12:42:53.249\n",
      "└ @ TickTock C:\\Users\\vbansal5\\.julia\\packages\\TickTock\\fGILW\\src\\TickTock.jl:54\n"
     ]
    },
    {
     "name": "stdout",
     "output_type": "stream",
     "text": [
      "Max rewards of (N, n) policy is -1874.9860693259768  n is 2  N is 3\n",
      "3[0, -600"
     ]
    },
    {
     "name": "stderr",
     "output_type": "stream",
     "text": [
      "┌ Info:           22.4941612s: 22 seconds, 494 milliseconds\n",
      "└ @ TickTock C:\\Users\\vbansal5\\.julia\\packages\\TickTock\\fGILW\\src\\TickTock.jl:62\n",
      "┌ Info:  started timer at: 2023-03-14T12:43:15.751\n",
      "└ @ TickTock C:\\Users\\vbansal5\\.julia\\packages\\TickTock\\fGILW\\src\\TickTock.jl:54\n"
     ]
    },
    {
     "name": "stdout",
     "output_type": "stream",
     "text": [
      ", -200, -1000]\n",
      "Finding best nN policy...\n",
      "Max rewards of (N, n) policy is -2332.9825899372204  n is 2  N is 3\n"
     ]
    },
    {
     "name": "stderr",
     "output_type": "stream",
     "text": [
      "┌ Info:           24.1749277s: 24 seconds, 174 milliseconds\n",
      "└ @ TickTock C:\\Users\\vbansal5\\.julia\\packages\\TickTock\\fGILW\\src\\TickTock.jl:62\n"
     ]
    },
    {
     "name": "stdout",
     "output_type": "stream",
     "text": [
      "3"
     ]
    },
    {
     "name": "stderr",
     "output_type": "stream",
     "text": [
      "┌ Info:  started timer at: 2023-03-14T12:43:40.145\n",
      "└ @ TickTock C:\\Users\\vbansal5\\.julia\\packages\\TickTock\\fGILW\\src\\TickTock.jl:54\n"
     ]
    },
    {
     "name": "stdout",
     "output_type": "stream",
     "text": [
      "[0, -800, -200, -1000]\n",
      "Finding best nN policy...\n",
      "Max rewards of (N, n) policy is -2806.8575100113476  n is 2  N is 3\n",
      "3[0, -1000, -200, -1000]\n",
      "Finding best nN policy...\n"
     ]
    },
    {
     "name": "stderr",
     "output_type": "stream",
     "text": [
      "┌ Info:           27.3915051s: 27 seconds, 391 milliseconds\n",
      "└ @ TickTock C:\\Users\\vbansal5\\.julia\\packages\\TickTock\\fGILW\\src\\TickTock.jl:62\n",
      "┌ Info:  started timer at: 2023-03-14T12:44:07.574\n",
      "└ @ TickTock C:\\Users\\vbansal5\\.julia\\packages\\TickTock\\fGILW\\src\\TickTock.jl:54\n"
     ]
    },
    {
     "name": "stdout",
     "output_type": "stream",
     "text": [
      "Max rewards of (N, n) policy is -3128.5809508866528  n is 2  N is 4\n",
      "3"
     ]
    },
    {
     "name": "stderr",
     "output_type": "stream",
     "text": [
      "┌ Info:           26.5882175s: 26 seconds, 588 milliseconds\n",
      "└ @ TickTock C:\\Users\\vbansal5\\.julia\\packages\\TickTock\\fGILW\\src\\TickTock.jl:62\n"
     ]
    },
    {
     "name": "stdout",
     "output_type": "stream",
     "text": [
      "[0,"
     ]
    },
    {
     "name": "stderr",
     "output_type": "stream",
     "text": [
      "┌ Info:  started timer at: 2023-03-14T12:44:34.435\n",
      "└ @ TickTock C:\\Users\\vbansal5\\.julia\\packages\\TickTock\\fGILW\\src\\TickTock.jl:54\n"
     ]
    },
    {
     "name": "stdout",
     "output_type": "stream",
     "text": [
      " -1200, -200, -1000]\n",
      "Finding best nN policy...\n",
      "Max rewards of (N, n) policy is -3389.0444457027374  n is 2  N is 4\n",
      "3[0, -1400, -200"
     ]
    },
    {
     "name": "stderr",
     "output_type": "stream",
     "text": [
      "┌ Info:           27.0007271s: 27 seconds\n",
      "└ @ TickTock C:\\Users\\vbansal5\\.julia\\packages\\TickTock\\fGILW\\src\\TickTock.jl:62\n",
      "┌ Info:  started timer at: 2023-03-14T12:45:01.436\n",
      "└ @ TickTock C:\\Users\\vbansal5\\.julia\\packages\\TickTock\\fGILW\\src\\TickTock.jl:54\n"
     ]
    },
    {
     "name": "stdout",
     "output_type": "stream",
     "text": [
      ", -1000]\n",
      "Finding best nN policy...\n",
      "Max rewards of (N, n) policy is -3687.8958122717195  n is 2  N is 4\n",
      "3"
     ]
    },
    {
     "name": "stderr",
     "output_type": "stream",
     "text": [
      "┌ Info:           27.3648098s: 27 seconds, 364 milliseconds\n",
      "└ @ TickTock C:\\Users\\vbansal5\\.julia\\packages\\TickTock\\fGILW\\src\\TickTock.jl:62\n",
      "┌ Info:  started timer at: 2023-03-14T12:45:28.804\n",
      "└ @ TickTock C:\\Users\\vbansal5\\.julia\\packages\\TickTock\\fGILW\\src\\TickTock.jl:54\n"
     ]
    },
    {
     "name": "stdout",
     "output_type": "stream",
     "text": [
      "[0, -1600, -200, -1000]\n",
      "Finding best nN policy...\n",
      "Max rewards of (N, n) policy is -3951.2316619660555  n is 2  N is 4\n"
     ]
    },
    {
     "name": "stderr",
     "output_type": "stream",
     "text": [
      "┌ Info:           26.2947593s: 26 seconds, 294 milliseconds\n",
      "└ @ TickTock C:\\Users\\vbansal5\\.julia\\packages\\TickTock\\fGILW\\src\\TickTock.jl:62\n"
     ]
    },
    {
     "name": "stdout",
     "output_type": "stream",
     "text": [
      "5[0"
     ]
    },
    {
     "name": "stderr",
     "output_type": "stream",
     "text": [
      "┌ Info:  started timer at: 2023-03-14T12:45:55.271\n",
      "└ @ TickTock C:\\Users\\vbansal5\\.julia\\packages\\TickTock\\fGILW\\src\\TickTock.jl:54\n"
     ]
    },
    {
     "name": "stdout",
     "output_type": "stream",
     "text": [
      ", -200, -200, -1000]\n",
      "Finding best nN policy...\n",
      "Max rewards of (N, n) policy is -2138.157520578236  n is 3  N is 3\n"
     ]
    },
    {
     "name": "stderr",
     "output_type": "stream",
     "text": [
      "┌ Info:           30.9128075s: 30 seconds, 912 milliseconds\n",
      "└ @ TickTock C:\\Users\\vbansal5\\.julia\\packages\\TickTock\\fGILW\\src\\TickTock.jl:62\n"
     ]
    },
    {
     "name": "stdout",
     "output_type": "stream",
     "text": [
      "5["
     ]
    },
    {
     "name": "stderr",
     "output_type": "stream",
     "text": [
      "┌ Info:  started timer at: 2023-03-14T12:46:26.193\n",
      "└ @ TickTock C:\\Users\\vbansal5\\.julia\\packages\\TickTock\\fGILW\\src\\TickTock.jl:54\n"
     ]
    },
    {
     "name": "stdout",
     "output_type": "stream",
     "text": [
      "0, -400, -200, -1000]\n",
      "Finding best nN policy...\n",
      "Max rewards of (N, n) policy is -2982.5151905232324  n is 2  N is 3\n",
      "5"
     ]
    },
    {
     "name": "stderr",
     "output_type": "stream",
     "text": [
      "┌ Info:           29.6692295s: 29 seconds, 669 milliseconds\n",
      "└ @ TickTock C:\\Users\\vbansal5\\.julia\\packages\\TickTock\\fGILW\\src\\TickTock.jl:62\n",
      "┌ Info:  started timer at: 2023-03-14T12:46:55.922\n",
      "└ @ TickTock C:\\Users\\vbansal5\\.julia\\packages\\TickTock\\fGILW\\src\\TickTock.jl:54\n"
     ]
    },
    {
     "name": "stdout",
     "output_type": "stream",
     "text": [
      "[0, -600, -200, -1000]\n",
      "Finding best nN policy...\n",
      "Max rewards of (N, n) policy is -3607.285883898078  n is 2  N is 3\n",
      "5"
     ]
    },
    {
     "name": "stderr",
     "output_type": "stream",
     "text": [
      "┌ Info:           29.9593411s: 29 seconds, 959 milliseconds\n",
      "└ @ TickTock C:\\Users\\vbansal5\\.julia\\packages\\TickTock\\fGILW\\src\\TickTock.jl:62\n",
      "┌ Info:  started timer at: 2023-03-14T12:47:25.905\n",
      "└ @ TickTock C:\\Users\\vbansal5\\.julia\\packages\\TickTock\\fGILW\\src\\TickTock.jl:54\n"
     ]
    },
    {
     "name": "stdout",
     "output_type": "stream",
     "text": [
      "[0, -800, -200, -1000]\n",
      "Finding best nN policy...\n",
      "Max rewards of (N, n) policy is -4130.187282147402  n is 2  N is 4\n",
      "5["
     ]
    },
    {
     "name": "stderr",
     "output_type": "stream",
     "text": [
      "┌ Info:           28.7008258s: 28 seconds, 700 milliseconds\n",
      "└ @ TickTock C:\\Users\\vbansal5\\.julia\\packages\\TickTock\\fGILW\\src\\TickTock.jl:62\n",
      "┌ Info:  started timer at: 2023-03-14T12:47:54.617\n",
      "└ @ TickTock C:\\Users\\vbansal5\\.julia\\packages\\TickTock\\fGILW\\src\\TickTock.jl:54\n"
     ]
    },
    {
     "name": "stdout",
     "output_type": "stream",
     "text": [
      "0, -1000, -200, -1000]\n",
      "Finding best nN policy...\n",
      "Max rewards of (N, n) policy is -4479.52646740669  n is 2  N is 4\n",
      "5"
     ]
    },
    {
     "name": "stderr",
     "output_type": "stream",
     "text": [
      "┌ Info:           30.3982548s: 30 seconds, 398 milliseconds\n",
      "└ @ TickTock C:\\Users\\vbansal5\\.julia\\packages\\TickTock\\fGILW\\src\\TickTock.jl:62\n"
     ]
    },
    {
     "name": "stdout",
     "output_type": "stream",
     "text": [
      "[0, -1200,"
     ]
    },
    {
     "name": "stderr",
     "output_type": "stream",
     "text": [
      "┌ Info:  started timer at: 2023-03-14T12:48:25.048\n",
      "└ @ TickTock C:\\Users\\vbansal5\\.julia\\packages\\TickTock\\fGILW\\src\\TickTock.jl:54\n"
     ]
    },
    {
     "name": "stdout",
     "output_type": "stream",
     "text": [
      " -200, -1000]\n",
      "Finding best nN policy...\n",
      "Max rewards of (N, n) policy is -4806.268800359147  n is 2  N is 4\n",
      "5[0, -1400, -200, -1000]\n",
      "Finding best nN policy...\n"
     ]
    },
    {
     "name": "stderr",
     "output_type": "stream",
     "text": [
      "┌ Info:           32.5160698s: 32 seconds, 516 milliseconds\n",
      "└ @ TickTock C:\\Users\\vbansal5\\.julia\\packages\\TickTock\\fGILW\\src\\TickTock.jl:62\n",
      "┌ Info:  started timer at: 2023-03-14T12:48:57.580\n",
      "└ @ TickTock C:\\Users\\vbansal5\\.julia\\packages\\TickTock\\fGILW\\src\\TickTock.jl:54\n"
     ]
    },
    {
     "name": "stdout",
     "output_type": "stream",
     "text": [
      "Max rewards of (N, n) policy is -5192.305550610199  n is 2  N is 4\n",
      "5"
     ]
    },
    {
     "name": "stderr",
     "output_type": "stream",
     "text": [
      "┌ Info:           29.7320814s: 29 seconds, 732 milliseconds\n",
      "└ @ TickTock C:\\Users\\vbansal5\\.julia\\packages\\TickTock\\fGILW\\src\\TickTock.jl:62\n"
     ]
    },
    {
     "name": "stdout",
     "output_type": "stream",
     "text": [
      "["
     ]
    },
    {
     "name": "stderr",
     "output_type": "stream",
     "text": [
      "┌ Info:  started timer at: 2023-03-14T12:49:27.369\n",
      "└ @ TickTock C:\\Users\\vbansal5\\.julia\\packages\\TickTock\\fGILW\\src\\TickTock.jl:54\n"
     ]
    },
    {
     "name": "stdout",
     "output_type": "stream",
     "text": [
      "0, -1600, -200, -1000]\n",
      "Finding best nN policy...\n",
      "Max rewards of (N, n) policy is -5531.479733027433  n is 2  N is 4\n"
     ]
    },
    {
     "name": "stderr",
     "output_type": "stream",
     "text": [
      "┌ Info:           29.6465836s: 29 seconds, 646 milliseconds\n",
      "└ @ TickTock C:\\Users\\vbansal5\\.julia\\packages\\TickTock\\fGILW\\src\\TickTock.jl:62\n"
     ]
    },
    {
     "name": "stdout",
     "output_type": "stream",
     "text": [
      "10[0,"
     ]
    },
    {
     "name": "stderr",
     "output_type": "stream",
     "text": [
      "┌ Info:  started timer at: 2023-03-14T12:49:57.085\n",
      "└ @ TickTock C:\\Users\\vbansal5\\.julia\\packages\\TickTock\\fGILW\\src\\TickTock.jl:54\n"
     ]
    },
    {
     "name": "stdout",
     "output_type": "stream",
     "text": [
      " -200, -200, -1000]\n",
      "Finding best nN policy...\n",
      "Max rewards of (N, n) policy is -3985.486547439549  n is 3  N is 3\n",
      "10"
     ]
    },
    {
     "name": "stderr",
     "output_type": "stream",
     "text": [
      "┌ Info:           37.0318688s: 37 seconds, 31 milliseconds\n",
      "└ @ TickTock C:\\Users\\vbansal5\\.julia\\packages\\TickTock\\fGILW\\src\\TickTock.jl:62\n",
      "┌ Info:  started timer at: 2023-03-14T12:50:34.141\n",
      "└ @ TickTock C:\\Users\\vbansal5\\.julia\\packages\\TickTock\\fGILW\\src\\TickTock.jl:54\n"
     ]
    },
    {
     "name": "stdout",
     "output_type": "stream",
     "text": [
      "[0, -400, -200, -1000]\n",
      "Finding best nN policy...\n",
      "Max rewards of (N, n) policy is -5687.518685503422  n is 3  N is 3\n"
     ]
    },
    {
     "name": "stderr",
     "output_type": "stream",
     "text": [
      "┌ Info:             35.97149s: 35 seconds, 971 milliseconds\n",
      "└ @ TickTock C:\\Users\\vbansal5\\.julia\\packages\\TickTock\\fGILW\\src\\TickTock.jl:62\n"
     ]
    },
    {
     "name": "stdout",
     "output_type": "stream",
     "text": [
      "10"
     ]
    },
    {
     "name": "stderr",
     "output_type": "stream",
     "text": [
      "┌ Info:  started timer at: 2023-03-14T12:51:10.201\n",
      "└ @ TickTock C:\\Users\\vbansal5\\.julia\\packages\\TickTock\\fGILW\\src\\TickTock.jl:54\n"
     ]
    },
    {
     "name": "stdout",
     "output_type": "stream",
     "text": [
      "[0, -600, -200, -1000]\n",
      "Finding best nN policy...\n",
      "Max rewards of (N, n) policy is -6433.916794179489  n is 2  N is 4\n"
     ]
    },
    {
     "name": "stderr",
     "output_type": "stream",
     "text": [
      "┌ Info:           39.1070207s: 39 seconds, 107 milliseconds\n",
      "└ @ TickTock C:\\Users\\vbansal5\\.julia\\packages\\TickTock\\fGILW\\src\\TickTock.jl:62\n"
     ]
    },
    {
     "name": "stdout",
     "output_type": "stream",
     "text": [
      "10[0,"
     ]
    },
    {
     "name": "stderr",
     "output_type": "stream",
     "text": [
      "┌ Info:  started timer at: 2023-03-14T12:51:49.488\n",
      "└ @ TickTock C:\\Users\\vbansal5\\.julia\\packages\\TickTock\\fGILW\\src\\TickTock.jl:54\n"
     ]
    },
    {
     "name": "stdout",
     "output_type": "stream",
     "text": [
      " -800, -200, -1000]\n",
      "Finding best nN policy...\n",
      "Max rewards of (N, n) policy is -6870.730481720907  n is 2  N is 4\n"
     ]
    },
    {
     "name": "stderr",
     "output_type": "stream",
     "text": [
      "┌ Info:           39.2741985s: 39 seconds, 274 milliseconds\n",
      "└ @ TickTock C:\\Users\\vbansal5\\.julia\\packages\\TickTock\\fGILW\\src\\TickTock.jl:62\n"
     ]
    },
    {
     "name": "stdout",
     "output_type": "stream",
     "text": [
      "10"
     ]
    },
    {
     "name": "stderr",
     "output_type": "stream",
     "text": [
      "┌ Info:  started timer at: 2023-03-14T12:52:28.812\n",
      "└ @ TickTock C:\\Users\\vbansal5\\.julia\\packages\\TickTock\\fGILW\\src\\TickTock.jl:54\n"
     ]
    },
    {
     "name": "stdout",
     "output_type": "stream",
     "text": [
      "[0, -1000, -200, -1000]\n",
      "Finding best nN policy...\n",
      "Max rewards of (N, n) policy is -7344.9348142202925  n is 2  N is 4\n",
      "10[0"
     ]
    },
    {
     "name": "stderr",
     "output_type": "stream",
     "text": [
      "┌ Info:           38.4573679s: 38 seconds, 457 milliseconds\n",
      "└ @ TickTock C:\\Users\\vbansal5\\.julia\\packages\\TickTock\\fGILW\\src\\TickTock.jl:62\n",
      "┌ Info:  started timer at: 2023-03-14T12:53:07.289\n",
      "└ @ TickTock C:\\Users\\vbansal5\\.julia\\packages\\TickTock\\fGILW\\src\\TickTock.jl:54\n"
     ]
    },
    {
     "name": "stdout",
     "output_type": "stream",
     "text": [
      ", -1200, -200, -1000]\n",
      "Finding best nN policy...\n",
      "Max rewards of (N, n) policy is -7792.097745730203  n is 2  N is 4\n"
     ]
    },
    {
     "name": "stderr",
     "output_type": "stream",
     "text": [
      "┌ Info:           36.6287298s: 36 seconds, 628 milliseconds\n",
      "└ @ TickTock C:\\Users\\vbansal5\\.julia\\packages\\TickTock\\fGILW\\src\\TickTock.jl:62\n"
     ]
    },
    {
     "name": "stdout",
     "output_type": "stream",
     "text": [
      "10["
     ]
    },
    {
     "name": "stderr",
     "output_type": "stream",
     "text": [
      "┌ Info:  started timer at: 2023-03-14T12:53:43.995\n",
      "└ @ TickTock C:\\Users\\vbansal5\\.julia\\packages\\TickTock\\fGILW\\src\\TickTock.jl:54\n"
     ]
    },
    {
     "name": "stdout",
     "output_type": "stream",
     "text": [
      "0, -1400, -200, -1000]\n",
      "Finding best nN policy...\n",
      "Max rewards of (N, n) policy is -8259.475386804344  n is 2  N is 4\n",
      "10[0, "
     ]
    },
    {
     "name": "stderr",
     "output_type": "stream",
     "text": [
      "┌ Info:           37.1994012s: 37 seconds, 199 milliseconds\n",
      "└ @ TickTock C:\\Users\\vbansal5\\.julia\\packages\\TickTock\\fGILW\\src\\TickTock.jl:62\n",
      "┌ Info:  started timer at: 2023-03-14T12:54:21.218\n",
      "└ @ TickTock C:\\Users\\vbansal5\\.julia\\packages\\TickTock\\fGILW\\src\\TickTock.jl:54\n"
     ]
    },
    {
     "name": "stdout",
     "output_type": "stream",
     "text": [
      "-1600, -200, -1000]\n",
      "Finding best nN policy...\n",
      "Max rewards of (N, n) policy is -8722.588308863313  n is 2  N is 4\n"
     ]
    },
    {
     "name": "stderr",
     "output_type": "stream",
     "text": [
      "┌ Info:           38.3496095s: 38 seconds, 349 milliseconds\n",
      "└ @ TickTock C:\\Users\\vbansal5\\.julia\\packages\\TickTock\\fGILW\\src\\TickTock.jl:62\n"
     ]
    },
    {
     "name": "stdout",
     "output_type": "stream",
     "text": [
      "15"
     ]
    },
    {
     "name": "stderr",
     "output_type": "stream",
     "text": [
      "┌ Info:  started timer at: 2023-03-14T12:54:59.774\n",
      "└ @ TickTock C:\\Users\\vbansal5\\.julia\\packages\\TickTock\\fGILW\\src\\TickTock.jl:54\n"
     ]
    },
    {
     "name": "stdout",
     "output_type": "stream",
     "text": [
      "[0, -200, -200, -1000]\n",
      "Finding best nN policy...\n",
      "Max rewards of (N, n) policy is -5631.430775049359  n is 3  N is 3\n"
     ]
    },
    {
     "name": "stderr",
     "output_type": "stream",
     "text": [
      "┌ Info:           47.5678052s: 47 seconds, 567 milliseconds\n",
      "└ @ TickTock C:\\Users\\vbansal5\\.julia\\packages\\TickTock\\fGILW\\src\\TickTock.jl:62\n"
     ]
    },
    {
     "name": "stdout",
     "output_type": "stream",
     "text": [
      "15[0,"
     ]
    },
    {
     "name": "stderr",
     "output_type": "stream",
     "text": [
      "┌ Info:  started timer at: 2023-03-14T12:55:47.634\n",
      "└ @ TickTock C:\\Users\\vbansal5\\.julia\\packages\\TickTock\\fGILW\\src\\TickTock.jl:54\n"
     ]
    },
    {
     "name": "stdout",
     "output_type": "stream",
     "text": [
      " -400, -200, -1000]\n",
      "Finding best nN policy...\n",
      "Max rewards of (N, n) policy is -7830.935479282485  n is 3  N is 3\n",
      "15[0, -600, -200, -1000]\n",
      "Finding best nN policy...\n"
     ]
    },
    {
     "name": "stderr",
     "output_type": "stream",
     "text": [
      "┌ Info:           46.7686455s: 46 seconds, 768 milliseconds\n",
      "└ @ TickTock C:\\Users\\vbansal5\\.julia\\packages\\TickTock\\fGILW\\src\\TickTock.jl:62\n",
      "┌ Info:  started timer at: 2023-03-14T12:56:34.403\n",
      "└ @ TickTock C:\\Users\\vbansal5\\.julia\\packages\\TickTock\\fGILW\\src\\TickTock.jl:54\n"
     ]
    },
    {
     "name": "stdout",
     "output_type": "stream",
     "text": [
      "Max rewards of (N, n) policy is -8877.866331825466  n is 3  N is 4\n",
      "15"
     ]
    },
    {
     "name": "stderr",
     "output_type": "stream",
     "text": [
      "┌ Info:           44.3900959s: 44 seconds, 390 milliseconds\n",
      "└ @ TickTock C:\\Users\\vbansal5\\.julia\\packages\\TickTock\\fGILW\\src\\TickTock.jl:62\n",
      "┌ Info:  started timer at: 2023-03-14T12:57:18.834\n",
      "└ @ TickTock C:\\Users\\vbansal5\\.julia\\packages\\TickTock\\fGILW\\src\\TickTock.jl:54\n"
     ]
    },
    {
     "name": "stdout",
     "output_type": "stream",
     "text": [
      "[0, -800, -200, -1000]\n",
      "Finding best nN policy...\n",
      "Max rewards of (N, n) policy is -9423.31552367005  n is 2  N is 4\n",
      "15"
     ]
    },
    {
     "name": "stderr",
     "output_type": "stream",
     "text": [
      "┌ Info:           45.0095254s: 45 seconds, 9 milliseconds\n",
      "└ @ TickTock C:\\Users\\vbansal5\\.julia\\packages\\TickTock\\fGILW\\src\\TickTock.jl:62\n"
     ]
    },
    {
     "name": "stdout",
     "output_type": "stream",
     "text": [
      "["
     ]
    },
    {
     "name": "stderr",
     "output_type": "stream",
     "text": [
      "┌ Info:  started timer at: 2023-03-14T12:58:03.868\n",
      "└ @ TickTock C:\\Users\\vbansal5\\.julia\\packages\\TickTock\\fGILW\\src\\TickTock.jl:54\n"
     ]
    },
    {
     "name": "stdout",
     "output_type": "stream",
     "text": [
      "0, -1000, -200, -1000]\n",
      "Finding best nN policy...\n",
      "Max rewards of (N, n) policy is -9957.45479452067  n is 2  N is 4\n"
     ]
    },
    {
     "name": "stderr",
     "output_type": "stream",
     "text": [
      "┌ Info:           45.5484891s: 45 seconds, 548 milliseconds\n",
      "└ @ TickTock C:\\Users\\vbansal5\\.julia\\packages\\TickTock\\fGILW\\src\\TickTock.jl:62\n"
     ]
    },
    {
     "name": "stdout",
     "output_type": "stream",
     "text": [
      "15"
     ]
    },
    {
     "name": "stderr",
     "output_type": "stream",
     "text": [
      "┌ Info:  started timer at: 2023-03-14T12:58:49.583\n",
      "└ @ TickTock C:\\Users\\vbansal5\\.julia\\packages\\TickTock\\fGILW\\src\\TickTock.jl:54\n"
     ]
    },
    {
     "name": "stdout",
     "output_type": "stream",
     "text": [
      "[0, -1200, -200, -1000]\n",
      "Finding best nN policy...\n",
      "Max rewards of (N, n) policy is -10487.61737586049  n is 2  N is 4\n",
      "15[0,"
     ]
    },
    {
     "name": "stderr",
     "output_type": "stream",
     "text": [
      "┌ Info:           48.7548335s: 48 seconds, 754 milliseconds\n",
      "└ @ TickTock C:\\Users\\vbansal5\\.julia\\packages\\TickTock\\fGILW\\src\\TickTock.jl:62\n",
      "┌ Info:  started timer at: 2023-03-14T12:59:38.339\n",
      "└ @ TickTock C:\\Users\\vbansal5\\.julia\\packages\\TickTock\\fGILW\\src\\TickTock.jl:54\n"
     ]
    },
    {
     "name": "stdout",
     "output_type": "stream",
     "text": [
      " -1400, -200, -1000]\n",
      "Finding best nN policy...\n",
      "Max rewards of (N, n) policy is -11017.821872574224  n is 2  N is 4\n",
      "15"
     ]
    },
    {
     "name": "stderr",
     "output_type": "stream",
     "text": [
      "┌ Info:           44.8696581s: 44 seconds, 869 milliseconds\n",
      "└ @ TickTock C:\\Users\\vbansal5\\.julia\\packages\\TickTock\\fGILW\\src\\TickTock.jl:62\n",
      "┌ Info:  started timer at: 2023-03-14T13:00:23.257\n",
      "└ @ TickTock C:\\Users\\vbansal5\\.julia\\packages\\TickTock\\fGILW\\src\\TickTock.jl:54\n"
     ]
    },
    {
     "name": "stdout",
     "output_type": "stream",
     "text": [
      "[0, -1600, -200, -1000]\n",
      "Finding best nN policy...\n",
      "Max rewards of (N, n) policy is -11552.691215552222  n is 2  N is 4\n"
     ]
    },
    {
     "name": "stderr",
     "output_type": "stream",
     "text": [
      "┌ Info:           46.8236507s: 46 seconds, 823 milliseconds\n",
      "└ @ TickTock C:\\Users\\vbansal5\\.julia\\packages\\TickTock\\fGILW\\src\\TickTock.jl:62\n"
     ]
    },
    {
     "name": "stdout",
     "output_type": "stream",
     "text": [
      "20"
     ]
    },
    {
     "name": "stderr",
     "output_type": "stream",
     "text": [
      "┌ Info:  started timer at: 2023-03-14T13:01:10.270\n",
      "└ @ TickTock C:\\Users\\vbansal5\\.julia\\packages\\TickTock\\fGILW\\src\\TickTock.jl:54\n"
     ]
    },
    {
     "name": "stdout",
     "output_type": "stream",
     "text": [
      "[0, -200, -200, -1000]\n",
      "Finding best nN policy...\n",
      "Max rewards of (N, n) policy is -7132.274229209569  n is 3  N is 3\n",
      "20["
     ]
    },
    {
     "name": "stderr",
     "output_type": "stream",
     "text": [
      "┌ Info:           54.2953214s: 54 seconds, 295 milliseconds\n",
      "└ @ TickTock C:\\Users\\vbansal5\\.julia\\packages\\TickTock\\fGILW\\src\\TickTock.jl:62\n",
      "┌ Info:  started timer at: 2023-03-14T13:02:04.634\n",
      "└ @ TickTock C:\\Users\\vbansal5\\.julia\\packages\\TickTock\\fGILW\\src\\TickTock.jl:54\n"
     ]
    },
    {
     "name": "stdout",
     "output_type": "stream",
     "text": [
      "0, -400, -200, -1000]\n",
      "Finding best nN policy...\n",
      "Max rewards of (N, n) policy is -9707.873698035033  n is 3  N is 3\n",
      "20"
     ]
    },
    {
     "name": "stderr",
     "output_type": "stream",
     "text": [
      "┌ Info:              62.5113s: 1 minute, 2 seconds, 511 milliseconds\n",
      "└ @ TickTock C:\\Users\\vbansal5\\.julia\\packages\\TickTock\\fGILW\\src\\TickTock.jl:62\n",
      "┌ Info:  started timer at: 2023-03-14T13:03:07.267\n",
      "└ @ TickTock C:\\Users\\vbansal5\\.julia\\packages\\TickTock\\fGILW\\src\\TickTock.jl:54\n"
     ]
    },
    {
     "name": "stdout",
     "output_type": "stream",
     "text": [
      "[0, -600, -200, -1000]\n",
      "Finding best nN policy...\n",
      "Max rewards of (N, n) policy is -10930.535901387788  n is 3  N is 4\n"
     ]
    },
    {
     "name": "stderr",
     "output_type": "stream",
     "text": [
      "┌ Info:           56.5504848s: 56 seconds, 550 milliseconds\n",
      "└ @ TickTock C:\\Users\\vbansal5\\.julia\\packages\\TickTock\\fGILW\\src\\TickTock.jl:62\n"
     ]
    },
    {
     "name": "stdout",
     "output_type": "stream",
     "text": [
      "20[0,"
     ]
    },
    {
     "name": "stderr",
     "output_type": "stream",
     "text": [
      "┌ Info:  started timer at: 2023-03-14T13:04:03.933\n",
      "└ @ TickTock C:\\Users\\vbansal5\\.julia\\packages\\TickTock\\fGILW\\src\\TickTock.jl:54\n"
     ]
    },
    {
     "name": "stdout",
     "output_type": "stream",
     "text": [
      " -800, -200, -1000]\n",
      "Finding best nN policy...\n",
      "Max rewards of (N, n) policy is -11789.444708500123  n is 3  N is 4\n",
      "20[0, -1000, -200, -1000]\n",
      "Finding best nN policy...\n"
     ]
    },
    {
     "name": "stderr",
     "output_type": "stream",
     "text": [
      "┌ Info:           52.8519778s: 52 seconds, 851 milliseconds\n",
      "└ @ TickTock C:\\Users\\vbansal5\\.julia\\packages\\TickTock\\fGILW\\src\\TickTock.jl:62\n",
      "┌ Info:  started timer at: 2023-03-14T13:04:56.787\n",
      "└ @ TickTock C:\\Users\\vbansal5\\.julia\\packages\\TickTock\\fGILW\\src\\TickTock.jl:54\n"
     ]
    },
    {
     "name": "stdout",
     "output_type": "stream",
     "text": [
      "Max rewards of (N, n) policy is -12444.864825989658  n is 2  N is 4\n",
      "20"
     ]
    },
    {
     "name": "stderr",
     "output_type": "stream",
     "text": [
      "┌ Info:           53.7214044s: 53 seconds, 721 milliseconds\n",
      "└ @ TickTock C:\\Users\\vbansal5\\.julia\\packages\\TickTock\\fGILW\\src\\TickTock.jl:62\n",
      "┌ Info:  started timer at: 2023-03-14T13:05:50.544\n",
      "└ @ TickTock C:\\Users\\vbansal5\\.julia\\packages\\TickTock\\fGILW\\src\\TickTock.jl:54\n"
     ]
    },
    {
     "name": "stdout",
     "output_type": "stream",
     "text": [
      "[0, -1200, -200, -1000]\n",
      "Finding best nN policy...\n",
      "Max rewards of (N, n) policy is -13048.872598582413  n is 2  N is 4\n",
      "20[0,"
     ]
    },
    {
     "name": "stderr",
     "output_type": "stream",
     "text": [
      "┌ Info:           54.3120238s: 54 seconds, 312 milliseconds\n",
      "└ @ TickTock C:\\Users\\vbansal5\\.julia\\packages\\TickTock\\fGILW\\src\\TickTock.jl:62\n",
      "┌ Info:  started timer at: 2023-03-14T13:06:44.881\n",
      "└ @ TickTock C:\\Users\\vbansal5\\.julia\\packages\\TickTock\\fGILW\\src\\TickTock.jl:54\n"
     ]
    },
    {
     "name": "stdout",
     "output_type": "stream",
     "text": [
      " -1400, -200, -1000]\n",
      "Finding best nN policy...\n",
      "Max rewards of (N, n) policy is -13632.496509336896  n is 2  N is 4\n"
     ]
    },
    {
     "name": "stderr",
     "output_type": "stream",
     "text": [
      "┌ Info:           56.5747151s: 56 seconds, 574 milliseconds\n",
      "└ @ TickTock C:\\Users\\vbansal5\\.julia\\packages\\TickTock\\fGILW\\src\\TickTock.jl:62\n"
     ]
    },
    {
     "name": "stdout",
     "output_type": "stream",
     "text": [
      "20[0, -1600, -200, -1000]"
     ]
    },
    {
     "name": "stderr",
     "output_type": "stream",
     "text": [
      "┌ Info:  started timer at: 2023-03-14T13:07:41.499\n",
      "└ @ TickTock C:\\Users\\vbansal5\\.julia\\packages\\TickTock\\fGILW\\src\\TickTock.jl:54\n"
     ]
    },
    {
     "name": "stdout",
     "output_type": "stream",
     "text": [
      "\n",
      "Finding best nN policy...\n",
      "Max rewards of (N, n) policy is -14189.700632498438  n is 2  N is 4\n",
      "25[0, -200, -200, -1000]\n",
      "Finding best nN policy...\n"
     ]
    },
    {
     "name": "stderr",
     "output_type": "stream",
     "text": [
      "┌ Info:           54.5237519s: 54 seconds, 523 milliseconds\n",
      "└ @ TickTock C:\\Users\\vbansal5\\.julia\\packages\\TickTock\\fGILW\\src\\TickTock.jl:62\n",
      "┌ Info:  started timer at: 2023-03-14T13:08:36.055\n",
      "└ @ TickTock C:\\Users\\vbansal5\\.julia\\packages\\TickTock\\fGILW\\src\\TickTock.jl:54\n"
     ]
    },
    {
     "name": "stdout",
     "output_type": "stream",
     "text": [
      "Max rewards of (N, n) policy is -8525.284365836796  n is 3  N is 3\n",
      "25"
     ]
    },
    {
     "name": "stderr",
     "output_type": "stream",
     "text": [
      "┌ Info:           60.7982973s: 1 minute, 798 milliseconds\n",
      "└ @ TickTock C:\\Users\\vbansal5\\.julia\\packages\\TickTock\\fGILW\\src\\TickTock.jl:62\n"
     ]
    },
    {
     "name": "stdout",
     "output_type": "stream",
     "text": [
      "["
     ]
    },
    {
     "name": "stderr",
     "output_type": "stream",
     "text": [
      "┌ Info:  started timer at: 2023-03-14T13:09:36.905\n",
      "└ @ TickTock C:\\Users\\vbansal5\\.julia\\packages\\TickTock\\fGILW\\src\\TickTock.jl:54\n"
     ]
    },
    {
     "name": "stdout",
     "output_type": "stream",
     "text": [
      "0, -400, -200, -1000]\n",
      "Finding best nN policy...\n",
      "Max rewards of (N, n) policy is -11353.978941362911  n is 3  N is 3\n"
     ]
    },
    {
     "name": "stderr",
     "output_type": "stream",
     "text": [
      "┌ Info:           61.6110756s: 1 minute, 1 second, 611 milliseconds\n",
      "└ @ TickTock C:\\Users\\vbansal5\\.julia\\packages\\TickTock\\fGILW\\src\\TickTock.jl:62\n"
     ]
    },
    {
     "name": "stdout",
     "output_type": "stream",
     "text": [
      "25[0, -600, -200, -1000]\n",
      "Finding best nN policy...\n"
     ]
    },
    {
     "name": "stderr",
     "output_type": "stream",
     "text": [
      "┌ Info:  started timer at: 2023-03-14T13:10:38.549\n",
      "└ @ TickTock C:\\Users\\vbansal5\\.julia\\packages\\TickTock\\fGILW\\src\\TickTock.jl:54\n"
     ]
    },
    {
     "name": "stdout",
     "output_type": "stream",
     "text": [
      "Max rewards of (N, n) policy is -12865.330832504467  n is 3  N is 4\n",
      "25"
     ]
    },
    {
     "name": "stderr",
     "output_type": "stream",
     "text": [
      "┌ Info:           62.2234304s: 1 minute, 2 seconds, 223 milliseconds\n",
      "└ @ TickTock C:\\Users\\vbansal5\\.julia\\packages\\TickTock\\fGILW\\src\\TickTock.jl:62\n",
      "┌ Info:  started timer at: 2023-03-14T13:11:40.837\n",
      "└ @ TickTock C:\\Users\\vbansal5\\.julia\\packages\\TickTock\\fGILW\\src\\TickTock.jl:54\n"
     ]
    },
    {
     "name": "stdout",
     "output_type": "stream",
     "text": [
      "[0, -800, -200, -1000]\n",
      "Finding best nN policy...\n",
      "Max rewards of (N, n) policy is -13824.617161704513  n is 3  N is 4\n",
      "25[0, -1000, -200, -1000]\n",
      "Finding best nN policy..."
     ]
    },
    {
     "name": "stderr",
     "output_type": "stream",
     "text": [
      "┌ Info:           61.4746554s: 1 minute, 1 second, 474 milliseconds\n",
      "└ @ TickTock C:\\Users\\vbansal5\\.julia\\packages\\TickTock\\fGILW\\src\\TickTock.jl:62\n",
      "┌ Info:  started timer at: 2023-03-14T13:12:42.315\n",
      "└ @ TickTock C:\\Users\\vbansal5\\.julia\\packages\\TickTock\\fGILW\\src\\TickTock.jl:54\n"
     ]
    },
    {
     "name": "stdout",
     "output_type": "stream",
     "text": [
      "\n",
      "Max rewards of (N, n) policy is -14752.620660769186  n is 3  N is 4\n"
     ]
    },
    {
     "name": "stderr",
     "output_type": "stream",
     "text": [
      "┌ Info:           64.4556421s: 1 minute, 4 seconds, 455 milliseconds\n",
      "└ @ TickTock C:\\Users\\vbansal5\\.julia\\packages\\TickTock\\fGILW\\src\\TickTock.jl:62\n"
     ]
    },
    {
     "name": "stdout",
     "output_type": "stream",
     "text": [
      "25["
     ]
    },
    {
     "name": "stderr",
     "output_type": "stream",
     "text": [
      "┌ Info:  started timer at: 2023-03-14T13:13:46.910\n",
      "└ @ TickTock C:\\Users\\vbansal5\\.julia\\packages\\TickTock\\fGILW\\src\\TickTock.jl:54\n"
     ]
    },
    {
     "name": "stdout",
     "output_type": "stream",
     "text": [
      "0, -1200, -200, -1000]\n",
      "Finding best nN policy...\n",
      "Max rewards of (N, n) policy is -15532.86778686909  n is 2  N is 4\n",
      "25[0, -1400"
     ]
    },
    {
     "name": "stderr",
     "output_type": "stream",
     "text": [
      "┌ Info:           68.2942262s: 1 minute, 8 seconds, 294 milliseconds\n",
      "└ @ TickTock C:\\Users\\vbansal5\\.julia\\packages\\TickTock\\fGILW\\src\\TickTock.jl:62\n",
      "┌ Info:  started timer at: 2023-03-14T13:14:55.234\n",
      "└ @ TickTock C:\\Users\\vbansal5\\.julia\\packages\\TickTock\\fGILW\\src\\TickTock.jl:54\n"
     ]
    },
    {
     "name": "stdout",
     "output_type": "stream",
     "text": [
      ", -200, -1000]\n",
      "Finding best nN policy...\n",
      "Max rewards of (N, n) policy is -16164.656752820658  n is 2  N is 4\n",
      "25"
     ]
    },
    {
     "name": "stderr",
     "output_type": "stream",
     "text": [
      "┌ Info:           61.3003332s: 1 minute, 1 second, 300 milliseconds\n",
      "└ @ TickTock C:\\Users\\vbansal5\\.julia\\packages\\TickTock\\fGILW\\src\\TickTock.jl:62\n"
     ]
    },
    {
     "name": "stdout",
     "output_type": "stream",
     "text": [
      "["
     ]
    },
    {
     "name": "stderr",
     "output_type": "stream",
     "text": [
      "┌ Info:  started timer at: 2023-03-14T13:15:56.624\n",
      "└ @ TickTock C:\\Users\\vbansal5\\.julia\\packages\\TickTock\\fGILW\\src\\TickTock.jl:54\n"
     ]
    },
    {
     "name": "stdout",
     "output_type": "stream",
     "text": [
      "0, -1600, -200, -1000]\n",
      "Finding best nN policy...\n",
      "Max rewards of (N, n) policy is -16771.985892683704  n is 2  N is 4\n"
     ]
    },
    {
     "name": "stderr",
     "output_type": "stream",
     "text": [
      "┌ Info:           62.0096812s: 1 minute, 2 seconds, 9 milliseconds\n",
      "└ @ TickTock C:\\Users\\vbansal5\\.julia\\packages\\TickTock\\fGILW\\src\\TickTock.jl:62\n"
     ]
    },
    {
     "name": "stdout",
     "output_type": "stream",
     "text": [
      "30"
     ]
    },
    {
     "name": "stderr",
     "output_type": "stream",
     "text": [
      "┌ Info:  started timer at: 2023-03-14T13:16:58.712\n",
      "└ @ TickTock C:\\Users\\vbansal5\\.julia\\packages\\TickTock\\fGILW\\src\\TickTock.jl:54\n"
     ]
    },
    {
     "name": "stdout",
     "output_type": "stream",
     "text": [
      "[0, -200, -200, -1000]\n",
      "Finding best nN policy...\n",
      "Max rewards of (N, n) policy is -9857.739678537535  n is 3  N is 3\n"
     ]
    },
    {
     "name": "stderr",
     "output_type": "stream",
     "text": [
      "┌ Info:              74.6617s: 1 minute, 14 seconds, 661 milliseconds\n",
      "└ @ TickTock C:\\Users\\vbansal5\\.julia\\packages\\TickTock\\fGILW\\src\\TickTock.jl:62\n"
     ]
    },
    {
     "name": "stdout",
     "output_type": "stream",
     "text": [
      "30"
     ]
    },
    {
     "name": "stderr",
     "output_type": "stream",
     "text": [
      "┌ Info:  started timer at: 2023-03-14T13:18:13.525\n",
      "└ @ TickTock C:\\Users\\vbansal5\\.julia\\packages\\TickTock\\fGILW\\src\\TickTock.jl:54\n"
     ]
    },
    {
     "name": "stdout",
     "output_type": "stream",
     "text": [
      "[0, -400, -200, -1000]\n",
      "Finding best nN policy...\n",
      "Max rewards of (N, n) policy is -12860.034438137642  n is 3  N is 3\n"
     ]
    },
    {
     "name": "stderr",
     "output_type": "stream",
     "text": [
      "┌ Info:           69.1925489s: 1 minute, 9 seconds, 192 milliseconds\n",
      "└ @ TickTock C:\\Users\\vbansal5\\.julia\\packages\\TickTock\\fGILW\\src\\TickTock.jl:62\n"
     ]
    },
    {
     "name": "stdout",
     "output_type": "stream",
     "text": [
      "30"
     ]
    },
    {
     "name": "stderr",
     "output_type": "stream",
     "text": [
      "┌ Info:  started timer at: 2023-03-14T13:19:22.930\n",
      "└ @ TickTock C:\\Users\\vbansal5\\.julia\\packages\\TickTock\\fGILW\\src\\TickTock.jl:54\n"
     ]
    },
    {
     "name": "stdout",
     "output_type": "stream",
     "text": [
      "[0, -600, -200, -1000]\n",
      "Finding best nN policy...\n",
      "Max rewards of (N, n) policy is -14706.207224907988  n is 3  N is 4\n",
      "30"
     ]
    },
    {
     "name": "stderr",
     "output_type": "stream",
     "text": [
      "┌ Info:           74.8110963s: 1 minute, 14 seconds, 811 milliseconds\n",
      "└ @ TickTock C:\\Users\\vbansal5\\.julia\\packages\\TickTock\\fGILW\\src\\TickTock.jl:62\n",
      "┌ Info:  started timer at: 2023-03-14T13:20:37.752\n",
      "└ @ TickTock C:\\Users\\vbansal5\\.julia\\packages\\TickTock\\fGILW\\src\\TickTock.jl:54\n"
     ]
    },
    {
     "name": "stdout",
     "output_type": "stream",
     "text": [
      "[0, -800, -200, -1000]\n",
      "Finding best nN policy...\n",
      "Max rewards of (N, n) policy is -15702.867174726242  n is 3  N is 4\n",
      "30[0, -1000, -200, -1000]\n"
     ]
    },
    {
     "name": "stderr",
     "output_type": "stream",
     "text": [
      "┌ Info:           75.0335872s: 1 minute, 15 seconds, 33 milliseconds\n",
      "└ @ TickTock C:\\Users\\vbansal5\\.julia\\packages\\TickTock\\fGILW\\src\\TickTock.jl:62\n",
      "┌ Info:  started timer at: 2023-03-14T13:21:52.808\n",
      "└ @ TickTock C:\\Users\\vbansal5\\.julia\\packages\\TickTock\\fGILW\\src\\TickTock.jl:54\n"
     ]
    },
    {
     "name": "stdout",
     "output_type": "stream",
     "text": [
      "Finding best nN policy...\n",
      "Max rewards of (N, n) policy is -16696.80823054586  n is 3  N is 4\n",
      "30[0, -1200, -200, "
     ]
    },
    {
     "name": "stderr",
     "output_type": "stream",
     "text": [
      "┌ Info:           71.9990503s: 1 minute, 11 seconds, 999 milliseconds\n",
      "└ @ TickTock C:\\Users\\vbansal5\\.julia\\packages\\TickTock\\fGILW\\src\\TickTock.jl:62\n",
      "┌ Info:  started timer at: 2023-03-14T13:23:04.820\n",
      "└ @ TickTock C:\\Users\\vbansal5\\.julia\\packages\\TickTock\\fGILW\\src\\TickTock.jl:54\n"
     ]
    },
    {
     "name": "stdout",
     "output_type": "stream",
     "text": [
      "-1000]\n",
      "Finding best nN policy...\n",
      "Max rewards of (N, n) policy is -17750.43932184345  n is 3  N is 4\n",
      "30"
     ]
    },
    {
     "name": "stderr",
     "output_type": "stream",
     "text": [
      "┌ Info:           73.7361898s: 1 minute, 13 seconds, 736 milliseconds\n",
      "└ @ TickTock C:\\Users\\vbansal5\\.julia\\packages\\TickTock\\fGILW\\src\\TickTock.jl:62\n",
      "┌ Info:  started timer at: 2023-03-14T13:24:18.593\n",
      "└ @ TickTock C:\\Users\\vbansal5\\.julia\\packages\\TickTock\\fGILW\\src\\TickTock.jl:54\n"
     ]
    },
    {
     "name": "stdout",
     "output_type": "stream",
     "text": [
      "[0, -1400, -200, -1000]\n",
      "Finding best nN policy...\n",
      "Max rewards of (N, n) policy is -18642.671214658163  n is 2  N is 4\n",
      "30"
     ]
    },
    {
     "name": "stderr",
     "output_type": "stream",
     "text": [
      "┌ Info:           70.2840472s: 1 minute, 10 seconds, 284 milliseconds\n",
      "└ @ TickTock C:\\Users\\vbansal5\\.julia\\packages\\TickTock\\fGILW\\src\\TickTock.jl:62\n"
     ]
    },
    {
     "name": "stdout",
     "output_type": "stream",
     "text": [
      "["
     ]
    },
    {
     "name": "stderr",
     "output_type": "stream",
     "text": [
      "┌ Info:  started timer at: 2023-03-14T13:25:28.924\n",
      "└ @ TickTock C:\\Users\\vbansal5\\.julia\\packages\\TickTock\\fGILW\\src\\TickTock.jl:54\n"
     ]
    },
    {
     "name": "stdout",
     "output_type": "stream",
     "text": [
      "0, -1600, -200, -1000]\n",
      "Finding best nN policy...\n",
      "Max rewards of (N, n) policy is -19310.568186964385  n is 2  N is 4\n"
     ]
    },
    {
     "name": "stderr",
     "output_type": "stream",
     "text": [
      "┌ Info:           76.6209319s: 1 minute, 16 seconds, 620 milliseconds\n",
      "└ @ TickTock C:\\Users\\vbansal5\\.julia\\packages\\TickTock\\fGILW\\src\\TickTock.jl:62\n"
     ]
    },
    {
     "name": "stdout",
     "output_type": "stream",
     "text": [
      "40"
     ]
    },
    {
     "name": "stderr",
     "output_type": "stream",
     "text": [
      "┌ Info:  started timer at: 2023-03-14T13:26:45.756\n",
      "└ @ TickTock C:\\Users\\vbansal5\\.julia\\packages\\TickTock\\fGILW\\src\\TickTock.jl:54\n"
     ]
    },
    {
     "name": "stdout",
     "output_type": "stream",
     "text": [
      "[0, -200, -200, -1000]\n",
      "Finding best nN policy...\n",
      "Max rewards of (N, n) policy is -12369.761424182663  n is 3  N is 3\n",
      "40["
     ]
    },
    {
     "name": "stderr",
     "output_type": "stream",
     "text": [
      "┌ Info:           85.4172265s: 1 minute, 25 seconds, 417 milliseconds\n",
      "└ @ TickTock C:\\Users\\vbansal5\\.julia\\packages\\TickTock\\fGILW\\src\\TickTock.jl:62\n",
      "┌ Info:  started timer at: 2023-03-14T13:28:11.188\n",
      "└ @ TickTock C:\\Users\\vbansal5\\.julia\\packages\\TickTock\\fGILW\\src\\TickTock.jl:54\n"
     ]
    },
    {
     "name": "stdout",
     "output_type": "stream",
     "text": [
      "0, -400, -200, -1000]\n",
      "Finding best nN policy...\n",
      "Max rewards of (N, n) policy is -15616.084838708466  n is 3  N is 3\n",
      "40"
     ]
    },
    {
     "name": "stderr",
     "output_type": "stream",
     "text": [
      "┌ Info:            87.796217s: 1 minute, 27 seconds, 796 milliseconds\n",
      "└ @ TickTock C:\\Users\\vbansal5\\.julia\\packages\\TickTock\\fGILW\\src\\TickTock.jl:62\n",
      "┌ Info:  started timer at: 2023-03-14T13:29:39.023\n",
      "└ @ TickTock C:\\Users\\vbansal5\\.julia\\packages\\TickTock\\fGILW\\src\\TickTock.jl:54\n"
     ]
    },
    {
     "name": "stdout",
     "output_type": "stream",
     "text": [
      "[0, -600, -200, -1000]\n",
      "Finding best nN policy...\n",
      "Max rewards of (N, n) policy is -18190.101815759113  n is 3  N is 4\n",
      "40"
     ]
    },
    {
     "name": "stderr",
     "output_type": "stream",
     "text": [
      "┌ Info:           87.3832067s: 1 minute, 27 seconds, 383 milliseconds\n",
      "└ @ TickTock C:\\Users\\vbansal5\\.julia\\packages\\TickTock\\fGILW\\src\\TickTock.jl:62\n",
      "┌ Info:  started timer at: 2023-03-14T13:31:06.492\n",
      "└ @ TickTock C:\\Users\\vbansal5\\.julia\\packages\\TickTock\\fGILW\\src\\TickTock.jl:54\n"
     ]
    },
    {
     "name": "stdout",
     "output_type": "stream",
     "text": [
      "[0, -800, -200, -1000]\n",
      "Finding best nN policy...\n",
      "Max rewards of (N, n) policy is -19333.53490876308  n is 3  N is 4\n",
      "40[0, -1000, -200, -1000]\n",
      "Finding best nN policy...\n"
     ]
    },
    {
     "name": "stderr",
     "output_type": "stream",
     "text": [
      "┌ Info:           99.3259671s: 1 minute, 39 seconds, 325 milliseconds\n",
      "└ @ TickTock C:\\Users\\vbansal5\\.julia\\packages\\TickTock\\fGILW\\src\\TickTock.jl:62\n",
      "┌ Info:  started timer at: 2023-03-14T13:32:45.826\n",
      "└ @ TickTock C:\\Users\\vbansal5\\.julia\\packages\\TickTock\\fGILW\\src\\TickTock.jl:54\n"
     ]
    },
    {
     "name": "stdout",
     "output_type": "stream",
     "text": [
      "Max rewards of (N, n) policy is -20419.951962046252  n is 3  N is 4\n",
      "40"
     ]
    },
    {
     "name": "stderr",
     "output_type": "stream",
     "text": [
      "┌ Info:            88.724372s: 1 minute, 28 seconds, 724 milliseconds\n",
      "└ @ TickTock C:\\Users\\vbansal5\\.julia\\packages\\TickTock\\fGILW\\src\\TickTock.jl:62\n",
      "┌ Info:  started timer at: 2023-03-14T13:34:14.598\n",
      "└ @ TickTock C:\\Users\\vbansal5\\.julia\\packages\\TickTock\\fGILW\\src\\TickTock.jl:54\n"
     ]
    },
    {
     "name": "stdout",
     "output_type": "stream",
     "text": [
      "[0, -1200, -200, -1000]\n",
      "Finding best nN policy...\n",
      "Max rewards of (N, n) policy is -21548.32598869526  n is 3  N is 4\n",
      "40"
     ]
    },
    {
     "name": "stderr",
     "output_type": "stream",
     "text": [
      "┌ Info:           87.8708482s: 1 minute, 27 seconds, 870 milliseconds\n",
      "└ @ TickTock C:\\Users\\vbansal5\\.julia\\packages\\TickTock\\fGILW\\src\\TickTock.jl:62\n"
     ]
    },
    {
     "name": "stdout",
     "output_type": "stream",
     "text": [
      "[0, -1400, "
     ]
    },
    {
     "name": "stderr",
     "output_type": "stream",
     "text": [
      "┌ Info:  started timer at: 2023-03-14T13:35:42.471\n",
      "└ @ TickTock C:\\Users\\vbansal5\\.julia\\packages\\TickTock\\fGILW\\src\\TickTock.jl:54\n"
     ]
    },
    {
     "name": "stdout",
     "output_type": "stream",
     "text": [
      "-200, -1000]\n",
      "Finding best nN policy...\n",
      "Max rewards of (N, n) policy is -22688.43381947062  n is 3  N is 4\n",
      "40"
     ]
    },
    {
     "name": "stderr",
     "output_type": "stream",
     "text": [
      "┌ Info:           91.5063421s: 1 minute, 31 seconds, 506 milliseconds\n",
      "└ @ TickTock C:\\Users\\vbansal5\\.julia\\packages\\TickTock\\fGILW\\src\\TickTock.jl:62\n"
     ]
    },
    {
     "name": "stdout",
     "output_type": "stream",
     "text": [
      "["
     ]
    },
    {
     "name": "stderr",
     "output_type": "stream",
     "text": [
      "┌ Info:  started timer at: 2023-03-14T13:37:14.370\n",
      "└ @ TickTock C:\\Users\\vbansal5\\.julia\\packages\\TickTock\\fGILW\\src\\TickTock.jl:54\n"
     ]
    },
    {
     "name": "stdout",
     "output_type": "stream",
     "text": [
      "0, -1600, -200, -1000]\n",
      "Finding best nN policy...\n",
      "Max rewards of (N, n) policy is -23816.122278629842  n is 3  N is 4\n",
      "50[0,"
     ]
    },
    {
     "name": "stderr",
     "output_type": "stream",
     "text": [
      "┌ Info:           92.5051905s: 1 minute, 32 seconds, 505 milliseconds\n",
      "└ @ TickTock C:\\Users\\vbansal5\\.julia\\packages\\TickTock\\fGILW\\src\\TickTock.jl:62\n",
      "┌ Info:  started timer at: 2023-03-14T13:38:46.901\n",
      "└ @ TickTock C:\\Users\\vbansal5\\.julia\\packages\\TickTock\\fGILW\\src\\TickTock.jl:54\n"
     ]
    },
    {
     "name": "stdout",
     "output_type": "stream",
     "text": [
      " -200, -200, -1000]\n",
      "Finding best nN policy...\n",
      "Max rewards of (N, n) policy is -14751.588637173189  n is 3  N is 3\n",
      "50[0, -400, -200,"
     ]
    },
    {
     "name": "stderr",
     "output_type": "stream",
     "text": [
      "┌ Info:          118.3073323s: 1 minute, 58 seconds, 307 milliseconds\n",
      "└ @ TickTock C:\\Users\\vbansal5\\.julia\\packages\\TickTock\\fGILW\\src\\TickTock.jl:62\n",
      "┌ Info:  started timer at: 2023-03-14T13:40:45.216\n",
      "└ @ TickTock C:\\Users\\vbansal5\\.julia\\packages\\TickTock\\fGILW\\src\\TickTock.jl:54\n"
     ]
    },
    {
     "name": "stdout",
     "output_type": "stream",
     "text": [
      " -1000]\n",
      "Finding best nN policy...\n",
      "Max rewards of (N, n) policy is -18148.61388457423  n is 3  N is 3\n",
      "50"
     ]
    },
    {
     "name": "stderr",
     "output_type": "stream",
     "text": [
      "┌ Info:          115.3535858s: 1 minute, 55 seconds, 353 milliseconds\n",
      "└ @ TickTock C:\\Users\\vbansal5\\.julia\\packages\\TickTock\\fGILW\\src\\TickTock.jl:62\n",
      "┌ Info:  started timer at: 2023-03-14T13:42:40.580\n",
      "└ @ TickTock C:\\Users\\vbansal5\\.julia\\packages\\TickTock\\fGILW\\src\\TickTock.jl:54\n"
     ]
    },
    {
     "name": "stdout",
     "output_type": "stream",
     "text": [
      "[0, -600, -200, -1000]\n",
      "Finding best nN policy...\n",
      "Max rewards of (N, n) policy is -21507.764340454996  n is 3  N is 4\n"
     ]
    },
    {
     "name": "stderr",
     "output_type": "stream",
     "text": [
      "┌ Info:          106.4596318s: 1 minute, 46 seconds, 459 milliseconds\n",
      "└ @ TickTock C:\\Users\\vbansal5\\.julia\\packages\\TickTock\\fGILW\\src\\TickTock.jl:62\n"
     ]
    },
    {
     "name": "stdout",
     "output_type": "stream",
     "text": [
      "50[0, -800,"
     ]
    },
    {
     "name": "stderr",
     "output_type": "stream",
     "text": [
      "┌ Info:  started timer at: 2023-03-14T13:44:27.107\n",
      "└ @ TickTock C:\\Users\\vbansal5\\.julia\\packages\\TickTock\\fGILW\\src\\TickTock.jl:54\n"
     ]
    },
    {
     "name": "stdout",
     "output_type": "stream",
     "text": [
      " -200, -1000]\n",
      "Finding best nN policy...\n",
      "Max rewards of (N, n) policy is -22712.050820475946  n is 3  N is 4\n",
      "50["
     ]
    },
    {
     "name": "stderr",
     "output_type": "stream",
     "text": [
      "┌ Info:          106.1353982s: 1 minute, 46 seconds, 135 milliseconds\n",
      "└ @ TickTock C:\\Users\\vbansal5\\.julia\\packages\\TickTock\\fGILW\\src\\TickTock.jl:62\n",
      "┌ Info:  started timer at: 2023-03-14T13:46:13.243\n",
      "└ @ TickTock C:\\Users\\vbansal5\\.julia\\packages\\TickTock\\fGILW\\src\\TickTock.jl:54\n"
     ]
    },
    {
     "name": "stdout",
     "output_type": "stream",
     "text": [
      "0, -1000, -200, -1000]\n",
      "Finding best nN policy...\n",
      "Max rewards of (N, n) policy is -23967.14934356978  n is 3  N is 4\n"
     ]
    },
    {
     "name": "stderr",
     "output_type": "stream",
     "text": [
      "┌ Info:          106.0398712s: 1 minute, 46 seconds, 39 milliseconds\n",
      "└ @ TickTock C:\\Users\\vbansal5\\.julia\\packages\\TickTock\\fGILW\\src\\TickTock.jl:62\n"
     ]
    },
    {
     "name": "stdout",
     "output_type": "stream",
     "text": [
      "50[0, "
     ]
    },
    {
     "name": "stderr",
     "output_type": "stream",
     "text": [
      "┌ Info:  started timer at: 2023-03-14T13:47:59.342\n",
      "└ @ TickTock C:\\Users\\vbansal5\\.julia\\packages\\TickTock\\fGILW\\src\\TickTock.jl:54\n"
     ]
    },
    {
     "name": "stdout",
     "output_type": "stream",
     "text": [
      "-1200, -200, -1000]\n",
      "Finding best nN policy...\n",
      "Max rewards of (N, n) policy is -25150.8398561245  n is 3  N is 4\n",
      "50[0, -1400, -200, -1000]\n",
      "Finding best nN policy...\n"
     ]
    },
    {
     "name": "stderr",
     "output_type": "stream",
     "text": [
      "┌ Info:          109.3925497s: 1 minute, 49 seconds, 392 milliseconds\n",
      "└ @ TickTock C:\\Users\\vbansal5\\.julia\\packages\\TickTock\\fGILW\\src\\TickTock.jl:62\n",
      "┌ Info:  started timer at: 2023-03-14T13:49:48.755\n",
      "└ @ TickTock C:\\Users\\vbansal5\\.julia\\packages\\TickTock\\fGILW\\src\\TickTock.jl:54\n"
     ]
    },
    {
     "name": "stdout",
     "output_type": "stream",
     "text": [
      "Max rewards of (N, n) policy is -26373.752952822215  n is 3  N is 4\n",
      "50"
     ]
    },
    {
     "name": "stderr",
     "output_type": "stream",
     "text": [
      "┌ Info:          102.3944041s: 1 minute, 42 seconds, 394 milliseconds\n",
      "└ @ TickTock C:\\Users\\vbansal5\\.julia\\packages\\TickTock\\fGILW\\src\\TickTock.jl:62\n"
     ]
    },
    {
     "name": "stdout",
     "output_type": "stream",
     "text": [
      "[0, -1600, -200"
     ]
    },
    {
     "name": "stderr",
     "output_type": "stream",
     "text": [
      "┌ Info:  started timer at: 2023-03-14T13:51:31.149\n",
      "└ @ TickTock C:\\Users\\vbansal5\\.julia\\packages\\TickTock\\fGILW\\src\\TickTock.jl:54\n"
     ]
    },
    {
     "name": "stdout",
     "output_type": "stream",
     "text": [
      ", -1000]\n",
      "Finding best nN policy...\n",
      "Max rewards of (N, n) policy is -27570.485590849126  n is 3  N is 4\n",
      "60"
     ]
    },
    {
     "name": "stderr",
     "output_type": "stream",
     "text": [
      "┌ Info:           105.169003s: 1 minute, 45 seconds, 169 milliseconds\n",
      "└ @ TickTock C:\\Users\\vbansal5\\.julia\\packages\\TickTock\\fGILW\\src\\TickTock.jl:62\n",
      "┌ Info:  started timer at: 2023-03-14T13:53:16.363\n",
      "└ @ TickTock C:\\Users\\vbansal5\\.julia\\packages\\TickTock\\fGILW\\src\\TickTock.jl:54\n"
     ]
    },
    {
     "name": "stdout",
     "output_type": "stream",
     "text": [
      "[0, -200, -200, -1000]\n",
      "Finding best nN policy...\n",
      "Max rewards of (N, n) policy is -17109.825637131267  n is 3  N is 3\n",
      "60[0, -400, -200, -1000]\n",
      "Finding best nN policy...\n"
     ]
    },
    {
     "name": "stderr",
     "output_type": "stream",
     "text": [
      "┌ Info:          129.5546071s: 2 minutes, 9 seconds, 554 milliseconds\n",
      "└ @ TickTock C:\\Users\\vbansal5\\.julia\\packages\\TickTock\\fGILW\\src\\TickTock.jl:62\n",
      "┌ Info:  started timer at: 2023-03-14T13:55:25.916\n",
      "└ @ TickTock C:\\Users\\vbansal5\\.julia\\packages\\TickTock\\fGILW\\src\\TickTock.jl:54\n"
     ]
    },
    {
     "name": "stdout",
     "output_type": "stream",
     "text": [
      "Max rewards of (N, n) policy is -20568.89573406949  n is 3  N is 3\n",
      "60"
     ]
    },
    {
     "name": "stderr",
     "output_type": "stream",
     "text": [
      "┌ Info:          116.3354469s: 1 minute, 56 seconds, 335 milliseconds\n",
      "└ @ TickTock C:\\Users\\vbansal5\\.julia\\packages\\TickTock\\fGILW\\src\\TickTock.jl:62\n",
      "┌ Info:  started timer at: 2023-03-14T13:57:22.378\n",
      "└ @ TickTock C:\\Users\\vbansal5\\.julia\\packages\\TickTock\\fGILW\\src\\TickTock.jl:54\n"
     ]
    },
    {
     "name": "stdout",
     "output_type": "stream",
     "text": [
      "[0, -600, -200, -1000]\n",
      "Finding best nN policy...\n",
      "Max rewards of (N, n) policy is -24033.78213918579  n is 3  N is 3\n"
     ]
    },
    {
     "name": "stderr",
     "output_type": "stream",
     "text": [
      "┌ Info:          123.5916795s: 2 minutes, 3 seconds, 591 milliseconds\n",
      "└ @ TickTock C:\\Users\\vbansal5\\.julia\\packages\\TickTock\\fGILW\\src\\TickTock.jl:62\n"
     ]
    },
    {
     "name": "stdout",
     "output_type": "stream",
     "text": [
      "60["
     ]
    },
    {
     "name": "stderr",
     "output_type": "stream",
     "text": [
      "┌ Info:  started timer at: 2023-03-14T13:59:26.211\n",
      "└ @ TickTock C:\\Users\\vbansal5\\.julia\\packages\\TickTock\\fGILW\\src\\TickTock.jl:54\n"
     ]
    },
    {
     "name": "stdout",
     "output_type": "stream",
     "text": [
      "0, -800, -200, -1000]\n",
      "Finding best nN policy...\n",
      "Max rewards of (N, n) policy is -26017.39267285084  n is 3  N is 4\n",
      "60[0, -1000, -200, -1000]\n",
      "Finding best nN policy...\n"
     ]
    },
    {
     "name": "stderr",
     "output_type": "stream",
     "text": [
      "┌ Info:          120.9084708s: 2 minutes, 908 milliseconds\n",
      "└ @ TickTock C:\\Users\\vbansal5\\.julia\\packages\\TickTock\\fGILW\\src\\TickTock.jl:62\n",
      "┌ Info:  started timer at: 2023-03-14T14:01:27.120\n",
      "└ @ TickTock C:\\Users\\vbansal5\\.julia\\packages\\TickTock\\fGILW\\src\\TickTock.jl:54\n"
     ]
    },
    {
     "name": "stdout",
     "output_type": "stream",
     "text": [
      "Max rewards of (N, n) policy is -27297.823735294485  n is 3  N is 4\n",
      "60"
     ]
    },
    {
     "name": "stderr",
     "output_type": "stream",
     "text": [
      "┌ Info:          122.9600349s: 2 minutes, 2 seconds, 960 milliseconds\n",
      "└ @ TickTock C:\\Users\\vbansal5\\.julia\\packages\\TickTock\\fGILW\\src\\TickTock.jl:62\n",
      "┌ Info:  started timer at: 2023-03-14T14:03:30.081\n",
      "└ @ TickTock C:\\Users\\vbansal5\\.julia\\packages\\TickTock\\fGILW\\src\\TickTock.jl:54\n"
     ]
    },
    {
     "name": "stdout",
     "output_type": "stream",
     "text": [
      "[0, -1200, -200, -1000]\n",
      "Finding best nN policy...\n",
      "Max rewards of (N, n) policy is -28560.369847911687  n is 3  N is 4\n",
      "60[0, -1400, -200, -1000]\n",
      "Finding best nN policy...\n"
     ]
    },
    {
     "name": "stderr",
     "output_type": "stream",
     "text": [
      "┌ Info:          127.4307158s: 2 minutes, 7 seconds, 430 milliseconds\n",
      "└ @ TickTock C:\\Users\\vbansal5\\.julia\\packages\\TickTock\\fGILW\\src\\TickTock.jl:62\n",
      "┌ Info:  started timer at: 2023-03-14T14:05:37.522\n",
      "└ @ TickTock C:\\Users\\vbansal5\\.julia\\packages\\TickTock\\fGILW\\src\\TickTock.jl:54\n"
     ]
    },
    {
     "name": "stdout",
     "output_type": "stream",
     "text": [
      "Max rewards of (N, n) policy is -29846.073981307458  n is 3  N is 4\n",
      "60[0, -1600, -200, -1000]\n",
      "Finding best nN policy...\n"
     ]
    },
    {
     "name": "stderr",
     "output_type": "stream",
     "text": [
      "┌ Info:          118.1145079s: 1 minute, 58 seconds, 114 milliseconds\n",
      "└ @ TickTock C:\\Users\\vbansal5\\.julia\\packages\\TickTock\\fGILW\\src\\TickTock.jl:62\n",
      "┌ Info:  started timer at: 2023-03-14T14:07:35.637\n",
      "└ @ TickTock C:\\Users\\vbansal5\\.julia\\packages\\TickTock\\fGILW\\src\\TickTock.jl:54\n"
     ]
    },
    {
     "name": "stdout",
     "output_type": "stream",
     "text": [
      "Max rewards of (N, n) policy is -31154.341694727158  n is 3  N is 4\n"
     ]
    },
    {
     "name": "stderr",
     "output_type": "stream",
     "text": [
      "┌ Info:           118.141116s: 1 minute, 58 seconds, 141 milliseconds\n",
      "└ @ TickTock C:\\Users\\vbansal5\\.julia\\packages\\TickTock\\fGILW\\src\\TickTock.jl:62\n"
     ]
    },
    {
     "name": "stdout",
     "output_type": "stream",
     "text": [
      "70["
     ]
    },
    {
     "name": "stderr",
     "output_type": "stream",
     "text": [
      "┌ Info:  started timer at: 2023-03-14T14:09:33.989\n",
      "└ @ TickTock C:\\Users\\vbansal5\\.julia\\packages\\TickTock\\fGILW\\src\\TickTock.jl:54\n"
     ]
    },
    {
     "name": "stdout",
     "output_type": "stream",
     "text": [
      "0, -200, -200, -1000]\n",
      "Finding best nN policy...\n",
      "Max rewards of (N, n) policy is -19430.960759790676  n is 3  N is 3\n",
      "70[0, -400, -200, "
     ]
    },
    {
     "name": "stderr",
     "output_type": "stream",
     "text": [
      "┌ Info:          147.1441582s: 2 minutes, 27 seconds, 144 milliseconds\n",
      "└ @ TickTock C:\\Users\\vbansal5\\.julia\\packages\\TickTock\\fGILW\\src\\TickTock.jl:62\n",
      "┌ Info:  started timer at: 2023-03-14T14:12:01.148\n",
      "└ @ TickTock C:\\Users\\vbansal5\\.julia\\packages\\TickTock\\fGILW\\src\\TickTock.jl:54\n"
     ]
    },
    {
     "name": "stdout",
     "output_type": "stream",
     "text": [
      "-1000]\n",
      "Finding best nN policy...\n",
      "Max rewards of (N, n) policy is -22929.42527087321  n is 3  N is 3\n",
      "70"
     ]
    },
    {
     "name": "stderr",
     "output_type": "stream",
     "text": [
      "┌ Info:          140.2346499s: 2 minutes, 20 seconds, 234 milliseconds\n",
      "└ @ TickTock C:\\Users\\vbansal5\\.julia\\packages\\TickTock\\fGILW\\src\\TickTock.jl:62\n",
      "┌ Info:  started timer at: 2023-03-14T14:14:21.609\n",
      "└ @ TickTock C:\\Users\\vbansal5\\.julia\\packages\\TickTock\\fGILW\\src\\TickTock.jl:54\n"
     ]
    },
    {
     "name": "stdout",
     "output_type": "stream",
     "text": [
      "[0, -600, -200, -1000]\n",
      "Finding best nN policy...\n",
      "Max rewards of (N, n) policy is -26441.480940823632  n is 3  N is 3\n",
      "70[0, -800,"
     ]
    },
    {
     "name": "stderr",
     "output_type": "stream",
     "text": [
      "┌ Info:          147.3342432s: 2 minutes, 27 seconds, 334 milliseconds\n",
      "└ @ TickTock C:\\Users\\vbansal5\\.julia\\packages\\TickTock\\fGILW\\src\\TickTock.jl:62\n",
      "┌ Info:  started timer at: 2023-03-14T14:16:48.964\n",
      "└ @ TickTock C:\\Users\\vbansal5\\.julia\\packages\\TickTock\\fGILW\\src\\TickTock.jl:54\n"
     ]
    },
    {
     "name": "stdout",
     "output_type": "stream",
     "text": [
      " -200, -1000]\n",
      "Finding best nN policy...\n",
      "Max rewards of (N, n) policy is -29224.067643744565  n is 3  N is 4\n",
      "70"
     ]
    },
    {
     "name": "stderr",
     "output_type": "stream",
     "text": [
      "┌ Info:          144.2050344s: 2 minutes, 24 seconds, 205 milliseconds\n",
      "└ @ TickTock C:\\Users\\vbansal5\\.julia\\packages\\TickTock\\fGILW\\src\\TickTock.jl:62\n"
     ]
    },
    {
     "name": "stdout",
     "output_type": "stream",
     "text": [
      "[0, -1000,"
     ]
    },
    {
     "name": "stderr",
     "output_type": "stream",
     "text": [
      "┌ Info:  started timer at: 2023-03-14T14:19:13.218\n",
      "└ @ TickTock C:\\Users\\vbansal5\\.julia\\packages\\TickTock\\fGILW\\src\\TickTock.jl:54\n"
     ]
    },
    {
     "name": "stdout",
     "output_type": "stream",
     "text": [
      " -200, -1000]\n",
      "Finding best nN policy...\n",
      "Max rewards of (N, n) policy is -30519.32986594396  n is 3  N is 4\n",
      "70["
     ]
    },
    {
     "name": "stderr",
     "output_type": "stream",
     "text": [
      "┌ Info:          137.6398143s: 2 minutes, 17 seconds, 639 milliseconds\n",
      "└ @ TickTock C:\\Users\\vbansal5\\.julia\\packages\\TickTock\\fGILW\\src\\TickTock.jl:62\n",
      "┌ Info:  started timer at: 2023-03-14T14:21:30.902\n",
      "└ @ TickTock C:\\Users\\vbansal5\\.julia\\packages\\TickTock\\fGILW\\src\\TickTock.jl:54\n"
     ]
    },
    {
     "name": "stdout",
     "output_type": "stream",
     "text": [
      "0, -1200, -200, -1000]\n",
      "Finding best nN policy...\n",
      "Max rewards of (N, n) policy is -31915.799988522707  n is 3  N is 4\n",
      "70[0, -1400, -200, -1000]\n",
      "Finding best nN policy...\n"
     ]
    },
    {
     "name": "stderr",
     "output_type": "stream",
     "text": [
      "┌ Info:          143.6784836s: 2 minutes, 23 seconds, 678 milliseconds\n",
      "└ @ TickTock C:\\Users\\vbansal5\\.julia\\packages\\TickTock\\fGILW\\src\\TickTock.jl:62\n",
      "┌ Info:  started timer at: 2023-03-14T14:23:54.595\n",
      "└ @ TickTock C:\\Users\\vbansal5\\.julia\\packages\\TickTock\\fGILW\\src\\TickTock.jl:54\n"
     ]
    },
    {
     "name": "stdout",
     "output_type": "stream",
     "text": [
      "Max rewards of (N, n) policy is -33256.99588392929  n is 3  N is 4\n",
      "70[0"
     ]
    },
    {
     "name": "stderr",
     "output_type": "stream",
     "text": [
      "┌ Info:          128.7837893s: 2 minutes, 8 seconds, 783 milliseconds\n",
      "└ @ TickTock C:\\Users\\vbansal5\\.julia\\packages\\TickTock\\fGILW\\src\\TickTock.jl:62\n",
      "┌ Info:  started timer at: 2023-03-14T14:26:03.408\n",
      "└ @ TickTock C:\\Users\\vbansal5\\.julia\\packages\\TickTock\\fGILW\\src\\TickTock.jl:54\n"
     ]
    },
    {
     "name": "stdout",
     "output_type": "stream",
     "text": [
      ", -1600, -200, -1000]\n",
      "Finding best nN policy...\n",
      "Max rewards of (N, n) policy is -34559.867587291104  n is 3  N is 4\n",
      "80[0, -200, -200, -1000]\n",
      "Finding best nN policy...\n"
     ]
    },
    {
     "name": "stderr",
     "output_type": "stream",
     "text": [
      "┌ Info:          128.8509594s: 2 minutes, 8 seconds, 850 milliseconds\n",
      "└ @ TickTock C:\\Users\\vbansal5\\.julia\\packages\\TickTock\\fGILW\\src\\TickTock.jl:62\n",
      "┌ Info:  started timer at: 2023-03-14T14:28:12.275\n",
      "└ @ TickTock C:\\Users\\vbansal5\\.julia\\packages\\TickTock\\fGILW\\src\\TickTock.jl:54\n"
     ]
    },
    {
     "name": "stdout",
     "output_type": "stream",
     "text": [
      "Max rewards of (N, n) policy is -21731.71196227469  n is 3  N is 3\n",
      "80[0"
     ]
    },
    {
     "name": "stderr",
     "output_type": "stream",
     "text": [
      "┌ Info:          142.5353221s: 2 minutes, 22 seconds, 535 milliseconds\n",
      "└ @ TickTock C:\\Users\\vbansal5\\.julia\\packages\\TickTock\\fGILW\\src\\TickTock.jl:62\n",
      "┌ Info:  started timer at: 2023-03-14T14:30:34.812\n",
      "└ @ TickTock C:\\Users\\vbansal5\\.julia\\packages\\TickTock\\fGILW\\src\\TickTock.jl:54\n"
     ]
    },
    {
     "name": "stdout",
     "output_type": "stream",
     "text": [
      ", -400, -200, -1000]\n",
      "Finding best nN policy...\n",
      "Max rewards of (N, n) policy is -25258.574017281207  n is 3  N is 3\n",
      "80"
     ]
    },
    {
     "name": "stderr",
     "output_type": "stream",
     "text": [
      "┌ Info:           142.863565s: 2 minutes, 22 seconds, 863 milliseconds\n",
      "└ @ TickTock C:\\Users\\vbansal5\\.julia\\packages\\TickTock\\fGILW\\src\\TickTock.jl:62\n"
     ]
    },
    {
     "name": "stdout",
     "output_type": "stream",
     "text": [
      "["
     ]
    },
    {
     "name": "stderr",
     "output_type": "stream",
     "text": [
      "┌ Info:  started timer at: 2023-03-14T14:32:57.712\n",
      "└ @ TickTock C:\\Users\\vbansal5\\.julia\\packages\\TickTock\\fGILW\\src\\TickTock.jl:54\n"
     ]
    },
    {
     "name": "stdout",
     "output_type": "stream",
     "text": [
      "0, -600, -200, -1000]\n",
      "Finding best nN policy...\n",
      "Max rewards of (N, n) policy is -28796.621382533718  n is 3  N is 3\n",
      "80[0, -800,"
     ]
    },
    {
     "name": "stderr",
     "output_type": "stream",
     "text": [
      "┌ Info:          147.9022253s: 2 minutes, 27 seconds, 902 milliseconds\n",
      "└ @ TickTock C:\\Users\\vbansal5\\.julia\\packages\\TickTock\\fGILW\\src\\TickTock.jl:62\n",
      "┌ Info:  started timer at: 2023-03-14T14:35:25.642\n",
      "└ @ TickTock C:\\Users\\vbansal5\\.julia\\packages\\TickTock\\fGILW\\src\\TickTock.jl:54\n"
     ]
    },
    {
     "name": "stdout",
     "output_type": "stream",
     "text": [
      " -200, -1000]\n",
      "Finding best nN policy...\n",
      "Max rewards of (N, n) policy is -32320.851822829092  n is 3  N is 3\n",
      "80["
     ]
    },
    {
     "name": "stderr",
     "output_type": "stream",
     "text": [
      "┌ Info:          144.9481761s: 2 minutes, 24 seconds, 948 milliseconds\n",
      "└ @ TickTock C:\\Users\\vbansal5\\.julia\\packages\\TickTock\\fGILW\\src\\TickTock.jl:62\n",
      "┌ Info:  started timer at: 2023-03-14T14:37:50.606\n",
      "└ @ TickTock C:\\Users\\vbansal5\\.julia\\packages\\TickTock\\fGILW\\src\\TickTock.jl:54\n"
     ]
    },
    {
     "name": "stdout",
     "output_type": "stream",
     "text": [
      "0, -1000, -200, -1000]\n",
      "Finding best nN policy...\n",
      "Max rewards of (N, n) policy is -33736.45731914241  n is 3  N is 4\n",
      "80[0, -1200, -200, -1000]\n"
     ]
    },
    {
     "name": "stderr",
     "output_type": "stream",
     "text": [
      "┌ Info:          145.8696786s: 2 minutes, 25 seconds, 869 milliseconds\n",
      "└ @ TickTock C:\\Users\\vbansal5\\.julia\\packages\\TickTock\\fGILW\\src\\TickTock.jl:62\n",
      "┌ Info:  started timer at: 2023-03-14T14:40:16.487\n",
      "└ @ TickTock C:\\Users\\vbansal5\\.julia\\packages\\TickTock\\fGILW\\src\\TickTock.jl:54\n"
     ]
    },
    {
     "name": "stdout",
     "output_type": "stream",
     "text": [
      "Finding best nN policy...\n",
      "Max rewards of (N, n) policy is -35094.140678074684  n is 3  N is 4\n",
      "80[0, -1400,"
     ]
    },
    {
     "name": "stderr",
     "output_type": "stream",
     "text": [
      "┌ Info:          149.1685366s: 2 minutes, 29 seconds, 168 milliseconds\n",
      "└ @ TickTock C:\\Users\\vbansal5\\.julia\\packages\\TickTock\\fGILW\\src\\TickTock.jl:62\n",
      "┌ Info:  started timer at: 2023-03-14T14:42:45.679\n",
      "└ @ TickTock C:\\Users\\vbansal5\\.julia\\packages\\TickTock\\fGILW\\src\\TickTock.jl:54\n"
     ]
    },
    {
     "name": "stdout",
     "output_type": "stream",
     "text": [
      " -200, -1000]\n",
      "Finding best nN policy...\n",
      "Max rewards of (N, n) policy is -36501.70602292078  n is 3  N is 4\n",
      "80"
     ]
    },
    {
     "name": "stderr",
     "output_type": "stream",
     "text": [
      "┌ Info:          131.9268365s: 2 minutes, 11 seconds, 926 milliseconds\n",
      "└ @ TickTock C:\\Users\\vbansal5\\.julia\\packages\\TickTock\\fGILW\\src\\TickTock.jl:62\n"
     ]
    },
    {
     "name": "stdout",
     "output_type": "stream",
     "text": [
      "[0, -1600"
     ]
    },
    {
     "name": "stderr",
     "output_type": "stream",
     "text": [
      "┌ Info:  started timer at: 2023-03-14T14:44:57.667\n",
      "└ @ TickTock C:\\Users\\vbansal5\\.julia\\packages\\TickTock\\fGILW\\src\\TickTock.jl:54\n"
     ]
    },
    {
     "name": "stdout",
     "output_type": "stream",
     "text": [
      ", -200, -1000]\n",
      "Finding best nN policy...\n",
      "Max rewards of (N, n) policy is -37891.41713536209  n is 3  N is 4\n",
      "100[0, "
     ]
    },
    {
     "name": "stderr",
     "output_type": "stream",
     "text": [
      "┌ Info:          145.0006404s: 2 minutes, 25 seconds\n",
      "└ @ TickTock C:\\Users\\vbansal5\\.julia\\packages\\TickTock\\fGILW\\src\\TickTock.jl:62\n",
      "┌ Info:  started timer at: 2023-03-14T14:47:22.722\n",
      "└ @ TickTock C:\\Users\\vbansal5\\.julia\\packages\\TickTock\\fGILW\\src\\TickTock.jl:54\n"
     ]
    },
    {
     "name": "stdout",
     "output_type": "stream",
     "text": [
      "-200, -200, -1000]\n",
      "Finding best nN policy...\n",
      "Max rewards of (N, n) policy is -26318.36492465867  n is 3  N is 3\n"
     ]
    },
    {
     "name": "stderr",
     "output_type": "stream",
     "text": [
      "┌ Info:          170.4422519s: 2 minutes, 50 seconds, 442 milliseconds\n",
      "└ @ TickTock C:\\Users\\vbansal5\\.julia\\packages\\TickTock\\fGILW\\src\\TickTock.jl:62\n"
     ]
    },
    {
     "name": "stdout",
     "output_type": "stream",
     "text": [
      "100"
     ]
    },
    {
     "name": "stderr",
     "output_type": "stream",
     "text": [
      "┌ Info:  started timer at: 2023-03-14T14:50:13.262\n",
      "└ @ TickTock C:\\Users\\vbansal5\\.julia\\packages\\TickTock\\fGILW\\src\\TickTock.jl:54\n"
     ]
    },
    {
     "name": "stdout",
     "output_type": "stream",
     "text": [
      "[0, -400, -200, -1000]\n",
      "Finding best nN policy...\n",
      "Max rewards of (N, n) policy is -29876.143619798888  n is 3  N is 3\n",
      "100[0"
     ]
    },
    {
     "name": "stderr",
     "output_type": "stream",
     "text": [
      "┌ Info:          171.0239513s: 2 minutes, 51 seconds, 23 milliseconds\n",
      "└ @ TickTock C:\\Users\\vbansal5\\.julia\\packages\\TickTock\\fGILW\\src\\TickTock.jl:62\n",
      "┌ Info:  started timer at: 2023-03-14T14:53:04.287\n",
      "└ @ TickTock C:\\Users\\vbansal5\\.julia\\packages\\TickTock\\fGILW\\src\\TickTock.jl:54\n"
     ]
    },
    {
     "name": "stdout",
     "output_type": "stream",
     "text": [
      ", -600, -200, -1000]\n",
      "Finding best nN policy...\n",
      "Max rewards of (N, n) policy is -33426.072061776686  n is 3  N is 3\n",
      "100"
     ]
    },
    {
     "name": "stderr",
     "output_type": "stream",
     "text": [
      "┌ Info:          197.8740712s: 3 minutes, 17 seconds, 874 milliseconds\n",
      "└ @ TickTock C:\\Users\\vbansal5\\.julia\\packages\\TickTock\\fGILW\\src\\TickTock.jl:62\n",
      "┌ Info:  started timer at: 2023-03-14T14:56:22.175\n",
      "└ @ TickTock C:\\Users\\vbansal5\\.julia\\packages\\TickTock\\fGILW\\src\\TickTock.jl:54\n"
     ]
    },
    {
     "name": "stdout",
     "output_type": "stream",
     "text": [
      "[0, -800, -200, -1000]\n",
      "Finding best nN policy...\n",
      "Max rewards of (N, n) policy is -36964.521016299484  n is 3  N is 3\n",
      "100"
     ]
    },
    {
     "name": "stderr",
     "output_type": "stream",
     "text": [
      "┌ Info:          193.5937768s: 3 minutes, 13 seconds, 593 milliseconds\n",
      "└ @ TickTock C:\\Users\\vbansal5\\.julia\\packages\\TickTock\\fGILW\\src\\TickTock.jl:62\n"
     ]
    },
    {
     "name": "stdout",
     "output_type": "stream",
     "text": [
      "["
     ]
    },
    {
     "name": "stderr",
     "output_type": "stream",
     "text": [
      "┌ Info:  started timer at: 2023-03-14T14:59:35.797\n",
      "└ @ TickTock C:\\Users\\vbansal5\\.julia\\packages\\TickTock\\fGILW\\src\\TickTock.jl:54\n"
     ]
    },
    {
     "name": "stdout",
     "output_type": "stream",
     "text": [
      "0, -1000, -200, -1000]\n",
      "Finding best nN policy...\n",
      "Max rewards of (N, n) policy is -39916.76088498116  n is 3  N is 4\n"
     ]
    },
    {
     "name": "stderr",
     "output_type": "stream",
     "text": [
      "┌ Info:          191.6304203s: 3 minutes, 11 seconds, 630 milliseconds\n",
      "└ @ TickTock C:\\Users\\vbansal5\\.julia\\packages\\TickTock\\fGILW\\src\\TickTock.jl:62\n"
     ]
    },
    {
     "name": "stdout",
     "output_type": "stream",
     "text": [
      "100[0, "
     ]
    },
    {
     "name": "stderr",
     "output_type": "stream",
     "text": [
      "┌ Info:  started timer at: 2023-03-14T15:02:47.477\n",
      "└ @ TickTock C:\\Users\\vbansal5\\.julia\\packages\\TickTock\\fGILW\\src\\TickTock.jl:54\n"
     ]
    },
    {
     "name": "stdout",
     "output_type": "stream",
     "text": [
      "-1200, -200, -1000]\n",
      "Finding best nN policy...\n",
      "Max rewards of (N, n) policy is -41376.45601126383  n is 3  N is 4\n",
      "100"
     ]
    },
    {
     "name": "stderr",
     "output_type": "stream",
     "text": [
      "┌ Info:          197.2962957s: 3 minutes, 17 seconds, 296 milliseconds\n",
      "└ @ TickTock C:\\Users\\vbansal5\\.julia\\packages\\TickTock\\fGILW\\src\\TickTock.jl:62\n",
      "┌ Info:  started timer at: 2023-03-14T15:06:04.812\n",
      "└ @ TickTock C:\\Users\\vbansal5\\.julia\\packages\\TickTock\\fGILW\\src\\TickTock.jl:54\n"
     ]
    },
    {
     "name": "stdout",
     "output_type": "stream",
     "text": [
      "[0, -1400, -200, -1000]\n",
      "Finding best nN policy...\n",
      "Max rewards of (N, n) policy is -42905.104580590334  n is 3  N is 4\n",
      "100[0, -1600, -200, -1000"
     ]
    },
    {
     "name": "stderr",
     "output_type": "stream",
     "text": [
      "┌ Info:          195.4803505s: 3 minutes, 15 seconds, 480 milliseconds\n",
      "└ @ TickTock C:\\Users\\vbansal5\\.julia\\packages\\TickTock\\fGILW\\src\\TickTock.jl:62\n",
      "┌ Info:  started timer at: 2023-03-14T15:09:20.308\n",
      "└ @ TickTock C:\\Users\\vbansal5\\.julia\\packages\\TickTock\\fGILW\\src\\TickTock.jl:54\n"
     ]
    },
    {
     "name": "stdout",
     "output_type": "stream",
     "text": [
      "]\n",
      "Finding best nN policy...\n",
      "Max rewards of (N, n) policy is -44351.19241455045  n is 3  N is 4\n"
     ]
    },
    {
     "name": "stderr",
     "output_type": "stream",
     "text": [
      "┌ Info:          195.4709499s: 3 minutes, 15 seconds, 470 milliseconds\n",
      "└ @ TickTock C:\\Users\\vbansal5\\.julia\\packages\\TickTock\\fGILW\\src\\TickTock.jl:62\n"
     ]
    },
    {
     "name": "stdout",
     "output_type": "stream",
     "text": [
      "125[0, -200, -200, -1000]\n",
      "Finding best nN policy...\n"
     ]
    },
    {
     "name": "stderr",
     "output_type": "stream",
     "text": [
      "┌ Info:  started timer at: 2023-03-14T15:12:35.829\n",
      "└ @ TickTock C:\\Users\\vbansal5\\.julia\\packages\\TickTock\\fGILW\\src\\TickTock.jl:54\n"
     ]
    },
    {
     "name": "stdout",
     "output_type": "stream",
     "text": [
      "Max rewards of (N, n) policy is -32008.73946397606  n is 3  N is 3\n"
     ]
    },
    {
     "name": "stderr",
     "output_type": "stream",
     "text": [
      "┌ Info:          234.4478536s: 3 minutes, 54 seconds, 447 milliseconds\n",
      "└ @ TickTock C:\\Users\\vbansal5\\.julia\\packages\\TickTock\\fGILW\\src\\TickTock.jl:62\n"
     ]
    },
    {
     "name": "stdout",
     "output_type": "stream",
     "text": [
      "125[0, -400, -200, -1000]\n",
      "Finding best nN policy..."
     ]
    },
    {
     "name": "stderr",
     "output_type": "stream",
     "text": [
      "┌ Info:  started timer at: 2023-03-14T15:16:30.304\n",
      "└ @ TickTock C:\\Users\\vbansal5\\.julia\\packages\\TickTock\\fGILW\\src\\TickTock.jl:54\n"
     ]
    },
    {
     "name": "stdout",
     "output_type": "stream",
     "text": [
      "\n",
      "Max rewards of (N, n) policy is -35603.83255587263  n is 3  N is 3\n",
      "125"
     ]
    },
    {
     "name": "stderr",
     "output_type": "stream",
     "text": [
      "┌ Info:           234.747853s: 3 minutes, 54 seconds, 747 milliseconds\n",
      "└ @ TickTock C:\\Users\\vbansal5\\.julia\\packages\\TickTock\\fGILW\\src\\TickTock.jl:62\n",
      "┌ Info:  started timer at: 2023-03-14T15:20:25.079\n",
      "└ @ TickTock C:\\Users\\vbansal5\\.julia\\packages\\TickTock\\fGILW\\src\\TickTock.jl:54\n"
     ]
    },
    {
     "name": "stdout",
     "output_type": "stream",
     "text": [
      "[0, -600, -200, -1000]\n",
      "Finding best nN policy...\n",
      "Max rewards of (N, n) policy is -39156.93186380137  n is 3  N is 3\n",
      "125[0,"
     ]
    },
    {
     "name": "stderr",
     "output_type": "stream",
     "text": [
      "┌ Info:          259.7687334s: 4 minutes, 19 seconds, 768 milliseconds\n",
      "└ @ TickTock C:\\Users\\vbansal5\\.julia\\packages\\TickTock\\fGILW\\src\\TickTock.jl:62\n",
      "┌ Info:  started timer at: 2023-03-14T15:24:44.875\n",
      "└ @ TickTock C:\\Users\\vbansal5\\.julia\\packages\\TickTock\\fGILW\\src\\TickTock.jl:54\n"
     ]
    },
    {
     "name": "stdout",
     "output_type": "stream",
     "text": [
      " -800, -200, -1000]\n",
      "Finding best nN policy...\n",
      "Max rewards of (N, n) policy is -42716.58273604723  n is 3  N is 3\n",
      "125"
     ]
    },
    {
     "name": "stderr",
     "output_type": "stream",
     "text": [
      "┌ Info:          238.0328905s: 3 minutes, 58 seconds, 32 milliseconds\n",
      "└ @ TickTock C:\\Users\\vbansal5\\.julia\\packages\\TickTock\\fGILW\\src\\TickTock.jl:62\n",
      "┌ Info:  started timer at: 2023-03-14T15:28:42.910\n",
      "└ @ TickTock C:\\Users\\vbansal5\\.julia\\packages\\TickTock\\fGILW\\src\\TickTock.jl:54\n"
     ]
    },
    {
     "name": "stdout",
     "output_type": "stream",
     "text": [
      "[0, -1000, -200, -1000]\n",
      "Finding best nN policy...\n",
      "Max rewards of (N, n) policy is -46270.964283975074  n is 3  N is 3\n"
     ]
    },
    {
     "name": "stderr",
     "output_type": "stream",
     "text": [
      "┌ Info:          234.7048236s: 3 minutes, 54 seconds, 704 milliseconds\n",
      "└ @ TickTock C:\\Users\\vbansal5\\.julia\\packages\\TickTock\\fGILW\\src\\TickTock.jl:62\n"
     ]
    },
    {
     "name": "stdout",
     "output_type": "stream",
     "text": [
      "125["
     ]
    },
    {
     "name": "stderr",
     "output_type": "stream",
     "text": [
      "┌ Info:  started timer at: 2023-03-14T15:32:37.642\n",
      "└ @ TickTock C:\\Users\\vbansal5\\.julia\\packages\\TickTock\\fGILW\\src\\TickTock.jl:54\n"
     ]
    },
    {
     "name": "stdout",
     "output_type": "stream",
     "text": [
      "0, -1200, -200, -1000]\n",
      "Finding best nN policy...\n",
      "Max rewards of (N, n) policy is -49064.63553845023  n is 3  N is 4\n"
     ]
    },
    {
     "name": "stderr",
     "output_type": "stream",
     "text": [
      "┌ Info:          208.1708605s: 3 minutes, 28 seconds, 170 milliseconds\n",
      "└ @ TickTock C:\\Users\\vbansal5\\.julia\\packages\\TickTock\\fGILW\\src\\TickTock.jl:62\n"
     ]
    },
    {
     "name": "stdout",
     "output_type": "stream",
     "text": [
      "125[0"
     ]
    },
    {
     "name": "stderr",
     "output_type": "stream",
     "text": [
      "┌ Info:  started timer at: 2023-03-14T15:36:05.950\n",
      "└ @ TickTock C:\\Users\\vbansal5\\.julia\\packages\\TickTock\\fGILW\\src\\TickTock.jl:54\n"
     ]
    },
    {
     "name": "stdout",
     "output_type": "stream",
     "text": [
      ", -1400, -200, -1000]\n",
      "Finding best nN policy...\n",
      "Max rewards of (N, n) policy is -50605.10242391241  n is 3  N is 4\n",
      "125"
     ]
    },
    {
     "name": "stderr",
     "output_type": "stream",
     "text": [
      "┌ Info:          193.6421608s: 3 minutes, 13 seconds, 642 milliseconds\n",
      "└ @ TickTock C:\\Users\\vbansal5\\.julia\\packages\\TickTock\\fGILW\\src\\TickTock.jl:62\n",
      "┌ Info:  started timer at: 2023-03-14T15:39:19.602\n",
      "└ @ TickTock C:\\Users\\vbansal5\\.julia\\packages\\TickTock\\fGILW\\src\\TickTock.jl:54\n"
     ]
    },
    {
     "name": "stdout",
     "output_type": "stream",
     "text": [
      "[0, -1600, -200, -1000]\n",
      "Finding best nN policy...\n",
      "Max rewards of (N, n) policy is -52135.534371400085  n is 3  N is 4\n",
      "150[0, -200,"
     ]
    },
    {
     "name": "stderr",
     "output_type": "stream",
     "text": [
      "┌ Info:              189.023s: 3 minutes, 9 seconds, 22 milliseconds\n",
      "└ @ TickTock C:\\Users\\vbansal5\\.julia\\packages\\TickTock\\fGILW\\src\\TickTock.jl:62\n",
      "┌ Info:  started timer at: 2023-03-14T15:42:28.665\n",
      "└ @ TickTock C:\\Users\\vbansal5\\.julia\\packages\\TickTock\\fGILW\\src\\TickTock.jl:54\n"
     ]
    },
    {
     "name": "stdout",
     "output_type": "stream",
     "text": [
      " -200, -1000]\n",
      "Finding best nN policy...\n",
      "Max rewards of (N, n) policy is -37717.733828061435  n is 3  N is 3\n"
     ]
    },
    {
     "name": "stderr",
     "output_type": "stream",
     "text": [
      "┌ Info:          222.2008579s: 3 minutes, 42 seconds, 200 milliseconds\n",
      "└ @ TickTock C:\\Users\\vbansal5\\.julia\\packages\\TickTock\\fGILW\\src\\TickTock.jl:62\n"
     ]
    },
    {
     "name": "stdout",
     "output_type": "stream",
     "text": [
      "150[0, -400, -200, -1000]\n",
      "Finding best nN policy...\n"
     ]
    },
    {
     "name": "stderr",
     "output_type": "stream",
     "text": [
      "┌ Info:  started timer at: 2023-03-14T15:46:10.890\n",
      "└ @ TickTock C:\\Users\\vbansal5\\.julia\\packages\\TickTock\\fGILW\\src\\TickTock.jl:54\n"
     ]
    },
    {
     "name": "stdout",
     "output_type": "stream",
     "text": [
      "Max rewards of (N, n) policy is -41306.43763940682  n is 3  N is 3\n",
      "150[0, -600, -200, -1000]\n",
      "Finding best nN policy...\n"
     ]
    },
    {
     "name": "stderr",
     "output_type": "stream",
     "text": [
      "┌ Info:          222.1502467s: 3 minutes, 42 seconds, 150 milliseconds\n",
      "└ @ TickTock C:\\Users\\vbansal5\\.julia\\packages\\TickTock\\fGILW\\src\\TickTock.jl:62\n",
      "┌ Info:  started timer at: 2023-03-14T15:49:53.062\n",
      "└ @ TickTock C:\\Users\\vbansal5\\.julia\\packages\\TickTock\\fGILW\\src\\TickTock.jl:54\n"
     ]
    },
    {
     "name": "stdout",
     "output_type": "stream",
     "text": [
      "Max rewards of (N, n) policy is -44886.68491138085  n is 3  N is 3\n",
      "150[0, -800, -200, -1000]\n",
      "Finding best nN policy...\n"
     ]
    },
    {
     "name": "stderr",
     "output_type": "stream",
     "text": [
      "┌ Info:          221.5238268s: 3 minutes, 41 seconds, 523 milliseconds\n",
      "└ @ TickTock C:\\Users\\vbansal5\\.julia\\packages\\TickTock\\fGILW\\src\\TickTock.jl:62\n",
      "┌ Info:  started timer at: 2023-03-14T15:53:34.590\n",
      "└ @ TickTock C:\\Users\\vbansal5\\.julia\\packages\\TickTock\\fGILW\\src\\TickTock.jl:54\n"
     ]
    },
    {
     "name": "stdout",
     "output_type": "stream",
     "text": [
      "Max rewards of (N, n) policy is -48432.68643036206  n is 3  N is 3\n",
      "150"
     ]
    },
    {
     "name": "stderr",
     "output_type": "stream",
     "text": [
      "┌ Info:          221.0555014s: 3 minutes, 41 seconds, 55 milliseconds\n",
      "└ @ TickTock C:\\Users\\vbansal5\\.julia\\packages\\TickTock\\fGILW\\src\\TickTock.jl:62\n",
      "┌ Info:  started timer at: 2023-03-14T15:57:15.657\n",
      "└ @ TickTock C:\\Users\\vbansal5\\.julia\\packages\\TickTock\\fGILW\\src\\TickTock.jl:54\n"
     ]
    },
    {
     "name": "stdout",
     "output_type": "stream",
     "text": [
      "[0, -1000, -200, -1000]\n",
      "Finding best nN policy...\n",
      "Max rewards of (N, n) policy is -52013.7237101724  n is 3  N is 3\n"
     ]
    },
    {
     "name": "stderr",
     "output_type": "stream",
     "text": [
      "┌ Info:          226.9038803s: 3 minutes, 46 seconds, 903 milliseconds\n",
      "└ @ TickTock C:\\Users\\vbansal5\\.julia\\packages\\TickTock\\fGILW\\src\\TickTock.jl:62\n"
     ]
    },
    {
     "name": "stdout",
     "output_type": "stream",
     "text": [
      "150[0, -1200, -200, -1000]\n",
      "Finding best nN policy...\n"
     ]
    },
    {
     "name": "stderr",
     "output_type": "stream",
     "text": [
      "┌ Info:  started timer at: 2023-03-14T16:01:02.573\n",
      "└ @ TickTock C:\\Users\\vbansal5\\.julia\\packages\\TickTock\\fGILW\\src\\TickTock.jl:54\n"
     ]
    },
    {
     "name": "stdout",
     "output_type": "stream",
     "text": [
      "Max rewards of (N, n) policy is -55607.03181474023  n is 3  N is 3\n",
      "150"
     ]
    },
    {
     "name": "stderr",
     "output_type": "stream",
     "text": [
      "┌ Info:          220.9768882s: 3 minutes, 40 seconds, 976 milliseconds\n",
      "└ @ TickTock C:\\Users\\vbansal5\\.julia\\packages\\TickTock\\fGILW\\src\\TickTock.jl:62\n",
      "┌ Info:  started timer at: 2023-03-14T16:04:43.590\n",
      "└ @ TickTock C:\\Users\\vbansal5\\.julia\\packages\\TickTock\\fGILW\\src\\TickTock.jl:54\n"
     ]
    },
    {
     "name": "stdout",
     "output_type": "stream",
     "text": [
      "[0, -1400, -200, -1000]\n",
      "Finding best nN policy...\n",
      "Max rewards of (N, n) policy is -58095.83487634811  n is 3  N is 4\n",
      "150"
     ]
    },
    {
     "name": "stderr",
     "output_type": "stream",
     "text": [
      "┌ Info:          224.2090851s: 3 minutes, 44 seconds, 209 milliseconds\n",
      "└ @ TickTock C:\\Users\\vbansal5\\.julia\\packages\\TickTock\\fGILW\\src\\TickTock.jl:62\n"
     ]
    },
    {
     "name": "stdout",
     "output_type": "stream",
     "text": [
      "[0, -1600, -200, -1000]\n",
      "Finding best nN policy...\n"
     ]
    },
    {
     "name": "stderr",
     "output_type": "stream",
     "text": [
      "┌ Info:  started timer at: 2023-03-14T16:08:27.814\n",
      "└ @ TickTock C:\\Users\\vbansal5\\.julia\\packages\\TickTock\\fGILW\\src\\TickTock.jl:54\n"
     ]
    },
    {
     "name": "stdout",
     "output_type": "stream",
     "text": [
      "Max rewards of (N, n) policy is -59758.529899629524  n is 3  N is 4\n",
      "175[0, -200, -200, -1000]\n",
      "Finding best nN policy...\n"
     ]
    },
    {
     "name": "stderr",
     "output_type": "stream",
     "text": [
      "┌ Info:          223.6963579s: 3 minutes, 43 seconds, 696 milliseconds\n",
      "└ @ TickTock C:\\Users\\vbansal5\\.julia\\packages\\TickTock\\fGILW\\src\\TickTock.jl:62\n",
      "┌ Info:  started timer at: 2023-03-14T16:12:11.533\n",
      "└ @ TickTock C:\\Users\\vbansal5\\.julia\\packages\\TickTock\\fGILW\\src\\TickTock.jl:54\n"
     ]
    },
    {
     "name": "stdout",
     "output_type": "stream",
     "text": [
      "Max rewards of (N, n) policy is -43410.34428752767  n is 3  N is 3\n",
      "175[0, -400, -200, -1000]\n",
      "Finding best nN policy...\n"
     ]
    },
    {
     "name": "stderr",
     "output_type": "stream",
     "text": [
      "┌ Info:          261.1871839s: 4 minutes, 21 seconds, 187 milliseconds\n",
      "└ @ TickTock C:\\Users\\vbansal5\\.julia\\packages\\TickTock\\fGILW\\src\\TickTock.jl:62\n",
      "┌ Info:  started timer at: 2023-03-14T16:16:32.731\n",
      "└ @ TickTock C:\\Users\\vbansal5\\.julia\\packages\\TickTock\\fGILW\\src\\TickTock.jl:54\n"
     ]
    },
    {
     "name": "stdout",
     "output_type": "stream",
     "text": [
      "Max rewards of (N, n) policy is -47002.73882437443  n is 3  N is 3\n",
      "175[0, -600, -200, -1000]\n",
      "Finding best nN policy...\n"
     ]
    },
    {
     "name": "stderr",
     "output_type": "stream",
     "text": [
      "┌ Info:          252.6053121s: 4 minutes, 12 seconds, 605 milliseconds\n",
      "└ @ TickTock C:\\Users\\vbansal5\\.julia\\packages\\TickTock\\fGILW\\src\\TickTock.jl:62\n",
      "┌ Info:  started timer at: 2023-03-14T16:20:45.358\n",
      "└ @ TickTock C:\\Users\\vbansal5\\.julia\\packages\\TickTock\\fGILW\\src\\TickTock.jl:54\n"
     ]
    },
    {
     "name": "stdout",
     "output_type": "stream",
     "text": [
      "Max rewards of (N, n) policy is -50570.906093148355  n is 3  N is 3\n",
      "175[0, -800, -200, -1000]\n",
      "Finding best nN policy...\n"
     ]
    },
    {
     "name": "stderr",
     "output_type": "stream",
     "text": [
      "┌ Info:           256.045111s: 4 minutes, 16 seconds, 45 milliseconds\n",
      "└ @ TickTock C:\\Users\\vbansal5\\.julia\\packages\\TickTock\\fGILW\\src\\TickTock.jl:62\n",
      "┌ Info:  started timer at: 2023-03-14T16:25:01.418\n",
      "└ @ TickTock C:\\Users\\vbansal5\\.julia\\packages\\TickTock\\fGILW\\src\\TickTock.jl:54\n"
     ]
    },
    {
     "name": "stdout",
     "output_type": "stream",
     "text": [
      "Max rewards of (N, n) policy is -54136.10397080494  n is 3  N is 3\n",
      "175[0, -1000, -200, -1000]\n",
      "Finding best nN policy...\n"
     ]
    },
    {
     "name": "stderr",
     "output_type": "stream",
     "text": [
      "┌ Info:          252.1770867s: 4 minutes, 12 seconds, 177 milliseconds\n",
      "└ @ TickTock C:\\Users\\vbansal5\\.julia\\packages\\TickTock\\fGILW\\src\\TickTock.jl:62\n",
      "┌ Info:  started timer at: 2023-03-14T16:29:13.595\n",
      "└ @ TickTock C:\\Users\\vbansal5\\.julia\\packages\\TickTock\\fGILW\\src\\TickTock.jl:54\n"
     ]
    },
    {
     "name": "stdout",
     "output_type": "stream",
     "text": [
      "Max rewards of (N, n) policy is -57733.313191968344  n is 3  N is 3\n",
      "175["
     ]
    },
    {
     "name": "stderr",
     "output_type": "stream",
     "text": [
      "┌ Info:          255.6268871s: 4 minutes, 15 seconds, 626 milliseconds\n",
      "└ @ TickTock C:\\Users\\vbansal5\\.julia\\packages\\TickTock\\fGILW\\src\\TickTock.jl:62\n",
      "┌ Info:  started timer at: 2023-03-14T16:33:29.237\n",
      "└ @ TickTock C:\\Users\\vbansal5\\.julia\\packages\\TickTock\\fGILW\\src\\TickTock.jl:54\n"
     ]
    },
    {
     "name": "stdout",
     "output_type": "stream",
     "text": [
      "0, -1200, -200, -1000]\n",
      "Finding best nN policy...\n",
      "Max rewards of (N, n) policy is -61278.043156810214  n is 3  N is 3\n",
      "175[0, -1400, -200, -1000]\n",
      "Finding best nN policy...\n"
     ]
    },
    {
     "name": "stderr",
     "output_type": "stream",
     "text": [
      "┌ Info:          256.5566771s: 4 minutes, 16 seconds, 556 milliseconds\n",
      "└ @ TickTock C:\\Users\\vbansal5\\.julia\\packages\\TickTock\\fGILW\\src\\TickTock.jl:62\n",
      "┌ Info:  started timer at: 2023-03-14T16:37:45.815\n",
      "└ @ TickTock C:\\Users\\vbansal5\\.julia\\packages\\TickTock\\fGILW\\src\\TickTock.jl:54\n"
     ]
    },
    {
     "name": "stdout",
     "output_type": "stream",
     "text": [
      "Max rewards of (N, n) policy is -64877.568164533295  n is 3  N is 3\n",
      "175[0"
     ]
    },
    {
     "name": "stderr",
     "output_type": "stream",
     "text": [
      "┌ Info:          255.8618764s: 4 minutes, 15 seconds, 861 milliseconds\n",
      "└ @ TickTock C:\\Users\\vbansal5\\.julia\\packages\\TickTock\\fGILW\\src\\TickTock.jl:62\n",
      "┌ Info:  started timer at: 2023-03-14T16:42:01.690\n",
      "└ @ TickTock C:\\Users\\vbansal5\\.julia\\packages\\TickTock\\fGILW\\src\\TickTock.jl:54\n"
     ]
    },
    {
     "name": "stdout",
     "output_type": "stream",
     "text": [
      ", -1600, -200, -1000]\n",
      "Finding best nN policy...\n",
      "Max rewards of (N, n) policy is -67285.9513537127  n is 3  N is 4\n",
      "200[0, -200"
     ]
    },
    {
     "name": "stderr",
     "output_type": "stream",
     "text": [
      "┌ Info:          252.1818509s: 4 minutes, 12 seconds, 181 milliseconds\n",
      "└ @ TickTock C:\\Users\\vbansal5\\.julia\\packages\\TickTock\\fGILW\\src\\TickTock.jl:62\n",
      "┌ Info:  started timer at: 2023-03-14T16:46:13.897\n",
      "└ @ TickTock C:\\Users\\vbansal5\\.julia\\packages\\TickTock\\fGILW\\src\\TickTock.jl:54\n"
     ]
    },
    {
     "name": "stdout",
     "output_type": "stream",
     "text": [
      ", -200, -1000]\n",
      "Finding best nN policy...\n",
      "Max rewards of (N, n) policy is -49103.215591731794  n is 3  N is 3\n"
     ]
    },
    {
     "name": "stderr",
     "output_type": "stream",
     "text": [
      "┌ Info:          291.9448433s: 4 minutes, 51 seconds, 944 milliseconds\n",
      "└ @ TickTock C:\\Users\\vbansal5\\.julia\\packages\\TickTock\\fGILW\\src\\TickTock.jl:62\n"
     ]
    },
    {
     "name": "stdout",
     "output_type": "stream",
     "text": [
      "200["
     ]
    },
    {
     "name": "stderr",
     "output_type": "stream",
     "text": [
      "┌ Info:  started timer at: 2023-03-14T16:51:05.908\n",
      "└ @ TickTock C:\\Users\\vbansal5\\.julia\\packages\\TickTock\\fGILW\\src\\TickTock.jl:54\n"
     ]
    },
    {
     "name": "stdout",
     "output_type": "stream",
     "text": [
      "0, -400, -200, -1000]\n",
      "Finding best nN policy...\n",
      "Max rewards of (N, n) policy is -52699.12425032428  n is 3  N is 3\n",
      "200[0, -600, -200, -1000]\n",
      "Finding best nN policy...\n"
     ]
    },
    {
     "name": "stderr",
     "output_type": "stream",
     "text": [
      "┌ Info:          291.8029041s: 4 minutes, 51 seconds, 802 milliseconds\n",
      "└ @ TickTock C:\\Users\\vbansal5\\.julia\\packages\\TickTock\\fGILW\\src\\TickTock.jl:62\n",
      "┌ Info:  started timer at: 2023-03-14T16:55:57.721\n",
      "└ @ TickTock C:\\Users\\vbansal5\\.julia\\packages\\TickTock\\fGILW\\src\\TickTock.jl:54\n"
     ]
    },
    {
     "name": "stdout",
     "output_type": "stream",
     "text": [
      "Max rewards of (N, n) policy is -56276.24952937259  n is 3  N is 3\n",
      "200[0, -800, -200, -1000]\n",
      "Finding best nN policy..."
     ]
    },
    {
     "name": "stderr",
     "output_type": "stream",
     "text": [
      "┌ Info:          285.8471895s: 4 minutes, 45 seconds, 847 milliseconds\n",
      "└ @ TickTock C:\\Users\\vbansal5\\.julia\\packages\\TickTock\\fGILW\\src\\TickTock.jl:62\n",
      "┌ Info:  started timer at: 2023-03-14T17:00:43.575\n",
      "└ @ TickTock C:\\Users\\vbansal5\\.julia\\packages\\TickTock\\fGILW\\src\\TickTock.jl:54\n"
     ]
    },
    {
     "name": "stdout",
     "output_type": "stream",
     "text": [
      "\n",
      "Max rewards of (N, n) policy is -59869.6020991457  n is 3  N is 3\n",
      "200"
     ]
    },
    {
     "name": "stderr",
     "output_type": "stream",
     "text": [
      "┌ Info:          293.7015045s: 4 minutes, 53 seconds, 701 milliseconds\n",
      "└ @ TickTock C:\\Users\\vbansal5\\.julia\\packages\\TickTock\\fGILW\\src\\TickTock.jl:62\n",
      "┌ Info:  started timer at: 2023-03-14T17:05:37.282\n",
      "└ @ TickTock C:\\Users\\vbansal5\\.julia\\packages\\TickTock\\fGILW\\src\\TickTock.jl:54\n"
     ]
    },
    {
     "name": "stdout",
     "output_type": "stream",
     "text": [
      "[0, -1000, -200, -1000]\n",
      "Finding best nN policy...\n",
      "Max rewards of (N, n) policy is -63439.749138833526  n is 3  N is 3\n"
     ]
    },
    {
     "name": "stderr",
     "output_type": "stream",
     "text": [
      "┌ Info:          278.5901394s: 4 minutes, 38 seconds, 590 milliseconds\n",
      "└ @ TickTock C:\\Users\\vbansal5\\.julia\\packages\\TickTock\\fGILW\\src\\TickTock.jl:62\n"
     ]
    },
    {
     "name": "stdout",
     "output_type": "stream",
     "text": [
      "200[0, -1200, -200, -1000]\n",
      "Finding best nN policy...\n"
     ]
    },
    {
     "name": "stderr",
     "output_type": "stream",
     "text": [
      "┌ Info:  started timer at: 2023-03-14T17:10:15.886\n",
      "└ @ TickTock C:\\Users\\vbansal5\\.julia\\packages\\TickTock\\fGILW\\src\\TickTock.jl:54\n"
     ]
    },
    {
     "name": "stdout",
     "output_type": "stream",
     "text": [
      "Max rewards of (N, n) policy is -66996.77788060329  n is 3  N is 3\n",
      "200"
     ]
    },
    {
     "name": "stderr",
     "output_type": "stream",
     "text": [
      "┌ Info:          296.1626862s: 4 minutes, 56 seconds, 162 milliseconds\n",
      "└ @ TickTock C:\\Users\\vbansal5\\.julia\\packages\\TickTock\\fGILW\\src\\TickTock.jl:62\n"
     ]
    },
    {
     "name": "stdout",
     "output_type": "stream",
     "text": [
      "[0, -1400,"
     ]
    },
    {
     "name": "stderr",
     "output_type": "stream",
     "text": [
      "┌ Info:  started timer at: 2023-03-14T17:15:12.074\n",
      "└ @ TickTock C:\\Users\\vbansal5\\.julia\\packages\\TickTock\\fGILW\\src\\TickTock.jl:54\n"
     ]
    },
    {
     "name": "stdout",
     "output_type": "stream",
     "text": [
      " -200, -1000]\n",
      "Finding best nN policy...\n",
      "Max rewards of (N, n) policy is -70610.26717095828  n is 3  N is 3\n",
      "200"
     ]
    },
    {
     "name": "stderr",
     "output_type": "stream",
     "text": [
      "┌ Info:          285.7245941s: 4 minutes, 45 seconds, 724 milliseconds\n",
      "└ @ TickTock C:\\Users\\vbansal5\\.julia\\packages\\TickTock\\fGILW\\src\\TickTock.jl:62\n",
      "┌ Info:  started timer at: 2023-03-14T17:19:57.824\n",
      "└ @ TickTock C:\\Users\\vbansal5\\.julia\\packages\\TickTock\\fGILW\\src\\TickTock.jl:54\n"
     ]
    },
    {
     "name": "stdout",
     "output_type": "stream",
     "text": [
      "[0, -1600, -200, -1000]\n",
      "Finding best nN policy...\n",
      "Max rewards of (N, n) policy is -74187.32619383244  n is 3  N is 3\n"
     ]
    },
    {
     "name": "stderr",
     "output_type": "stream",
     "text": [
      "┌ Info:          288.4434902s: 4 minutes, 48 seconds, 443 milliseconds\n",
      "└ @ TickTock C:\\Users\\vbansal5\\.julia\\packages\\TickTock\\fGILW\\src\\TickTock.jl:62\n"
     ]
    }
   ],
   "source": [
    "using DataFrames\n",
    "df= DataFrame(u=[],n=[],s=[],m=[],f=[],mean=[],nN=[],std=[])\n",
    "\n",
    "  \n",
    "cost=[ \n",
    "     [0 -200 -200 -1000],\n",
    "    [0 -400 -200 -1000],\n",
    "    [0 -600 -200 -1000],\n",
    "    [0 -800 -200 -1000],\n",
    "    [0 -1000 -200 -1000],\n",
    "    [0 -1200 -200 -1000],\n",
    "    [0 -1400 -200 -1000],\n",
    "    [0 -1600 -200 -1000]\n",
    "    ]\n",
    "\n",
    "for units in [3,5,10,15,20,25,30,40,50,60,70,80,100,125,150,175,200]\n",
    "    global NumberUnits=convert(Int64,units)\n",
    "global Number_level = 4;\n",
    "#action_level = 0;\n",
    "#Transition_matrix = [0.86 0.14 0.0 0.0; 0.0 0.83 0.17 0.0;0.0 0.0 0.89 0.11;1.0 0.0 0.0 0.0];\n",
    "#fullname = \"C:/Users/yongchen/OneDrive - University of Iowa/Codes/Julia/ReinforcementLearning/tm6.jld2\"\n",
    "#fullname = \"C:/Users/yongchen/Dropbox/reinforcement learning for maintenance/Matlab/MultipleUnits/tm6.jld2\";\n",
    "global fullname = \"tm10.jld2\";\n",
    "fullname = \"tm10\";\n",
    "# generate_transition_matrix(Number_level, fullname) \n",
    "global Transition_matrix = \n",
    "            [0.8571 0.1429 0 0;\n",
    "        0 0.8571 0.1429 0;\n",
    "        0 0 0.8 0.2\n",
    "      0 0 0 1];\n",
    "Transition_matrix=Transition_matrix./[sum(Transition_matrix[i,:]) for i in 1:4]\n",
    "global state_number = state_cnt(NumberUnits,Number_level);\n",
    "# global arrayofstates = Vector{mystate}(undef, state_number);\n",
    "\n",
    "# Threads.@threads for i in 1:state_number\n",
    "#     global arrayofstates[i]  = mystate(state_vec(NumberUnits, Number_level, i));\n",
    "# end\n",
    "\n",
    "global crd = Array{Categorical}(undef,Number_level)\n",
    "for i in 1:Number_level\n",
    "    global crd[i] = Categorical(Transition_matrix[i,:]);\n",
    "end\n",
    "    \n",
    "    \n",
    "    \n",
    "global multiunit2 = QuickMDP(\n",
    "    gen = function (s, a, rng)       #s is a vector of number units at each level and a is the number of units we will repair\n",
    "        local_s = s.state;\n",
    "        # println(local_s)\n",
    "        # based on s, create a status vector corresponding to each unit\n",
    "        degradation_state = repeat(1:1,NumberUnits);\n",
    "        k = 1;\n",
    "        for i in 1:Number_level\n",
    "            for j in 1:local_s[i]\n",
    "                degradation_state[k]=i;\n",
    "                k = k+1;\n",
    "            end\n",
    "        end\n",
    "        r = 0.0;\n",
    "        prevent_repair = false;\n",
    "        if a!=0\n",
    "        number_reset = sum(local_s[a:Number_level]);\n",
    "        else\n",
    "        number_reset = local_s[Number_level];\n",
    "        end\n",
    "        #using a for loop to compute next state for each unit\n",
    "\n",
    "        for i in 1:(NumberUnits-number_reset)  #a is the number of units we want to preventively repair\n",
    "            #in this loop, all units continues\n",
    "            degradation_state[i] = rand(crd[degradation_state[i]]);\n",
    "            r = r+normal_operation;\n",
    "        end\n",
    "        \n",
    "        for i in (NumberUnits-number_reset+1):NumberUnits\n",
    "            if degradation_state[i] == Number_level\n",
    "                r = r + failure_penalty;\n",
    "                if prevent_repair == false\n",
    "                    r = r+setup_cost;\n",
    "                    prevent_repair = true;\n",
    "                end\n",
    "            else\n",
    "                r = r + maintenance_penalty;\n",
    "                if prevent_repair == false\n",
    "                    r = r+setup_cost;\n",
    "                    prevent_repair = true;\n",
    "                end\n",
    "            end\n",
    "            degradation_state[i] = rand(crd[1]); #reset status; add additional transition\n",
    "            r = r+normal_operation; #add operation benefit\n",
    "         end\n",
    "        #collect degradation state to form the state\n",
    "        sp = repeat(0:0,Number_level);\n",
    "        for i in 1:NumberUnits\n",
    "            sp[degradation_state[i]] = sp[degradation_state[i]]+1;\n",
    "        end\n",
    "        return (sp=mystate(sp), r=r)\n",
    "    end,\n",
    "    actions = 0:(Number_level-1), \n",
    "    actiontype = function()\n",
    "        return Int64;\n",
    "    end,\n",
    "#     states = arrayofstates,\n",
    "    initialstate = function()\n",
    "        POMDPModelTools.ImplicitDistribution() do rng\n",
    "            return (mystate(state_vec(NumberUnits, Number_level, 1)))\n",
    "        end\n",
    "    end, #all u #all units start fresh. Need to change according to unit number and level number. ##For simulation, we need to use ImplicitDistribution\n",
    "    discount = 0.95,\n",
    "    isterminal = false              # no ending\n",
    ")\n",
    "\n",
    "\n",
    "    \n",
    "    \n",
    "    \n",
    "for c in cost\n",
    "   print(units)  \n",
    "    tick()\n",
    "    global normal_operation,setup_cost,maintenance_penalty,failure_penalty=c\n",
    "     println([normal_operation,setup_cost,maintenance_penalty,failure_penalty])     \n",
    "   global  simsteps = 100;\n",
    "global repetition = 10000;\n",
    "global rewards_nN = zeros(Number_level,Number_level);\n",
    "global rewards_nN = rewards_nN.+(-100000000.0);\n",
    "global rewards_nN_std = zeros(Number_level,Number_level);\n",
    "global rewards_nN_std = rewards_nN_std.+(-100000000.0);\n",
    "global discount_factor =0.95\n",
    "global temp_rewards = zeros(repetition,1);\n",
    "rewards,std, nN=findNn()\n",
    "pushfirst!(df,[units,normal_operation,setup_cost,maintenance_penalty,failure_penalty,rewards, nN,std])\n",
    "   tock()     \n",
    "    end\n",
    "    \n",
    "    \n",
    "end"
   ]
  },
  {
   "cell_type": "code",
   "execution_count": 6,
   "metadata": {},
   "outputs": [
    {
     "data": {
      "text/html": [
       "<div><div style = \"float: left;\"><span>136×8 DataFrame</span></div><div style = \"float: right;\"><span style = \"font-style: italic;\">111 rows omitted</span></div><div style = \"clear: both;\"></div></div><div class = \"data-frame\" style = \"overflow-x: scroll;\"><table class = \"data-frame\" style = \"margin-bottom: 6px;\"><thead><tr class = \"header\"><th class = \"rowNumber\" style = \"font-weight: bold; text-align: right;\">Row</th><th style = \"text-align: left;\">u</th><th style = \"text-align: left;\">n</th><th style = \"text-align: left;\">s</th><th style = \"text-align: left;\">m</th><th style = \"text-align: left;\">f</th><th style = \"text-align: left;\">mean</th><th style = \"text-align: left;\">nN</th><th style = \"text-align: left;\">std</th></tr><tr class = \"subheader headerLastRow\"><th class = \"rowNumber\" style = \"font-weight: bold; text-align: right;\"></th><th title = \"Any\" style = \"text-align: left;\">Any</th><th title = \"Any\" style = \"text-align: left;\">Any</th><th title = \"Any\" style = \"text-align: left;\">Any</th><th title = \"Any\" style = \"text-align: left;\">Any</th><th title = \"Any\" style = \"text-align: left;\">Any</th><th title = \"Any\" style = \"text-align: left;\">Any</th><th title = \"Any\" style = \"text-align: left;\">Any</th><th title = \"Any\" style = \"text-align: left;\">Any</th></tr></thead><tbody><tr><td class = \"rowNumber\" style = \"font-weight: bold; text-align: right;\">1</td><td style = \"text-align: left;\">200</td><td style = \"text-align: left;\">0</td><td style = \"text-align: left;\">-1600</td><td style = \"text-align: left;\">-200</td><td style = \"text-align: left;\">-1000</td><td style = \"text-align: left;\">-74187.3</td><td style = \"text-align: left;\">CartesianIndex(3, 3)</td><td style = \"text-align: left;\">1490.97</td></tr><tr><td class = \"rowNumber\" style = \"font-weight: bold; text-align: right;\">2</td><td style = \"text-align: left;\">200</td><td style = \"text-align: left;\">0</td><td style = \"text-align: left;\">-1400</td><td style = \"text-align: left;\">-200</td><td style = \"text-align: left;\">-1000</td><td style = \"text-align: left;\">-70610.3</td><td style = \"text-align: left;\">CartesianIndex(3, 3)</td><td style = \"text-align: left;\">1481.1</td></tr><tr><td class = \"rowNumber\" style = \"font-weight: bold; text-align: right;\">3</td><td style = \"text-align: left;\">200</td><td style = \"text-align: left;\">0</td><td style = \"text-align: left;\">-1200</td><td style = \"text-align: left;\">-200</td><td style = \"text-align: left;\">-1000</td><td style = \"text-align: left;\">-66996.8</td><td style = \"text-align: left;\">CartesianIndex(3, 3)</td><td style = \"text-align: left;\">1480.6</td></tr><tr><td class = \"rowNumber\" style = \"font-weight: bold; text-align: right;\">4</td><td style = \"text-align: left;\">200</td><td style = \"text-align: left;\">0</td><td style = \"text-align: left;\">-1000</td><td style = \"text-align: left;\">-200</td><td style = \"text-align: left;\">-1000</td><td style = \"text-align: left;\">-63439.7</td><td style = \"text-align: left;\">CartesianIndex(3, 3)</td><td style = \"text-align: left;\">1465.46</td></tr><tr><td class = \"rowNumber\" style = \"font-weight: bold; text-align: right;\">5</td><td style = \"text-align: left;\">200</td><td style = \"text-align: left;\">0</td><td style = \"text-align: left;\">-800</td><td style = \"text-align: left;\">-200</td><td style = \"text-align: left;\">-1000</td><td style = \"text-align: left;\">-59869.6</td><td style = \"text-align: left;\">CartesianIndex(3, 3)</td><td style = \"text-align: left;\">1446.8</td></tr><tr><td class = \"rowNumber\" style = \"font-weight: bold; text-align: right;\">6</td><td style = \"text-align: left;\">200</td><td style = \"text-align: left;\">0</td><td style = \"text-align: left;\">-600</td><td style = \"text-align: left;\">-200</td><td style = \"text-align: left;\">-1000</td><td style = \"text-align: left;\">-56276.2</td><td style = \"text-align: left;\">CartesianIndex(3, 3)</td><td style = \"text-align: left;\">1471.59</td></tr><tr><td class = \"rowNumber\" style = \"font-weight: bold; text-align: right;\">7</td><td style = \"text-align: left;\">200</td><td style = \"text-align: left;\">0</td><td style = \"text-align: left;\">-400</td><td style = \"text-align: left;\">-200</td><td style = \"text-align: left;\">-1000</td><td style = \"text-align: left;\">-52699.1</td><td style = \"text-align: left;\">CartesianIndex(3, 3)</td><td style = \"text-align: left;\">1481.32</td></tr><tr><td class = \"rowNumber\" style = \"font-weight: bold; text-align: right;\">8</td><td style = \"text-align: left;\">200</td><td style = \"text-align: left;\">0</td><td style = \"text-align: left;\">-200</td><td style = \"text-align: left;\">-200</td><td style = \"text-align: left;\">-1000</td><td style = \"text-align: left;\">-49103.2</td><td style = \"text-align: left;\">CartesianIndex(3, 3)</td><td style = \"text-align: left;\">1448.64</td></tr><tr><td class = \"rowNumber\" style = \"font-weight: bold; text-align: right;\">9</td><td style = \"text-align: left;\">175</td><td style = \"text-align: left;\">0</td><td style = \"text-align: left;\">-1600</td><td style = \"text-align: left;\">-200</td><td style = \"text-align: left;\">-1000</td><td style = \"text-align: left;\">-67286.0</td><td style = \"text-align: left;\">CartesianIndex(3, 4)</td><td style = \"text-align: left;\">2677.62</td></tr><tr><td class = \"rowNumber\" style = \"font-weight: bold; text-align: right;\">10</td><td style = \"text-align: left;\">175</td><td style = \"text-align: left;\">0</td><td style = \"text-align: left;\">-1400</td><td style = \"text-align: left;\">-200</td><td style = \"text-align: left;\">-1000</td><td style = \"text-align: left;\">-64877.6</td><td style = \"text-align: left;\">CartesianIndex(3, 3)</td><td style = \"text-align: left;\">1373.66</td></tr><tr><td class = \"rowNumber\" style = \"font-weight: bold; text-align: right;\">11</td><td style = \"text-align: left;\">175</td><td style = \"text-align: left;\">0</td><td style = \"text-align: left;\">-1200</td><td style = \"text-align: left;\">-200</td><td style = \"text-align: left;\">-1000</td><td style = \"text-align: left;\">-61278.0</td><td style = \"text-align: left;\">CartesianIndex(3, 3)</td><td style = \"text-align: left;\">1388.58</td></tr><tr><td class = \"rowNumber\" style = \"font-weight: bold; text-align: right;\">12</td><td style = \"text-align: left;\">175</td><td style = \"text-align: left;\">0</td><td style = \"text-align: left;\">-1000</td><td style = \"text-align: left;\">-200</td><td style = \"text-align: left;\">-1000</td><td style = \"text-align: left;\">-57733.3</td><td style = \"text-align: left;\">CartesianIndex(3, 3)</td><td style = \"text-align: left;\">1396.84</td></tr><tr><td class = \"rowNumber\" style = \"font-weight: bold; text-align: right;\">13</td><td style = \"text-align: left;\">175</td><td style = \"text-align: left;\">0</td><td style = \"text-align: left;\">-800</td><td style = \"text-align: left;\">-200</td><td style = \"text-align: left;\">-1000</td><td style = \"text-align: left;\">-54136.1</td><td style = \"text-align: left;\">CartesianIndex(3, 3)</td><td style = \"text-align: left;\">1371.64</td></tr><tr><td style = \"text-align: right;\">&vellip;</td><td style = \"text-align: right;\">&vellip;</td><td style = \"text-align: right;\">&vellip;</td><td style = \"text-align: right;\">&vellip;</td><td style = \"text-align: right;\">&vellip;</td><td style = \"text-align: right;\">&vellip;</td><td style = \"text-align: right;\">&vellip;</td><td style = \"text-align: right;\">&vellip;</td><td style = \"text-align: right;\">&vellip;</td></tr><tr><td class = \"rowNumber\" style = \"font-weight: bold; text-align: right;\">125</td><td style = \"text-align: left;\">5</td><td style = \"text-align: left;\">0</td><td style = \"text-align: left;\">-800</td><td style = \"text-align: left;\">-200</td><td style = \"text-align: left;\">-1000</td><td style = \"text-align: left;\">-4130.19</td><td style = \"text-align: left;\">CartesianIndex(2, 4)</td><td style = \"text-align: left;\">892.09</td></tr><tr><td class = \"rowNumber\" style = \"font-weight: bold; text-align: right;\">126</td><td style = \"text-align: left;\">5</td><td style = \"text-align: left;\">0</td><td style = \"text-align: left;\">-600</td><td style = \"text-align: left;\">-200</td><td style = \"text-align: left;\">-1000</td><td style = \"text-align: left;\">-3607.29</td><td style = \"text-align: left;\">CartesianIndex(2, 3)</td><td style = \"text-align: left;\">691.924</td></tr><tr><td class = \"rowNumber\" style = \"font-weight: bold; text-align: right;\">127</td><td style = \"text-align: left;\">5</td><td style = \"text-align: left;\">0</td><td style = \"text-align: left;\">-400</td><td style = \"text-align: left;\">-200</td><td style = \"text-align: left;\">-1000</td><td style = \"text-align: left;\">-2982.52</td><td style = \"text-align: left;\">CartesianIndex(2, 3)</td><td style = \"text-align: left;\">563.887</td></tr><tr><td class = \"rowNumber\" style = \"font-weight: bold; text-align: right;\">128</td><td style = \"text-align: left;\">5</td><td style = \"text-align: left;\">0</td><td style = \"text-align: left;\">-200</td><td style = \"text-align: left;\">-200</td><td style = \"text-align: left;\">-1000</td><td style = \"text-align: left;\">-2138.16</td><td style = \"text-align: left;\">CartesianIndex(3, 3)</td><td style = \"text-align: left;\">422.627</td></tr><tr><td class = \"rowNumber\" style = \"font-weight: bold; text-align: right;\">129</td><td style = \"text-align: left;\">3</td><td style = \"text-align: left;\">0</td><td style = \"text-align: left;\">-1600</td><td style = \"text-align: left;\">-200</td><td style = \"text-align: left;\">-1000</td><td style = \"text-align: left;\">-3951.23</td><td style = \"text-align: left;\">CartesianIndex(2, 4)</td><td style = \"text-align: left;\">1100.41</td></tr><tr><td class = \"rowNumber\" style = \"font-weight: bold; text-align: right;\">130</td><td style = \"text-align: left;\">3</td><td style = \"text-align: left;\">0</td><td style = \"text-align: left;\">-1400</td><td style = \"text-align: left;\">-200</td><td style = \"text-align: left;\">-1000</td><td style = \"text-align: left;\">-3687.9</td><td style = \"text-align: left;\">CartesianIndex(2, 4)</td><td style = \"text-align: left;\">1025.73</td></tr><tr><td class = \"rowNumber\" style = \"font-weight: bold; text-align: right;\">131</td><td style = \"text-align: left;\">3</td><td style = \"text-align: left;\">0</td><td style = \"text-align: left;\">-1200</td><td style = \"text-align: left;\">-200</td><td style = \"text-align: left;\">-1000</td><td style = \"text-align: left;\">-3389.04</td><td style = \"text-align: left;\">CartesianIndex(2, 4)</td><td style = \"text-align: left;\">948.588</td></tr><tr><td class = \"rowNumber\" style = \"font-weight: bold; text-align: right;\">132</td><td style = \"text-align: left;\">3</td><td style = \"text-align: left;\">0</td><td style = \"text-align: left;\">-1000</td><td style = \"text-align: left;\">-200</td><td style = \"text-align: left;\">-1000</td><td style = \"text-align: left;\">-3128.58</td><td style = \"text-align: left;\">CartesianIndex(2, 4)</td><td style = \"text-align: left;\">871.911</td></tr><tr><td class = \"rowNumber\" style = \"font-weight: bold; text-align: right;\">133</td><td style = \"text-align: left;\">3</td><td style = \"text-align: left;\">0</td><td style = \"text-align: left;\">-800</td><td style = \"text-align: left;\">-200</td><td style = \"text-align: left;\">-1000</td><td style = \"text-align: left;\">-2806.86</td><td style = \"text-align: left;\">CartesianIndex(2, 3)</td><td style = \"text-align: left;\">707.511</td></tr><tr><td class = \"rowNumber\" style = \"font-weight: bold; text-align: right;\">134</td><td style = \"text-align: left;\">3</td><td style = \"text-align: left;\">0</td><td style = \"text-align: left;\">-600</td><td style = \"text-align: left;\">-200</td><td style = \"text-align: left;\">-1000</td><td style = \"text-align: left;\">-2332.98</td><td style = \"text-align: left;\">CartesianIndex(2, 3)</td><td style = \"text-align: left;\">587.722</td></tr><tr><td class = \"rowNumber\" style = \"font-weight: bold; text-align: right;\">135</td><td style = \"text-align: left;\">3</td><td style = \"text-align: left;\">0</td><td style = \"text-align: left;\">-400</td><td style = \"text-align: left;\">-200</td><td style = \"text-align: left;\">-1000</td><td style = \"text-align: left;\">-1874.99</td><td style = \"text-align: left;\">CartesianIndex(2, 3)</td><td style = \"text-align: left;\">469.926</td></tr><tr><td class = \"rowNumber\" style = \"font-weight: bold; text-align: right;\">136</td><td style = \"text-align: left;\">3</td><td style = \"text-align: left;\">0</td><td style = \"text-align: left;\">-200</td><td style = \"text-align: left;\">-200</td><td style = \"text-align: left;\">-1000</td><td style = \"text-align: left;\">-1320.73</td><td style = \"text-align: left;\">CartesianIndex(3, 3)</td><td style = \"text-align: left;\">338.626</td></tr></tbody></table></div>"
      ],
      "text/latex": [
       "\\begin{tabular}{r|cccccccc}\n",
       "\t& u & n & s & m & f & mean & nN & std\\\\\n",
       "\t\\hline\n",
       "\t& Any & Any & Any & Any & Any & Any & Any & Any\\\\\n",
       "\t\\hline\n",
       "\t1 & 200 & 0 & -1600 & -200 & -1000 & -74187.3 & CartesianIndex(3, 3) & 1490.97 \\\\\n",
       "\t2 & 200 & 0 & -1400 & -200 & -1000 & -70610.3 & CartesianIndex(3, 3) & 1481.1 \\\\\n",
       "\t3 & 200 & 0 & -1200 & -200 & -1000 & -66996.8 & CartesianIndex(3, 3) & 1480.6 \\\\\n",
       "\t4 & 200 & 0 & -1000 & -200 & -1000 & -63439.7 & CartesianIndex(3, 3) & 1465.46 \\\\\n",
       "\t5 & 200 & 0 & -800 & -200 & -1000 & -59869.6 & CartesianIndex(3, 3) & 1446.8 \\\\\n",
       "\t6 & 200 & 0 & -600 & -200 & -1000 & -56276.2 & CartesianIndex(3, 3) & 1471.59 \\\\\n",
       "\t7 & 200 & 0 & -400 & -200 & -1000 & -52699.1 & CartesianIndex(3, 3) & 1481.32 \\\\\n",
       "\t8 & 200 & 0 & -200 & -200 & -1000 & -49103.2 & CartesianIndex(3, 3) & 1448.64 \\\\\n",
       "\t9 & 175 & 0 & -1600 & -200 & -1000 & -67286.0 & CartesianIndex(3, 4) & 2677.62 \\\\\n",
       "\t10 & 175 & 0 & -1400 & -200 & -1000 & -64877.6 & CartesianIndex(3, 3) & 1373.66 \\\\\n",
       "\t11 & 175 & 0 & -1200 & -200 & -1000 & -61278.0 & CartesianIndex(3, 3) & 1388.58 \\\\\n",
       "\t12 & 175 & 0 & -1000 & -200 & -1000 & -57733.3 & CartesianIndex(3, 3) & 1396.84 \\\\\n",
       "\t13 & 175 & 0 & -800 & -200 & -1000 & -54136.1 & CartesianIndex(3, 3) & 1371.64 \\\\\n",
       "\t14 & 175 & 0 & -600 & -200 & -1000 & -50570.9 & CartesianIndex(3, 3) & 1371.94 \\\\\n",
       "\t15 & 175 & 0 & -400 & -200 & -1000 & -47002.7 & CartesianIndex(3, 3) & 1366.04 \\\\\n",
       "\t16 & 175 & 0 & -200 & -200 & -1000 & -43410.3 & CartesianIndex(3, 3) & 1371.52 \\\\\n",
       "\t17 & 150 & 0 & -1600 & -200 & -1000 & -59758.5 & CartesianIndex(3, 4) & 2546.58 \\\\\n",
       "\t18 & 150 & 0 & -1400 & -200 & -1000 & -58095.8 & CartesianIndex(3, 4) & 2469.33 \\\\\n",
       "\t19 & 150 & 0 & -1200 & -200 & -1000 & -55607.0 & CartesianIndex(3, 3) & 1312.18 \\\\\n",
       "\t20 & 150 & 0 & -1000 & -200 & -1000 & -52013.7 & CartesianIndex(3, 3) & 1304.75 \\\\\n",
       "\t21 & 150 & 0 & -800 & -200 & -1000 & -48432.7 & CartesianIndex(3, 3) & 1265.75 \\\\\n",
       "\t22 & 150 & 0 & -600 & -200 & -1000 & -44886.7 & CartesianIndex(3, 3) & 1285.5 \\\\\n",
       "\t23 & 150 & 0 & -400 & -200 & -1000 & -41306.4 & CartesianIndex(3, 3) & 1276.61 \\\\\n",
       "\t24 & 150 & 0 & -200 & -200 & -1000 & -37717.7 & CartesianIndex(3, 3) & 1269.45 \\\\\n",
       "\t25 & 125 & 0 & -1600 & -200 & -1000 & -52135.5 & CartesianIndex(3, 4) & 2367.46 \\\\\n",
       "\t26 & 125 & 0 & -1400 & -200 & -1000 & -50605.1 & CartesianIndex(3, 4) & 2374.5 \\\\\n",
       "\t27 & 125 & 0 & -1200 & -200 & -1000 & -49064.6 & CartesianIndex(3, 4) & 2300.15 \\\\\n",
       "\t28 & 125 & 0 & -1000 & -200 & -1000 & -46271.0 & CartesianIndex(3, 3) & 1199.9 \\\\\n",
       "\t29 & 125 & 0 & -800 & -200 & -1000 & -42716.6 & CartesianIndex(3, 3) & 1208.03 \\\\\n",
       "\t30 & 125 & 0 & -600 & -200 & -1000 & -39156.9 & CartesianIndex(3, 3) & 1172.8 \\\\\n",
       "\t$\\dots$ & $\\dots$ & $\\dots$ & $\\dots$ & $\\dots$ & $\\dots$ & $\\dots$ & $\\dots$ & $\\dots$ \\\\\n",
       "\\end{tabular}\n"
      ],
      "text/plain": [
       "\u001b[1m136×8 DataFrame\u001b[0m\n",
       "\u001b[1m Row \u001b[0m│\u001b[1m u   \u001b[0m\u001b[1m n   \u001b[0m\u001b[1m s     \u001b[0m\u001b[1m m    \u001b[0m\u001b[1m f     \u001b[0m\u001b[1m mean     \u001b[0m\u001b[1m nN                   \u001b[0m\u001b[1m std     \u001b[0m\n",
       "     │\u001b[90m Any \u001b[0m\u001b[90m Any \u001b[0m\u001b[90m Any   \u001b[0m\u001b[90m Any  \u001b[0m\u001b[90m Any   \u001b[0m\u001b[90m Any      \u001b[0m\u001b[90m Any                  \u001b[0m\u001b[90m Any     \u001b[0m\n",
       "─────┼───────────────────────────────────────────────────────────────────────\n",
       "   1 │ 200  0    -1600  -200  -1000  -74187.3  CartesianIndex(3, 3)  1490.97\n",
       "   2 │ 200  0    -1400  -200  -1000  -70610.3  CartesianIndex(3, 3)  1481.1\n",
       "   3 │ 200  0    -1200  -200  -1000  -66996.8  CartesianIndex(3, 3)  1480.6\n",
       "   4 │ 200  0    -1000  -200  -1000  -63439.7  CartesianIndex(3, 3)  1465.46\n",
       "   5 │ 200  0    -800   -200  -1000  -59869.6  CartesianIndex(3, 3)  1446.8\n",
       "   6 │ 200  0    -600   -200  -1000  -56276.2  CartesianIndex(3, 3)  1471.59\n",
       "   7 │ 200  0    -400   -200  -1000  -52699.1  CartesianIndex(3, 3)  1481.32\n",
       "   8 │ 200  0    -200   -200  -1000  -49103.2  CartesianIndex(3, 3)  1448.64\n",
       "   9 │ 175  0    -1600  -200  -1000  -67286.0  CartesianIndex(3, 4)  2677.62\n",
       "  10 │ 175  0    -1400  -200  -1000  -64877.6  CartesianIndex(3, 3)  1373.66\n",
       "  11 │ 175  0    -1200  -200  -1000  -61278.0  CartesianIndex(3, 3)  1388.58\n",
       "  ⋮  │  ⋮    ⋮     ⋮     ⋮      ⋮       ⋮               ⋮               ⋮\n",
       " 127 │ 5    0    -400   -200  -1000  -2982.52  CartesianIndex(2, 3)  563.887\n",
       " 128 │ 5    0    -200   -200  -1000  -2138.16  CartesianIndex(3, 3)  422.627\n",
       " 129 │ 3    0    -1600  -200  -1000  -3951.23  CartesianIndex(2, 4)  1100.41\n",
       " 130 │ 3    0    -1400  -200  -1000  -3687.9   CartesianIndex(2, 4)  1025.73\n",
       " 131 │ 3    0    -1200  -200  -1000  -3389.04  CartesianIndex(2, 4)  948.588\n",
       " 132 │ 3    0    -1000  -200  -1000  -3128.58  CartesianIndex(2, 4)  871.911\n",
       " 133 │ 3    0    -800   -200  -1000  -2806.86  CartesianIndex(2, 3)  707.511\n",
       " 134 │ 3    0    -600   -200  -1000  -2332.98  CartesianIndex(2, 3)  587.722\n",
       " 135 │ 3    0    -400   -200  -1000  -1874.99  CartesianIndex(2, 3)  469.926\n",
       " 136 │ 3    0    -200   -200  -1000  -1320.73  CartesianIndex(3, 3)  338.626\n",
       "\u001b[36m                                                             115 rows omitted\u001b[0m"
      ]
     },
     "execution_count": 6,
     "metadata": {},
     "output_type": "execute_result"
    }
   ],
   "source": [
    "df"
   ]
  },
  {
   "cell_type": "code",
   "execution_count": 7,
   "metadata": {},
   "outputs": [
    {
     "data": {
      "text/plain": [
       "\"nN_new.csv\""
      ]
     },
     "execution_count": 7,
     "metadata": {},
     "output_type": "execute_result"
    }
   ],
   "source": [
    "using CSV\n",
    "CSV.write(\"nN_new.csv\", df)"
   ]
  }
 ],
 "metadata": {
  "kernelspec": {
   "display_name": "Julia 1.8.2",
   "language": "julia",
   "name": "julia-1.8"
  },
  "language_info": {
   "file_extension": ".jl",
   "mimetype": "application/julia",
   "name": "julia",
   "version": "1.8.2"
  }
 },
 "nbformat": 4,
 "nbformat_minor": 2
}
