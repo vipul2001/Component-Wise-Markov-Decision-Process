{
 "cells": [
  {
   "cell_type": "code",
   "execution_count": 1,
   "metadata": {},
   "outputs": [],
   "source": [
    "using POMDPs, POMDPTools, QuickPOMDPs, MCTS, DiscreteValueIteration, POMDPSimulators, POMDPModels, POMDPPolicies\n",
    "using Distributions, Combinatorics, StaticArrays, D3Trees, Random\n",
    "using FileIO, JLD2, TickTock"
   ]
  },
  {
   "cell_type": "code",
   "execution_count": null,
   "metadata": {},
   "outputs": [],
   "source": []
  },
  {
   "cell_type": "code",
   "execution_count": 2,
   "metadata": {},
   "outputs": [],
   "source": [
    "action=[(0,0), (0,1), (1,1)]\n",
    "\n",
    "Number_level = 10;\n",
    "#Transition_matrix = [0.86 0.14 0.0 0.0; 0.0 0.83 0.17 0.0;0.0 0.0 0.89 0.11;1.0 0.0 0.0 0.0];\n",
    "\n",
    "failure_penalty = -1000.0;\n",
    "maintenance_penalty = -800.0;\n",
    "setup_cost = -300.0;\n",
    "normal_operation = 45.0;"
   ]
  },
  {
   "cell_type": "code",
   "execution_count": 3,
   "metadata": {},
   "outputs": [
    {
     "data": {
      "text/plain": [
       "reward (generic function with 3 methods)"
      ]
     },
     "execution_count": 3,
     "metadata": {},
     "output_type": "execute_result"
    }
   ],
   "source": [
    "function reward(s, a,k,s1=10, rng=23)       #s is a vector of number units at each level and a is the number of units we will repair\n",
    "    p=[sum(1-T[i,i,1,j] for i in 1:9) for j in 1:NumberUnits]/sum(sum(1-T[i,i,1,j] for i in 1:9) for j in 1:NumberUnits)   \n",
    "    if s==Number_level\n",
    "            r=failure_penalty  + normal_operation  ;\n",
    "        return r\n",
    "       end\n",
    "        r=0\n",
    "     if a==1\n",
    "        if s1>=s\n",
    "            crd = Categorical(T[s,:,1,k]);\n",
    "            s = rand(crd);\n",
    "            r = normal_operation ;\n",
    "         return r\n",
    "        else\n",
    "            return 0.0\n",
    "        end\n",
    "        end\n",
    "    if a==2\n",
    "        if s==1\n",
    "            crd = Categorical(T[s,:,1,k]);\n",
    "            s = rand(crd);\n",
    "            r= normal_operation   ;\n",
    "            return r\n",
    "        else\n",
    "        s1=deepcopy(s)\n",
    "        s=1\n",
    "        r = maintenance_penalty \n",
    "         crd = Categorical(T[s,:,1,k]);\n",
    "            s = rand(crd);\n",
    "            r+= normal_operation  ;\n",
    "#            r*=(s1/10);\n",
    "        return r\n",
    "        end\n",
    "    end\n",
    "    end"
   ]
  },
  {
   "cell_type": "code",
   "execution_count": 4,
   "metadata": {},
   "outputs": [],
   "source": [
    "s=1:Number_level;"
   ]
  },
  {
   "cell_type": "code",
   "execution_count": null,
   "metadata": {},
   "outputs": [],
   "source": []
  },
  {
   "cell_type": "code",
   "execution_count": 5,
   "metadata": {},
   "outputs": [],
   "source": [
    "T=zeros(Number_level,Number_level,2,100);"
   ]
  },
  {
   "cell_type": "code",
   "execution_count": 6,
   "metadata": {},
   "outputs": [],
   "source": [
    "for i in 1:100\n",
    "    fullname = \"TM_MATRIX/tm\"*string(i);\n",
    "    # generate_transition_matrix(Number_level, fullname) \n",
    "    Transition_matrix = load(fullname*\".jld2\",\"transition_matrix\");\n",
    "    \n",
    "    T[:,:,1,i].=Transition_matrix;\n",
    "    T[:,:,2,i].=Transition_matrix;\n",
    "    for j in 1:10\n",
    "        T[j,:,2,i].=Transition_matrix[1,:];\n",
    "        end\n",
    "    T[10,:,1,i].=Transition_matrix[1,:]\n",
    "T[10,:,2,i].=Transition_matrix[1,:]\n",
    "end"
   ]
  },
  {
   "cell_type": "code",
   "execution_count": 7,
   "metadata": {},
   "outputs": [
    {
     "data": {
      "text/plain": [
       "10×10×2×100 Array{Float64, 4}:\n",
       "[:, :, 1, 1] =\n",
       " 0.232649  0.229122  0.130585  0.0954644  …  0.0507595  0.0416229  0.00861626\n",
       " 0.0       0.218724  0.163234  0.128353      0.0899794  0.0431818  0.00868773\n",
       " 0.0       0.0       0.166395  0.182476      0.111027   0.0773355  0.043199\n",
       " 0.0       0.0       0.0       0.269557      0.125296   0.0981466  0.0533485\n",
       " 0.0       0.0       0.0       0.0           0.125828   0.109077   0.0611228\n",
       " 0.0       0.0       0.0       0.0        …  0.215491   0.17866    0.0619123\n",
       " 0.0       0.0       0.0       0.0           0.352355   0.221208   0.0646198\n",
       " 0.0       0.0       0.0       0.0           0.471891   0.449917   0.0781922\n",
       " 0.0       0.0       0.0       0.0           0.0        0.591116   0.408884\n",
       " 0.232649  0.229122  0.130585  0.0954644     0.0507595  0.0416229  0.00861626\n",
       "\n",
       "[:, :, 2, 1] =\n",
       " 0.232649  0.229122  0.130585  0.0954644  …  0.0507595  0.0416229  0.00861626\n",
       " 0.232649  0.229122  0.130585  0.0954644     0.0507595  0.0416229  0.00861626\n",
       " 0.232649  0.229122  0.130585  0.0954644     0.0507595  0.0416229  0.00861626\n",
       " 0.232649  0.229122  0.130585  0.0954644     0.0507595  0.0416229  0.00861626\n",
       " 0.232649  0.229122  0.130585  0.0954644     0.0507595  0.0416229  0.00861626\n",
       " 0.232649  0.229122  0.130585  0.0954644  …  0.0507595  0.0416229  0.00861626\n",
       " 0.232649  0.229122  0.130585  0.0954644     0.0507595  0.0416229  0.00861626\n",
       " 0.232649  0.229122  0.130585  0.0954644     0.0507595  0.0416229  0.00861626\n",
       " 0.232649  0.229122  0.130585  0.0954644     0.0507595  0.0416229  0.00861626\n",
       " 0.232649  0.229122  0.130585  0.0954644     0.0507595  0.0416229  0.00861626\n",
       "\n",
       "[:, :, 1, 2] =\n",
       " 0.212962  0.158675  0.136056  0.128197  …  0.0510937  0.03109    0.00158446\n",
       " 0.0       0.164122  0.189573  0.17217      0.0517214  0.0420907  0.00816652\n",
       " 0.0       0.0       0.238454  0.199822     0.0682588  0.0453598  0.0126467\n",
       " 0.0       0.0       0.0       0.276387     0.136441   0.0478742  0.0204146\n",
       " 0.0       0.0       0.0       0.0          0.172966   0.110902   0.0345267\n",
       " 0.0       0.0       0.0       0.0       …  0.254675   0.11988    0.117438\n",
       " 0.0       0.0       0.0       0.0          0.31858    0.189139   0.15414\n",
       " 0.0       0.0       0.0       0.0          0.49143    0.353574   0.154995\n",
       " 0.0       0.0       0.0       0.0          0.0        0.723977   0.276023\n",
       " 0.212962  0.158675  0.136056  0.128197     0.0510937  0.03109    0.00158446\n",
       "\n",
       "[:, :, 2, 2] =\n",
       " 0.212962  0.158675  0.136056  0.128197  …  0.0510937  0.03109  0.00158446\n",
       " 0.212962  0.158675  0.136056  0.128197     0.0510937  0.03109  0.00158446\n",
       " 0.212962  0.158675  0.136056  0.128197     0.0510937  0.03109  0.00158446\n",
       " 0.212962  0.158675  0.136056  0.128197     0.0510937  0.03109  0.00158446\n",
       " 0.212962  0.158675  0.136056  0.128197     0.0510937  0.03109  0.00158446\n",
       " 0.212962  0.158675  0.136056  0.128197  …  0.0510937  0.03109  0.00158446\n",
       " 0.212962  0.158675  0.136056  0.128197     0.0510937  0.03109  0.00158446\n",
       " 0.212962  0.158675  0.136056  0.128197     0.0510937  0.03109  0.00158446\n",
       " 0.212962  0.158675  0.136056  0.128197     0.0510937  0.03109  0.00158446\n",
       " 0.212962  0.158675  0.136056  0.128197     0.0510937  0.03109  0.00158446\n",
       "\n",
       "[:, :, 1, 3] =\n",
       " 0.245844  0.163624  0.150823  0.130603  …  0.0664246  0.016841   0.0100524\n",
       " 0.0       0.244531  0.158914  0.157056     0.0787359  0.050295   0.0138616\n",
       " 0.0       0.0       0.1907    0.196272     0.0944627  0.0547889  0.0208756\n",
       " 0.0       0.0       0.0       0.299301     0.0977531  0.0827681  0.027336\n",
       " 0.0       0.0       0.0       0.0          0.182888   0.144588   0.0498495\n",
       " 0.0       0.0       0.0       0.0       …  0.245338   0.170817   0.0630996\n",
       " 0.0       0.0       0.0       0.0          0.254358   0.231233   0.122036\n",
       " 0.0       0.0       0.0       0.0          0.394153   0.362603   0.243244\n",
       " 0.0       0.0       0.0       0.0          0.0        0.715668   0.284332\n",
       " 0.245844  0.163624  0.150823  0.130603     0.0664246  0.016841   0.0100524\n",
       "\n",
       "[:, :, 2, 3] =\n",
       " 0.245844  0.163624  0.150823  0.130603  …  0.0664246  0.016841  0.0100524\n",
       " 0.245844  0.163624  0.150823  0.130603     0.0664246  0.016841  0.0100524\n",
       " 0.245844  0.163624  0.150823  0.130603     0.0664246  0.016841  0.0100524\n",
       " 0.245844  0.163624  0.150823  0.130603     0.0664246  0.016841  0.0100524\n",
       " 0.245844  0.163624  0.150823  0.130603     0.0664246  0.016841  0.0100524\n",
       " 0.245844  0.163624  0.150823  0.130603  …  0.0664246  0.016841  0.0100524\n",
       " 0.245844  0.163624  0.150823  0.130603     0.0664246  0.016841  0.0100524\n",
       " 0.245844  0.163624  0.150823  0.130603     0.0664246  0.016841  0.0100524\n",
       " 0.245844  0.163624  0.150823  0.130603     0.0664246  0.016841  0.0100524\n",
       " 0.245844  0.163624  0.150823  0.130603     0.0664246  0.016841  0.0100524\n",
       "\n",
       ";;;; … \n",
       "\n",
       "[:, :, 1, 98] =\n",
       " 0.230737  0.185516  0.108135  0.106465  …  0.0560278  0.0311134  0.0236831\n",
       " 0.0       0.217539  0.171612  0.153616     0.0611005  0.046744   0.0285129\n",
       " 0.0       0.0       0.247783  0.172809     0.0845637  0.0674382  0.0329981\n",
       " 0.0       0.0       0.0       0.225198     0.129069   0.0811641  0.0508587\n",
       " 0.0       0.0       0.0       0.0          0.142055   0.11533    0.073373\n",
       " 0.0       0.0       0.0       0.0       …  0.230729   0.124757   0.0757793\n",
       " 0.0       0.0       0.0       0.0          0.33415    0.138976   0.109324\n",
       " 0.0       0.0       0.0       0.0          0.51657    0.367388   0.116042\n",
       " 0.0       0.0       0.0       0.0          0.0        0.737807   0.262193\n",
       " 0.230737  0.185516  0.108135  0.106465     0.0560278  0.0311134  0.0236831\n",
       "\n",
       "[:, :, 2, 98] =\n",
       " 0.230737  0.185516  0.108135  0.106465  …  0.0560278  0.0311134  0.0236831\n",
       " 0.230737  0.185516  0.108135  0.106465     0.0560278  0.0311134  0.0236831\n",
       " 0.230737  0.185516  0.108135  0.106465     0.0560278  0.0311134  0.0236831\n",
       " 0.230737  0.185516  0.108135  0.106465     0.0560278  0.0311134  0.0236831\n",
       " 0.230737  0.185516  0.108135  0.106465     0.0560278  0.0311134  0.0236831\n",
       " 0.230737  0.185516  0.108135  0.106465  …  0.0560278  0.0311134  0.0236831\n",
       " 0.230737  0.185516  0.108135  0.106465     0.0560278  0.0311134  0.0236831\n",
       " 0.230737  0.185516  0.108135  0.106465     0.0560278  0.0311134  0.0236831\n",
       " 0.230737  0.185516  0.108135  0.106465     0.0560278  0.0311134  0.0236831\n",
       " 0.230737  0.185516  0.108135  0.106465     0.0560278  0.0311134  0.0236831\n",
       "\n",
       "[:, :, 1, 99] =\n",
       " 0.237558  0.163063  0.146079  0.13414   …  0.047429   0.0164752  0.00248649\n",
       " 0.0       0.19425   0.156525  0.155465     0.0692986  0.0663349  0.00742309\n",
       " 0.0       0.0       0.195349  0.213164     0.09047    0.0725663  0.0302305\n",
       " 0.0       0.0       0.0       0.298702     0.104501   0.0728035  0.0318008\n",
       " 0.0       0.0       0.0       0.0          0.151347   0.13554    0.0604581\n",
       " 0.0       0.0       0.0       0.0       …  0.209804   0.20299    0.11827\n",
       " 0.0       0.0       0.0       0.0          0.25188    0.236099   0.141212\n",
       " 0.0       0.0       0.0       0.0          0.517735   0.330173   0.152092\n",
       " 0.0       0.0       0.0       0.0          0.0        0.781561   0.218439\n",
       " 0.237558  0.163063  0.146079  0.13414      0.047429   0.0164752  0.00248649\n",
       "\n",
       "[:, :, 2, 99] =\n",
       " 0.237558  0.163063  0.146079  0.13414  …  0.047429  0.0164752  0.00248649\n",
       " 0.237558  0.163063  0.146079  0.13414     0.047429  0.0164752  0.00248649\n",
       " 0.237558  0.163063  0.146079  0.13414     0.047429  0.0164752  0.00248649\n",
       " 0.237558  0.163063  0.146079  0.13414     0.047429  0.0164752  0.00248649\n",
       " 0.237558  0.163063  0.146079  0.13414     0.047429  0.0164752  0.00248649\n",
       " 0.237558  0.163063  0.146079  0.13414  …  0.047429  0.0164752  0.00248649\n",
       " 0.237558  0.163063  0.146079  0.13414     0.047429  0.0164752  0.00248649\n",
       " 0.237558  0.163063  0.146079  0.13414     0.047429  0.0164752  0.00248649\n",
       " 0.237558  0.163063  0.146079  0.13414     0.047429  0.0164752  0.00248649\n",
       " 0.237558  0.163063  0.146079  0.13414     0.047429  0.0164752  0.00248649\n",
       "\n",
       "[:, :, 1, 100] =\n",
       " 0.226842  0.175761  0.132676  0.129792  …  0.0447619  0.0149838  0.0128333\n",
       " 0.0       0.198493  0.17806   0.172516     0.0522646  0.0388187  0.0142706\n",
       " 0.0       0.0       0.210113  0.200383     0.0543273  0.0438259  0.0161362\n",
       " 0.0       0.0       0.0       0.24728      0.108078   0.0937962  0.032185\n",
       " 0.0       0.0       0.0       0.0          0.169675   0.169521   0.0693291\n",
       " 0.0       0.0       0.0       0.0       …  0.204861   0.194052   0.0725534\n",
       " 0.0       0.0       0.0       0.0          0.327944   0.263447   0.0789194\n",
       " 0.0       0.0       0.0       0.0          0.535489   0.33152    0.132991\n",
       " 0.0       0.0       0.0       0.0          0.0        0.637116   0.362884\n",
       " 0.226842  0.175761  0.132676  0.129792     0.0447619  0.0149838  0.0128333\n",
       "\n",
       "[:, :, 2, 100] =\n",
       " 0.226842  0.175761  0.132676  0.129792  …  0.0447619  0.0149838  0.0128333\n",
       " 0.226842  0.175761  0.132676  0.129792     0.0447619  0.0149838  0.0128333\n",
       " 0.226842  0.175761  0.132676  0.129792     0.0447619  0.0149838  0.0128333\n",
       " 0.226842  0.175761  0.132676  0.129792     0.0447619  0.0149838  0.0128333\n",
       " 0.226842  0.175761  0.132676  0.129792     0.0447619  0.0149838  0.0128333\n",
       " 0.226842  0.175761  0.132676  0.129792  …  0.0447619  0.0149838  0.0128333\n",
       " 0.226842  0.175761  0.132676  0.129792     0.0447619  0.0149838  0.0128333\n",
       " 0.226842  0.175761  0.132676  0.129792     0.0447619  0.0149838  0.0128333\n",
       " 0.226842  0.175761  0.132676  0.129792     0.0447619  0.0149838  0.0128333\n",
       " 0.226842  0.175761  0.132676  0.129792     0.0447619  0.0149838  0.0128333"
      ]
     },
     "execution_count": 7,
     "metadata": {},
     "output_type": "execute_result"
    }
   ],
   "source": [
    "T"
   ]
  },
  {
   "cell_type": "code",
   "execution_count": null,
   "metadata": {},
   "outputs": [],
   "source": []
  },
  {
   "cell_type": "code",
   "execution_count": null,
   "metadata": {},
   "outputs": [],
   "source": []
  },
  {
   "cell_type": "code",
   "execution_count": null,
   "metadata": {
    "scrolled": true
   },
   "outputs": [],
   "source": []
  },
  {
   "cell_type": "code",
   "execution_count": 8,
   "metadata": {},
   "outputs": [
    {
     "data": {
      "text/plain": [
       "generative (generic function with 2 methods)"
      ]
     },
     "execution_count": 8,
     "metadata": {},
     "output_type": "execute_result"
    }
   ],
   "source": [
    "function explore()\n",
    "    c=[1/3,1/3,1/3]\n",
    "\n",
    "     crd = Categorical(c);\n",
    "     return rand(crd)\n",
    "    end \n",
    "function generative(s, a,k, rng=23)       #s is a vector of number units at each level and a is the number of units we will repair\n",
    "        if s==Number_level\n",
    "        s=1\n",
    "        crd = Categorical(T[s,:,1,k]);\n",
    "            s = rand(crd);\n",
    "            r=failure_penalty  + normal_operation  ;\n",
    "        return (sp=s, r=r)\n",
    "       end\n",
    "        r=0\n",
    "     if a==1\n",
    "            crd = Categorical(T[s,:,1,k]);\n",
    "            s = rand(crd);\n",
    "            r = normal_operation ;\n",
    "         return (sp=s, r=r)\n",
    "        end\n",
    "    if a==2\n",
    "#         if s==1\n",
    "#             crd = Categorical(T[s,:,1,k]);\n",
    "#             s = rand(crd);\n",
    "#             r= normal_operation+  setup_cost/NumberUnits  ;\n",
    "#             return (sp=s, r=r)\n",
    "#         else\n",
    "        s1=deepcopy(s)\n",
    "        s=1\n",
    "        r = maintenance_penalty \n",
    "         crd = Categorical(T[s,:,1,k]);\n",
    "            s = rand(crd);\n",
    "            r+= normal_operation  ;\n",
    "#            r*=(s1/10);\n",
    "       return (sp=s, r=r)\n",
    "#         end\n",
    "    end\n",
    "    end"
   ]
  },
  {
   "cell_type": "code",
   "execution_count": 9,
   "metadata": {},
   "outputs": [
    {
     "data": {
      "text/plain": [
       "simulate! (generic function with 1 method)"
      ]
     },
     "execution_count": 9,
     "metadata": {},
     "output_type": "execute_result"
    }
   ],
   "source": [
    "function simulate!(V,a,T, s,S,γ, d)\n",
    "    if d ≤ 0\n",
    "        return sum(T[s,s1,1]*V[s1] for (s1) in S)\n",
    "    end\n",
    "#     a = explore()\n",
    "#     print(\"IN\")\n",
    "\n",
    "    s′, r = generative(s,a)\n",
    "    q = r + γ*simulate!(V,a,T, s′,S,γ, d-1)\n",
    "#     print(\"out\")\n",
    "#     N[s,a] += 1\n",
    "#     Q[s,a] += (q-Q[s,a])/N[s,a]\n",
    "    return q\n",
    "end"
   ]
  },
  {
   "cell_type": "code",
   "execution_count": null,
   "metadata": {},
   "outputs": [],
   "source": []
  },
  {
   "cell_type": "code",
   "execution_count": 10,
   "metadata": {},
   "outputs": [
    {
     "data": {
      "text/plain": [
       "ValueIteration (generic function with 3 methods)"
      ]
     },
     "execution_count": 10,
     "metadata": {},
     "output_type": "execute_result"
    }
   ],
   "source": [
    "function ValueIteration(S, T, γ, p1=0.01, d=100)\n",
    "    Q=zeros((Number_level,2,NumberUnits))\n",
    "#     print(Q)\n",
    "    V= rand(Float64, (Number_level,NumberUnits))*1000\n",
    "    diff=0\n",
    "    i=0\n",
    "    \n",
    "    \n",
    "\n",
    "    \n",
    "    \n",
    "   Threads.@threads for k in 1:NumberUnits\n",
    "        p=[1 1 1 ]\n",
    "    for i in 1:1500\n",
    "#     while  i<=10000\n",
    "    for s in 1:Number_level\n",
    "        for a in 1:2\n",
    "                Q[s,a,k]= (reward(s,a,k)) + γ*( sum(T[s,s1,a,k]*(V[s1,k]) for (s1) in 1:Number_level ))\n",
    "        end\n",
    "       V[s,k]=findmax(Q[s,1:2,k])[1]\n",
    "\n",
    "        end\n",
    "        \n",
    "        end\n",
    "    end\n",
    "#     println(Q)\n",
    "    return Q\n",
    "    end"
   ]
  },
  {
   "cell_type": "code",
   "execution_count": 11,
   "metadata": {},
   "outputs": [],
   "source": [
    "# function ValueIteration(S, T, γ, p1=0.01, d=100)\n",
    "#     Q=zeros((Number_level,3,NumberUnits)).+100\n",
    "# #     print(Q)\n",
    "#     V= rand(Float64, (Number_level,NumberUnits))*1000\n",
    "#     V1= rand(Float64, (Number_level,NumberUnits))*1000\n",
    "\n",
    "#     diff=0\n",
    "#     i=0\n",
    "    \n",
    "    \n",
    "\n",
    "    \n",
    "#      p=zeros(Float64, (Number_level,NumberUnits,3)).+(1/3)\n",
    "#     for k in 1:NumberUnits\n",
    "       \n",
    "#     for i in 1:500\n",
    "# #     while  i<=10000\n",
    "#     for s in 1:Number_level\n",
    "#         Threads.@threads for a in 1:3\n",
    "#                 Q[s,a,k]= (reward(s,a,k)) + γ*( sum(T[s,s1,a,k]*(V[s1,k]) for (s1) in 1:Number_level ))\n",
    "#         end\n",
    "#             p[s,k,:]=[exp(lamb*sum(Q[s,1,k])),exp(lamb*sum(Q[s,2,k])),exp(lamb*sum(Q[s,3,k]))]\n",
    "#             p[s,k,:]=p[s,k,:]./sum(p[s,k,:])\n",
    "# #        V[s,k]=Q[s,1,k]*p[s,k,1]+max(Q[s,2,k],Q[s,3,k])*(p[s,k,2]+p[s,k,3])\n",
    "#        V[s,k]=Q[s,1,k]*p[s,k,1]+max(Q[s,2,k],Q[s,3,k])*(p[s,k,2]+p[s,k,3])\n",
    "# #         for s in 1:Number_level\n",
    "# #         p1=[exp(lamb1*V[s,k]) for k in 1:NumberUnits]\n",
    "# #         p1=p1./sum(p1)\n",
    "# #         V[s,:].=sum([p1[k]*V[s,k] for k in 1:NumberUnits])\n",
    "# # #         V[s,:].=min(V[s,:]...)#/NumberUnits\n",
    "# #         end\n",
    "#         end\n",
    "# #         for s in 1:Number_level\n",
    "# # #         p1=[exp(lamb1*V1[s,k]) for k in 1:NumberUnits]\n",
    "# # #         p1=p1./sum(p1)\n",
    "# # #         V[s,:].=sum([p1[k]*V1[s,k] for k in 1:NumberUnits])\n",
    "# #         V[s,:].=mean(V1[s,:])#/NumberUnits\n",
    "# #         end\n",
    "#         end\n",
    "#     end\n",
    "#     return Q\n",
    "#     end"
   ]
  },
  {
   "cell_type": "code",
   "execution_count": 12,
   "metadata": {
    "scrolled": true
   },
   "outputs": [
    {
     "ename": "LoadError",
     "evalue": "UndefVarError: NumberUnits not defined",
     "output_type": "error",
     "traceback": [
      "UndefVarError: NumberUnits not defined",
      "",
      "Stacktrace:",
      " [1] ValueIteration(S::UnitRange{Int64}, T::Array{Float64, 4}, γ::Float64, p1::Float64, d::Int64)",
      "   @ Main .\\In[10]:2",
      " [2] top-level scope",
      "   @ In[12]:1"
     ]
    }
   ],
   "source": [
    " Q=ValueIteration(s,T,.95,0.01,3000)"
   ]
  },
  {
   "cell_type": "code",
   "execution_count": 13,
   "metadata": {
    "scrolled": true
   },
   "outputs": [
    {
     "ename": "LoadError",
     "evalue": "UndefVarError: NumberUnits not defined",
     "output_type": "error",
     "traceback": [
      "UndefVarError: NumberUnits not defined",
      "",
      "Stacktrace:",
      " [1] ValueIteration(S::UnitRange{Int64}, T::Array{Float64, 4}, γ::Float64, p1::Int64, d::Int64)",
      "   @ Main .\\In[10]:2",
      " [2] top-level scope",
      "   @ In[13]:2"
     ]
    }
   ],
   "source": [
    "global lamb=.1 \n",
    "Q=ValueIteration(s,T,.95,1,1000)"
   ]
  },
  {
   "cell_type": "code",
   "execution_count": null,
   "metadata": {
    "scrolled": true
   },
   "outputs": [],
   "source": []
  },
  {
   "cell_type": "code",
   "execution_count": 14,
   "metadata": {},
   "outputs": [
    {
     "data": {
      "text/plain": [
       "1:10"
      ]
     },
     "execution_count": 14,
     "metadata": {},
     "output_type": "execute_result"
    }
   ],
   "source": [
    "s"
   ]
  },
  {
   "cell_type": "code",
   "execution_count": null,
   "metadata": {},
   "outputs": [],
   "source": []
  },
  {
   "cell_type": "code",
   "execution_count": null,
   "metadata": {},
   "outputs": [],
   "source": []
  },
  {
   "cell_type": "code",
   "execution_count": null,
   "metadata": {},
   "outputs": [],
   "source": []
  },
  {
   "cell_type": "code",
   "execution_count": null,
   "metadata": {},
   "outputs": [],
   "source": []
  },
  {
   "cell_type": "code",
   "execution_count": 15,
   "metadata": {},
   "outputs": [
    {
     "data": {
      "text/plain": [
       "decison (generic function with 2 methods)"
      ]
     },
     "execution_count": 15,
     "metadata": {},
     "output_type": "execute_result"
    }
   ],
   "source": [
    "\n",
    "# function decison(Q, s)\n",
    "#    a_final=[]\n",
    "#    if Number_level in s\n",
    "# #         print(\"hi\")\n",
    "#         d=(collect(Iterators.product((Q[s[i],2:3] for i in 1:NumberUnits)...)))\n",
    "#         d1=(collect(Iterators.product((2:3 for i in 1:NumberUnits)...)))\n",
    "#         min=-1e+10\n",
    "#         opt=0\n",
    "#         for (i,j) in enumerate(d)\n",
    "#             if min < sum((j))\n",
    "#                 min=sum((j))\n",
    "#                 opt=i\n",
    "#             end\n",
    "#         end\n",
    "#         return d1[opt]\n",
    "#     end\n",
    "#     q0=0.0\n",
    "#     a_0=repeat(1:1,NumberUnits);\n",
    "#     for i in 1:NumberUnits\n",
    "#             q0+=Q[s[i],1]\n",
    "#     end\n",
    "#     d=(collect(Iterators.product((Q[s[i],2:3] for i in 1:NumberUnits)...)))\n",
    "#     d1=(collect(Iterators.product((2:3 for i in 1:NumberUnits)...)))\n",
    "# #     d[1]=a_0\n",
    "# #     print(\"here\")\n",
    "# #     d1[1]=(1,1,1,1,1,1,1,1,1,1)\n",
    "#     min=-1e+10\n",
    "#     opt=0\n",
    "#     for (i,j) in enumerate(d)\n",
    "#         if i==1\n",
    "#             if min < q0\n",
    "#             min=q0\n",
    "#             opt=i\n",
    "#         end\n",
    "#         elseif min < sum((j))\n",
    "#             min=sum((j))\n",
    "#             opt=i\n",
    "#         end\n",
    "#     end\n",
    "#     if opt==1\n",
    "#         return a_0\n",
    "#     else\n",
    "#         return d1[opt]\n",
    "#     end\n",
    "#     return opt\n",
    "# end\n",
    "\n",
    "\n",
    "function decison(Q, s,n=0.2)\n",
    " a_final=[]\n",
    "#         print(\"hi\")\n",
    "        for i in 1:NumberUnits\n",
    "#         println/(i)\n",
    "            append!(a_final,argmax(a->Q[s[i],a,i], [1,2]))\n",
    "            end\n",
    "        return a_final\n",
    "end"
   ]
  },
  {
   "cell_type": "code",
   "execution_count": 16,
   "metadata": {
    "scrolled": false
   },
   "outputs": [
    {
     "ename": "LoadError",
     "evalue": "UndefVarError: Q not defined",
     "output_type": "error",
     "traceback": [
      "UndefVarError: Q not defined",
      "",
      "Stacktrace:",
      " [1] top-level scope",
      "   @ In[16]:1"
     ]
    }
   ],
   "source": [
    "decison(Q,[8,8\n",
    "        ,8,8\n",
    "        ,1,1,6,1, 7,7,8,8\n",
    "        ,8,8\n",
    "        ,1,1,6,1, 7,7])"
   ]
  },
  {
   "cell_type": "code",
   "execution_count": 17,
   "metadata": {
    "scrolled": true
   },
   "outputs": [
    {
     "ename": "LoadError",
     "evalue": "UndefVarError: Q not defined",
     "output_type": "error",
     "traceback": [
      "UndefVarError: Q not defined",
      ""
     ]
    }
   ],
   "source": [
    "Q"
   ]
  },
  {
   "cell_type": "code",
   "execution_count": 18,
   "metadata": {},
   "outputs": [
    {
     "data": {
      "text/plain": [
       "1:10"
      ]
     },
     "execution_count": 18,
     "metadata": {},
     "output_type": "execute_result"
    }
   ],
   "source": [
    "s"
   ]
  },
  {
   "cell_type": "code",
   "execution_count": 19,
   "metadata": {},
   "outputs": [
    {
     "data": {
      "text/html": [
       "<div><div style = \"float: left;\"><span>0×8 DataFrame</span></div><div style = \"clear: both;\"></div></div><div class = \"data-frame\" style = \"overflow-x: scroll;\"><table class = \"data-frame\" style = \"margin-bottom: 6px;\"><thead><tr class = \"header\"><th class = \"rowNumber\" style = \"font-weight: bold; text-align: right;\">Row</th><th style = \"text-align: left;\">Units</th><th style = \"text-align: left;\">n</th><th style = \"text-align: left;\">s</th><th style = \"text-align: left;\">m</th><th style = \"text-align: left;\">f</th><th style = \"text-align: left;\">lambda</th><th style = \"text-align: left;\">mean</th><th style = \"text-align: left;\">std</th></tr><tr class = \"subheader headerLastRow\"><th class = \"rowNumber\" style = \"font-weight: bold; text-align: right;\"></th><th title = \"Any\" style = \"text-align: left;\">Any</th><th title = \"Any\" style = \"text-align: left;\">Any</th><th title = \"Any\" style = \"text-align: left;\">Any</th><th title = \"Any\" style = \"text-align: left;\">Any</th><th title = \"Any\" style = \"text-align: left;\">Any</th><th title = \"Any\" style = \"text-align: left;\">Any</th><th title = \"Any\" style = \"text-align: left;\">Any</th><th title = \"Any\" style = \"text-align: left;\">Any</th></tr></thead><tbody></tbody></table></div>"
      ],
      "text/latex": [
       "\\begin{tabular}{r|cccccccc}\n",
       "\t& Units & n & s & m & f & lambda & mean & std\\\\\n",
       "\t\\hline\n",
       "\t& Any & Any & Any & Any & Any & Any & Any & Any\\\\\n",
       "\t\\hline\n",
       "\\end{tabular}\n"
      ],
      "text/plain": [
       "\u001b[1m0×8 DataFrame\u001b[0m\n",
       "\u001b[1m Row \u001b[0m│\u001b[1m Units \u001b[0m\u001b[1m n   \u001b[0m\u001b[1m s   \u001b[0m\u001b[1m m   \u001b[0m\u001b[1m f   \u001b[0m\u001b[1m lambda \u001b[0m\u001b[1m mean \u001b[0m\u001b[1m std \u001b[0m\n",
       "     │\u001b[90m Any   \u001b[0m\u001b[90m Any \u001b[0m\u001b[90m Any \u001b[0m\u001b[90m Any \u001b[0m\u001b[90m Any \u001b[0m\u001b[90m Any    \u001b[0m\u001b[90m Any  \u001b[0m\u001b[90m Any \u001b[0m\n",
       "─────┴──────────────────────────────────────────────"
      ]
     },
     "execution_count": 19,
     "metadata": {},
     "output_type": "execute_result"
    }
   ],
   "source": [
    "using DataFrames\n",
    "df= DataFrame(Units=[],n=[],s=[],m=[],f=[],lambda=[],mean=[],std=[])"
   ]
  },
  {
   "cell_type": "code",
   "execution_count": 20,
   "metadata": {
    "scrolled": true
   },
   "outputs": [
    {
     "name": "stdout",
     "output_type": "stream",
     "text": [
      "60[0, -1000, -200, -1000]\n"
     ]
    },
    {
     "name": "stderr",
     "output_type": "stream",
     "text": [
      "\u001b[36m\u001b[1m[ \u001b[22m\u001b[39m\u001b[36m\u001b[1mInfo: \u001b[22m\u001b[39m started timer at: 2023-04-02T14:08:57.636\n"
     ]
    },
    {
     "name": "stdout",
     "output_type": "stream",
     "text": [
      "60\n",
      "1\n",
      "-104004.80613544049\n",
      "3747.0020955483433\n",
      "-------------------------\n",
      "60[0, -1200, -200, -1000]\n"
     ]
    },
    {
     "name": "stderr",
     "output_type": "stream",
     "text": [
      "\u001b[36m\u001b[1m[ \u001b[22m\u001b[39m\u001b[36m\u001b[1mInfo: \u001b[22m\u001b[39m          93.3068463s: 1 minute, 33 seconds, 306 milliseconds\n",
      "\u001b[36m\u001b[1m[ \u001b[22m\u001b[39m\u001b[36m\u001b[1mInfo: \u001b[22m\u001b[39m started timer at: 2023-04-02T14:15:23.692\n"
     ]
    },
    {
     "name": "stdout",
     "output_type": "stream",
     "text": [
      "60\n",
      "1\n",
      "-107839.62189725235\n",
      "3737.347210558693\n",
      "-------------------------"
     ]
    },
    {
     "name": "stderr",
     "output_type": "stream",
     "text": [
      "\u001b[36m\u001b[1m[ \u001b[22m\u001b[39m\u001b[36m\u001b[1mInfo: \u001b[22m\u001b[39m          91.3950168s: 1 minute, 31 seconds, 395 milliseconds\n"
     ]
    },
    {
     "name": "stdout",
     "output_type": "stream",
     "text": [
      "\n",
      "60[0, -1000, -200, -1400]\n"
     ]
    },
    {
     "name": "stderr",
     "output_type": "stream",
     "text": [
      "\u001b[36m\u001b[1m[ \u001b[22m\u001b[39m\u001b[36m\u001b[1mInfo: \u001b[22m\u001b[39m started timer at: 2023-04-02T14:21:48.412\n"
     ]
    },
    {
     "name": "stdout",
     "output_type": "stream",
     "text": [
      "60\n",
      "1\n",
      "-118129.64318247767\n",
      "4698.001860817273\n"
     ]
    },
    {
     "name": "stderr",
     "output_type": "stream",
     "text": [
      "\u001b[36m\u001b[1m[ \u001b[22m\u001b[39m\u001b[36m\u001b[1mInfo: \u001b[22m\u001b[39m          87.7050641s: 1 minute, 27 seconds, 705 milliseconds\n"
     ]
    },
    {
     "name": "stdout",
     "output_type": "stream",
     "text": [
      "-------------------------\n",
      "60[0, -1000, -200, -1600]\n"
     ]
    },
    {
     "name": "stderr",
     "output_type": "stream",
     "text": [
      "\u001b[36m\u001b[1m[ \u001b[22m\u001b[39m\u001b[36m\u001b[1mInfo: \u001b[22m\u001b[39m started timer at: 2023-04-02T14:28:10.031\n"
     ]
    },
    {
     "name": "stdout",
     "output_type": "stream",
     "text": [
      "60\n",
      "1\n",
      "-123860.90458108982\n",
      "5148.897523319652\n",
      "-------------------------\n",
      "50[0, -1000, -200, -1000]\n"
     ]
    },
    {
     "name": "stderr",
     "output_type": "stream",
     "text": [
      "\u001b[36m\u001b[1m[ \u001b[22m\u001b[39m\u001b[36m\u001b[1mInfo: \u001b[22m\u001b[39m          91.4579779s: 1 minute, 31 seconds, 457 milliseconds\n",
      "\u001b[36m\u001b[1m[ \u001b[22m\u001b[39m\u001b[36m\u001b[1mInfo: \u001b[22m\u001b[39m started timer at: 2023-04-02T14:33:08.182\n"
     ]
    },
    {
     "name": "stdout",
     "output_type": "stream",
     "text": [
      "50\n",
      "1\n",
      "-90259.26641911779\n",
      "3443.1932752644097\n",
      "-------------------------\n",
      "50[0, -1200, -200, -1000]\n"
     ]
    },
    {
     "name": "stderr",
     "output_type": "stream",
     "text": [
      "\u001b[36m\u001b[1m[ \u001b[22m\u001b[39m\u001b[36m\u001b[1mInfo: \u001b[22m\u001b[39m           76.309961s: 1 minute, 16 seconds, 309 milliseconds\n",
      "\u001b[36m\u001b[1m[ \u001b[22m\u001b[39m\u001b[36m\u001b[1mInfo: \u001b[22m\u001b[39m started timer at: 2023-04-02T14:37:51.365\n"
     ]
    },
    {
     "name": "stdout",
     "output_type": "stream",
     "text": [
      "50\n",
      "1\n",
      "-93988.72195506177\n",
      "3497.2632272928586\n",
      "-------------------------\n",
      "50[0, -1000"
     ]
    },
    {
     "name": "stderr",
     "output_type": "stream",
     "text": [
      "\u001b[36m\u001b[1m[ \u001b[22m\u001b[39m\u001b[36m\u001b[1mInfo: \u001b[22m\u001b[39m          76.4359095s: 1 minute, 16 seconds, 435 milliseconds\n"
     ]
    },
    {
     "name": "stdout",
     "output_type": "stream",
     "text": [
      ", -200, -1400]\n"
     ]
    },
    {
     "name": "stderr",
     "output_type": "stream",
     "text": [
      "\u001b[36m\u001b[1m[ \u001b[22m\u001b[39m\u001b[36m\u001b[1mInfo: \u001b[22m\u001b[39m started timer at: 2023-04-02T14:42:35.821\n"
     ]
    },
    {
     "name": "stdout",
     "output_type": "stream",
     "text": [
      "50\n",
      "1\n",
      "-102332.94023610964\n",
      "4446.699256547157\n",
      "-------------------------\n",
      "50[0, -1000, -200, -1600]\n"
     ]
    },
    {
     "name": "stderr",
     "output_type": "stream",
     "text": [
      "\u001b[36m\u001b[1m[ \u001b[22m\u001b[39m\u001b[36m\u001b[1mInfo: \u001b[22m\u001b[39m          76.4034286s: 1 minute, 16 seconds, 403 milliseconds\n",
      "\u001b[36m\u001b[1m[ \u001b[22m\u001b[39m\u001b[36m\u001b[1mInfo: \u001b[22m\u001b[39m started timer at: 2023-04-02T14:47:19.802\n"
     ]
    },
    {
     "name": "stdout",
     "output_type": "stream",
     "text": [
      "50\n",
      "1\n",
      "-107189.02945386589\n",
      "4731.0031342092425\n",
      "-------------------------\n",
      "40[0, -1000, -200, -1000]\n"
     ]
    },
    {
     "name": "stderr",
     "output_type": "stream",
     "text": [
      "\u001b[36m\u001b[1m[ \u001b[22m\u001b[39m\u001b[36m\u001b[1mInfo: \u001b[22m\u001b[39m          76.4410658s: 1 minute, 16 seconds, 441 milliseconds\n",
      "\u001b[36m\u001b[1m[ \u001b[22m\u001b[39m\u001b[36m\u001b[1mInfo: \u001b[22m\u001b[39m started timer at: 2023-04-02T14:50:42.252\n"
     ]
    },
    {
     "name": "stdout",
     "output_type": "stream",
     "text": [
      "40\n",
      "1\n",
      "-75844.89708231868\n",
      "3074.007927414623\n"
     ]
    },
    {
     "name": "stderr",
     "output_type": "stream",
     "text": [
      "\u001b[36m\u001b[1m[ \u001b[22m\u001b[39m\u001b[36m\u001b[1mInfo: \u001b[22m\u001b[39m          60.9414785s: 1 minute, 941 milliseconds\n"
     ]
    },
    {
     "name": "stdout",
     "output_type": "stream",
     "text": [
      "-------------------------\n",
      "40[0, -1200, -200, -1000]\n"
     ]
    },
    {
     "name": "stderr",
     "output_type": "stream",
     "text": [
      "\u001b[36m\u001b[1m[ \u001b[22m\u001b[39m\u001b[36m\u001b[1mInfo: \u001b[22m\u001b[39m started timer at: 2023-04-02T14:53:50.743\n"
     ]
    },
    {
     "name": "stdout",
     "output_type": "stream",
     "text": [
      "40\n",
      "1\n",
      "-79549.14831788288\n",
      "3081.8122604963096\n"
     ]
    },
    {
     "name": "stderr",
     "output_type": "stream",
     "text": [
      "\u001b[36m\u001b[1m[ \u001b[22m\u001b[39m\u001b[36m\u001b[1mInfo: \u001b[22m\u001b[39m          59.2871277s: 59 seconds, 287 milliseconds\n"
     ]
    },
    {
     "name": "stdout",
     "output_type": "stream",
     "text": [
      "-------------------------\n",
      "40[0, -1000, -200, -1400]\n"
     ]
    },
    {
     "name": "stderr",
     "output_type": "stream",
     "text": [
      "\u001b[36m\u001b[1m[ \u001b[22m\u001b[39m\u001b[36m\u001b[1mInfo: \u001b[22m\u001b[39m started timer at: 2023-04-02T14:57:08.524\n"
     ]
    },
    {
     "name": "stdout",
     "output_type": "stream",
     "text": [
      "40\n",
      "1\n",
      "-85241.58204968614\n",
      "3912.0695292061932\n",
      "-------------------------"
     ]
    },
    {
     "name": "stderr",
     "output_type": "stream",
     "text": [
      "\u001b[36m\u001b[1m[ \u001b[22m\u001b[39m\u001b[36m\u001b[1mInfo: \u001b[22m\u001b[39m          61.0549758s: 1 minute, 1 second, 54 milliseconds\n"
     ]
    },
    {
     "name": "stdout",
     "output_type": "stream",
     "text": [
      "\n",
      "40[0, -1000, -200, -1600]\n"
     ]
    },
    {
     "name": "stderr",
     "output_type": "stream",
     "text": [
      "\u001b[36m\u001b[1m[ \u001b[22m\u001b[39m\u001b[36m\u001b[1mInfo: \u001b[22m\u001b[39m started timer at: 2023-04-02T15:00:13.968\n"
     ]
    },
    {
     "name": "stdout",
     "output_type": "stream",
     "text": [
      "40\n",
      "1\n",
      "-89282.24126592383\n",
      "4277.613608898447\n",
      "-------------------------\n",
      "30[0, -1000, -200, -1000]\n"
     ]
    },
    {
     "name": "stderr",
     "output_type": "stream",
     "text": [
      "\u001b[36m\u001b[1m[ \u001b[22m\u001b[39m\u001b[36m\u001b[1mInfo: \u001b[22m\u001b[39m          60.9953938s: 1 minute, 995 milliseconds\n",
      "\u001b[36m\u001b[1m[ \u001b[22m\u001b[39m\u001b[36m\u001b[1mInfo: \u001b[22m\u001b[39m started timer at: 2023-04-02T15:02:30.378\n"
     ]
    },
    {
     "name": "stdout",
     "output_type": "stream",
     "text": [
      "30\n",
      "1\n",
      "-63384.32319557967\n",
      "2678.8645631915947\n",
      "-------------------------\n",
      "30"
     ]
    },
    {
     "name": "stderr",
     "output_type": "stream",
     "text": [
      "\u001b[36m\u001b[1m[ \u001b[22m\u001b[39m\u001b[36m\u001b[1mInfo: \u001b[22m\u001b[39m          43.5158817s: 43 seconds, 515 milliseconds\n"
     ]
    },
    {
     "name": "stdout",
     "output_type": "stream",
     "text": [
      "[0, -1200, -200, -1000]\n"
     ]
    },
    {
     "name": "stderr",
     "output_type": "stream",
     "text": [
      "\u001b[36m\u001b[1m[ \u001b[22m\u001b[39m\u001b[36m\u001b[1mInfo: \u001b[22m\u001b[39m started timer at: 2023-04-02T15:04:27.924\n"
     ]
    },
    {
     "name": "stdout",
     "output_type": "stream",
     "text": [
      "30\n",
      "1\n",
      "-67135.3036015796\n",
      "2702.709654564808\n",
      "-------------------------\n",
      "30[0, -1000, -200, -1400]\n"
     ]
    },
    {
     "name": "stderr",
     "output_type": "stream",
     "text": [
      "\u001b[36m\u001b[1m[ \u001b[22m\u001b[39m\u001b[36m\u001b[1mInfo: \u001b[22m\u001b[39m          45.5006916s: 45 seconds, 500 milliseconds\n",
      "\u001b[36m\u001b[1m[ \u001b[22m\u001b[39m\u001b[36m\u001b[1mInfo: \u001b[22m\u001b[39m started timer at: 2023-04-02T15:06:28.365\n"
     ]
    },
    {
     "name": "stdout",
     "output_type": "stream",
     "text": [
      "30\n",
      "1\n",
      "-70415.76060368506\n",
      "3388.27168580949\n"
     ]
    },
    {
     "name": "stderr",
     "output_type": "stream",
     "text": [
      "\u001b[36m\u001b[1m[ \u001b[22m\u001b[39m\u001b[36m\u001b[1mInfo: \u001b[22m\u001b[39m          45.7883273s: 45 seconds, 788 milliseconds\n"
     ]
    },
    {
     "name": "stdout",
     "output_type": "stream",
     "text": [
      "-------------------------\n",
      "30[0, -1000, -200, -1600]\n"
     ]
    },
    {
     "name": "stderr",
     "output_type": "stream",
     "text": [
      "\u001b[36m\u001b[1m[ \u001b[22m\u001b[39m\u001b[36m\u001b[1mInfo: \u001b[22m\u001b[39m started timer at: 2023-04-02T15:08:25.434\n"
     ]
    },
    {
     "name": "stdout",
     "output_type": "stream",
     "text": [
      "30\n",
      "1\n",
      "-73521.15275638139\n",
      "3711.1828925813147\n",
      "-------------------------\n",
      "20[0, -1000, -200, -1000]\n"
     ]
    },
    {
     "name": "stderr",
     "output_type": "stream",
     "text": [
      "\u001b[36m\u001b[1m[ \u001b[22m\u001b[39m\u001b[36m\u001b[1mInfo: \u001b[22m\u001b[39m          45.2871075s: 45 seconds, 287 milliseconds\n",
      "\u001b[36m\u001b[1m[ \u001b[22m\u001b[39m\u001b[36m\u001b[1mInfo: \u001b[22m\u001b[39m started timer at: 2023-04-02T15:09:46.789\n"
     ]
    },
    {
     "name": "stdout",
     "output_type": "stream",
     "text": [
      "20\n",
      "1\n",
      "-48378.740595289055\n",
      "2265.4552104632226\n",
      "-------------------------\n",
      "20[0, -1200, -200, -1000]\n"
     ]
    },
    {
     "name": "stderr",
     "output_type": "stream",
     "text": [
      "\u001b[36m\u001b[1m[ \u001b[22m\u001b[39m\u001b[36m\u001b[1mInfo: \u001b[22m\u001b[39m          30.8080058s: 30 seconds, 808 milliseconds\n",
      "\u001b[36m\u001b[1m[ \u001b[22m\u001b[39m\u001b[36m\u001b[1mInfo: \u001b[22m\u001b[39m started timer at: 2023-04-02T15:10:53.236\n"
     ]
    },
    {
     "name": "stdout",
     "output_type": "stream",
     "text": [
      "20\n",
      "1\n",
      "-52100.231235344385\n",
      "2263.581010310045\n"
     ]
    },
    {
     "name": "stderr",
     "output_type": "stream",
     "text": [
      "\u001b[36m\u001b[1m[ \u001b[22m\u001b[39m\u001b[36m\u001b[1mInfo: \u001b[22m\u001b[39m           30.706682s: 30 seconds, 706 milliseconds\n"
     ]
    },
    {
     "name": "stdout",
     "output_type": "stream",
     "text": [
      "-------------------------\n",
      "20[0, -1000, -200, -1400]\n"
     ]
    },
    {
     "name": "stderr",
     "output_type": "stream",
     "text": [
      "\u001b[36m\u001b[1m[ \u001b[22m\u001b[39m\u001b[36m\u001b[1mInfo: \u001b[22m\u001b[39m started timer at: 2023-04-02T15:11:59.698\n"
     ]
    },
    {
     "name": "stdout",
     "output_type": "stream",
     "text": [
      "20\n",
      "1\n",
      "-53296.10982618733\n",
      "2916.5412716679043\n",
      "-------------------------\n",
      "20[0"
     ]
    },
    {
     "name": "stderr",
     "output_type": "stream",
     "text": [
      "\u001b[36m\u001b[1m[ \u001b[22m\u001b[39m\u001b[36m\u001b[1mInfo: \u001b[22m\u001b[39m          27.9988228s: 27 seconds, 998 milliseconds\n"
     ]
    },
    {
     "name": "stdout",
     "output_type": "stream",
     "text": [
      ", -1000, -200, -1600]\n"
     ]
    },
    {
     "name": "stderr",
     "output_type": "stream",
     "text": [
      "\u001b[36m\u001b[1m[ \u001b[22m\u001b[39m\u001b[36m\u001b[1mInfo: \u001b[22m\u001b[39m started timer at: 2023-04-02T15:13:03.113\n"
     ]
    },
    {
     "name": "stdout",
     "output_type": "stream",
     "text": [
      "20\n",
      "1\n",
      "-55390.2108401892\n",
      "3095.2940479918007\n",
      "-------------------------\n"
     ]
    },
    {
     "name": "stderr",
     "output_type": "stream",
     "text": [
      "\u001b[36m\u001b[1m[ \u001b[22m\u001b[39m\u001b[36m\u001b[1mInfo: \u001b[22m\u001b[39m          30.7592844s: 30 seconds, 759 milliseconds\n"
     ]
    }
   ],
   "source": [
    "cost=[ \n",
    "    [0 -1000 -200 -1000],\n",
    "    [0 -1200 -200 -1000],\n",
    "    [0 -1000 -200 -1400],\n",
    "    [0 -1000 -200 -1600]\n",
    "    \n",
    "    ]\n",
    "\n",
    "# print(Q)\n",
    "\n",
    "for units in [60,50,40,30,20]\n",
    "    for c in cost\n",
    "   print(units)  \n",
    "    global normal_operation,setup_cost,maintenance_penalty,failure_penalty=c\n",
    "     println([normal_operation,setup_cost,maintenance_penalty,failure_penalty])   \n",
    "     for lambda in 1:1:1\n",
    "        global  lamb=lambda\n",
    "    global NumberUnits=units\n",
    "     Q=ValueIteration(s,T,.95,3000)\n",
    "#          println(isnan(Q[1,1]))\n",
    "#        if sum(isnan(Q[1,1]))>0.0\n",
    "#             continue\n",
    "#         end\n",
    "tick()\n",
    "trials=10000;\n",
    "simsteps = 100;\n",
    "results=zeros(trials)*0.1\n",
    "Threads.@threads for h in 1:trials\n",
    "s=repeat(1:1,NumberUnits)\n",
    "r1=[]\n",
    "a1=[]   \n",
    "r=repeat(1:1,NumberUnits)*1.0\n",
    " for k in 1:simsteps\n",
    "    a =decison(Q,s)\n",
    "    r2=0.0\n",
    "    s1=repeat(1:1,NumberUnits)\n",
    "              \n",
    "            \n",
    "#     println(a)\n",
    "    for i in 1:NumberUnits\n",
    "#             print(generative(s[i],a[i],i))\n",
    "         s1[i],r[i]=generative(s[i],a[i],i);\n",
    "          r2+=r[i]\n",
    "            end \n",
    "#     println(r2)\n",
    "#     println(s)\n",
    "    if (Number_level in s) || (2 in a)\n",
    "            r2+=setup_cost\n",
    "                    end\n",
    "    s=s1;\n",
    "    append!(a1,a)\n",
    "    append!(r1,r2)\n",
    "end\n",
    "rk=0\n",
    "for i in 1:simsteps\n",
    "    rk=0.95*rk+r1[simsteps-i+1]\n",
    "end\n",
    "#     println(rk)\n",
    "    results[h]=rk\n",
    "#     println(results)\n",
    "end\n",
    "println(units)\n",
    "println(lambda)\n",
    "\n",
    "println(mean(results))\n",
    "\n",
    "println(std(results))\n",
    "pushfirst!(df,[units,normal_operation,setup_cost,maintenance_penalty,failure_penalty,lamb,mean(results),std(results)])\n",
    "        \n",
    "tock()\n",
    "end\n",
    "    println(\"-------------------------\")\n",
    "end\n",
    "end"
   ]
  },
  {
   "cell_type": "code",
   "execution_count": null,
   "metadata": {},
   "outputs": [],
   "source": []
  },
  {
   "cell_type": "code",
   "execution_count": 21,
   "metadata": {
    "scrolled": true
   },
   "outputs": [
    {
     "data": {
      "text/html": [
       "<div><div style = \"float: left;\"><span>20×8 DataFrame</span></div><div style = \"clear: both;\"></div></div><div class = \"data-frame\" style = \"overflow-x: scroll;\"><table class = \"data-frame\" style = \"margin-bottom: 6px;\"><thead><tr class = \"header\"><th class = \"rowNumber\" style = \"font-weight: bold; text-align: right;\">Row</th><th style = \"text-align: left;\">Units</th><th style = \"text-align: left;\">n</th><th style = \"text-align: left;\">s</th><th style = \"text-align: left;\">m</th><th style = \"text-align: left;\">f</th><th style = \"text-align: left;\">lambda</th><th style = \"text-align: left;\">mean</th><th style = \"text-align: left;\">std</th></tr><tr class = \"subheader headerLastRow\"><th class = \"rowNumber\" style = \"font-weight: bold; text-align: right;\"></th><th title = \"Any\" style = \"text-align: left;\">Any</th><th title = \"Any\" style = \"text-align: left;\">Any</th><th title = \"Any\" style = \"text-align: left;\">Any</th><th title = \"Any\" style = \"text-align: left;\">Any</th><th title = \"Any\" style = \"text-align: left;\">Any</th><th title = \"Any\" style = \"text-align: left;\">Any</th><th title = \"Any\" style = \"text-align: left;\">Any</th><th title = \"Any\" style = \"text-align: left;\">Any</th></tr></thead><tbody><tr><td class = \"rowNumber\" style = \"font-weight: bold; text-align: right;\">1</td><td style = \"text-align: left;\">20.0</td><td style = \"text-align: left;\">0.0</td><td style = \"text-align: left;\">-1000.0</td><td style = \"text-align: left;\">-200.0</td><td style = \"text-align: left;\">-1600.0</td><td style = \"text-align: left;\">1.0</td><td style = \"text-align: left;\">-55390.2</td><td style = \"text-align: left;\">3095.29</td></tr><tr><td class = \"rowNumber\" style = \"font-weight: bold; text-align: right;\">2</td><td style = \"text-align: left;\">20.0</td><td style = \"text-align: left;\">0.0</td><td style = \"text-align: left;\">-1000.0</td><td style = \"text-align: left;\">-200.0</td><td style = \"text-align: left;\">-1400.0</td><td style = \"text-align: left;\">1.0</td><td style = \"text-align: left;\">-53296.1</td><td style = \"text-align: left;\">2916.54</td></tr><tr><td class = \"rowNumber\" style = \"font-weight: bold; text-align: right;\">3</td><td style = \"text-align: left;\">20.0</td><td style = \"text-align: left;\">0.0</td><td style = \"text-align: left;\">-1200.0</td><td style = \"text-align: left;\">-200.0</td><td style = \"text-align: left;\">-1000.0</td><td style = \"text-align: left;\">1.0</td><td style = \"text-align: left;\">-52100.2</td><td style = \"text-align: left;\">2263.58</td></tr><tr><td class = \"rowNumber\" style = \"font-weight: bold; text-align: right;\">4</td><td style = \"text-align: left;\">20.0</td><td style = \"text-align: left;\">0.0</td><td style = \"text-align: left;\">-1000.0</td><td style = \"text-align: left;\">-200.0</td><td style = \"text-align: left;\">-1000.0</td><td style = \"text-align: left;\">1.0</td><td style = \"text-align: left;\">-48378.7</td><td style = \"text-align: left;\">2265.46</td></tr><tr><td class = \"rowNumber\" style = \"font-weight: bold; text-align: right;\">5</td><td style = \"text-align: left;\">30.0</td><td style = \"text-align: left;\">0.0</td><td style = \"text-align: left;\">-1000.0</td><td style = \"text-align: left;\">-200.0</td><td style = \"text-align: left;\">-1600.0</td><td style = \"text-align: left;\">1.0</td><td style = \"text-align: left;\">-73521.2</td><td style = \"text-align: left;\">3711.18</td></tr><tr><td class = \"rowNumber\" style = \"font-weight: bold; text-align: right;\">6</td><td style = \"text-align: left;\">30.0</td><td style = \"text-align: left;\">0.0</td><td style = \"text-align: left;\">-1000.0</td><td style = \"text-align: left;\">-200.0</td><td style = \"text-align: left;\">-1400.0</td><td style = \"text-align: left;\">1.0</td><td style = \"text-align: left;\">-70415.8</td><td style = \"text-align: left;\">3388.27</td></tr><tr><td class = \"rowNumber\" style = \"font-weight: bold; text-align: right;\">7</td><td style = \"text-align: left;\">30.0</td><td style = \"text-align: left;\">0.0</td><td style = \"text-align: left;\">-1200.0</td><td style = \"text-align: left;\">-200.0</td><td style = \"text-align: left;\">-1000.0</td><td style = \"text-align: left;\">1.0</td><td style = \"text-align: left;\">-67135.3</td><td style = \"text-align: left;\">2702.71</td></tr><tr><td class = \"rowNumber\" style = \"font-weight: bold; text-align: right;\">8</td><td style = \"text-align: left;\">30.0</td><td style = \"text-align: left;\">0.0</td><td style = \"text-align: left;\">-1000.0</td><td style = \"text-align: left;\">-200.0</td><td style = \"text-align: left;\">-1000.0</td><td style = \"text-align: left;\">1.0</td><td style = \"text-align: left;\">-63384.3</td><td style = \"text-align: left;\">2678.86</td></tr><tr><td class = \"rowNumber\" style = \"font-weight: bold; text-align: right;\">9</td><td style = \"text-align: left;\">40.0</td><td style = \"text-align: left;\">0.0</td><td style = \"text-align: left;\">-1000.0</td><td style = \"text-align: left;\">-200.0</td><td style = \"text-align: left;\">-1600.0</td><td style = \"text-align: left;\">1.0</td><td style = \"text-align: left;\">-89282.2</td><td style = \"text-align: left;\">4277.61</td></tr><tr><td class = \"rowNumber\" style = \"font-weight: bold; text-align: right;\">10</td><td style = \"text-align: left;\">40.0</td><td style = \"text-align: left;\">0.0</td><td style = \"text-align: left;\">-1000.0</td><td style = \"text-align: left;\">-200.0</td><td style = \"text-align: left;\">-1400.0</td><td style = \"text-align: left;\">1.0</td><td style = \"text-align: left;\">-85241.6</td><td style = \"text-align: left;\">3912.07</td></tr><tr><td class = \"rowNumber\" style = \"font-weight: bold; text-align: right;\">11</td><td style = \"text-align: left;\">40.0</td><td style = \"text-align: left;\">0.0</td><td style = \"text-align: left;\">-1200.0</td><td style = \"text-align: left;\">-200.0</td><td style = \"text-align: left;\">-1000.0</td><td style = \"text-align: left;\">1.0</td><td style = \"text-align: left;\">-79549.1</td><td style = \"text-align: left;\">3081.81</td></tr><tr><td class = \"rowNumber\" style = \"font-weight: bold; text-align: right;\">12</td><td style = \"text-align: left;\">40.0</td><td style = \"text-align: left;\">0.0</td><td style = \"text-align: left;\">-1000.0</td><td style = \"text-align: left;\">-200.0</td><td style = \"text-align: left;\">-1000.0</td><td style = \"text-align: left;\">1.0</td><td style = \"text-align: left;\">-75844.9</td><td style = \"text-align: left;\">3074.01</td></tr><tr><td class = \"rowNumber\" style = \"font-weight: bold; text-align: right;\">13</td><td style = \"text-align: left;\">50.0</td><td style = \"text-align: left;\">0.0</td><td style = \"text-align: left;\">-1000.0</td><td style = \"text-align: left;\">-200.0</td><td style = \"text-align: left;\">-1600.0</td><td style = \"text-align: left;\">1.0</td><td style = \"text-align: left;\">-107189.0</td><td style = \"text-align: left;\">4731.0</td></tr><tr><td class = \"rowNumber\" style = \"font-weight: bold; text-align: right;\">14</td><td style = \"text-align: left;\">50.0</td><td style = \"text-align: left;\">0.0</td><td style = \"text-align: left;\">-1000.0</td><td style = \"text-align: left;\">-200.0</td><td style = \"text-align: left;\">-1400.0</td><td style = \"text-align: left;\">1.0</td><td style = \"text-align: left;\">-1.02333e5</td><td style = \"text-align: left;\">4446.7</td></tr><tr><td class = \"rowNumber\" style = \"font-weight: bold; text-align: right;\">15</td><td style = \"text-align: left;\">50.0</td><td style = \"text-align: left;\">0.0</td><td style = \"text-align: left;\">-1200.0</td><td style = \"text-align: left;\">-200.0</td><td style = \"text-align: left;\">-1000.0</td><td style = \"text-align: left;\">1.0</td><td style = \"text-align: left;\">-93988.7</td><td style = \"text-align: left;\">3497.26</td></tr><tr><td class = \"rowNumber\" style = \"font-weight: bold; text-align: right;\">16</td><td style = \"text-align: left;\">50.0</td><td style = \"text-align: left;\">0.0</td><td style = \"text-align: left;\">-1000.0</td><td style = \"text-align: left;\">-200.0</td><td style = \"text-align: left;\">-1000.0</td><td style = \"text-align: left;\">1.0</td><td style = \"text-align: left;\">-90259.3</td><td style = \"text-align: left;\">3443.19</td></tr><tr><td class = \"rowNumber\" style = \"font-weight: bold; text-align: right;\">17</td><td style = \"text-align: left;\">60.0</td><td style = \"text-align: left;\">0.0</td><td style = \"text-align: left;\">-1000.0</td><td style = \"text-align: left;\">-200.0</td><td style = \"text-align: left;\">-1600.0</td><td style = \"text-align: left;\">1.0</td><td style = \"text-align: left;\">-1.23861e5</td><td style = \"text-align: left;\">5148.9</td></tr><tr><td class = \"rowNumber\" style = \"font-weight: bold; text-align: right;\">18</td><td style = \"text-align: left;\">60.0</td><td style = \"text-align: left;\">0.0</td><td style = \"text-align: left;\">-1000.0</td><td style = \"text-align: left;\">-200.0</td><td style = \"text-align: left;\">-1400.0</td><td style = \"text-align: left;\">1.0</td><td style = \"text-align: left;\">-1.1813e5</td><td style = \"text-align: left;\">4698.0</td></tr><tr><td class = \"rowNumber\" style = \"font-weight: bold; text-align: right;\">19</td><td style = \"text-align: left;\">60.0</td><td style = \"text-align: left;\">0.0</td><td style = \"text-align: left;\">-1200.0</td><td style = \"text-align: left;\">-200.0</td><td style = \"text-align: left;\">-1000.0</td><td style = \"text-align: left;\">1.0</td><td style = \"text-align: left;\">-1.0784e5</td><td style = \"text-align: left;\">3737.35</td></tr><tr><td class = \"rowNumber\" style = \"font-weight: bold; text-align: right;\">20</td><td style = \"text-align: left;\">60.0</td><td style = \"text-align: left;\">0.0</td><td style = \"text-align: left;\">-1000.0</td><td style = \"text-align: left;\">-200.0</td><td style = \"text-align: left;\">-1000.0</td><td style = \"text-align: left;\">1.0</td><td style = \"text-align: left;\">-1.04005e5</td><td style = \"text-align: left;\">3747.0</td></tr></tbody></table></div>"
      ],
      "text/latex": [
       "\\begin{tabular}{r|cccccccc}\n",
       "\t& Units & n & s & m & f & lambda & mean & std\\\\\n",
       "\t\\hline\n",
       "\t& Any & Any & Any & Any & Any & Any & Any & Any\\\\\n",
       "\t\\hline\n",
       "\t1 & 20.0 & 0.0 & -1000.0 & -200.0 & -1600.0 & 1.0 & -55390.2 & 3095.29 \\\\\n",
       "\t2 & 20.0 & 0.0 & -1000.0 & -200.0 & -1400.0 & 1.0 & -53296.1 & 2916.54 \\\\\n",
       "\t3 & 20.0 & 0.0 & -1200.0 & -200.0 & -1000.0 & 1.0 & -52100.2 & 2263.58 \\\\\n",
       "\t4 & 20.0 & 0.0 & -1000.0 & -200.0 & -1000.0 & 1.0 & -48378.7 & 2265.46 \\\\\n",
       "\t5 & 30.0 & 0.0 & -1000.0 & -200.0 & -1600.0 & 1.0 & -73521.2 & 3711.18 \\\\\n",
       "\t6 & 30.0 & 0.0 & -1000.0 & -200.0 & -1400.0 & 1.0 & -70415.8 & 3388.27 \\\\\n",
       "\t7 & 30.0 & 0.0 & -1200.0 & -200.0 & -1000.0 & 1.0 & -67135.3 & 2702.71 \\\\\n",
       "\t8 & 30.0 & 0.0 & -1000.0 & -200.0 & -1000.0 & 1.0 & -63384.3 & 2678.86 \\\\\n",
       "\t9 & 40.0 & 0.0 & -1000.0 & -200.0 & -1600.0 & 1.0 & -89282.2 & 4277.61 \\\\\n",
       "\t10 & 40.0 & 0.0 & -1000.0 & -200.0 & -1400.0 & 1.0 & -85241.6 & 3912.07 \\\\\n",
       "\t11 & 40.0 & 0.0 & -1200.0 & -200.0 & -1000.0 & 1.0 & -79549.1 & 3081.81 \\\\\n",
       "\t12 & 40.0 & 0.0 & -1000.0 & -200.0 & -1000.0 & 1.0 & -75844.9 & 3074.01 \\\\\n",
       "\t13 & 50.0 & 0.0 & -1000.0 & -200.0 & -1600.0 & 1.0 & -107189.0 & 4731.0 \\\\\n",
       "\t14 & 50.0 & 0.0 & -1000.0 & -200.0 & -1400.0 & 1.0 & -1.02333e5 & 4446.7 \\\\\n",
       "\t15 & 50.0 & 0.0 & -1200.0 & -200.0 & -1000.0 & 1.0 & -93988.7 & 3497.26 \\\\\n",
       "\t16 & 50.0 & 0.0 & -1000.0 & -200.0 & -1000.0 & 1.0 & -90259.3 & 3443.19 \\\\\n",
       "\t17 & 60.0 & 0.0 & -1000.0 & -200.0 & -1600.0 & 1.0 & -1.23861e5 & 5148.9 \\\\\n",
       "\t18 & 60.0 & 0.0 & -1000.0 & -200.0 & -1400.0 & 1.0 & -1.1813e5 & 4698.0 \\\\\n",
       "\t19 & 60.0 & 0.0 & -1200.0 & -200.0 & -1000.0 & 1.0 & -1.0784e5 & 3737.35 \\\\\n",
       "\t20 & 60.0 & 0.0 & -1000.0 & -200.0 & -1000.0 & 1.0 & -1.04005e5 & 3747.0 \\\\\n",
       "\\end{tabular}\n"
      ],
      "text/plain": [
       "\u001b[1m20×8 DataFrame\u001b[0m\n",
       "\u001b[1m Row \u001b[0m│\u001b[1m Units \u001b[0m\u001b[1m n   \u001b[0m\u001b[1m s       \u001b[0m\u001b[1m m      \u001b[0m\u001b[1m f       \u001b[0m\u001b[1m lambda \u001b[0m\u001b[1m mean       \u001b[0m\u001b[1m std     \u001b[0m\n",
       "     │\u001b[90m Any   \u001b[0m\u001b[90m Any \u001b[0m\u001b[90m Any     \u001b[0m\u001b[90m Any    \u001b[0m\u001b[90m Any     \u001b[0m\u001b[90m Any    \u001b[0m\u001b[90m Any        \u001b[0m\u001b[90m Any     \u001b[0m\n",
       "─────┼───────────────────────────────────────────────────────────────────\n",
       "   1 │ 20.0   0.0  -1000.0  -200.0  -1600.0  1.0     -55390.2    3095.29\n",
       "   2 │ 20.0   0.0  -1000.0  -200.0  -1400.0  1.0     -53296.1    2916.54\n",
       "   3 │ 20.0   0.0  -1200.0  -200.0  -1000.0  1.0     -52100.2    2263.58\n",
       "   4 │ 20.0   0.0  -1000.0  -200.0  -1000.0  1.0     -48378.7    2265.46\n",
       "   5 │ 30.0   0.0  -1000.0  -200.0  -1600.0  1.0     -73521.2    3711.18\n",
       "   6 │ 30.0   0.0  -1000.0  -200.0  -1400.0  1.0     -70415.8    3388.27\n",
       "   7 │ 30.0   0.0  -1200.0  -200.0  -1000.0  1.0     -67135.3    2702.71\n",
       "   8 │ 30.0   0.0  -1000.0  -200.0  -1000.0  1.0     -63384.3    2678.86\n",
       "   9 │ 40.0   0.0  -1000.0  -200.0  -1600.0  1.0     -89282.2    4277.61\n",
       "  10 │ 40.0   0.0  -1000.0  -200.0  -1400.0  1.0     -85241.6    3912.07\n",
       "  11 │ 40.0   0.0  -1200.0  -200.0  -1000.0  1.0     -79549.1    3081.81\n",
       "  12 │ 40.0   0.0  -1000.0  -200.0  -1000.0  1.0     -75844.9    3074.01\n",
       "  13 │ 50.0   0.0  -1000.0  -200.0  -1600.0  1.0     -107189.0   4731.0\n",
       "  14 │ 50.0   0.0  -1000.0  -200.0  -1400.0  1.0     -1.02333e5  4446.7\n",
       "  15 │ 50.0   0.0  -1200.0  -200.0  -1000.0  1.0     -93988.7    3497.26\n",
       "  16 │ 50.0   0.0  -1000.0  -200.0  -1000.0  1.0     -90259.3    3443.19\n",
       "  17 │ 60.0   0.0  -1000.0  -200.0  -1600.0  1.0     -1.23861e5  5148.9\n",
       "  18 │ 60.0   0.0  -1000.0  -200.0  -1400.0  1.0     -1.1813e5   4698.0\n",
       "  19 │ 60.0   0.0  -1200.0  -200.0  -1000.0  1.0     -1.0784e5   3737.35\n",
       "  20 │ 60.0   0.0  -1000.0  -200.0  -1000.0  1.0     -1.04005e5  3747.0"
      ]
     },
     "execution_count": 21,
     "metadata": {},
     "output_type": "execute_result"
    }
   ],
   "source": [
    "df"
   ]
  },
  {
   "cell_type": "code",
   "execution_count": null,
   "metadata": {},
   "outputs": [],
   "source": []
  },
  {
   "cell_type": "code",
   "execution_count": 22,
   "metadata": {},
   "outputs": [
    {
     "data": {
      "text/plain": [
       "\"independent with setup DISJOINT.csv\""
      ]
     },
     "execution_count": 22,
     "metadata": {},
     "output_type": "execute_result"
    }
   ],
   "source": [
    "using CSV\n",
    "CSV.write(\"independent with setup DISJOINT.csv\", df)"
   ]
  },
  {
   "cell_type": "code",
   "execution_count": 23,
   "metadata": {
    "scrolled": false
   },
   "outputs": [
    {
     "ename": "LoadError",
     "evalue": "BoundsError: attempt to access 10×2×20 Array{Float64, 3} at index [1, 1]",
     "output_type": "error",
     "traceback": [
      "BoundsError: attempt to access 10×2×20 Array{Float64, 3} at index [1, 1]",
      "",
      "Stacktrace:",
      " [1] getindex(::Array{Float64, 3}, ::Int64, ::Int64)",
      "   @ Base .\\array.jl:925",
      " [2] top-level scope",
      "   @ .\\In[23]:3"
     ]
    }
   ],
   "source": [
    " Q=ValueIteration(s,T,.95,3000)\n",
    "for s in 1:Number_level\n",
    "p=[exp(0.01*sum(Q[s,1])),exp(0.01*sum(Q[s,2])),exp(0.01*sum(Q[s,3]))]\n",
    "    p./=sum(p)\n",
    "    println(p)\n",
    "end"
   ]
  },
  {
   "cell_type": "code",
   "execution_count": 24,
   "metadata": {},
   "outputs": [
    {
     "data": {
      "text/html": [
       "<div><div style = \"float: left;\"><span>0×8 DataFrame</span></div><div style = \"clear: both;\"></div></div><div class = \"data-frame\" style = \"overflow-x: scroll;\"><table class = \"data-frame\" style = \"margin-bottom: 6px;\"><thead><tr class = \"header\"><th class = \"rowNumber\" style = \"font-weight: bold; text-align: right;\">Row</th><th style = \"text-align: left;\">Units</th><th style = \"text-align: left;\">n</th><th style = \"text-align: left;\">s</th><th style = \"text-align: left;\">m</th><th style = \"text-align: left;\">f</th><th style = \"text-align: left;\">lambda</th><th style = \"text-align: left;\">mean</th><th style = \"text-align: left;\">std</th></tr><tr class = \"subheader headerLastRow\"><th class = \"rowNumber\" style = \"font-weight: bold; text-align: right;\"></th><th title = \"Any\" style = \"text-align: left;\">Any</th><th title = \"Any\" style = \"text-align: left;\">Any</th><th title = \"Any\" style = \"text-align: left;\">Any</th><th title = \"Any\" style = \"text-align: left;\">Any</th><th title = \"Any\" style = \"text-align: left;\">Any</th><th title = \"Any\" style = \"text-align: left;\">Any</th><th title = \"Any\" style = \"text-align: left;\">Any</th><th title = \"Any\" style = \"text-align: left;\">Any</th></tr></thead><tbody></tbody></table></div>"
      ],
      "text/latex": [
       "\\begin{tabular}{r|cccccccc}\n",
       "\t& Units & n & s & m & f & lambda & mean & std\\\\\n",
       "\t\\hline\n",
       "\t& Any & Any & Any & Any & Any & Any & Any & Any\\\\\n",
       "\t\\hline\n",
       "\\end{tabular}\n"
      ],
      "text/plain": [
       "\u001b[1m0×8 DataFrame\u001b[0m\n",
       "\u001b[1m Row \u001b[0m│\u001b[1m Units \u001b[0m\u001b[1m n   \u001b[0m\u001b[1m s   \u001b[0m\u001b[1m m   \u001b[0m\u001b[1m f   \u001b[0m\u001b[1m lambda \u001b[0m\u001b[1m mean \u001b[0m\u001b[1m std \u001b[0m\n",
       "     │\u001b[90m Any   \u001b[0m\u001b[90m Any \u001b[0m\u001b[90m Any \u001b[0m\u001b[90m Any \u001b[0m\u001b[90m Any \u001b[0m\u001b[90m Any    \u001b[0m\u001b[90m Any  \u001b[0m\u001b[90m Any \u001b[0m\n",
       "─────┴──────────────────────────────────────────────"
      ]
     },
     "execution_count": 24,
     "metadata": {},
     "output_type": "execute_result"
    }
   ],
   "source": [
    "df[df.Units.==15,:]"
   ]
  },
  {
   "cell_type": "code",
   "execution_count": 25,
   "metadata": {},
   "outputs": [
    {
     "ename": "LoadError",
     "evalue": "MethodError: reducing over an empty collection is not allowed; consider supplying `init` to the reducer",
     "output_type": "error",
     "traceback": [
      "MethodError: reducing over an empty collection is not allowed; consider supplying `init` to the reducer",
      "",
      "Stacktrace:",
      "  [1] reduce_empty(op::Base.MappingRF{Base.var\"#277#278\"{typeof(identity)}, Base.BottomRF{typeof(Base._rf_findmax)}}, #unused#::Type{Pair{Int64, Any}})",
      "    @ Base .\\reduce.jl:356",
      "  [2] reduce_empty_iter",
      "    @ .\\reduce.jl:379 [inlined]",
      "  [3] reduce_empty_iter",
      "    @ .\\reduce.jl:378 [inlined]",
      "  [4] foldl_impl",
      "    @ .\\reduce.jl:49 [inlined]",
      "  [5] mapfoldl_impl",
      "    @ .\\reduce.jl:44 [inlined]",
      "  [6] #mapfoldl#259",
      "    @ .\\reduce.jl:170 [inlined]",
      "  [7] mapfoldl",
      "    @ .\\reduce.jl:170 [inlined]",
      "  [8] findmax",
      "    @ .\\reduce.jl:893 [inlined]",
      "  [9] _findmax",
      "    @ .\\reduce.jl:919 [inlined]",
      " [10] #findmax#827",
      "    @ .\\reducedim.jl:1159 [inlined]",
      " [11] findmax(A::Vector{Any})",
      "    @ Base .\\reducedim.jl:1159",
      " [12] top-level scope",
      "    @ .\\In[25]:3"
     ]
    }
   ],
   "source": [
    "df1= DataFrame(Units=[],mean=[])\n",
    "for i in [2,4,5,8,10,15,20,25,30]\n",
    "    pushfirst!(df1,[i,findmax(df[df.Units.==i,:].mean)[1]])\n",
    "end\n",
    "CSV.write(\"valueiteration_softmax_space_division_FINAL.csv\", df1)"
   ]
  },
  {
   "cell_type": "code",
   "execution_count": 26,
   "metadata": {},
   "outputs": [
    {
     "data": {
      "text/html": [
       "<div><div style = \"float: left;\"><span>0×2 DataFrame</span></div><div style = \"clear: both;\"></div></div><div class = \"data-frame\" style = \"overflow-x: scroll;\"><table class = \"data-frame\" style = \"margin-bottom: 6px;\"><thead><tr class = \"header\"><th class = \"rowNumber\" style = \"font-weight: bold; text-align: right;\">Row</th><th style = \"text-align: left;\">Units</th><th style = \"text-align: left;\">mean</th></tr><tr class = \"subheader headerLastRow\"><th class = \"rowNumber\" style = \"font-weight: bold; text-align: right;\"></th><th title = \"Any\" style = \"text-align: left;\">Any</th><th title = \"Any\" style = \"text-align: left;\">Any</th></tr></thead><tbody></tbody></table></div>"
      ],
      "text/latex": [
       "\\begin{tabular}{r|cc}\n",
       "\t& Units & mean\\\\\n",
       "\t\\hline\n",
       "\t& Any & Any\\\\\n",
       "\t\\hline\n",
       "\\end{tabular}\n"
      ],
      "text/plain": [
       "\u001b[1m0×2 DataFrame\u001b[0m\n",
       "\u001b[1m Row \u001b[0m│\u001b[1m Units \u001b[0m\u001b[1m mean \u001b[0m\n",
       "     │\u001b[90m Any   \u001b[0m\u001b[90m Any  \u001b[0m\n",
       "─────┴─────────────"
      ]
     },
     "execution_count": 26,
     "metadata": {},
     "output_type": "execute_result"
    }
   ],
   "source": [
    "df1"
   ]
  },
  {
   "cell_type": "code",
   "execution_count": null,
   "metadata": {},
   "outputs": [],
   "source": []
  },
  {
   "cell_type": "code",
   "execution_count": null,
   "metadata": {},
   "outputs": [],
   "source": []
  },
  {
   "cell_type": "code",
   "execution_count": null,
   "metadata": {},
   "outputs": [],
   "source": []
  },
  {
   "cell_type": "code",
   "execution_count": null,
   "metadata": {},
   "outputs": [],
   "source": []
  }
 ],
 "metadata": {
  "kernelspec": {
   "display_name": "Julia 1.8.5",
   "language": "julia",
   "name": "julia-1.8"
  },
  "language_info": {
   "file_extension": ".jl",
   "mimetype": "application/julia",
   "name": "julia",
   "version": "1.8.5"
  }
 },
 "nbformat": 4,
 "nbformat_minor": 2
}
