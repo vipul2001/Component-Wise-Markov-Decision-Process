{
 "cells": [
  {
   "cell_type": "code",
   "execution_count": 1,
   "metadata": {},
   "outputs": [],
   "source": [
    "\n",
    "using POMDPs, QuickPOMDPs, MCTS, DiscreteValueIteration, POMDPSimulators, POMDPModels, POMDPPolicies, POMDPModelTools\n",
    "using Distributions, Combinatorics, StaticArrays, Statistics\n",
    "using FileIO, JLD2, TickTock"
   ]
  },
  {
   "cell_type": "markdown",
   "metadata": {},
   "source": [
    "## State Functions"
   ]
  },
  {
   "cell_type": "code",
   "execution_count": 2,
   "metadata": {},
   "outputs": [],
   "source": [
    "function state_cnt(n, S) #n = number of units; S = number of states\n",
    "    if S==1\n",
    "        return 1\n",
    "    end\n",
    "    return binomial(n+S-1, S-1)\n",
    "end\n",
    "\n",
    "function state_index(S,s) #s = state vector\n",
    "    #S = length(s)\n",
    "    if S == 1\n",
    "        return 1\n",
    "    end\n",
    "    if s[S]==0\n",
    "        return state_index(S-1, s[1:(S-1)])\n",
    "    end\n",
    "    \n",
    "    n_prev = sum(s)\n",
    "    prev = state_cnt(n_prev, S-1) # count of all states with s[S]=0\n",
    "    inc = prev\n",
    "    for i in 1:(s[S]-1)\n",
    "        inc = inc/(n_prev+S-2)*n_prev #count of all states with s[S]=i\n",
    "        prev = prev + inc\n",
    "        n_prev = n_prev - 1\n",
    "    end\n",
    "    return prev + state_index(S-1, s[1:(S-1)])\n",
    "end\n",
    "\n",
    "function state_vec(n, S, ind) # n = number of units; S = number of states; ind = state index\n",
    "    if ind < 0.5 || ind > state_cnt(n, S) + 0.5\n",
    "        println(\"index is out of range!\")\n",
    "        return -1\n",
    "    end\n",
    "    if S==1 \n",
    "        return [n]\n",
    "    end\n",
    "    if ind < state_cnt(n, S-1) + 0.5\n",
    "        return push!(state_vec(n, S-1, ind), 0)\n",
    "    end\n",
    "    prev = state_cnt(n, S-1)\n",
    "    inc = prev\n",
    "    last_state = 0\n",
    "    n_prev = n\n",
    "    while ind > prev + 0.5\n",
    "        inc = inc/(n_prev+S-2)*n_prev #count of all sta_tes with s[S]=last_state\n",
    "        prev += inc\n",
    "        n_prev -= 1\n",
    "        last_state += 1\n",
    "    end\n",
    "    return push!(state_vec(n-last_state, S-1, ind - prev + inc), last_state)\n",
    "end\n",
    "\n",
    "#using hueristic rule for rollout\n",
    "mutable struct nNRollout <: Policy\n",
    "    n::Int64\n",
    "    N::Int64\n",
    "end\n",
    "\n",
    "mutable struct nmNRollout <: Policy\n",
    "    n::Int64\n",
    "    m::Int64\n",
    "    N::Int64\n",
    "end\n",
    "\n",
    "mutable struct mystate\n",
    "    state::Vector{Int64};\n",
    "end"
   ]
  },
  {
   "cell_type": "code",
   "execution_count": 3,
   "metadata": {},
   "outputs": [],
   "source": [
    "function POMDPs.action(p::nNRollout, s::mystate)\n",
    "        local_a = 0;\n",
    "        local_s = s.state;\n",
    "        nN = sample(1:Number_level, 2, replace = true);\n",
    "        p.N = maximum(nN);\n",
    "        p.n = minimum(nN);\n",
    "        if sum(local_s[p.N:Number_level])>=1\n",
    "        local_a = p.n;\n",
    "        end\n",
    "        return local_a; \n",
    "end\n",
    "\n",
    "function POMDPs.action(p::nmNRollout, s::mystate)\n",
    "    local_a = 0;\n",
    "    local_s = s.state;\n",
    "    nmN = sample(1:Number_level, 3, replace = true);\n",
    "    p.N = maximum(nmN);\n",
    "    p.n = minimum(nmN);\n",
    "    p.m = sum(nmN)-p.N-p.n;\n",
    "    if sum(local_s[p.N:Number_level])>=1 || sum(local_s[p.m:Number_level])>=2\n",
    "        local_a = p.n;\n",
    "    end\n",
    "    return local_a; \n",
    "end"
   ]
  },
  {
   "cell_type": "code",
   "execution_count": null,
   "metadata": {},
   "outputs": [],
   "source": []
  },
  {
   "cell_type": "code",
   "execution_count": 4,
   "metadata": {},
   "outputs": [
    {
     "data": {
      "text/plain": [
       "findNn (generic function with 1 method)"
      ]
     },
     "execution_count": 4,
     "metadata": {},
     "output_type": "execute_result"
    }
   ],
   "source": [
    "function findNn()\n",
    "    println(\"Finding best nN policy...\")\n",
    "for N in 2:(Number_level)\n",
    "    for n in 1:N\n",
    "#         println(\"N = \",N, \"  n = \",n);\n",
    "        Threads.@threads  for j in 1:repetition\n",
    "            history = sim(multiunit2,max_steps=simsteps,initialstate=mystate(state_vec(NumberUnits, Number_level, 1))) do s\n",
    "            local_s = s.state;\n",
    "            local_a = 0;\n",
    "                if sum(local_s[N:Number_level])>=1\n",
    "                local_a = n;\n",
    "                end\n",
    "                return local_a; \n",
    "            end\n",
    "            temp_rewards[j] = discounted_reward(history);\n",
    "        end\n",
    "        rewards_nN[n,N] = mean(temp_rewards);\n",
    "            rewards_nN_std[n,N] = std(temp_rewards);\n",
    "    end\n",
    "end\n",
    "(max_rward,nN) = findmax(rewards_nN);\n",
    "println(\"Max rewards of (N, n) policy is \", max_rward, \"  n is \", nN[1], \"  N is \",nN[2]);\n",
    "return  max_rward,rewards_nN_std[nN[1],nN[2]],nN;\n",
    "end\n"
   ]
  },
  {
   "cell_type": "code",
   "execution_count": null,
   "metadata": {},
   "outputs": [],
   "source": []
  },
  {
   "cell_type": "code",
   "execution_count": 5,
   "metadata": {
    "scrolled": true
   },
   "outputs": [
    {
     "name": "stdout",
     "output_type": "stream",
     "text": [
      "20"
     ]
    },
    {
     "name": "stderr",
     "output_type": "stream",
     "text": [
      "┌ Info:  started timer at: 2023-04-17T10:06:19.747\n",
      "└ @ TickTock C:\\Users\\vbansal5\\.julia\\packages\\TickTock\\fGILW\\src\\TickTock.jl:54\n"
     ]
    },
    {
     "name": "stdout",
     "output_type": "stream",
     "text": [
      "[0, -200, -200, -1000]\n",
      "Finding best nN policy...\n",
      "Max rewards of (N, n) policy is -27416.28425094323  n is 7  N is 9\n",
      "30[0, -200, -200, -1000]\n",
      "Finding best nN policy...\n"
     ]
    },
    {
     "name": "stderr",
     "output_type": "stream",
     "text": [
      "┌ Info:          192.9798647s: 3 minutes, 12 seconds, 979 milliseconds\n",
      "└ @ TickTock C:\\Users\\vbansal5\\.julia\\packages\\TickTock\\fGILW\\src\\TickTock.jl:62\n",
      "┌ Info:  started timer at: 2023-04-17T10:09:32.860\n",
      "└ @ TickTock C:\\Users\\vbansal5\\.julia\\packages\\TickTock\\fGILW\\src\\TickTock.jl:54\n"
     ]
    },
    {
     "name": "stdout",
     "output_type": "stream",
     "text": [
      "Max rewards of (N, n) policy is -39634.786021275744  n is 8  N is 9\n"
     ]
    },
    {
     "name": "stderr",
     "output_type": "stream",
     "text": [
      "┌ Info:          248.3026984s: 4 minutes, 8 seconds, 302 milliseconds\n",
      "└ @ TickTock C:\\Users\\vbansal5\\.julia\\packages\\TickTock\\fGILW\\src\\TickTock.jl:62\n"
     ]
    }
   ],
   "source": [
    "using DataFrames\n",
    "df= DataFrame(u=[],n=[],s=[],m=[],f=[],mean=[],nN=[],std=[])\n",
    "\n",
    "  \n",
    "cost=[ \n",
    "     [0 -200 -200 -1000]\n",
    "    ]\n",
    "\n",
    "for units in [20,30]\n",
    "    global NumberUnits=convert(Int64,units)\n",
    "global Number_level = 10;\n",
    "global fullname = \"tm10.jld2\";\n",
    "fullname = \"tm10\";\n",
    "\n",
    "Transition_matrix = load(fullname*\".jld2\",\"transition_matrix\");\n",
    "\n",
    "global state_number = state_cnt(NumberUnits,Number_level);\n",
    "global crd = Array{Categorical}(undef,Number_level)\n",
    "for i in 1:Number_level\n",
    "    global crd[i] = Categorical(Transition_matrix[i,:]);\n",
    "end\n",
    "    \n",
    "    \n",
    "    \n",
    "global multiunit2 = QuickMDP(\n",
    "    gen = function (s, a, rng)       #s is a vector of number units at each level and a is the number of units we will repair\n",
    "        local_s = s.state;\n",
    "        # println(local_s)\n",
    "        # based on s, create a status vector corresponding to each unit\n",
    "        degradation_state = repeat(1:1,NumberUnits);\n",
    "        k = 1;\n",
    "        for i in 1:Number_level\n",
    "            for j in 1:local_s[i]\n",
    "                degradation_state[k]=i;\n",
    "                k = k+1;\n",
    "            end\n",
    "        end\n",
    "        r = 0.0;\n",
    "        prevent_repair = false;\n",
    "        if a!=0\n",
    "        number_reset = sum(local_s[a:Number_level]);\n",
    "        else\n",
    "        number_reset = local_s[Number_level];\n",
    "        end\n",
    "        #using a for loop to compute next state for each unit\n",
    "\n",
    "        for i in 1:(NumberUnits-number_reset)  #a is the number of units we want to preventively repair\n",
    "            #in this loop, all units continues\n",
    "            degradation_state[i] = rand(crd[degradation_state[i]]);\n",
    "            r = r+normal_operation;\n",
    "        end\n",
    "        \n",
    "        for i in (NumberUnits-number_reset+1):NumberUnits\n",
    "            if degradation_state[i] == Number_level\n",
    "                r = r + failure_penalty;\n",
    "                if prevent_repair == false\n",
    "                    r = r+setup_cost;\n",
    "                    prevent_repair = true;\n",
    "                end\n",
    "            else\n",
    "                r = r + maintenance_penalty;\n",
    "                if prevent_repair == false\n",
    "                    r = r+setup_cost;\n",
    "                    prevent_repair = true;\n",
    "                end\n",
    "            end\n",
    "            degradation_state[i] = rand(crd[1]); #reset status; add additional transition\n",
    "            r = r+normal_operation; #add operation benefit\n",
    "         end\n",
    "        #collect degradation state to form the state\n",
    "        sp = repeat(0:0,Number_level);\n",
    "        for i in 1:NumberUnits\n",
    "            sp[degradation_state[i]] = sp[degradation_state[i]]+1;\n",
    "        end\n",
    "        return (sp=mystate(sp), r=r)\n",
    "    end,\n",
    "    actions = 0:(Number_level-1), \n",
    "    actiontype = function()\n",
    "        return Int64;\n",
    "    end,\n",
    "#     states = arrayofstates,\n",
    "    initialstate = function()\n",
    "        POMDPModelTools.ImplicitDistribution() do rng\n",
    "            return (mystate(state_vec(NumberUnits, Number_level, 1)))\n",
    "        end\n",
    "    end, #all u #all units start fresh. Need to change according to unit number and level number. ##For simulation, we need to use ImplicitDistribution\n",
    "    discount = 0.95,\n",
    "    isterminal = false              # no ending\n",
    ")\n",
    "\n",
    "\n",
    "    \n",
    "    \n",
    "    \n",
    "for c in cost\n",
    "   print(units)  \n",
    "    tick()\n",
    "    global normal_operation,setup_cost,maintenance_penalty,failure_penalty=c\n",
    "     println([normal_operation,setup_cost,maintenance_penalty,failure_penalty])     \n",
    "   global  simsteps = 100;\n",
    "global repetition = 10000;\n",
    "global rewards_nN = zeros(Number_level,Number_level);\n",
    "global rewards_nN = rewards_nN.+(-100000000.0);\n",
    "global rewards_nN_std = zeros(Number_level,Number_level);\n",
    "global rewards_nN_std = rewards_nN_std.+(-100000000.0);\n",
    "global discount_factor =0.95\n",
    "global temp_rewards = zeros(repetition,1);\n",
    "rewards,std, nN=findNn()\n",
    "pushfirst!(df,[units,normal_operation,setup_cost,maintenance_penalty,failure_penalty,rewards, nN,std])\n",
    "   tock()     \n",
    "    end\n",
    "    \n",
    "    \n",
    "end"
   ]
  },
  {
   "cell_type": "code",
   "execution_count": 6,
   "metadata": {},
   "outputs": [
    {
     "data": {
      "text/html": [
       "<div><div style = \"float: left;\"><span>2×8 DataFrame</span></div><div style = \"clear: both;\"></div></div><div class = \"data-frame\" style = \"overflow-x: scroll;\"><table class = \"data-frame\" style = \"margin-bottom: 6px;\"><thead><tr class = \"header\"><th class = \"rowNumber\" style = \"font-weight: bold; text-align: right;\">Row</th><th style = \"text-align: left;\">u</th><th style = \"text-align: left;\">n</th><th style = \"text-align: left;\">s</th><th style = \"text-align: left;\">m</th><th style = \"text-align: left;\">f</th><th style = \"text-align: left;\">mean</th><th style = \"text-align: left;\">nN</th><th style = \"text-align: left;\">std</th></tr><tr class = \"subheader headerLastRow\"><th class = \"rowNumber\" style = \"font-weight: bold; text-align: right;\"></th><th title = \"Any\" style = \"text-align: left;\">Any</th><th title = \"Any\" style = \"text-align: left;\">Any</th><th title = \"Any\" style = \"text-align: left;\">Any</th><th title = \"Any\" style = \"text-align: left;\">Any</th><th title = \"Any\" style = \"text-align: left;\">Any</th><th title = \"Any\" style = \"text-align: left;\">Any</th><th title = \"Any\" style = \"text-align: left;\">Any</th><th title = \"Any\" style = \"text-align: left;\">Any</th></tr></thead><tbody><tr><td class = \"rowNumber\" style = \"font-weight: bold; text-align: right;\">1</td><td style = \"text-align: left;\">30</td><td style = \"text-align: left;\">0</td><td style = \"text-align: left;\">-200</td><td style = \"text-align: left;\">-200</td><td style = \"text-align: left;\">-1000</td><td style = \"text-align: left;\">-39634.8</td><td style = \"text-align: left;\">CartesianIndex(8, 9)</td><td style = \"text-align: left;\">2238.23</td></tr><tr><td class = \"rowNumber\" style = \"font-weight: bold; text-align: right;\">2</td><td style = \"text-align: left;\">20</td><td style = \"text-align: left;\">0</td><td style = \"text-align: left;\">-200</td><td style = \"text-align: left;\">-200</td><td style = \"text-align: left;\">-1000</td><td style = \"text-align: left;\">-27416.3</td><td style = \"text-align: left;\">CartesianIndex(7, 9)</td><td style = \"text-align: left;\">1668.53</td></tr></tbody></table></div>"
      ],
      "text/latex": [
       "\\begin{tabular}{r|cccccccc}\n",
       "\t& u & n & s & m & f & mean & nN & std\\\\\n",
       "\t\\hline\n",
       "\t& Any & Any & Any & Any & Any & Any & Any & Any\\\\\n",
       "\t\\hline\n",
       "\t1 & 30 & 0 & -200 & -200 & -1000 & -39634.8 & CartesianIndex(8, 9) & 2238.23 \\\\\n",
       "\t2 & 20 & 0 & -200 & -200 & -1000 & -27416.3 & CartesianIndex(7, 9) & 1668.53 \\\\\n",
       "\\end{tabular}\n"
      ],
      "text/plain": [
       "\u001b[1m2×8 DataFrame\u001b[0m\n",
       "\u001b[1m Row \u001b[0m│\u001b[1m u   \u001b[0m\u001b[1m n   \u001b[0m\u001b[1m s    \u001b[0m\u001b[1m m    \u001b[0m\u001b[1m f     \u001b[0m\u001b[1m mean     \u001b[0m\u001b[1m nN                   \u001b[0m\u001b[1m std     \u001b[0m\n",
       "     │\u001b[90m Any \u001b[0m\u001b[90m Any \u001b[0m\u001b[90m Any  \u001b[0m\u001b[90m Any  \u001b[0m\u001b[90m Any   \u001b[0m\u001b[90m Any      \u001b[0m\u001b[90m Any                  \u001b[0m\u001b[90m Any     \u001b[0m\n",
       "─────┼──────────────────────────────────────────────────────────────────────\n",
       "   1 │ 30   0    -200  -200  -1000  -39634.8  CartesianIndex(8, 9)  2238.23\n",
       "   2 │ 20   0    -200  -200  -1000  -27416.3  CartesianIndex(7, 9)  1668.53"
      ]
     },
     "execution_count": 6,
     "metadata": {},
     "output_type": "execute_result"
    }
   ],
   "source": [
    "df"
   ]
  },
  {
   "cell_type": "code",
   "execution_count": 7,
   "metadata": {},
   "outputs": [
    {
     "data": {
      "text/plain": [
       "\"nN_new.csv\""
      ]
     },
     "execution_count": 7,
     "metadata": {},
     "output_type": "execute_result"
    }
   ],
   "source": [
    "using CSV\n",
    "CSV.write(\"nN_new.csv\", df)"
   ]
  },
  {
   "cell_type": "code",
   "execution_count": null,
   "metadata": {},
   "outputs": [],
   "source": []
  }
 ],
 "metadata": {
  "kernelspec": {
   "display_name": "Julia 1.8.2",
   "language": "julia",
   "name": "julia-1.8"
  },
  "language_info": {
   "file_extension": ".jl",
   "mimetype": "application/julia",
   "name": "julia",
   "version": "1.8.2"
  }
 },
 "nbformat": 4,
 "nbformat_minor": 2
}
