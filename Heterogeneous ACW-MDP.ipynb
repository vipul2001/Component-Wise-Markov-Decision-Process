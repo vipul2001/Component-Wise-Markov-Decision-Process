{
 "cells": [
  {
   "cell_type": "code",
   "execution_count": 1,
   "metadata": {},
   "outputs": [],
   "source": [
    "using POMDPs, POMDPTools, QuickPOMDPs, MCTS, DiscreteValueIteration, POMDPSimulators, POMDPModels, POMDPPolicies\n",
    "using Distributions, Combinatorics, StaticArrays, D3Trees, Random\n",
    "using FileIO, JLD2, TickTock"
   ]
  },
  {
   "cell_type": "code",
   "execution_count": null,
   "metadata": {},
   "outputs": [],
   "source": []
  },
  {
   "cell_type": "code",
   "execution_count": 2,
   "metadata": {},
   "outputs": [],
   "source": [
    "\n",
    "Number_level = 10;\n"
   ]
  },
  {
   "cell_type": "code",
   "execution_count": 3,
   "metadata": {},
   "outputs": [
    {
     "data": {
      "text/plain": [
       "reward (generic function with 3 methods)"
      ]
     },
     "execution_count": 3,
     "metadata": {},
     "output_type": "execute_result"
    }
   ],
   "source": [
    "function reward(s, a,k,s1=10, rng=23)       #s is a vector of number units at each level and a is the number of units we will repair\n",
    "    p=[sum(1-T[i,i,1,j] for i in 1:9) for j in 1:NumberUnits]/sum(sum(1-T[i,i,1,j] for i in 1:9) for j in 1:NumberUnits)   \n",
    "    if s==Number_level\n",
    "            r=failure_penalty +  setup_cost/NumberUnits  + normal_operation  ;\n",
    "        return r\n",
    "       end\n",
    "        r=0\n",
    "     if a==1\n",
    "        if s1>=s\n",
    "            crd = Categorical(T[s,:,1,k]);\n",
    "            s = rand(crd);\n",
    "            r = normal_operation ;\n",
    "         return r\n",
    "        else\n",
    "            return 0.0\n",
    "        end\n",
    "        end\n",
    "    if a==2\n",
    "         if s1>=s\n",
    "            crd = Categorical(T[s,:,1,k]);\n",
    "            s = rand(crd);\n",
    "            r = normal_operation +  setup_cost/NumberUnits ;\n",
    "         return r\n",
    "        else\n",
    "            return 0.0\n",
    "        end\n",
    "        end\n",
    "    if a==3\n",
    "        s1=deepcopy(s)\n",
    "        s=1\n",
    "        r = maintenance_penalty +  setup_cost/NumberUnits \n",
    "         crd = Categorical(T[s,:,1,k]);\n",
    "            s = rand(crd);\n",
    "            r+= normal_operation  ;\n",
    "#            r*=(s1/10);\n",
    "        return r\n",
    "    end\n",
    "    end"
   ]
  },
  {
   "cell_type": "code",
   "execution_count": null,
   "metadata": {},
   "outputs": [],
   "source": []
  },
  {
   "cell_type": "code",
   "execution_count": 4,
   "metadata": {},
   "outputs": [],
   "source": [
    "T=zeros(Number_level,Number_level,3,100);"
   ]
  },
  {
   "cell_type": "code",
   "execution_count": 5,
   "metadata": {},
   "outputs": [],
   "source": [
    "for i in 1:100\n",
    "    fullname = \"TM_MATRIX/tm\"*string(i);\n",
    "    # generate_transition_matrix(Number_level, fullname) \n",
    "    Transition_matrix = load(fullname*\".jld2\",\"transition_matrix\");\n",
    "    \n",
    "    T[:,:,1,i].=Transition_matrix;\n",
    "    T[:,:,2,i].=Transition_matrix;\n",
    "    for j in 1:10\n",
    "        T[j,:,3,i].=Transition_matrix[1,:];\n",
    "        end\n",
    "    T[10,:,1,i].=Transition_matrix[1,:]\n",
    "T[10,:,2,i].=Transition_matrix[1,:]\n",
    "end"
   ]
  },
  {
   "cell_type": "code",
   "execution_count": null,
   "metadata": {},
   "outputs": [],
   "source": []
  },
  {
   "cell_type": "code",
   "execution_count": null,
   "metadata": {},
   "outputs": [],
   "source": []
  },
  {
   "cell_type": "code",
   "execution_count": null,
   "metadata": {},
   "outputs": [],
   "source": []
  },
  {
   "cell_type": "code",
   "execution_count": null,
   "metadata": {
    "scrolled": true
   },
   "outputs": [],
   "source": []
  },
  {
   "cell_type": "code",
   "execution_count": 6,
   "metadata": {},
   "outputs": [
    {
     "data": {
      "text/plain": [
       "generative (generic function with 2 methods)"
      ]
     },
     "execution_count": 6,
     "metadata": {},
     "output_type": "execute_result"
    }
   ],
   "source": [
    "\n",
    "function generative(s, a,k, rng=23)       #s is a vector of number units at each level and a is the number of units we will repair\n",
    "        if s==Number_level\n",
    "        s=1\n",
    "        crd = Categorical(T[s,:,1,k]);\n",
    "            s = rand(crd);\n",
    "            r=failure_penalty +  setup_cost/NumberUnits + normal_operation  ;\n",
    "        return (sp=s, r=r)\n",
    "       end\n",
    "        r=0\n",
    "     if a==1\n",
    "            crd = Categorical(T[s,:,1,k]);\n",
    "            s = rand(crd);\n",
    "            r = normal_operation ;\n",
    "         return (sp=s, r=r)\n",
    "        end\n",
    "    if a==2\n",
    "            crd = Categorical(T[s,:,1,k]);\n",
    "            s = rand(crd);\n",
    "            r = normal_operation +  setup_cost/NumberUnits ;\n",
    "             return (sp=s, r=r)\n",
    "        end\n",
    "    if a==3\n",
    "\n",
    "        s1=deepcopy(s)\n",
    "        s=1\n",
    "        r = maintenance_penalty +  setup_cost/NumberUnits\n",
    "         crd = Categorical(T[s,:,1,k]);\n",
    "            s = rand(crd);\n",
    "            r+= normal_operation  ;\n",
    "       return (sp=s, r=r)\n",
    "\n",
    "    end\n",
    "    end"
   ]
  },
  {
   "cell_type": "code",
   "execution_count": 7,
   "metadata": {},
   "outputs": [
    {
     "data": {
      "text/plain": [
       "ValueIteration (generic function with 1 method)"
      ]
     },
     "execution_count": 7,
     "metadata": {},
     "output_type": "execute_result"
    }
   ],
   "source": [
    "function ValueIteration( γ)\n",
    "    Q=zeros((Number_level,3,NumberUnits))\n",
    "#     print(Q)\n",
    "    V= -rand(Float64, (Number_level,NumberUnits))*1000\n",
    "    diff=0\n",
    "    i=0\n",
    "    p=rand(Float64, (3,NumberUnits))\n",
    "    \n",
    "      \n",
    "    Threads.@threads  for k in 1:NumberUnits\n",
    "        \n",
    "    for i in 1:1500\n",
    "    for s in 1:Number_level\n",
    "       for a in 1:3\n",
    "                Q[s,a,k]= (reward(s,a,k)) + γ*( sum(T[s,s1,a,k]*(V[s1,k]) for (s1) in 1:Number_level ))\n",
    "        end\n",
    "        p[:,k].=[exp(lamb*(sum(Q[s,1,k]-findmin(Q[s,1:3,k])[1]))),exp(lamb*(Q[s,2,k]-findmin(Q[s,1:3,k])[1])),exp(lamb*(Q[s,3,k]-findmin(Q[s,1:3,k])[1]))]\n",
    "\n",
    "        p[:,k]=p[:,k]./sum(p[:,k])\n",
    "       V[s,k]=Q[s,1,k]*p[1,k]+Q[s,2,k]*p[2,k]+Q[s,3,k]*p[3,k]\n",
    "        end\n",
    "        \n",
    "        end\n",
    "    end\n",
    "    return Q\n",
    "    end"
   ]
  },
  {
   "cell_type": "code",
   "execution_count": 8,
   "metadata": {},
   "outputs": [
    {
     "data": {
      "text/plain": [
       "decison (generic function with 2 methods)"
      ]
     },
     "execution_count": 8,
     "metadata": {},
     "output_type": "execute_result"
    }
   ],
   "source": [
    "\n",
    "\n",
    "function decison(Q, s,n=0.2)\n",
    "   a_final=[]\n",
    "   if Number_level in s\n",
    "#         print(\"hi\")\n",
    "        for i in 1:NumberUnits\n",
    "            append!(a_final,argmax(a->Q[s[i],a,i], [2,3]))\n",
    "            end\n",
    "        return a_final\n",
    "    end\n",
    "    q0=0.0\n",
    "    a_0=repeat(1:1,NumberUnits);\n",
    "    for i in 1:NumberUnits\n",
    "            q0+=Q[s[i],1,i]\n",
    "    end\n",
    "    a_final=repeat(1:1,NumberUnits);\n",
    "\n",
    "    b=1\n",
    "    for i in 1:NumberUnits\n",
    "\n",
    "            a_final[i]=argmax(a->Q[s[i],a,i], [2,3])\n",
    "\n",
    "\n",
    "            if a_final[i]==3\n",
    "                b+=1\n",
    "            end\n",
    "\n",
    "    end\n",
    "     \n",
    "        q1=0.0\n",
    "    for i in 1:NumberUnits\n",
    "            q1+=Q[s[i],a_final[i],i]\n",
    "    end\n",
    "    if !(3 in a_final) \n",
    "        a_final=a_0\n",
    "    end\n",
    "    if q0>q1\n",
    "            return a_0\n",
    "        else\n",
    "            return a_final\n",
    "        end\n",
    "end"
   ]
  },
  {
   "cell_type": "code",
   "execution_count": 9,
   "metadata": {},
   "outputs": [
    {
     "data": {
      "text/html": [
       "<div><div style = \"float: left;\"><span>0×8 DataFrame</span></div><div style = \"clear: both;\"></div></div><div class = \"data-frame\" style = \"overflow-x: scroll;\"><table class = \"data-frame\" style = \"margin-bottom: 6px;\"></table></div>"
      ],
      "text/latex": [
       "\\begin{tabular}{r|cccccccc}\n",
       "\t& Units & n & s & m & f & lambda & mean & std\\\\\n",
       "\t\\hline\n",
       "\t& Any & Any & Any & Any & Any & Any & Any & Any\\\\\n",
       "\t\\hline\n",
       "\\end{tabular}\n"
      ],
      "text/plain": [
       "\u001b[1m0×8 DataFrame\u001b[0m"
      ]
     },
     "execution_count": 9,
     "metadata": {},
     "output_type": "execute_result"
    }
   ],
   "source": [
    "using DataFrames\n",
    "df= DataFrame(Units=[],n=[],s=[],m=[],f=[],lambda=[],mean=[],std=[])"
   ]
  },
  {
   "cell_type": "code",
   "execution_count": 10,
   "metadata": {},
   "outputs": [],
   "source": [
    "using Distributed"
   ]
  },
  {
   "cell_type": "code",
   "execution_count": 11,
   "metadata": {
    "scrolled": true
   },
   "outputs": [
    {
     "name": "stdout",
     "output_type": "stream",
     "text": [
      "20[0, -1600, -200, -1000]\n"
     ]
    },
    {
     "name": "stderr",
     "output_type": "stream",
     "text": [
      "┌ Info:  started timer at: 2023-04-17T11:15:07.985\n",
      "└ @ TickTock C:\\Users\\vbansal5\\.julia\\packages\\TickTock\\fGILW\\src\\TickTock.jl:54\n"
     ]
    },
    {
     "name": "stdout",
     "output_type": "stream",
     "text": [
      "20\n",
      "100.0\n",
      "-73089.3609841079\n",
      "3333.1151824912563\n"
     ]
    },
    {
     "name": "stderr",
     "output_type": "stream",
     "text": [
      "┌ Info:           35.5948977s: 35 seconds, 594 milliseconds\n",
      "└ @ TickTock C:\\Users\\vbansal5\\.julia\\packages\\TickTock\\fGILW\\src\\TickTock.jl:62\n",
      "┌ Info:  started timer at: 2023-04-17T11:16:44.774\n",
      "└ @ TickTock C:\\Users\\vbansal5\\.julia\\packages\\TickTock\\fGILW\\src\\TickTock.jl:54\n"
     ]
    },
    {
     "name": "stdout",
     "output_type": "stream",
     "text": [
      "20\n",
      "10.0\n",
      "-73141.50698724526\n",
      "3312.049443245352\n"
     ]
    },
    {
     "name": "stderr",
     "output_type": "stream",
     "text": [
      "┌ Info:           33.2939327s: 33 seconds, 293 milliseconds\n",
      "└ @ TickTock C:\\Users\\vbansal5\\.julia\\packages\\TickTock\\fGILW\\src\\TickTock.jl:62\n",
      "┌ Info:  started timer at: 2023-04-17T11:18:22.759\n",
      "└ @ TickTock C:\\Users\\vbansal5\\.julia\\packages\\TickTock\\fGILW\\src\\TickTock.jl:54\n"
     ]
    },
    {
     "name": "stdout",
     "output_type": "stream",
     "text": [
      "20\n",
      "5.0\n",
      "-73117.17222486384\n",
      "3369.5890645011955\n"
     ]
    },
    {
     "name": "stderr",
     "output_type": "stream",
     "text": [
      "┌ Info:           34.3621884s: 34 seconds, 362 milliseconds\n",
      "└ @ TickTock C:\\Users\\vbansal5\\.julia\\packages\\TickTock\\fGILW\\src\\TickTock.jl:62\n",
      "┌ Info:  started timer at: 2023-04-17T11:19:59.605\n",
      "└ @ TickTock C:\\Users\\vbansal5\\.julia\\packages\\TickTock\\fGILW\\src\\TickTock.jl:54\n"
     ]
    },
    {
     "name": "stdout",
     "output_type": "stream",
     "text": [
      "20\n",
      "1.0\n",
      "-49486.02279674247\n",
      "3301.896109184715\n"
     ]
    },
    {
     "name": "stderr",
     "output_type": "stream",
     "text": [
      "┌ Info:           33.7208421s: 33 seconds, 720 milliseconds\n",
      "└ @ TickTock C:\\Users\\vbansal5\\.julia\\packages\\TickTock\\fGILW\\src\\TickTock.jl:62\n",
      "┌ Info:  started timer at: 2023-04-17T11:21:35.302\n",
      "└ @ TickTock C:\\Users\\vbansal5\\.julia\\packages\\TickTock\\fGILW\\src\\TickTock.jl:54\n"
     ]
    },
    {
     "name": "stdout",
     "output_type": "stream",
     "text": [
      "20\n",
      "0.5\n",
      "-49528.193096340525\n",
      "3243.7853235126618\n"
     ]
    },
    {
     "name": "stderr",
     "output_type": "stream",
     "text": [
      "┌ Info:           33.5118995s: 33 seconds, 511 milliseconds\n",
      "└ @ TickTock C:\\Users\\vbansal5\\.julia\\packages\\TickTock\\fGILW\\src\\TickTock.jl:62\n",
      "┌ Info:  started timer at: 2023-04-17T11:23:10.784\n",
      "└ @ TickTock C:\\Users\\vbansal5\\.julia\\packages\\TickTock\\fGILW\\src\\TickTock.jl:54\n"
     ]
    },
    {
     "name": "stdout",
     "output_type": "stream",
     "text": [
      "20\n",
      "0.1\n",
      "-49503.77355289075\n",
      "3241.6149834589305\n"
     ]
    },
    {
     "name": "stderr",
     "output_type": "stream",
     "text": [
      "┌ Info:           24.5484028s: 24 seconds, 548 milliseconds\n",
      "└ @ TickTock C:\\Users\\vbansal5\\.julia\\packages\\TickTock\\fGILW\\src\\TickTock.jl:62\n",
      "┌ Info:  started timer at: 2023-04-17T11:24:23.843\n",
      "└ @ TickTock C:\\Users\\vbansal5\\.julia\\packages\\TickTock\\fGILW\\src\\TickTock.jl:54\n"
     ]
    },
    {
     "name": "stdout",
     "output_type": "stream",
     "text": [
      "20\n",
      "0.05\n",
      "-49429.46787190724\n",
      "3222.8890118139147\n"
     ]
    },
    {
     "name": "stderr",
     "output_type": "stream",
     "text": [
      "┌ Info:           37.3612241s: 37 seconds, 361 milliseconds\n",
      "└ @ TickTock C:\\Users\\vbansal5\\.julia\\packages\\TickTock\\fGILW\\src\\TickTock.jl:62\n",
      "┌ Info:  started timer at: 2023-04-17T11:25:48.636\n",
      "└ @ TickTock C:\\Users\\vbansal5\\.julia\\packages\\TickTock\\fGILW\\src\\TickTock.jl:54\n"
     ]
    },
    {
     "name": "stdout",
     "output_type": "stream",
     "text": [
      "20\n",
      "0.01\n",
      "-49638.34698521816\n",
      "3286.033498219144\n"
     ]
    },
    {
     "name": "stderr",
     "output_type": "stream",
     "text": [
      "┌ Info:           24.6450404s: 24 seconds, 645 milliseconds\n",
      "└ @ TickTock C:\\Users\\vbansal5\\.julia\\packages\\TickTock\\fGILW\\src\\TickTock.jl:62\n",
      "┌ Info:  started timer at: 2023-04-17T11:27:00.382\n",
      "└ @ TickTock C:\\Users\\vbansal5\\.julia\\packages\\TickTock\\fGILW\\src\\TickTock.jl:54\n"
     ]
    },
    {
     "name": "stdout",
     "output_type": "stream",
     "text": [
      "20\n",
      "0.005\n",
      "-49925.892508783356\n",
      "3321.4426226812357\n"
     ]
    },
    {
     "name": "stderr",
     "output_type": "stream",
     "text": [
      "┌ Info:           24.5506829s: 24 seconds, 550 milliseconds\n",
      "└ @ TickTock C:\\Users\\vbansal5\\.julia\\packages\\TickTock\\fGILW\\src\\TickTock.jl:62\n",
      "┌ Info:  started timer at: 2023-04-17T11:28:15.960\n",
      "└ @ TickTock C:\\Users\\vbansal5\\.julia\\packages\\TickTock\\fGILW\\src\\TickTock.jl:54\n"
     ]
    },
    {
     "name": "stdout",
     "output_type": "stream",
     "text": [
      "20\n",
      "0.001\n",
      "-50379.520258327946\n",
      "3373.598207240806\n"
     ]
    },
    {
     "name": "stderr",
     "output_type": "stream",
     "text": [
      "┌ Info:           30.7218589s: 30 seconds, 721 milliseconds\n",
      "└ @ TickTock C:\\Users\\vbansal5\\.julia\\packages\\TickTock\\fGILW\\src\\TickTock.jl:62\n",
      "┌ Info:  started timer at: 2023-04-17T11:29:34.210\n",
      "└ @ TickTock C:\\Users\\vbansal5\\.julia\\packages\\TickTock\\fGILW\\src\\TickTock.jl:54\n"
     ]
    },
    {
     "name": "stdout",
     "output_type": "stream",
     "text": [
      "20\n",
      "0.0005\n",
      "-50498.57452433291\n",
      "3364.8525355060365\n"
     ]
    },
    {
     "name": "stderr",
     "output_type": "stream",
     "text": [
      "┌ Info:            24.480263s: 24 seconds, 480 milliseconds\n",
      "└ @ TickTock C:\\Users\\vbansal5\\.julia\\packages\\TickTock\\fGILW\\src\\TickTock.jl:62\n",
      "┌ Info:  started timer at: 2023-04-17T11:30:45.745\n",
      "└ @ TickTock C:\\Users\\vbansal5\\.julia\\packages\\TickTock\\fGILW\\src\\TickTock.jl:54\n"
     ]
    },
    {
     "name": "stdout",
     "output_type": "stream",
     "text": [
      "20\n",
      "0.0001\n",
      "-50451.9359326875\n",
      "3402.0094843194165\n"
     ]
    },
    {
     "name": "stderr",
     "output_type": "stream",
     "text": [
      "┌ Info:           24.7018099s: 24 seconds, 701 milliseconds\n",
      "└ @ TickTock C:\\Users\\vbansal5\\.julia\\packages\\TickTock\\fGILW\\src\\TickTock.jl:62\n",
      "┌ Info:  started timer at: 2023-04-17T11:31:57.493\n",
      "└ @ TickTock C:\\Users\\vbansal5\\.julia\\packages\\TickTock\\fGILW\\src\\TickTock.jl:54\n"
     ]
    },
    {
     "name": "stdout",
     "output_type": "stream",
     "text": [
      "20\n",
      "5.0e-5\n",
      "-50505.11263441552\n",
      "3384.4531734233547\n"
     ]
    },
    {
     "name": "stderr",
     "output_type": "stream",
     "text": [
      "┌ Info:            24.623117s: 24 seconds, 623 milliseconds\n",
      "└ @ TickTock C:\\Users\\vbansal5\\.julia\\packages\\TickTock\\fGILW\\src\\TickTock.jl:62\n",
      "┌ Info:  started timer at: 2023-04-17T11:33:09.460\n",
      "└ @ TickTock C:\\Users\\vbansal5\\.julia\\packages\\TickTock\\fGILW\\src\\TickTock.jl:54\n"
     ]
    },
    {
     "name": "stdout",
     "output_type": "stream",
     "text": [
      "20\n",
      "1.0e-5\n",
      "-50497.39521190516\n",
      "3345.5016076317997\n"
     ]
    },
    {
     "name": "stderr",
     "output_type": "stream",
     "text": [
      "┌ Info:           24.5121686s: 24 seconds, 512 milliseconds\n",
      "└ @ TickTock C:\\Users\\vbansal5\\.julia\\packages\\TickTock\\fGILW\\src\\TickTock.jl:62\n",
      "┌ Info:  started timer at: 2023-04-17T11:34:20.668\n",
      "└ @ TickTock C:\\Users\\vbansal5\\.julia\\packages\\TickTock\\fGILW\\src\\TickTock.jl:54\n"
     ]
    },
    {
     "name": "stdout",
     "output_type": "stream",
     "text": [
      "20\n",
      "5.0e-6\n",
      "-50523.74666068735\n",
      "3356.343291201721\n"
     ]
    },
    {
     "name": "stderr",
     "output_type": "stream",
     "text": [
      "┌ Info:            24.714041s: 24 seconds, 714 milliseconds\n",
      "└ @ TickTock C:\\Users\\vbansal5\\.julia\\packages\\TickTock\\fGILW\\src\\TickTock.jl:62\n",
      "┌ Info:  started timer at: 2023-04-17T11:35:32.296\n",
      "└ @ TickTock C:\\Users\\vbansal5\\.julia\\packages\\TickTock\\fGILW\\src\\TickTock.jl:54\n"
     ]
    },
    {
     "name": "stdout",
     "output_type": "stream",
     "text": [
      "20\n",
      "1.0e-6\n",
      "-50479.5203805112\n",
      "3369.595554233649\n"
     ]
    },
    {
     "name": "stderr",
     "output_type": "stream",
     "text": [
      "┌ Info:           24.2866525s: 24 seconds, 286 milliseconds\n",
      "└ @ TickTock C:\\Users\\vbansal5\\.julia\\packages\\TickTock\\fGILW\\src\\TickTock.jl:62\n",
      "┌ Info:  started timer at: 2023-04-17T11:36:43.394\n",
      "└ @ TickTock C:\\Users\\vbansal5\\.julia\\packages\\TickTock\\fGILW\\src\\TickTock.jl:54\n"
     ]
    },
    {
     "name": "stdout",
     "output_type": "stream",
     "text": [
      "20\n",
      "5.0e-7\n",
      "-50509.98265990241\n",
      "3393.0038227639993\n"
     ]
    },
    {
     "name": "stderr",
     "output_type": "stream",
     "text": [
      "┌ Info:             24.47416s: 24 seconds, 474 milliseconds\n",
      "└ @ TickTock C:\\Users\\vbansal5\\.julia\\packages\\TickTock\\fGILW\\src\\TickTock.jl:62\n",
      "┌ Info:  started timer at: 2023-04-17T11:37:55.058\n",
      "└ @ TickTock C:\\Users\\vbansal5\\.julia\\packages\\TickTock\\fGILW\\src\\TickTock.jl:54\n"
     ]
    },
    {
     "name": "stdout",
     "output_type": "stream",
     "text": [
      "20\n",
      "1.0e-7\n",
      "-50532.601566743746\n",
      "3400.72906493552\n"
     ]
    },
    {
     "name": "stderr",
     "output_type": "stream",
     "text": [
      "┌ Info:           24.4575604s: 24 seconds, 457 milliseconds\n",
      "└ @ TickTock C:\\Users\\vbansal5\\.julia\\packages\\TickTock\\fGILW\\src\\TickTock.jl:62\n",
      "┌ Info:  started timer at: 2023-04-17T11:39:14.396\n",
      "└ @ TickTock C:\\Users\\vbansal5\\.julia\\packages\\TickTock\\fGILW\\src\\TickTock.jl:54\n"
     ]
    },
    {
     "name": "stdout",
     "output_type": "stream",
     "text": [
      "20\n",
      "5.0e-8\n",
      "-50465.063662547574\n",
      "3337.957190042122\n"
     ]
    },
    {
     "name": "stderr",
     "output_type": "stream",
     "text": [
      "┌ Info:           29.9601843s: 29 seconds, 960 milliseconds\n",
      "└ @ TickTock C:\\Users\\vbansal5\\.julia\\packages\\TickTock\\fGILW\\src\\TickTock.jl:62\n",
      "┌ Info:  started timer at: 2023-04-17T11:40:27.247\n",
      "└ @ TickTock C:\\Users\\vbansal5\\.julia\\packages\\TickTock\\fGILW\\src\\TickTock.jl:54\n"
     ]
    },
    {
     "name": "stdout",
     "output_type": "stream",
     "text": [
      "20\n",
      "1.0e-8\n",
      "-50492.13726983966\n",
      "3396.8045765170164\n"
     ]
    },
    {
     "name": "stderr",
     "output_type": "stream",
     "text": [
      "┌ Info:           22.5478689s: 22 seconds, 547 milliseconds\n",
      "└ @ TickTock C:\\Users\\vbansal5\\.julia\\packages\\TickTock\\fGILW\\src\\TickTock.jl:62\n"
     ]
    },
    {
     "name": "stdout",
     "output_type": "stream",
     "text": [
      "-------------------------\n",
      "30[0, -1600, -200, -1000]\n"
     ]
    },
    {
     "name": "stderr",
     "output_type": "stream",
     "text": [
      "┌ Info:  started timer at: 2023-04-17T11:42:11.928\n",
      "└ @ TickTock C:\\Users\\vbansal5\\.julia\\packages\\TickTock\\fGILW\\src\\TickTock.jl:54\n"
     ]
    },
    {
     "name": "stdout",
     "output_type": "stream",
     "text": [
      "30\n",
      "100.0\n",
      "-97349.70866798799\n",
      "3574.6487165573303\n"
     ]
    },
    {
     "name": "stderr",
     "output_type": "stream",
     "text": [
      "┌ Info:           33.6090063s: 33 seconds, 609 milliseconds\n",
      "└ @ TickTock C:\\Users\\vbansal5\\.julia\\packages\\TickTock\\fGILW\\src\\TickTock.jl:62\n",
      "┌ Info:  started timer at: 2023-04-17T11:44:07.654\n",
      "└ @ TickTock C:\\Users\\vbansal5\\.julia\\packages\\TickTock\\fGILW\\src\\TickTock.jl:54\n"
     ]
    },
    {
     "name": "stdout",
     "output_type": "stream",
     "text": [
      "30\n",
      "10.0\n",
      "-97395.30052050042\n",
      "3629.33871738241\n"
     ]
    },
    {
     "name": "stderr",
     "output_type": "stream",
     "text": [
      "┌ Info:           33.4826485s: 33 seconds, 482 milliseconds\n",
      "└ @ TickTock C:\\Users\\vbansal5\\.julia\\packages\\TickTock\\fGILW\\src\\TickTock.jl:62\n",
      "┌ Info:  started timer at: 2023-04-17T11:46:03.545\n",
      "└ @ TickTock C:\\Users\\vbansal5\\.julia\\packages\\TickTock\\fGILW\\src\\TickTock.jl:54\n"
     ]
    },
    {
     "name": "stdout",
     "output_type": "stream",
     "text": [
      "30\n",
      "5.0\n",
      "-97393.62814499087\n",
      "3606.51140122519\n"
     ]
    },
    {
     "name": "stderr",
     "output_type": "stream",
     "text": [
      "┌ Info:           33.4222469s: 33 seconds, 422 milliseconds\n",
      "└ @ TickTock C:\\Users\\vbansal5\\.julia\\packages\\TickTock\\fGILW\\src\\TickTock.jl:62\n",
      "┌ Info:  started timer at: 2023-04-17T11:47:58.868\n",
      "└ @ TickTock C:\\Users\\vbansal5\\.julia\\packages\\TickTock\\fGILW\\src\\TickTock.jl:54\n"
     ]
    },
    {
     "name": "stdout",
     "output_type": "stream",
     "text": [
      "30\n",
      "1.0\n",
      "-67422.77106254688\n",
      "3579.4666634654977\n"
     ]
    },
    {
     "name": "stderr",
     "output_type": "stream",
     "text": [
      "┌ Info:           34.1701581s: 34 seconds, 170 milliseconds\n",
      "└ @ TickTock C:\\Users\\vbansal5\\.julia\\packages\\TickTock\\fGILW\\src\\TickTock.jl:62\n",
      "┌ Info:  started timer at: 2023-04-17T11:49:54.810\n",
      "└ @ TickTock C:\\Users\\vbansal5\\.julia\\packages\\TickTock\\fGILW\\src\\TickTock.jl:54\n"
     ]
    },
    {
     "name": "stdout",
     "output_type": "stream",
     "text": [
      "30\n",
      "0.5\n",
      "-67439.43024848895\n",
      "3595.385882852783\n"
     ]
    },
    {
     "name": "stderr",
     "output_type": "stream",
     "text": [
      "┌ Info:           33.7087349s: 33 seconds, 708 milliseconds\n",
      "└ @ TickTock C:\\Users\\vbansal5\\.julia\\packages\\TickTock\\fGILW\\src\\TickTock.jl:62\n",
      "┌ Info:  started timer at: 2023-04-17T11:51:50.424\n",
      "└ @ TickTock C:\\Users\\vbansal5\\.julia\\packages\\TickTock\\fGILW\\src\\TickTock.jl:54\n"
     ]
    },
    {
     "name": "stdout",
     "output_type": "stream",
     "text": [
      "30\n",
      "0.1\n",
      "-67425.22937330003\n",
      "3559.7992181299046\n"
     ]
    },
    {
     "name": "stderr",
     "output_type": "stream",
     "text": [
      "┌ Info:           33.7076306s: 33 seconds, 707 milliseconds\n",
      "└ @ TickTock C:\\Users\\vbansal5\\.julia\\packages\\TickTock\\fGILW\\src\\TickTock.jl:62\n",
      "┌ Info:  started timer at: 2023-04-17T11:53:51.559\n",
      "└ @ TickTock C:\\Users\\vbansal5\\.julia\\packages\\TickTock\\fGILW\\src\\TickTock.jl:54\n"
     ]
    },
    {
     "name": "stdout",
     "output_type": "stream",
     "text": [
      "30\n",
      "0.05\n",
      "-67478.1571774736\n",
      "3577.5045706646115\n"
     ]
    },
    {
     "name": "stderr",
     "output_type": "stream",
     "text": [
      "┌ Info:           33.7103942s: 33 seconds, 710 milliseconds\n",
      "└ @ TickTock C:\\Users\\vbansal5\\.julia\\packages\\TickTock\\fGILW\\src\\TickTock.jl:62\n",
      "┌ Info:  started timer at: 2023-04-17T11:55:48.070\n",
      "└ @ TickTock C:\\Users\\vbansal5\\.julia\\packages\\TickTock\\fGILW\\src\\TickTock.jl:54\n"
     ]
    },
    {
     "name": "stdout",
     "output_type": "stream",
     "text": [
      "30\n",
      "0.01\n",
      "-67791.68338395013\n",
      "3614.0544109732955\n"
     ]
    },
    {
     "name": "stderr",
     "output_type": "stream",
     "text": [
      "┌ Info:           33.7423057s: 33 seconds, 742 milliseconds\n",
      "└ @ TickTock C:\\Users\\vbansal5\\.julia\\packages\\TickTock\\fGILW\\src\\TickTock.jl:62\n",
      "┌ Info:  started timer at: 2023-04-17T11:57:35.588\n",
      "└ @ TickTock C:\\Users\\vbansal5\\.julia\\packages\\TickTock\\fGILW\\src\\TickTock.jl:54\n"
     ]
    },
    {
     "name": "stdout",
     "output_type": "stream",
     "text": [
      "30\n",
      "0.005\n",
      "-68087.15084788573\n",
      "3620.9860808705043\n"
     ]
    },
    {
     "name": "stderr",
     "output_type": "stream",
     "text": [
      "┌ Info:           26.2375327s: 26 seconds, 237 milliseconds\n",
      "└ @ TickTock C:\\Users\\vbansal5\\.julia\\packages\\TickTock\\fGILW\\src\\TickTock.jl:62\n",
      "┌ Info:  started timer at: 2023-04-17T11:59:05.804\n",
      "└ @ TickTock C:\\Users\\vbansal5\\.julia\\packages\\TickTock\\fGILW\\src\\TickTock.jl:54\n"
     ]
    },
    {
     "name": "stdout",
     "output_type": "stream",
     "text": [
      "30\n",
      "0.001\n",
      "-68524.35942123142\n",
      "3712.126758863105\n"
     ]
    },
    {
     "name": "stderr",
     "output_type": "stream",
     "text": [
      "┌ Info:           26.1892569s: 26 seconds, 189 milliseconds\n",
      "└ @ TickTock C:\\Users\\vbansal5\\.julia\\packages\\TickTock\\fGILW\\src\\TickTock.jl:62\n",
      "┌ Info:  started timer at: 2023-04-17T12:00:33.889\n",
      "└ @ TickTock C:\\Users\\vbansal5\\.julia\\packages\\TickTock\\fGILW\\src\\TickTock.jl:54\n"
     ]
    },
    {
     "name": "stdout",
     "output_type": "stream",
     "text": [
      "30\n",
      "0.0005\n",
      "-68509.72228498556\n",
      "3661.5691341259803\n"
     ]
    },
    {
     "name": "stderr",
     "output_type": "stream",
     "text": [
      "┌ Info:           25.6552602s: 25 seconds, 655 milliseconds\n",
      "└ @ TickTock C:\\Users\\vbansal5\\.julia\\packages\\TickTock\\fGILW\\src\\TickTock.jl:62\n",
      "┌ Info:  started timer at: 2023-04-17T12:02:01.527\n",
      "└ @ TickTock C:\\Users\\vbansal5\\.julia\\packages\\TickTock\\fGILW\\src\\TickTock.jl:54\n"
     ]
    },
    {
     "name": "stdout",
     "output_type": "stream",
     "text": [
      "30\n",
      "0.0001\n",
      "-68523.44513980928\n",
      "3725.717070320848\n"
     ]
    },
    {
     "name": "stderr",
     "output_type": "stream",
     "text": [
      "┌ Info:           25.6719106s: 25 seconds, 671 milliseconds\n",
      "└ @ TickTock C:\\Users\\vbansal5\\.julia\\packages\\TickTock\\fGILW\\src\\TickTock.jl:62\n",
      "┌ Info:  started timer at: 2023-04-17T12:03:29.023\n",
      "└ @ TickTock C:\\Users\\vbansal5\\.julia\\packages\\TickTock\\fGILW\\src\\TickTock.jl:54\n"
     ]
    },
    {
     "name": "stdout",
     "output_type": "stream",
     "text": [
      "30\n",
      "5.0e-5\n",
      "-68599.34204269532\n",
      "3672.2729605376253\n"
     ]
    },
    {
     "name": "stderr",
     "output_type": "stream",
     "text": [
      "┌ Info:           25.7332596s: 25 seconds, 733 milliseconds\n",
      "└ @ TickTock C:\\Users\\vbansal5\\.julia\\packages\\TickTock\\fGILW\\src\\TickTock.jl:62\n",
      "┌ Info:  started timer at: 2023-04-17T12:04:56.510\n",
      "└ @ TickTock C:\\Users\\vbansal5\\.julia\\packages\\TickTock\\fGILW\\src\\TickTock.jl:54\n"
     ]
    },
    {
     "name": "stdout",
     "output_type": "stream",
     "text": [
      "30\n",
      "1.0e-5\n",
      "-68461.62222927902\n",
      "3699.5929549554435\n"
     ]
    },
    {
     "name": "stderr",
     "output_type": "stream",
     "text": [
      "┌ Info:           25.7288064s: 25 seconds, 728 milliseconds\n",
      "└ @ TickTock C:\\Users\\vbansal5\\.julia\\packages\\TickTock\\fGILW\\src\\TickTock.jl:62\n",
      "┌ Info:  started timer at: 2023-04-17T12:06:24.256\n",
      "└ @ TickTock C:\\Users\\vbansal5\\.julia\\packages\\TickTock\\fGILW\\src\\TickTock.jl:54\n"
     ]
    },
    {
     "name": "stdout",
     "output_type": "stream",
     "text": [
      "30\n",
      "5.0e-6\n",
      "-68485.3109943265\n",
      "3642.154021449196\n"
     ]
    },
    {
     "name": "stderr",
     "output_type": "stream",
     "text": [
      "┌ Info:           25.6959386s: 25 seconds, 695 milliseconds\n",
      "└ @ TickTock C:\\Users\\vbansal5\\.julia\\packages\\TickTock\\fGILW\\src\\TickTock.jl:62\n",
      "┌ Info:  started timer at: 2023-04-17T12:07:51.905\n",
      "└ @ TickTock C:\\Users\\vbansal5\\.julia\\packages\\TickTock\\fGILW\\src\\TickTock.jl:54\n"
     ]
    },
    {
     "name": "stdout",
     "output_type": "stream",
     "text": [
      "30\n",
      "1.0e-6\n",
      "-68563.76665257501\n",
      "3731.6124081969547\n"
     ]
    },
    {
     "name": "stderr",
     "output_type": "stream",
     "text": [
      "┌ Info:           25.8239964s: 25 seconds, 823 milliseconds\n",
      "└ @ TickTock C:\\Users\\vbansal5\\.julia\\packages\\TickTock\\fGILW\\src\\TickTock.jl:62\n",
      "┌ Info:  started timer at: 2023-04-17T12:09:19.365\n",
      "└ @ TickTock C:\\Users\\vbansal5\\.julia\\packages\\TickTock\\fGILW\\src\\TickTock.jl:54\n"
     ]
    },
    {
     "name": "stdout",
     "output_type": "stream",
     "text": [
      "30\n",
      "5.0e-7\n",
      "-68488.80243060808\n",
      "3708.007948208185\n"
     ]
    },
    {
     "name": "stderr",
     "output_type": "stream",
     "text": [
      "┌ Info:           25.6241697s: 25 seconds, 624 milliseconds\n",
      "└ @ TickTock C:\\Users\\vbansal5\\.julia\\packages\\TickTock\\fGILW\\src\\TickTock.jl:62\n",
      "┌ Info:  started timer at: 2023-04-17T12:10:46.810\n",
      "└ @ TickTock C:\\Users\\vbansal5\\.julia\\packages\\TickTock\\fGILW\\src\\TickTock.jl:54\n"
     ]
    },
    {
     "name": "stdout",
     "output_type": "stream",
     "text": [
      "30\n",
      "1.0e-7\n",
      "-68512.78359690463\n",
      "3729.78652657853\n"
     ]
    },
    {
     "name": "stderr",
     "output_type": "stream",
     "text": [
      "┌ Info:           25.7273565s: 25 seconds, 727 milliseconds\n",
      "└ @ TickTock C:\\Users\\vbansal5\\.julia\\packages\\TickTock\\fGILW\\src\\TickTock.jl:62\n",
      "┌ Info:  started timer at: 2023-04-17T12:12:14.432\n",
      "└ @ TickTock C:\\Users\\vbansal5\\.julia\\packages\\TickTock\\fGILW\\src\\TickTock.jl:54\n"
     ]
    },
    {
     "name": "stdout",
     "output_type": "stream",
     "text": [
      "30\n",
      "5.0e-8\n",
      "-68484.8646389638\n",
      "3692.0523332936955\n"
     ]
    },
    {
     "name": "stderr",
     "output_type": "stream",
     "text": [
      "┌ Info:           25.7953848s: 25 seconds, 795 milliseconds\n",
      "└ @ TickTock C:\\Users\\vbansal5\\.julia\\packages\\TickTock\\fGILW\\src\\TickTock.jl:62\n",
      "┌ Info:  started timer at: 2023-04-17T12:13:42.119\n",
      "└ @ TickTock C:\\Users\\vbansal5\\.julia\\packages\\TickTock\\fGILW\\src\\TickTock.jl:54\n"
     ]
    },
    {
     "name": "stdout",
     "output_type": "stream",
     "text": [
      "30\n",
      "1.0e-8\n",
      "-68576.37574192262\n",
      "3679.031220051083\n",
      "-------------------------\n"
     ]
    },
    {
     "name": "stderr",
     "output_type": "stream",
     "text": [
      "┌ Info:           25.6857656s: 25 seconds, 685 milliseconds\n",
      "└ @ TickTock C:\\Users\\vbansal5\\.julia\\packages\\TickTock\\fGILW\\src\\TickTock.jl:62\n"
     ]
    }
   ],
   "source": [
    "# print(Q)\n",
    "cost=[ \n",
    "\n",
    "    [0 -1600 -200 -1000]\n",
    "    ]\n",
    "\n",
    "for units in [20,30]\n",
    "     for c in cost\n",
    "   print(units)  \n",
    "    global normal_operation,setup_cost,maintenance_penalty,failure_penalty=c\n",
    "     println([normal_operation,setup_cost,maintenance_penalty,failure_penalty])   \n",
    "     for lambda in [100,10,5,1,0.5, 0.1,0.05,1e-2,0.5e-2,1e-3,0.5e-3,1e-4,0.5e-4,1e-5,0.5e-5,1e-6,0.5e-6,1e-7,0.5e-7,1e-8]\n",
    "        global  lamb=lambda\n",
    "    global NumberUnits=units\n",
    "     Q=ValueIteration(.95)\n",
    "tick()\n",
    "trials=10000;\n",
    "simsteps = 100;\n",
    "results=zeros(trials)*0.1\n",
    "Threads.@threads for h in 1:trials\n",
    "s=repeat(1:1,NumberUnits)\n",
    "r1=[]\n",
    "a1=[]   \n",
    "r=repeat(1:1,NumberUnits)*1.0\n",
    " for k in 1:simsteps\n",
    "    a =decison(Q,s)\n",
    "            r2=0.0\n",
    "#     print(a)\n",
    "    for i in 1:NumberUnits\n",
    "#             print(generative(s[i],a[i],i,234))\n",
    "         s[i],r[i]=generative(s[i],a[i],i,234);\n",
    "          r2+=r[i]\n",
    "            end \n",
    "#     println(r2)\n",
    "#     println(s)\n",
    "    s=s;\n",
    "    append!(a1,a)\n",
    "    append!(r1,r2)\n",
    "end\n",
    "rk=0\n",
    "for i in 1:simsteps\n",
    "    rk=0.95*rk+r1[simsteps-i+1]\n",
    "end\n",
    "#     println(rk)\n",
    "    results[h]=rk\n",
    "#     println(results)\n",
    "                end \n",
    "println(units)\n",
    "println(lambda)\n",
    "\n",
    "println(mean(results))\n",
    "\n",
    "println(std(results))\n",
    "pushfirst!(df,[units,normal_operation,setup_cost,maintenance_penalty,failure_penalty,lamb,mean(results),std(results)])\n",
    "        \n",
    "tock()\n",
    "end\n",
    "    println(\"-------------------------\")\n",
    "end\n",
    "end"
   ]
  },
  {
   "cell_type": "code",
   "execution_count": null,
   "metadata": {},
   "outputs": [],
   "source": []
  },
  {
   "cell_type": "code",
   "execution_count": 12,
   "metadata": {
    "scrolled": true
   },
   "outputs": [
    {
     "data": {
      "text/html": [
       "<div><div style = \"float: left;\"><span>40×8 DataFrame</span></div><div style = \"float: right;\"><span style = \"font-style: italic;\">15 rows omitted</span></div><div style = \"clear: both;\"></div></div><div class = \"data-frame\" style = \"overflow-x: scroll;\"><table class = \"data-frame\" style = \"margin-bottom: 6px;\"><thead><tr class = \"header\"><th class = \"rowNumber\" style = \"font-weight: bold; text-align: right;\">Row</th><th style = \"text-align: left;\">Units</th><th style = \"text-align: left;\">n</th><th style = \"text-align: left;\">s</th><th style = \"text-align: left;\">m</th><th style = \"text-align: left;\">f</th><th style = \"text-align: left;\">lambda</th><th style = \"text-align: left;\">mean</th><th style = \"text-align: left;\">std</th></tr><tr class = \"subheader headerLastRow\"><th class = \"rowNumber\" style = \"font-weight: bold; text-align: right;\"></th><th title = \"Any\" style = \"text-align: left;\">Any</th><th title = \"Any\" style = \"text-align: left;\">Any</th><th title = \"Any\" style = \"text-align: left;\">Any</th><th title = \"Any\" style = \"text-align: left;\">Any</th><th title = \"Any\" style = \"text-align: left;\">Any</th><th title = \"Any\" style = \"text-align: left;\">Any</th><th title = \"Any\" style = \"text-align: left;\">Any</th><th title = \"Any\" style = \"text-align: left;\">Any</th></tr></thead><tbody><tr><td class = \"rowNumber\" style = \"font-weight: bold; text-align: right;\">1</td><td style = \"text-align: left;\">30.0</td><td style = \"text-align: left;\">0.0</td><td style = \"text-align: left;\">-1600.0</td><td style = \"text-align: left;\">-200.0</td><td style = \"text-align: left;\">-1000.0</td><td style = \"text-align: left;\">1.0e-8</td><td style = \"text-align: left;\">-68576.4</td><td style = \"text-align: left;\">3679.03</td></tr><tr><td class = \"rowNumber\" style = \"font-weight: bold; text-align: right;\">2</td><td style = \"text-align: left;\">30.0</td><td style = \"text-align: left;\">0.0</td><td style = \"text-align: left;\">-1600.0</td><td style = \"text-align: left;\">-200.0</td><td style = \"text-align: left;\">-1000.0</td><td style = \"text-align: left;\">5.0e-8</td><td style = \"text-align: left;\">-68484.9</td><td style = \"text-align: left;\">3692.05</td></tr><tr><td class = \"rowNumber\" style = \"font-weight: bold; text-align: right;\">3</td><td style = \"text-align: left;\">30.0</td><td style = \"text-align: left;\">0.0</td><td style = \"text-align: left;\">-1600.0</td><td style = \"text-align: left;\">-200.0</td><td style = \"text-align: left;\">-1000.0</td><td style = \"text-align: left;\">1.0e-7</td><td style = \"text-align: left;\">-68512.8</td><td style = \"text-align: left;\">3729.79</td></tr><tr><td class = \"rowNumber\" style = \"font-weight: bold; text-align: right;\">4</td><td style = \"text-align: left;\">30.0</td><td style = \"text-align: left;\">0.0</td><td style = \"text-align: left;\">-1600.0</td><td style = \"text-align: left;\">-200.0</td><td style = \"text-align: left;\">-1000.0</td><td style = \"text-align: left;\">5.0e-7</td><td style = \"text-align: left;\">-68488.8</td><td style = \"text-align: left;\">3708.01</td></tr><tr><td class = \"rowNumber\" style = \"font-weight: bold; text-align: right;\">5</td><td style = \"text-align: left;\">30.0</td><td style = \"text-align: left;\">0.0</td><td style = \"text-align: left;\">-1600.0</td><td style = \"text-align: left;\">-200.0</td><td style = \"text-align: left;\">-1000.0</td><td style = \"text-align: left;\">1.0e-6</td><td style = \"text-align: left;\">-68563.8</td><td style = \"text-align: left;\">3731.61</td></tr><tr><td class = \"rowNumber\" style = \"font-weight: bold; text-align: right;\">6</td><td style = \"text-align: left;\">30.0</td><td style = \"text-align: left;\">0.0</td><td style = \"text-align: left;\">-1600.0</td><td style = \"text-align: left;\">-200.0</td><td style = \"text-align: left;\">-1000.0</td><td style = \"text-align: left;\">5.0e-6</td><td style = \"text-align: left;\">-68485.3</td><td style = \"text-align: left;\">3642.15</td></tr><tr><td class = \"rowNumber\" style = \"font-weight: bold; text-align: right;\">7</td><td style = \"text-align: left;\">30.0</td><td style = \"text-align: left;\">0.0</td><td style = \"text-align: left;\">-1600.0</td><td style = \"text-align: left;\">-200.0</td><td style = \"text-align: left;\">-1000.0</td><td style = \"text-align: left;\">1.0e-5</td><td style = \"text-align: left;\">-68461.6</td><td style = \"text-align: left;\">3699.59</td></tr><tr><td class = \"rowNumber\" style = \"font-weight: bold; text-align: right;\">8</td><td style = \"text-align: left;\">30.0</td><td style = \"text-align: left;\">0.0</td><td style = \"text-align: left;\">-1600.0</td><td style = \"text-align: left;\">-200.0</td><td style = \"text-align: left;\">-1000.0</td><td style = \"text-align: left;\">5.0e-5</td><td style = \"text-align: left;\">-68599.3</td><td style = \"text-align: left;\">3672.27</td></tr><tr><td class = \"rowNumber\" style = \"font-weight: bold; text-align: right;\">9</td><td style = \"text-align: left;\">30.0</td><td style = \"text-align: left;\">0.0</td><td style = \"text-align: left;\">-1600.0</td><td style = \"text-align: left;\">-200.0</td><td style = \"text-align: left;\">-1000.0</td><td style = \"text-align: left;\">0.0001</td><td style = \"text-align: left;\">-68523.4</td><td style = \"text-align: left;\">3725.72</td></tr><tr><td class = \"rowNumber\" style = \"font-weight: bold; text-align: right;\">10</td><td style = \"text-align: left;\">30.0</td><td style = \"text-align: left;\">0.0</td><td style = \"text-align: left;\">-1600.0</td><td style = \"text-align: left;\">-200.0</td><td style = \"text-align: left;\">-1000.0</td><td style = \"text-align: left;\">0.0005</td><td style = \"text-align: left;\">-68509.7</td><td style = \"text-align: left;\">3661.57</td></tr><tr><td class = \"rowNumber\" style = \"font-weight: bold; text-align: right;\">11</td><td style = \"text-align: left;\">30.0</td><td style = \"text-align: left;\">0.0</td><td style = \"text-align: left;\">-1600.0</td><td style = \"text-align: left;\">-200.0</td><td style = \"text-align: left;\">-1000.0</td><td style = \"text-align: left;\">0.001</td><td style = \"text-align: left;\">-68524.4</td><td style = \"text-align: left;\">3712.13</td></tr><tr><td class = \"rowNumber\" style = \"font-weight: bold; text-align: right;\">12</td><td style = \"text-align: left;\">30.0</td><td style = \"text-align: left;\">0.0</td><td style = \"text-align: left;\">-1600.0</td><td style = \"text-align: left;\">-200.0</td><td style = \"text-align: left;\">-1000.0</td><td style = \"text-align: left;\">0.005</td><td style = \"text-align: left;\">-68087.2</td><td style = \"text-align: left;\">3620.99</td></tr><tr><td class = \"rowNumber\" style = \"font-weight: bold; text-align: right;\">13</td><td style = \"text-align: left;\">30.0</td><td style = \"text-align: left;\">0.0</td><td style = \"text-align: left;\">-1600.0</td><td style = \"text-align: left;\">-200.0</td><td style = \"text-align: left;\">-1000.0</td><td style = \"text-align: left;\">0.01</td><td style = \"text-align: left;\">-67791.7</td><td style = \"text-align: left;\">3614.05</td></tr><tr><td style = \"text-align: right;\">&vellip;</td><td style = \"text-align: right;\">&vellip;</td><td style = \"text-align: right;\">&vellip;</td><td style = \"text-align: right;\">&vellip;</td><td style = \"text-align: right;\">&vellip;</td><td style = \"text-align: right;\">&vellip;</td><td style = \"text-align: right;\">&vellip;</td><td style = \"text-align: right;\">&vellip;</td><td style = \"text-align: right;\">&vellip;</td></tr><tr><td class = \"rowNumber\" style = \"font-weight: bold; text-align: right;\">29</td><td style = \"text-align: left;\">20.0</td><td style = \"text-align: left;\">0.0</td><td style = \"text-align: left;\">-1600.0</td><td style = \"text-align: left;\">-200.0</td><td style = \"text-align: left;\">-1000.0</td><td style = \"text-align: left;\">0.0001</td><td style = \"text-align: left;\">-50451.9</td><td style = \"text-align: left;\">3402.01</td></tr><tr><td class = \"rowNumber\" style = \"font-weight: bold; text-align: right;\">30</td><td style = \"text-align: left;\">20.0</td><td style = \"text-align: left;\">0.0</td><td style = \"text-align: left;\">-1600.0</td><td style = \"text-align: left;\">-200.0</td><td style = \"text-align: left;\">-1000.0</td><td style = \"text-align: left;\">0.0005</td><td style = \"text-align: left;\">-50498.6</td><td style = \"text-align: left;\">3364.85</td></tr><tr><td class = \"rowNumber\" style = \"font-weight: bold; text-align: right;\">31</td><td style = \"text-align: left;\">20.0</td><td style = \"text-align: left;\">0.0</td><td style = \"text-align: left;\">-1600.0</td><td style = \"text-align: left;\">-200.0</td><td style = \"text-align: left;\">-1000.0</td><td style = \"text-align: left;\">0.001</td><td style = \"text-align: left;\">-50379.5</td><td style = \"text-align: left;\">3373.6</td></tr><tr><td class = \"rowNumber\" style = \"font-weight: bold; text-align: right;\">32</td><td style = \"text-align: left;\">20.0</td><td style = \"text-align: left;\">0.0</td><td style = \"text-align: left;\">-1600.0</td><td style = \"text-align: left;\">-200.0</td><td style = \"text-align: left;\">-1000.0</td><td style = \"text-align: left;\">0.005</td><td style = \"text-align: left;\">-49925.9</td><td style = \"text-align: left;\">3321.44</td></tr><tr><td class = \"rowNumber\" style = \"font-weight: bold; text-align: right;\">33</td><td style = \"text-align: left;\">20.0</td><td style = \"text-align: left;\">0.0</td><td style = \"text-align: left;\">-1600.0</td><td style = \"text-align: left;\">-200.0</td><td style = \"text-align: left;\">-1000.0</td><td style = \"text-align: left;\">0.01</td><td style = \"text-align: left;\">-49638.3</td><td style = \"text-align: left;\">3286.03</td></tr><tr><td class = \"rowNumber\" style = \"font-weight: bold; text-align: right;\">34</td><td style = \"text-align: left;\">20.0</td><td style = \"text-align: left;\">0.0</td><td style = \"text-align: left;\">-1600.0</td><td style = \"text-align: left;\">-200.0</td><td style = \"text-align: left;\">-1000.0</td><td style = \"text-align: left;\">0.05</td><td style = \"text-align: left;\">-49429.5</td><td style = \"text-align: left;\">3222.89</td></tr><tr><td class = \"rowNumber\" style = \"font-weight: bold; text-align: right;\">35</td><td style = \"text-align: left;\">20.0</td><td style = \"text-align: left;\">0.0</td><td style = \"text-align: left;\">-1600.0</td><td style = \"text-align: left;\">-200.0</td><td style = \"text-align: left;\">-1000.0</td><td style = \"text-align: left;\">0.1</td><td style = \"text-align: left;\">-49503.8</td><td style = \"text-align: left;\">3241.61</td></tr><tr><td class = \"rowNumber\" style = \"font-weight: bold; text-align: right;\">36</td><td style = \"text-align: left;\">20.0</td><td style = \"text-align: left;\">0.0</td><td style = \"text-align: left;\">-1600.0</td><td style = \"text-align: left;\">-200.0</td><td style = \"text-align: left;\">-1000.0</td><td style = \"text-align: left;\">0.5</td><td style = \"text-align: left;\">-49528.2</td><td style = \"text-align: left;\">3243.79</td></tr><tr><td class = \"rowNumber\" style = \"font-weight: bold; text-align: right;\">37</td><td style = \"text-align: left;\">20.0</td><td style = \"text-align: left;\">0.0</td><td style = \"text-align: left;\">-1600.0</td><td style = \"text-align: left;\">-200.0</td><td style = \"text-align: left;\">-1000.0</td><td style = \"text-align: left;\">1.0</td><td style = \"text-align: left;\">-49486.0</td><td style = \"text-align: left;\">3301.9</td></tr><tr><td class = \"rowNumber\" style = \"font-weight: bold; text-align: right;\">38</td><td style = \"text-align: left;\">20.0</td><td style = \"text-align: left;\">0.0</td><td style = \"text-align: left;\">-1600.0</td><td style = \"text-align: left;\">-200.0</td><td style = \"text-align: left;\">-1000.0</td><td style = \"text-align: left;\">5.0</td><td style = \"text-align: left;\">-73117.2</td><td style = \"text-align: left;\">3369.59</td></tr><tr><td class = \"rowNumber\" style = \"font-weight: bold; text-align: right;\">39</td><td style = \"text-align: left;\">20.0</td><td style = \"text-align: left;\">0.0</td><td style = \"text-align: left;\">-1600.0</td><td style = \"text-align: left;\">-200.0</td><td style = \"text-align: left;\">-1000.0</td><td style = \"text-align: left;\">10.0</td><td style = \"text-align: left;\">-73141.5</td><td style = \"text-align: left;\">3312.05</td></tr><tr><td class = \"rowNumber\" style = \"font-weight: bold; text-align: right;\">40</td><td style = \"text-align: left;\">20.0</td><td style = \"text-align: left;\">0.0</td><td style = \"text-align: left;\">-1600.0</td><td style = \"text-align: left;\">-200.0</td><td style = \"text-align: left;\">-1000.0</td><td style = \"text-align: left;\">100.0</td><td style = \"text-align: left;\">-73089.4</td><td style = \"text-align: left;\">3333.12</td></tr></tbody></table></div>"
      ],
      "text/latex": [
       "\\begin{tabular}{r|cccccccc}\n",
       "\t& Units & n & s & m & f & lambda & mean & std\\\\\n",
       "\t\\hline\n",
       "\t& Any & Any & Any & Any & Any & Any & Any & Any\\\\\n",
       "\t\\hline\n",
       "\t1 & 30.0 & 0.0 & -1600.0 & -200.0 & -1000.0 & 1.0e-8 & -68576.4 & 3679.03 \\\\\n",
       "\t2 & 30.0 & 0.0 & -1600.0 & -200.0 & -1000.0 & 5.0e-8 & -68484.9 & 3692.05 \\\\\n",
       "\t3 & 30.0 & 0.0 & -1600.0 & -200.0 & -1000.0 & 1.0e-7 & -68512.8 & 3729.79 \\\\\n",
       "\t4 & 30.0 & 0.0 & -1600.0 & -200.0 & -1000.0 & 5.0e-7 & -68488.8 & 3708.01 \\\\\n",
       "\t5 & 30.0 & 0.0 & -1600.0 & -200.0 & -1000.0 & 1.0e-6 & -68563.8 & 3731.61 \\\\\n",
       "\t6 & 30.0 & 0.0 & -1600.0 & -200.0 & -1000.0 & 5.0e-6 & -68485.3 & 3642.15 \\\\\n",
       "\t7 & 30.0 & 0.0 & -1600.0 & -200.0 & -1000.0 & 1.0e-5 & -68461.6 & 3699.59 \\\\\n",
       "\t8 & 30.0 & 0.0 & -1600.0 & -200.0 & -1000.0 & 5.0e-5 & -68599.3 & 3672.27 \\\\\n",
       "\t9 & 30.0 & 0.0 & -1600.0 & -200.0 & -1000.0 & 0.0001 & -68523.4 & 3725.72 \\\\\n",
       "\t10 & 30.0 & 0.0 & -1600.0 & -200.0 & -1000.0 & 0.0005 & -68509.7 & 3661.57 \\\\\n",
       "\t11 & 30.0 & 0.0 & -1600.0 & -200.0 & -1000.0 & 0.001 & -68524.4 & 3712.13 \\\\\n",
       "\t12 & 30.0 & 0.0 & -1600.0 & -200.0 & -1000.0 & 0.005 & -68087.2 & 3620.99 \\\\\n",
       "\t13 & 30.0 & 0.0 & -1600.0 & -200.0 & -1000.0 & 0.01 & -67791.7 & 3614.05 \\\\\n",
       "\t14 & 30.0 & 0.0 & -1600.0 & -200.0 & -1000.0 & 0.05 & -67478.2 & 3577.5 \\\\\n",
       "\t15 & 30.0 & 0.0 & -1600.0 & -200.0 & -1000.0 & 0.1 & -67425.2 & 3559.8 \\\\\n",
       "\t16 & 30.0 & 0.0 & -1600.0 & -200.0 & -1000.0 & 0.5 & -67439.4 & 3595.39 \\\\\n",
       "\t17 & 30.0 & 0.0 & -1600.0 & -200.0 & -1000.0 & 1.0 & -67422.8 & 3579.47 \\\\\n",
       "\t18 & 30.0 & 0.0 & -1600.0 & -200.0 & -1000.0 & 5.0 & -97393.6 & 3606.51 \\\\\n",
       "\t19 & 30.0 & 0.0 & -1600.0 & -200.0 & -1000.0 & 10.0 & -97395.3 & 3629.34 \\\\\n",
       "\t20 & 30.0 & 0.0 & -1600.0 & -200.0 & -1000.0 & 100.0 & -97349.7 & 3574.65 \\\\\n",
       "\t21 & 20.0 & 0.0 & -1600.0 & -200.0 & -1000.0 & 1.0e-8 & -50492.1 & 3396.8 \\\\\n",
       "\t22 & 20.0 & 0.0 & -1600.0 & -200.0 & -1000.0 & 5.0e-8 & -50465.1 & 3337.96 \\\\\n",
       "\t23 & 20.0 & 0.0 & -1600.0 & -200.0 & -1000.0 & 1.0e-7 & -50532.6 & 3400.73 \\\\\n",
       "\t24 & 20.0 & 0.0 & -1600.0 & -200.0 & -1000.0 & 5.0e-7 & -50510.0 & 3393.0 \\\\\n",
       "\t25 & 20.0 & 0.0 & -1600.0 & -200.0 & -1000.0 & 1.0e-6 & -50479.5 & 3369.6 \\\\\n",
       "\t26 & 20.0 & 0.0 & -1600.0 & -200.0 & -1000.0 & 5.0e-6 & -50523.7 & 3356.34 \\\\\n",
       "\t27 & 20.0 & 0.0 & -1600.0 & -200.0 & -1000.0 & 1.0e-5 & -50497.4 & 3345.5 \\\\\n",
       "\t28 & 20.0 & 0.0 & -1600.0 & -200.0 & -1000.0 & 5.0e-5 & -50505.1 & 3384.45 \\\\\n",
       "\t29 & 20.0 & 0.0 & -1600.0 & -200.0 & -1000.0 & 0.0001 & -50451.9 & 3402.01 \\\\\n",
       "\t30 & 20.0 & 0.0 & -1600.0 & -200.0 & -1000.0 & 0.0005 & -50498.6 & 3364.85 \\\\\n",
       "\t$\\dots$ & $\\dots$ & $\\dots$ & $\\dots$ & $\\dots$ & $\\dots$ & $\\dots$ & $\\dots$ & $\\dots$ \\\\\n",
       "\\end{tabular}\n"
      ],
      "text/plain": [
       "\u001b[1m40×8 DataFrame\u001b[0m\n",
       "\u001b[1m Row \u001b[0m│\u001b[1m Units \u001b[0m\u001b[1m n   \u001b[0m\u001b[1m s       \u001b[0m\u001b[1m m      \u001b[0m\u001b[1m f       \u001b[0m\u001b[1m lambda \u001b[0m\u001b[1m mean     \u001b[0m\u001b[1m std     \u001b[0m\n",
       "     │\u001b[90m Any   \u001b[0m\u001b[90m Any \u001b[0m\u001b[90m Any     \u001b[0m\u001b[90m Any    \u001b[0m\u001b[90m Any     \u001b[0m\u001b[90m Any    \u001b[0m\u001b[90m Any      \u001b[0m\u001b[90m Any     \u001b[0m\n",
       "─────┼─────────────────────────────────────────────────────────────────\n",
       "   1 │ 30.0   0.0  -1600.0  -200.0  -1000.0  1.0e-8  -68576.4  3679.03\n",
       "   2 │ 30.0   0.0  -1600.0  -200.0  -1000.0  5.0e-8  -68484.9  3692.05\n",
       "   3 │ 30.0   0.0  -1600.0  -200.0  -1000.0  1.0e-7  -68512.8  3729.79\n",
       "   4 │ 30.0   0.0  -1600.0  -200.0  -1000.0  5.0e-7  -68488.8  3708.01\n",
       "   5 │ 30.0   0.0  -1600.0  -200.0  -1000.0  1.0e-6  -68563.8  3731.61\n",
       "   6 │ 30.0   0.0  -1600.0  -200.0  -1000.0  5.0e-6  -68485.3  3642.15\n",
       "   7 │ 30.0   0.0  -1600.0  -200.0  -1000.0  1.0e-5  -68461.6  3699.59\n",
       "   8 │ 30.0   0.0  -1600.0  -200.0  -1000.0  5.0e-5  -68599.3  3672.27\n",
       "   9 │ 30.0   0.0  -1600.0  -200.0  -1000.0  0.0001  -68523.4  3725.72\n",
       "  10 │ 30.0   0.0  -1600.0  -200.0  -1000.0  0.0005  -68509.7  3661.57\n",
       "  11 │ 30.0   0.0  -1600.0  -200.0  -1000.0  0.001   -68524.4  3712.13\n",
       "  ⋮  │   ⋮     ⋮      ⋮       ⋮        ⋮       ⋮        ⋮         ⋮\n",
       "  31 │ 20.0   0.0  -1600.0  -200.0  -1000.0  0.001   -50379.5  3373.6\n",
       "  32 │ 20.0   0.0  -1600.0  -200.0  -1000.0  0.005   -49925.9  3321.44\n",
       "  33 │ 20.0   0.0  -1600.0  -200.0  -1000.0  0.01    -49638.3  3286.03\n",
       "  34 │ 20.0   0.0  -1600.0  -200.0  -1000.0  0.05    -49429.5  3222.89\n",
       "  35 │ 20.0   0.0  -1600.0  -200.0  -1000.0  0.1     -49503.8  3241.61\n",
       "  36 │ 20.0   0.0  -1600.0  -200.0  -1000.0  0.5     -49528.2  3243.79\n",
       "  37 │ 20.0   0.0  -1600.0  -200.0  -1000.0  1.0     -49486.0  3301.9\n",
       "  38 │ 20.0   0.0  -1600.0  -200.0  -1000.0  5.0     -73117.2  3369.59\n",
       "  39 │ 20.0   0.0  -1600.0  -200.0  -1000.0  10.0    -73141.5  3312.05\n",
       "  40 │ 20.0   0.0  -1600.0  -200.0  -1000.0  100.0   -73089.4  3333.12\n",
       "\u001b[36m                                                        19 rows omitted\u001b[0m"
      ]
     },
     "execution_count": 12,
     "metadata": {},
     "output_type": "execute_result"
    }
   ],
   "source": [
    "df"
   ]
  },
  {
   "cell_type": "code",
   "execution_count": null,
   "metadata": {},
   "outputs": [],
   "source": []
  },
  {
   "cell_type": "code",
   "execution_count": 13,
   "metadata": {},
   "outputs": [
    {
     "data": {
      "text/plain": [
       "\"ACW-MDP-HETERO.csv\""
      ]
     },
     "execution_count": 13,
     "metadata": {},
     "output_type": "execute_result"
    }
   ],
   "source": [
    "using CSV\n",
    "CSV.write(\"ACW-MDP-HETERO.csv\", df)"
   ]
  },
  {
   "cell_type": "code",
   "execution_count": null,
   "metadata": {},
   "outputs": [],
   "source": []
  },
  {
   "cell_type": "code",
   "execution_count": null,
   "metadata": {},
   "outputs": [],
   "source": []
  },
  {
   "cell_type": "code",
   "execution_count": null,
   "metadata": {},
   "outputs": [],
   "source": []
  },
  {
   "cell_type": "code",
   "execution_count": null,
   "metadata": {},
   "outputs": [],
   "source": []
  }
 ],
 "metadata": {
  "kernelspec": {
   "display_name": "Julia 1.8.2",
   "language": "julia",
   "name": "julia-1.8"
  },
  "language_info": {
   "file_extension": ".jl",
   "mimetype": "application/julia",
   "name": "julia",
   "version": "1.8.2"
  }
 },
 "nbformat": 4,
 "nbformat_minor": 2
}
